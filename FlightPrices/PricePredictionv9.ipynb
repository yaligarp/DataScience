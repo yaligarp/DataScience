{
 "cells": [
  {
   "cell_type": "markdown",
   "metadata": {},
   "source": [
    "## Problem Statement\n",
    "\n",
    "The price of an airline tickets is predicted based on the past data for several airlines. \n",
    "Effect of combination of various features like - Date of Journey, Route, Start city,Destination City,Airline etc are modelled\n",
    "Various models and encoding techniques for catagorical data have been tried.\n",
    "\n",
    "Result RandomForestRegressor has privided the best RMSE values for this problem"
   ]
  },
  {
   "cell_type": "code",
   "execution_count": 2,
   "metadata": {
    "scrolled": true
   },
   "outputs": [],
   "source": [
    "import numpy as np\n",
    "import pandas as pd\n",
    "import matplotlib.pyplot as plt\n",
    "import seaborn as sns\n",
    "%matplotlib inline\n",
    "import warnings\n",
    "warnings.filterwarnings('ignore')\n",
    "from sklearn.preprocessing import LabelEncoder,MinMaxScaler,StandardScaler\n",
    "from sklearn.linear_model import LogisticRegression\n",
    "from sklearn.tree import DecisionTreeClassifier\n",
    "from sklearn.ensemble import GradientBoostingClassifier ,RandomForestClassifier ,GradientBoostingClassifier,RandomForestRegressor\n",
    "#from xgboost import XGBClassifier                                           \n",
    "from sklearn.model_selection import GridSearchCV, RandomizedSearchCV\n",
    "from sklearn.linear_model import Ridge,Lasso\n",
    "from sklearn.metrics import roc_auc_score ,mean_squared_error,accuracy_score,classification_report,roc_curve,confusion_matrix\n",
    "from scipy.stats.mstats import winsorize\n",
    "from sklearn.feature_selection import RFE\n",
    "from sklearn.model_selection import train_test_split   \n",
    "pd.set_option('display.max_columns',None)\n",
    "\n",
    "from sklearn.linear_model import LinearRegression        \n",
    "from sklearn import metrics                               \n"
   ]
  },
  {
   "cell_type": "markdown",
   "metadata": {},
   "source": [
    "#ADDED all the required Libraries.\n"
   ]
  },
  {
   "cell_type": "markdown",
   "metadata": {},
   "source": [
    "## Data Loading and Cleaning\n",
    "#doublecheck the current directory\n",
    "#change directory to 'data'"
   ]
  },
  {
   "cell_type": "code",
   "execution_count": 2,
   "metadata": {},
   "outputs": [
    {
     "name": "stdout",
     "output_type": "stream",
     "text": [
      "C:\\Users\\BLR_01\\Pictures\\Geyitm\\Hack2\n",
      "C:\\Users\\BLR_01\\Pictures\\Geyitm\\Hack2\\data\n"
     ]
    }
   ],
   "source": [
    "import os\n",
    "print(os.getcwd())\n",
    "os.chdir('./data')\n",
    "print(os.getcwd())"
   ]
  },
  {
   "cell_type": "markdown",
   "metadata": {},
   "source": [
    "# Read the data."
   ]
  },
  {
   "cell_type": "code",
   "execution_count": 3,
   "metadata": {},
   "outputs": [
    {
     "name": "stdout",
     "output_type": "stream",
     "text": [
      "('Shape of train_initial: ', (8012, 11))\n",
      "('Shape of test_initial: ', (2671, 10))\n"
     ]
    }
   ],
   "source": [
    "# Load the dataframe: both initial train and test \n",
    "df_train_initial = pd.read_csv('train.csv',delimiter=',')\n",
    "df_test_initial =pd.read_csv('test.csv',delimiter=',')\n",
    "\n",
    "#find the shapes of initial data\n",
    "print('Shape of train_initial: ',df_train_initial.shape)\n",
    "print('Shape of test_initial: ',df_test_initial.shape)\n"
   ]
  },
  {
   "cell_type": "markdown",
   "metadata": {},
   "source": [
    "# Observe the data"
   ]
  },
  {
   "cell_type": "code",
   "execution_count": 4,
   "metadata": {},
   "outputs": [
    {
     "data": {
      "text/html": [
       "<div>\n",
       "<style scoped>\n",
       "    .dataframe tbody tr th:only-of-type {\n",
       "        vertical-align: middle;\n",
       "    }\n",
       "\n",
       "    .dataframe tbody tr th {\n",
       "        vertical-align: top;\n",
       "    }\n",
       "\n",
       "    .dataframe thead th {\n",
       "        text-align: right;\n",
       "    }\n",
       "</style>\n",
       "<table border=\"1\" class=\"dataframe\">\n",
       "  <thead>\n",
       "    <tr style=\"text-align: right;\">\n",
       "      <th></th>\n",
       "      <th>Airline</th>\n",
       "      <th>Date_of_Journey</th>\n",
       "      <th>Source</th>\n",
       "      <th>Destination</th>\n",
       "      <th>Route</th>\n",
       "      <th>Dep_Time</th>\n",
       "      <th>Arrival_Time</th>\n",
       "      <th>Duration</th>\n",
       "      <th>Total_Stops</th>\n",
       "      <th>Additional_Info</th>\n",
       "      <th>Price</th>\n",
       "    </tr>\n",
       "  </thead>\n",
       "  <tbody>\n",
       "    <tr>\n",
       "      <th>0</th>\n",
       "      <td>Airline C</td>\n",
       "      <td>12/06/2019</td>\n",
       "      <td>Delhi</td>\n",
       "      <td>Cochin</td>\n",
       "      <td>DEL → MAA → COK</td>\n",
       "      <td>20:40</td>\n",
       "      <td>09:25 13 Jun</td>\n",
       "      <td>12h 45m</td>\n",
       "      <td>1 stop</td>\n",
       "      <td>No info</td>\n",
       "      <td>7480</td>\n",
       "    </tr>\n",
       "    <tr>\n",
       "      <th>1</th>\n",
       "      <td>Airline A</td>\n",
       "      <td>18/06/2019</td>\n",
       "      <td>Banglore</td>\n",
       "      <td>Delhi</td>\n",
       "      <td>BLR → DEL</td>\n",
       "      <td>18:55</td>\n",
       "      <td>22:00</td>\n",
       "      <td>3h 5m</td>\n",
       "      <td>non-stop</td>\n",
       "      <td>No info</td>\n",
       "      <td>8016</td>\n",
       "    </tr>\n",
       "    <tr>\n",
       "      <th>2</th>\n",
       "      <td>Airline C</td>\n",
       "      <td>18/05/2019</td>\n",
       "      <td>Delhi</td>\n",
       "      <td>Cochin</td>\n",
       "      <td>DEL → BOM → COK</td>\n",
       "      <td>03:50</td>\n",
       "      <td>19:15</td>\n",
       "      <td>15h 25m</td>\n",
       "      <td>1 stop</td>\n",
       "      <td>No info</td>\n",
       "      <td>8879</td>\n",
       "    </tr>\n",
       "    <tr>\n",
       "      <th>3</th>\n",
       "      <td>Airline A</td>\n",
       "      <td>6/05/2019</td>\n",
       "      <td>Kolkata</td>\n",
       "      <td>Banglore</td>\n",
       "      <td>CCU → BOM → BLR</td>\n",
       "      <td>20:00</td>\n",
       "      <td>08:15 07 May</td>\n",
       "      <td>12h 15m</td>\n",
       "      <td>1 stop</td>\n",
       "      <td>In-flight meal not included</td>\n",
       "      <td>9663</td>\n",
       "    </tr>\n",
       "    <tr>\n",
       "      <th>4</th>\n",
       "      <td>Airline A</td>\n",
       "      <td>9/05/2019</td>\n",
       "      <td>Kolkata</td>\n",
       "      <td>Banglore</td>\n",
       "      <td>CCU → BOM → BLR</td>\n",
       "      <td>06:30</td>\n",
       "      <td>12:00</td>\n",
       "      <td>5h 30m</td>\n",
       "      <td>1 stop</td>\n",
       "      <td>In-flight meal not included</td>\n",
       "      <td>9663</td>\n",
       "    </tr>\n",
       "  </tbody>\n",
       "</table>\n",
       "</div>"
      ],
      "text/plain": [
       "     Airline Date_of_Journey    Source Destination            Route Dep_Time  \\\n",
       "0  Airline C      12/06/2019     Delhi      Cochin  DEL → MAA → COK    20:40   \n",
       "1  Airline A      18/06/2019  Banglore       Delhi        BLR → DEL    18:55   \n",
       "2  Airline C      18/05/2019     Delhi      Cochin  DEL → BOM → COK    03:50   \n",
       "3  Airline A       6/05/2019   Kolkata    Banglore  CCU → BOM → BLR    20:00   \n",
       "4  Airline A       9/05/2019   Kolkata    Banglore  CCU → BOM → BLR    06:30   \n",
       "\n",
       "   Arrival_Time Duration Total_Stops              Additional_Info  Price  \n",
       "0  09:25 13 Jun  12h 45m      1 stop                      No info   7480  \n",
       "1         22:00    3h 5m    non-stop                      No info   8016  \n",
       "2         19:15  15h 25m      1 stop                      No info   8879  \n",
       "3  08:15 07 May  12h 15m      1 stop  In-flight meal not included   9663  \n",
       "4         12:00   5h 30m      1 stop  In-flight meal not included   9663  "
      ]
     },
     "execution_count": 4,
     "metadata": {},
     "output_type": "execute_result"
    }
   ],
   "source": [
    "# info on train data initial\n",
    "df_train_initial.head()"
   ]
  },
  {
   "cell_type": "code",
   "execution_count": 5,
   "metadata": {},
   "outputs": [
    {
     "data": {
      "text/html": [
       "<div>\n",
       "<style scoped>\n",
       "    .dataframe tbody tr th:only-of-type {\n",
       "        vertical-align: middle;\n",
       "    }\n",
       "\n",
       "    .dataframe tbody tr th {\n",
       "        vertical-align: top;\n",
       "    }\n",
       "\n",
       "    .dataframe thead th {\n",
       "        text-align: right;\n",
       "    }\n",
       "</style>\n",
       "<table border=\"1\" class=\"dataframe\">\n",
       "  <thead>\n",
       "    <tr style=\"text-align: right;\">\n",
       "      <th></th>\n",
       "      <th>Airline</th>\n",
       "      <th>Date_of_Journey</th>\n",
       "      <th>Source</th>\n",
       "      <th>Destination</th>\n",
       "      <th>Route</th>\n",
       "      <th>Dep_Time</th>\n",
       "      <th>Arrival_Time</th>\n",
       "      <th>Duration</th>\n",
       "      <th>Total_Stops</th>\n",
       "      <th>Additional_Info</th>\n",
       "    </tr>\n",
       "  </thead>\n",
       "  <tbody>\n",
       "    <tr>\n",
       "      <th>0</th>\n",
       "      <td>Airline B</td>\n",
       "      <td>27-03-2019</td>\n",
       "      <td>Delhi</td>\n",
       "      <td>Cochin</td>\n",
       "      <td>DEL → HYD → COK</td>\n",
       "      <td>04:55</td>\n",
       "      <td>16:10</td>\n",
       "      <td>11h 15m</td>\n",
       "      <td>1 stop</td>\n",
       "      <td>No info</td>\n",
       "    </tr>\n",
       "    <tr>\n",
       "      <th>1</th>\n",
       "      <td>Airline E</td>\n",
       "      <td>27-05-2019</td>\n",
       "      <td>Kolkata</td>\n",
       "      <td>Banglore</td>\n",
       "      <td>CCU → BLR</td>\n",
       "      <td>22:20</td>\n",
       "      <td>28-05-2020 00:40</td>\n",
       "      <td>2h 20m</td>\n",
       "      <td>non-stop</td>\n",
       "      <td>No info</td>\n",
       "    </tr>\n",
       "    <tr>\n",
       "      <th>2</th>\n",
       "      <td>Airline C</td>\n",
       "      <td>06-06-2019</td>\n",
       "      <td>Kolkata</td>\n",
       "      <td>Banglore</td>\n",
       "      <td>CCU → IXR → DEL → BLR</td>\n",
       "      <td>05:50</td>\n",
       "      <td>20:25</td>\n",
       "      <td>14h 35m</td>\n",
       "      <td>2 stops</td>\n",
       "      <td>No info</td>\n",
       "    </tr>\n",
       "    <tr>\n",
       "      <th>3</th>\n",
       "      <td>Airline A</td>\n",
       "      <td>06-03-2019</td>\n",
       "      <td>Banglore</td>\n",
       "      <td>New Delhi</td>\n",
       "      <td>BLR → MAA → DEL</td>\n",
       "      <td>09:45</td>\n",
       "      <td>14:25</td>\n",
       "      <td>4h 40m</td>\n",
       "      <td>1 stop</td>\n",
       "      <td>No info</td>\n",
       "    </tr>\n",
       "    <tr>\n",
       "      <th>4</th>\n",
       "      <td>Airline B</td>\n",
       "      <td>15-06-2019</td>\n",
       "      <td>Delhi</td>\n",
       "      <td>Cochin</td>\n",
       "      <td>DEL → BOM → COK</td>\n",
       "      <td>16:00</td>\n",
       "      <td>16-06-2020 01:30</td>\n",
       "      <td>9h 30m</td>\n",
       "      <td>1 stop</td>\n",
       "      <td>No info</td>\n",
       "    </tr>\n",
       "  </tbody>\n",
       "</table>\n",
       "</div>"
      ],
      "text/plain": [
       "     Airline Date_of_Journey    Source Destination                  Route  \\\n",
       "0  Airline B      27-03-2019     Delhi      Cochin        DEL → HYD → COK   \n",
       "1  Airline E      27-05-2019   Kolkata    Banglore              CCU → BLR   \n",
       "2  Airline C      06-06-2019   Kolkata    Banglore  CCU → IXR → DEL → BLR   \n",
       "3  Airline A      06-03-2019  Banglore   New Delhi        BLR → MAA → DEL   \n",
       "4  Airline B      15-06-2019     Delhi      Cochin        DEL → BOM → COK   \n",
       "\n",
       "  Dep_Time      Arrival_Time Duration Total_Stops Additional_Info  \n",
       "0    04:55             16:10  11h 15m      1 stop         No info  \n",
       "1    22:20  28-05-2020 00:40   2h 20m    non-stop         No info  \n",
       "2    05:50             20:25  14h 35m     2 stops         No info  \n",
       "3    09:45             14:25   4h 40m      1 stop         No info  \n",
       "4    16:00  16-06-2020 01:30   9h 30m      1 stop         No info  "
      ]
     },
     "execution_count": 5,
     "metadata": {},
     "output_type": "execute_result"
    }
   ],
   "source": [
    "# info on test data\n",
    "df_test_initial.head()"
   ]
  },
  {
   "cell_type": "code",
   "execution_count": 6,
   "metadata": {},
   "outputs": [
    {
     "name": "stdout",
     "output_type": "stream",
     "text": [
      "<class 'pandas.core.frame.DataFrame'>\n",
      "RangeIndex: 8012 entries, 0 to 8011\n",
      "Data columns (total 11 columns):\n",
      "Airline            8012 non-null object\n",
      "Date_of_Journey    8012 non-null object\n",
      "Source             8012 non-null object\n",
      "Destination        8012 non-null object\n",
      "Route              8011 non-null object\n",
      "Dep_Time           8012 non-null object\n",
      "Arrival_Time       8012 non-null object\n",
      "Duration           8012 non-null object\n",
      "Total_Stops        8011 non-null object\n",
      "Additional_Info    8012 non-null object\n",
      "Price              8012 non-null int64\n",
      "dtypes: int64(1), object(10)\n",
      "memory usage: 688.6+ KB\n"
     ]
    }
   ],
   "source": [
    "\n",
    "# More views of training data in different ways \n",
    "df_train_initial.info()"
   ]
  },
  {
   "cell_type": "code",
   "execution_count": 7,
   "metadata": {},
   "outputs": [
    {
     "data": {
      "text/html": [
       "<div>\n",
       "<style scoped>\n",
       "    .dataframe tbody tr th:only-of-type {\n",
       "        vertical-align: middle;\n",
       "    }\n",
       "\n",
       "    .dataframe tbody tr th {\n",
       "        vertical-align: top;\n",
       "    }\n",
       "\n",
       "    .dataframe thead th {\n",
       "        text-align: right;\n",
       "    }\n",
       "</style>\n",
       "<table border=\"1\" class=\"dataframe\">\n",
       "  <thead>\n",
       "    <tr style=\"text-align: right;\">\n",
       "      <th></th>\n",
       "      <th>Price</th>\n",
       "    </tr>\n",
       "  </thead>\n",
       "  <tbody>\n",
       "    <tr>\n",
       "      <th>count</th>\n",
       "      <td>8012.000000</td>\n",
       "    </tr>\n",
       "    <tr>\n",
       "      <th>mean</th>\n",
       "      <td>9062.037943</td>\n",
       "    </tr>\n",
       "    <tr>\n",
       "      <th>std</th>\n",
       "      <td>4626.593069</td>\n",
       "    </tr>\n",
       "    <tr>\n",
       "      <th>min</th>\n",
       "      <td>1759.000000</td>\n",
       "    </tr>\n",
       "    <tr>\n",
       "      <th>25%</th>\n",
       "      <td>5277.000000</td>\n",
       "    </tr>\n",
       "    <tr>\n",
       "      <th>50%</th>\n",
       "      <td>8371.000000</td>\n",
       "    </tr>\n",
       "    <tr>\n",
       "      <th>75%</th>\n",
       "      <td>12373.000000</td>\n",
       "    </tr>\n",
       "    <tr>\n",
       "      <th>max</th>\n",
       "      <td>79512.000000</td>\n",
       "    </tr>\n",
       "  </tbody>\n",
       "</table>\n",
       "</div>"
      ],
      "text/plain": [
       "              Price\n",
       "count   8012.000000\n",
       "mean    9062.037943\n",
       "std     4626.593069\n",
       "min     1759.000000\n",
       "25%     5277.000000\n",
       "50%     8371.000000\n",
       "75%    12373.000000\n",
       "max    79512.000000"
      ]
     },
     "execution_count": 7,
     "metadata": {},
     "output_type": "execute_result"
    }
   ],
   "source": [
    "df_train_initial.describe()"
   ]
  },
  {
   "cell_type": "markdown",
   "metadata": {},
   "source": [
    "# Finding null values for training data"
   ]
  },
  {
   "cell_type": "code",
   "execution_count": 8,
   "metadata": {},
   "outputs": [
    {
     "data": {
      "text/plain": [
       "Airline            0\n",
       "Date_of_Journey    0\n",
       "Source             0\n",
       "Destination        0\n",
       "Route              1\n",
       "Dep_Time           0\n",
       "Arrival_Time       0\n",
       "Duration           0\n",
       "Total_Stops        1\n",
       "Additional_Info    0\n",
       "Price              0\n",
       "dtype: int64"
      ]
     },
     "execution_count": 8,
     "metadata": {},
     "output_type": "execute_result"
    }
   ],
   "source": [
    "df_train_initial.isna().sum()\n"
   ]
  },
  {
   "cell_type": "markdown",
   "metadata": {},
   "source": [
    "#Observations\n",
    "#one row has the Route as well as Total_steps null, that will be dropped\n"
   ]
  },
  {
   "cell_type": "code",
   "execution_count": 9,
   "metadata": {},
   "outputs": [],
   "source": [
    "df_train_initial.dropna(subset = ['Total_Stops'], inplace=True)"
   ]
  },
  {
   "cell_type": "code",
   "execution_count": 10,
   "metadata": {},
   "outputs": [
    {
     "data": {
      "text/plain": [
       "Airline            0\n",
       "Date_of_Journey    0\n",
       "Source             0\n",
       "Destination        0\n",
       "Route              0\n",
       "Dep_Time           0\n",
       "Arrival_Time       0\n",
       "Duration           0\n",
       "Total_Stops        0\n",
       "Additional_Info    0\n",
       "Price              0\n",
       "dtype: int64"
      ]
     },
     "execution_count": 10,
     "metadata": {},
     "output_type": "execute_result"
    }
   ],
   "source": [
    "df_train_initial.isna().sum()"
   ]
  },
  {
   "cell_type": "code",
   "execution_count": 11,
   "metadata": {},
   "outputs": [
    {
     "data": {
      "text/plain": [
       "(8011, 11)"
      ]
     },
     "execution_count": 11,
     "metadata": {},
     "output_type": "execute_result"
    }
   ],
   "source": [
    "df_train_initial.shape"
   ]
  },
  {
   "cell_type": "code",
   "execution_count": 12,
   "metadata": {},
   "outputs": [],
   "source": [
    "# We see that one row is reduced"
   ]
  },
  {
   "cell_type": "markdown",
   "metadata": {},
   "source": [
    "# Lets check some Distinct Values"
   ]
  },
  {
   "cell_type": "code",
   "execution_count": 13,
   "metadata": {},
   "outputs": [
    {
     "data": {
      "text/plain": [
       "<matplotlib.axes._subplots.AxesSubplot at 0xe9a9e48>"
      ]
     },
     "execution_count": 13,
     "metadata": {},
     "output_type": "execute_result"
    },
    {
     "data": {
      "image/png": "[encoded data removed]",
      "text/plain": [
       "<Figure size 432x288 with 1 Axes>"
      ]
     },
     "metadata": {},
     "output_type": "display_data"
    }
   ],
   "source": [
    "df_train_initial['Airline'].value_counts().plot(kind = 'bar')\n"
   ]
  },
  {
   "cell_type": "code",
   "execution_count": 14,
   "metadata": {},
   "outputs": [
    {
     "data": {
      "text/plain": [
       "Delhi       3397\n",
       "Kolkata     2152\n",
       "Banglore    1650\n",
       "Mumbai       523\n",
       "Chennai      289\n",
       "Name: Source, dtype: int64"
      ]
     },
     "execution_count": 14,
     "metadata": {},
     "output_type": "execute_result"
    }
   ],
   "source": [
    "df_train_initial['Source'].value_counts()"
   ]
  },
  {
   "cell_type": "code",
   "execution_count": 15,
   "metadata": {},
   "outputs": [
    {
     "data": {
      "text/plain": [
       "<matplotlib.axes._subplots.AxesSubplot at 0xed2c240>"
      ]
     },
     "execution_count": 15,
     "metadata": {},
     "output_type": "execute_result"
    },
    {
     "data": {
      "image/png": "[encoded data removed]",
      "text/plain": [
       "<Figure size 432x288 with 1 Axes>"
      ]
     },
     "metadata": {},
     "output_type": "display_data"
    }
   ],
   "source": [
    "df_train_initial['Source'].value_counts().plot(kind = 'bar')"
   ]
  },
  {
   "cell_type": "code",
   "execution_count": 16,
   "metadata": {},
   "outputs": [
    {
     "data": {
      "text/plain": [
       "Cochin       3397\n",
       "Banglore     2152\n",
       "Delhi         956\n",
       "New Delhi     694\n",
       "Hyderabad     523\n",
       "Kolkata       289\n",
       "Name: Destination, dtype: int64"
      ]
     },
     "execution_count": 16,
     "metadata": {},
     "output_type": "execute_result"
    }
   ],
   "source": [
    "df_train_initial['Destination'].value_counts()"
   ]
  },
  {
   "cell_type": "code",
   "execution_count": 17,
   "metadata": {},
   "outputs": [
    {
     "data": {
      "text/plain": [
       "<matplotlib.axes._subplots.AxesSubplot at 0xecbd630>"
      ]
     },
     "execution_count": 17,
     "metadata": {},
     "output_type": "execute_result"
    },
    {
     "data": {
      "image/png": "[encoded data removed]",
      "text/plain": [
       "<Figure size 432x288 with 1 Axes>"
      ]
     },
     "metadata": {},
     "output_type": "display_data"
    }
   ],
   "source": [
    "df_train_initial['Destination'].value_counts().plot(kind = 'bar')"
   ]
  },
  {
   "cell_type": "markdown",
   "metadata": {},
   "source": [
    "# The above values suggest need to combine the values for Delhi and 'New Delhi'"
   ]
  },
  {
   "cell_type": "code",
   "execution_count": 18,
   "metadata": {},
   "outputs": [
    {
     "data": {
      "text/plain": [
       "Cochin       3397\n",
       "Banglore     2152\n",
       "Delhi        1650\n",
       "Hyderabad     523\n",
       "Kolkata       289\n",
       "Name: Destination, dtype: int64"
      ]
     },
     "execution_count": 18,
     "metadata": {},
     "output_type": "execute_result"
    }
   ],
   "source": [
    "df_train_initial['Destination'] = df_train_initial['Destination'].replace(['New Delhi'],'Delhi')\n",
    "df_train_initial['Destination'].value_counts()"
   ]
  },
  {
   "cell_type": "markdown",
   "metadata": {},
   "source": [
    "# Lets continue with other value counts"
   ]
  },
  {
   "cell_type": "code",
   "execution_count": 19,
   "metadata": {},
   "outputs": [
    {
     "data": {
      "text/plain": [
       "DEL → BOM → COK                1784\n",
       "BLR → DEL                      1172\n",
       "CCU → BOM → BLR                 752\n",
       "CCU → BLR                       537\n",
       "BOM → HYD                       468\n",
       "CCU → DEL → BLR                 418\n",
       "BLR → BOM → DEL                 300\n",
       "MAA → CCU                       289\n",
       "DEL → HYD → COK                 250\n",
       "DEL → JAI → BOM → COK           176\n",
       "DEL → BLR → COK                 170\n",
       "DEL → COK                       164\n",
       "DEL → AMD → BOM → COK           149\n",
       "DEL → MAA → COK                 105\n",
       "DEL → IDR → BOM → COK            69\n",
       "DEL → HYD → MAA → COK            60\n",
       "DEL → NAG → BOM → COK            57\n",
       "CCU → MAA → BLR                  45\n",
       "DEL → GOI → BOM → COK            44\n",
       "DEL → HYD → BOM → COK            43\n",
       "CCU → HYD → BLR                  40\n",
       "DEL → PNQ → COK                  38\n",
       "CCU → BBI → BLR                  36\n",
       "DEL → BHO → BOM → COK            36\n",
       "CCU → GAU → BLR                  33\n",
       "CCU → IXR → DEL → BLR            31\n",
       "DEL → LKO → BOM → COK            30\n",
       "DEL → ATQ → BOM → COK            30\n",
       "CCU → BBI → BOM → BLR            30\n",
       "DEL → JDH → BOM → COK            29\n",
       "                               ... \n",
       "CCU → DEL → COK → TRV → BLR       2\n",
       "BLR → STV → DEL                   2\n",
       "BOM → BLR → HYD                   2\n",
       "CCU → BOM → TRV → BLR             2\n",
       "BLR → BOM → IDR → DEL             2\n",
       "BLR → CCU → BBI → HYD → DEL       2\n",
       "BOM → JLR → HYD                   1\n",
       "CCU → VTZ → BLR                   1\n",
       "CCU → IXA → BLR                   1\n",
       "BLR → TRV → COK → DEL             1\n",
       "BLR → HBX → BOM → BHO → DEL       1\n",
       "BLR → HBX → BOM → AMD → DEL       1\n",
       "BOM → RPR → VTZ → HYD             1\n",
       "BLR → VGA → VTZ → DEL             1\n",
       "BLR → HBX → BOM → NAG → DEL       1\n",
       "BOM → DED → DEL → HYD             1\n",
       "BOM → BLR → CCU → BBI → HYD       1\n",
       "BOM → VNS → DEL → HYD             1\n",
       "BOM → COK → MAA → HYD             1\n",
       "BLR → BOM → IXC → DEL             1\n",
       "BOM → NDC → HYD                   1\n",
       "CCU → IXZ → MAA → BLR             1\n",
       "BOM → CCU → HYD                   1\n",
       "BOM → BDQ → DEL → HYD             1\n",
       "BLR → BOM → UDR → DEL             1\n",
       "CCU → IXB → DEL → BLR             1\n",
       "BOM → JDH → DEL → HYD             1\n",
       "BLR → LKO → DEL                   1\n",
       "BOM → UDR → DEL → HYD             1\n",
       "BOM → GOI → HYD                   1\n",
       "Name: Route, Length: 122, dtype: int64"
      ]
     },
     "execution_count": 19,
     "metadata": {},
     "output_type": "execute_result"
    }
   ],
   "source": [
    "df_train_initial['Route'].value_counts()"
   ]
  },
  {
   "cell_type": "code",
   "execution_count": 20,
   "metadata": {},
   "outputs": [
    {
     "data": {
      "text/plain": [
       "1 stop      4235\n",
       "non-stop    2630\n",
       "2 stops     1112\n",
       "3 stops       34\n",
       "Name: Total_Stops, dtype: int64"
      ]
     },
     "execution_count": 20,
     "metadata": {},
     "output_type": "execute_result"
    }
   ],
   "source": [
    "df_train_initial['Total_Stops'].value_counts()"
   ]
  },
  {
   "cell_type": "markdown",
   "metadata": {},
   "source": [
    "# Additional Feature Creation\n",
    "#From Total_Stops we know non-stop would mean 0. So we will replace 'non' with 0, take out only the first char and convert the data type to int and create this as a new variable\n"
   ]
  },
  {
   "cell_type": "code",
   "execution_count": 21,
   "metadata": {},
   "outputs": [],
   "source": [
    "df_train_initial['stops'] = df_train_initial['Total_Stops'].replace('non-stop','0 stops').str.split(' ').str[0].astype(int)"
   ]
  },
  {
   "cell_type": "code",
   "execution_count": 22,
   "metadata": {},
   "outputs": [
    {
     "data": {
      "text/html": [
       "<div>\n",
       "<style scoped>\n",
       "    .dataframe tbody tr th:only-of-type {\n",
       "        vertical-align: middle;\n",
       "    }\n",
       "\n",
       "    .dataframe tbody tr th {\n",
       "        vertical-align: top;\n",
       "    }\n",
       "\n",
       "    .dataframe thead th {\n",
       "        text-align: right;\n",
       "    }\n",
       "</style>\n",
       "<table border=\"1\" class=\"dataframe\">\n",
       "  <thead>\n",
       "    <tr style=\"text-align: right;\">\n",
       "      <th></th>\n",
       "      <th>Airline</th>\n",
       "      <th>Date_of_Journey</th>\n",
       "      <th>Source</th>\n",
       "      <th>Destination</th>\n",
       "      <th>Route</th>\n",
       "      <th>Dep_Time</th>\n",
       "      <th>Arrival_Time</th>\n",
       "      <th>Duration</th>\n",
       "      <th>Total_Stops</th>\n",
       "      <th>Additional_Info</th>\n",
       "      <th>Price</th>\n",
       "      <th>stops</th>\n",
       "    </tr>\n",
       "  </thead>\n",
       "  <tbody>\n",
       "    <tr>\n",
       "      <th>0</th>\n",
       "      <td>Airline C</td>\n",
       "      <td>12/06/2019</td>\n",
       "      <td>Delhi</td>\n",
       "      <td>Cochin</td>\n",
       "      <td>DEL → MAA → COK</td>\n",
       "      <td>20:40</td>\n",
       "      <td>09:25 13 Jun</td>\n",
       "      <td>12h 45m</td>\n",
       "      <td>1 stop</td>\n",
       "      <td>No info</td>\n",
       "      <td>7480</td>\n",
       "      <td>1</td>\n",
       "    </tr>\n",
       "    <tr>\n",
       "      <th>1</th>\n",
       "      <td>Airline A</td>\n",
       "      <td>18/06/2019</td>\n",
       "      <td>Banglore</td>\n",
       "      <td>Delhi</td>\n",
       "      <td>BLR → DEL</td>\n",
       "      <td>18:55</td>\n",
       "      <td>22:00</td>\n",
       "      <td>3h 5m</td>\n",
       "      <td>non-stop</td>\n",
       "      <td>No info</td>\n",
       "      <td>8016</td>\n",
       "      <td>0</td>\n",
       "    </tr>\n",
       "    <tr>\n",
       "      <th>2</th>\n",
       "      <td>Airline C</td>\n",
       "      <td>18/05/2019</td>\n",
       "      <td>Delhi</td>\n",
       "      <td>Cochin</td>\n",
       "      <td>DEL → BOM → COK</td>\n",
       "      <td>03:50</td>\n",
       "      <td>19:15</td>\n",
       "      <td>15h 25m</td>\n",
       "      <td>1 stop</td>\n",
       "      <td>No info</td>\n",
       "      <td>8879</td>\n",
       "      <td>1</td>\n",
       "    </tr>\n",
       "    <tr>\n",
       "      <th>3</th>\n",
       "      <td>Airline A</td>\n",
       "      <td>6/05/2019</td>\n",
       "      <td>Kolkata</td>\n",
       "      <td>Banglore</td>\n",
       "      <td>CCU → BOM → BLR</td>\n",
       "      <td>20:00</td>\n",
       "      <td>08:15 07 May</td>\n",
       "      <td>12h 15m</td>\n",
       "      <td>1 stop</td>\n",
       "      <td>In-flight meal not included</td>\n",
       "      <td>9663</td>\n",
       "      <td>1</td>\n",
       "    </tr>\n",
       "    <tr>\n",
       "      <th>4</th>\n",
       "      <td>Airline A</td>\n",
       "      <td>9/05/2019</td>\n",
       "      <td>Kolkata</td>\n",
       "      <td>Banglore</td>\n",
       "      <td>CCU → BOM → BLR</td>\n",
       "      <td>06:30</td>\n",
       "      <td>12:00</td>\n",
       "      <td>5h 30m</td>\n",
       "      <td>1 stop</td>\n",
       "      <td>In-flight meal not included</td>\n",
       "      <td>9663</td>\n",
       "      <td>1</td>\n",
       "    </tr>\n",
       "  </tbody>\n",
       "</table>\n",
       "</div>"
      ],
      "text/plain": [
       "     Airline Date_of_Journey    Source Destination            Route Dep_Time  \\\n",
       "0  Airline C      12/06/2019     Delhi      Cochin  DEL → MAA → COK    20:40   \n",
       "1  Airline A      18/06/2019  Banglore       Delhi        BLR → DEL    18:55   \n",
       "2  Airline C      18/05/2019     Delhi      Cochin  DEL → BOM → COK    03:50   \n",
       "3  Airline A       6/05/2019   Kolkata    Banglore  CCU → BOM → BLR    20:00   \n",
       "4  Airline A       9/05/2019   Kolkata    Banglore  CCU → BOM → BLR    06:30   \n",
       "\n",
       "   Arrival_Time Duration Total_Stops              Additional_Info  Price  \\\n",
       "0  09:25 13 Jun  12h 45m      1 stop                      No info   7480   \n",
       "1         22:00    3h 5m    non-stop                      No info   8016   \n",
       "2         19:15  15h 25m      1 stop                      No info   8879   \n",
       "3  08:15 07 May  12h 15m      1 stop  In-flight meal not included   9663   \n",
       "4         12:00   5h 30m      1 stop  In-flight meal not included   9663   \n",
       "\n",
       "   stops  \n",
       "0      1  \n",
       "1      0  \n",
       "2      1  \n",
       "3      1  \n",
       "4      1  "
      ]
     },
     "execution_count": 22,
     "metadata": {},
     "output_type": "execute_result"
    }
   ],
   "source": [
    "df_train_initial.head()\n"
   ]
  },
  {
   "cell_type": "code",
   "execution_count": 23,
   "metadata": {},
   "outputs": [
    {
     "data": {
      "text/plain": [
       "Text(0,0.5,'Price')"
      ]
     },
     "execution_count": 23,
     "metadata": {},
     "output_type": "execute_result"
    },
    {
     "data": {
      "image/png": "[encoded data removed]",
      "text/plain": [
       "<Figure size 1800x720 with 1 Axes>"
      ]
     },
     "metadata": {},
     "output_type": "display_data"
    }
   ],
   "source": [
    "plt.figure(figsize=(25,10))\n",
    "plt.title('Price versus number of stops for different airlines',fontsize=20)\n",
    "df_stops = df_train_initial.groupby([\"stops\"])['Price'].aggregate(np.median).reset_index().sort_values('Price')\n",
    "sns.barplot(x='stops', y=\"Price\", data=df_train_initial, order=df_stops['stops'])\n",
    "plt.xlabel('stops', fontsize=18)\n",
    "plt.ylabel('Price', fontsize=18)"
   ]
  },
  {
   "cell_type": "code",
   "execution_count": 24,
   "metadata": {},
   "outputs": [
    {
     "data": {
      "text/plain": [
       "<matplotlib.axes._subplots.AxesSubplot at 0xed2c128>"
      ]
     },
     "execution_count": 24,
     "metadata": {},
     "output_type": "execute_result"
    },
    {
     "data": {
      "image/png": "[encoded data removed]",
      "text/plain": [
       "<Figure size 432x288 with 1 Axes>"
      ]
     },
     "metadata": {},
     "output_type": "display_data"
    }
   ],
   "source": [
    "#letS DO SOME ANALYSIS\n",
    "sns.distplot(df_train_initial[\"Price\"],kde=False)\n"
   ]
  },
  {
   "cell_type": "markdown",
   "metadata": {},
   "source": [
    "# Create new time based features deried from Date_of_Journey - we arrive at the day-of-the-week which is most important variable as airline prices tend to vary based on day\n",
    "# Similarly the month for seasonality\n",
    "# similarly we will derive departure time in hours ignoring the minutes\n",
    "# Arrival time could also have some effect but is ignored as it could be again correlated with departure time (though one experiment can later be made considering it (or only it)"
   ]
  },
  {
   "cell_type": "code",
   "execution_count": 25,
   "metadata": {},
   "outputs": [],
   "source": [
    "#create day_of_week\n",
    "df_train_initial['day_of_week']=pd.DatetimeIndex(df_train_initial['Date_of_Journey']).dayofweek.astype(object)\n",
    "#note make it as object as we can encode it; we do not want enums\n",
    "#create month\n",
    "df_train_initial['month']=pd.DatetimeIndex(df_train_initial['Date_of_Journey']).month.astype(object)"
   ]
  },
  {
   "cell_type": "code",
   "execution_count": 26,
   "metadata": {},
   "outputs": [
    {
     "data": {
      "text/plain": [
       "Text(0,0.5,'Price')"
      ]
     },
     "execution_count": 26,
     "metadata": {},
     "output_type": "execute_result"
    },
    {
     "data": {
      "image/png": "[encoded data removed]",
      "text/plain": [
       "<Figure size 1800x720 with 1 Axes>"
      ]
     },
     "metadata": {},
     "output_type": "display_data"
    }
   ],
   "source": [
    "# Visualize\n",
    "plt.figure(figsize=(25,10))\n",
    "plt.title('Price for different days_of_week',fontsize=22)\n",
    "df_stops = df_train_initial.groupby([\"day_of_week\"])['Price'].aggregate(np.median).reset_index().sort_values('Price')\n",
    "sns.barplot(x='day_of_week', y=\"Price\", data=df_train_initial, order=df_stops['day_of_week'],label='big')\n",
    "plt.xlabel('day_of_week', fontsize=18)\n",
    "plt.ylabel('Price', fontsize=18)"
   ]
  },
  {
   "cell_type": "code",
   "execution_count": 27,
   "metadata": {},
   "outputs": [
    {
     "data": {
      "text/plain": [
       "Text(0,0.5,'Price')"
      ]
     },
     "execution_count": 27,
     "metadata": {},
     "output_type": "execute_result"
    },
    {
     "data": {
      "image/png": "[encoded data removed]",
      "text/plain": [
       "<Figure size 1800x720 with 1 Axes>"
      ]
     },
     "metadata": {},
     "output_type": "display_data"
    }
   ],
   "source": [
    "# Visualize\n",
    "plt.figure(figsize=(25,10))\n",
    "plt.title('Price versus months',fontsize=22)\n",
    "df_stops = df_train_initial.groupby([\"month\"])['Price'].aggregate(np.median).reset_index().sort_values('Price')\n",
    "sns.barplot(x=\"month\", y=\"Price\", data=df_train_initial, order=df_stops['month'])\n",
    "plt.xlabel('Month', fontsize=18)\n",
    "plt.ylabel('Price', fontsize=18)"
   ]
  },
  {
   "cell_type": "markdown",
   "metadata": {},
   "source": [
    "#now we will derive the departure hour (approximate to the hour value ignoring the minutes)"
   ]
  },
  {
   "cell_type": "code",
   "execution_count": 28,
   "metadata": {},
   "outputs": [],
   "source": [
    "df_train_initial['departure_hour'] = df_train_initial['Dep_Time'].str.split(':').str[0]"
   ]
  },
  {
   "cell_type": "markdown",
   "metadata": {},
   "source": [
    "# Some visualizations with departure_hour"
   ]
  },
  {
   "cell_type": "code",
   "execution_count": 29,
   "metadata": {},
   "outputs": [
    {
     "data": {
      "text/plain": [
       "Text(0,0.5,'Price')"
      ]
     },
     "execution_count": 29,
     "metadata": {},
     "output_type": "execute_result"
    },
    {
     "data": {
      "image/png": "[encoded data removed]",
      "text/plain": [
       "<Figure size 1800x720 with 1 Axes>"
      ]
     },
     "metadata": {},
     "output_type": "display_data"
    }
   ],
   "source": [
    "# ALL cities\n",
    "plt.figure(figsize=(25,10))                                                         \n",
    "plt.title('PRice for different departure_hours for All Cities', fontsize=20)\n",
    "df_stops = df_train_initial.groupby([\"departure_hour\"])['Price'].aggregate(np.median).reset_index().sort_values('departure_hour')\n",
    "sns.barplot(x='departure_hour', y=\"Price\", data=df_train_initial, order=df_stops['departure_hour'])\n",
    "plt.xlabel('departure_hour', fontsize=18)\n",
    "plt.ylabel('Price', fontsize=18)\n"
   ]
  },
  {
   "cell_type": "code",
   "execution_count": 30,
   "metadata": {},
   "outputs": [
    {
     "data": {
      "text/plain": [
       "Text(0,0.5,'Price')"
      ]
     },
     "execution_count": 30,
     "metadata": {},
     "output_type": "execute_result"
    },
    {
     "data": {
      "image/png": "[encoded data removed]",
      "text/plain": [
       "<Figure size 1800x720 with 1 Axes>"
      ]
     },
     "metadata": {},
     "output_type": "display_data"
    }
   ],
   "source": [
    "# Check the effect of flight start time for each city; it could be different for each city\n",
    "# DELHI\n",
    "df_train_initial_sourceDelhi=df_train_initial[df_train_initial.Source == 'Chennai']\n",
    "#df_train_initial_sourceDelhi.head()\n",
    "plt.figure(figsize=(25,10))\n",
    "                                                          \n",
    "plt.title('PRice for different departure_hours for Flights Delhi', fontsize=20)\n",
    "df_stops = df_train_initial_sourceDelhi.groupby([\"departure_hour\"])['Price'].aggregate(np.median).reset_index().sort_values('departure_hour')\n",
    "sns.barplot(x='departure_hour', y=\"Price\", data=df_train_initial, order=df_stops['departure_hour'])\n",
    "plt.xlabel('departure_hour', fontsize=18)\n",
    "plt.ylabel('Price', fontsize=18)\n"
   ]
  },
  {
   "cell_type": "code",
   "execution_count": 31,
   "metadata": {},
   "outputs": [
    {
     "data": {
      "text/plain": [
       "<matplotlib.legend.Legend at 0x118fcac8>"
      ]
     },
     "execution_count": 31,
     "metadata": {},
     "output_type": "execute_result"
    },
    {
     "data": {
      "image/png": "[encoded data removed]",
      "text/plain": [
       "<Figure size 1800x1440 with 1 Axes>"
      ]
     },
     "metadata": {},
     "output_type": "display_data"
    }
   ],
   "source": [
    "# Lets plat a combined plot for all cities\n",
    "plt.figure(figsize=(25,20))\n",
    "plt.title('Price for different departure_hours - all cities ',fontsize=20)\n",
    "df_stops = df_train_initial.groupby([\"departure_hour\"])['Price'].aggregate(np.median).reset_index().sort_values('departure_hour')\n",
    "sns.barplot(x='departure_hour', y=\"Price\", data=df_train_initial, order=df_stops['departure_hour'], hue=df_train_initial['Source'])\n",
    "plt.xlabel('departure_hour', fontsize=18)\n",
    "plt.ylabel('Price', fontsize=18)\n",
    "plt.legend(loc='upper right',frameon=False, ncol=2, fancybox=True, framealpha=1, shadow=True, borderpad=1,fontsize='xx-large')"
   ]
  },
  {
   "cell_type": "markdown",
   "metadata": {},
   "source": [
    "# Observations\n",
    "#We see that there is city wise variation in the departure_hour effect, suggesting demand periods dependng on \n",
    "#when people want to reach the destination\n",
    "#Similar analysis could be done for arrival time, but as it could just be complementary in nature is ignored for now"
   ]
  },
  {
   "cell_type": "code",
   "execution_count": 32,
   "metadata": {},
   "outputs": [],
   "source": [
    "# create new variable hours from duration column\n",
    "df_train_initial['hours']=df_train_initial['Duration'].str.split(' ').str[0].str.rstrip('h')"
   ]
  },
  {
   "cell_type": "code",
   "execution_count": 33,
   "metadata": {},
   "outputs": [
    {
     "data": {
      "text/plain": [
       "Text(0,0.5,'Price')"
      ]
     },
     "execution_count": 33,
     "metadata": {},
     "output_type": "execute_result"
    },
    {
     "data": {
      "image/png": "[encoded data removed]",
      "text/plain": [
       "<Figure size 1800x720 with 1 Axes>"
      ]
     },
     "metadata": {},
     "output_type": "display_data"
    }
   ],
   "source": [
    "# ALL cities\n",
    "plt.figure(figsize=(25,10))                                                         \n",
    "plt.title('Price for different hours for All Cities', fontsize=20)\n",
    "df_stops = df_train_initial.groupby([\"hours\"])['Price'].aggregate(np.median).reset_index().sort_values('hours')\n",
    "sns.barplot(x='hours', y=\"Price\", data=df_train_initial, order=df_stops['hours'])\n",
    "plt.xlabel('hours', fontsize=18)\n",
    "plt.ylabel('Price', fontsize=18)"
   ]
  },
  {
   "cell_type": "markdown",
   "metadata": {},
   "source": [
    "# Observation \n",
    "#seems like no trend when all the flights are considered\n",
    "#lets consider only one-stop flights where we can expect linear relation"
   ]
  },
  {
   "cell_type": "code",
   "execution_count": 34,
   "metadata": {},
   "outputs": [
    {
     "data": {
      "text/plain": [
       "Text(0,0.5,'Price')"
      ]
     },
     "execution_count": 34,
     "metadata": {},
     "output_type": "execute_result"
    },
    {
     "data": {
      "image/png": "[encoded data removed]",
      "text/plain": [
       "<Figure size 1800x720 with 1 Axes>"
      ]
     },
     "metadata": {},
     "output_type": "display_data"
    }
   ],
   "source": [
    "# ALL cities\n",
    "df_train_initial_onestop=df_train_initial[df_train_initial.stops == 0]\n",
    "plt.figure(figsize=(25,10))                                                         \n",
    "plt.title('Price for different hours for All Cities with one stop flights', fontsize=20)\n",
    "df_stops = df_train_initial_onestop.groupby([\"hours\"])['Price'].aggregate(np.median).reset_index().sort_values('hours')\n",
    "sns.barplot(x='hours', y=\"Price\", data=df_train_initial_onestop, order=df_stops['hours'])\n",
    "plt.xlabel('hours', fontsize=18)\n",
    "plt.ylabel('Price', fontsize=18)"
   ]
  },
  {
   "cell_type": "code",
   "execution_count": 35,
   "metadata": {},
   "outputs": [],
   "source": [
    "# Observation\n",
    "# we can see one-stop flights have a linear relation. Hence we will keep the parameter"
   ]
  },
  {
   "cell_type": "code",
   "execution_count": 36,
   "metadata": {},
   "outputs": [
    {
     "name": "stdout",
     "output_type": "stream",
     "text": [
      "<class 'pandas.core.frame.DataFrame'>\n",
      "Int64Index: 8011 entries, 0 to 8011\n",
      "Data columns (total 16 columns):\n",
      "Airline            8011 non-null object\n",
      "Date_of_Journey    8011 non-null object\n",
      "Source             8011 non-null object\n",
      "Destination        8011 non-null object\n",
      "Route              8011 non-null object\n",
      "Dep_Time           8011 non-null object\n",
      "Arrival_Time       8011 non-null object\n",
      "Duration           8011 non-null object\n",
      "Total_Stops        8011 non-null object\n",
      "Additional_Info    8011 non-null object\n",
      "Price              8011 non-null int64\n",
      "stops              8011 non-null int32\n",
      "day_of_week        8011 non-null object\n",
      "month              8011 non-null object\n",
      "departure_hour     8011 non-null object\n",
      "hours              8011 non-null object\n",
      "dtypes: int32(1), int64(1), object(14)\n",
      "memory usage: 1.3+ MB\n"
     ]
    }
   ],
   "source": [
    "df_train_initial.info()"
   ]
  },
  {
   "cell_type": "code",
   "execution_count": 37,
   "metadata": {},
   "outputs": [],
   "source": [
    "#drop the columns not required in analysis\n",
    "# Route is removed as it can be indirectly derived from Total_stops, which is simplified to 'stops'\n",
    "# Dep_time and Arrival_time are both removed whih is replaced by new column departure_hour\n",
    "# Duration is removed as stops indicate increased duration for multi-hop flights automatically and further for flights other than \n",
    "#  non-stop flights the values can be misleading. If at all we have to use only for non-stop flights. For now ignored. \n",
    "df_train_initial.drop(['Date_of_Journey','Route','Dep_Time','Arrival_Time','Duration','Total_Stops'],axis=1,inplace=True)"
   ]
  },
  {
   "cell_type": "code",
   "execution_count": 38,
   "metadata": {},
   "outputs": [
    {
     "data": {
      "text/html": [
       "<div>\n",
       "<style scoped>\n",
       "    .dataframe tbody tr th:only-of-type {\n",
       "        vertical-align: middle;\n",
       "    }\n",
       "\n",
       "    .dataframe tbody tr th {\n",
       "        vertical-align: top;\n",
       "    }\n",
       "\n",
       "    .dataframe thead th {\n",
       "        text-align: right;\n",
       "    }\n",
       "</style>\n",
       "<table border=\"1\" class=\"dataframe\">\n",
       "  <thead>\n",
       "    <tr style=\"text-align: right;\">\n",
       "      <th></th>\n",
       "      <th>Airline</th>\n",
       "      <th>Source</th>\n",
       "      <th>Destination</th>\n",
       "      <th>Additional_Info</th>\n",
       "      <th>Price</th>\n",
       "      <th>stops</th>\n",
       "      <th>day_of_week</th>\n",
       "      <th>month</th>\n",
       "      <th>departure_hour</th>\n",
       "      <th>hours</th>\n",
       "    </tr>\n",
       "  </thead>\n",
       "  <tbody>\n",
       "    <tr>\n",
       "      <th>0</th>\n",
       "      <td>Airline C</td>\n",
       "      <td>Delhi</td>\n",
       "      <td>Cochin</td>\n",
       "      <td>No info</td>\n",
       "      <td>7480</td>\n",
       "      <td>1</td>\n",
       "      <td>4</td>\n",
       "      <td>12</td>\n",
       "      <td>20</td>\n",
       "      <td>12</td>\n",
       "    </tr>\n",
       "    <tr>\n",
       "      <th>1</th>\n",
       "      <td>Airline A</td>\n",
       "      <td>Banglore</td>\n",
       "      <td>Delhi</td>\n",
       "      <td>No info</td>\n",
       "      <td>8016</td>\n",
       "      <td>0</td>\n",
       "      <td>1</td>\n",
       "      <td>6</td>\n",
       "      <td>18</td>\n",
       "      <td>3</td>\n",
       "    </tr>\n",
       "    <tr>\n",
       "      <th>2</th>\n",
       "      <td>Airline C</td>\n",
       "      <td>Delhi</td>\n",
       "      <td>Cochin</td>\n",
       "      <td>No info</td>\n",
       "      <td>8879</td>\n",
       "      <td>1</td>\n",
       "      <td>5</td>\n",
       "      <td>5</td>\n",
       "      <td>03</td>\n",
       "      <td>15</td>\n",
       "    </tr>\n",
       "    <tr>\n",
       "      <th>3</th>\n",
       "      <td>Airline A</td>\n",
       "      <td>Kolkata</td>\n",
       "      <td>Banglore</td>\n",
       "      <td>In-flight meal not included</td>\n",
       "      <td>9663</td>\n",
       "      <td>1</td>\n",
       "      <td>2</td>\n",
       "      <td>6</td>\n",
       "      <td>20</td>\n",
       "      <td>12</td>\n",
       "    </tr>\n",
       "    <tr>\n",
       "      <th>4</th>\n",
       "      <td>Airline A</td>\n",
       "      <td>Kolkata</td>\n",
       "      <td>Banglore</td>\n",
       "      <td>In-flight meal not included</td>\n",
       "      <td>9663</td>\n",
       "      <td>1</td>\n",
       "      <td>3</td>\n",
       "      <td>9</td>\n",
       "      <td>06</td>\n",
       "      <td>5</td>\n",
       "    </tr>\n",
       "  </tbody>\n",
       "</table>\n",
       "</div>"
      ],
      "text/plain": [
       "     Airline    Source Destination              Additional_Info  Price  stops  \\\n",
       "0  Airline C     Delhi      Cochin                      No info   7480      1   \n",
       "1  Airline A  Banglore       Delhi                      No info   8016      0   \n",
       "2  Airline C     Delhi      Cochin                      No info   8879      1   \n",
       "3  Airline A   Kolkata    Banglore  In-flight meal not included   9663      1   \n",
       "4  Airline A   Kolkata    Banglore  In-flight meal not included   9663      1   \n",
       "\n",
       "  day_of_week month departure_hour hours  \n",
       "0           4    12             20    12  \n",
       "1           1     6             18     3  \n",
       "2           5     5             03    15  \n",
       "3           2     6             20    12  \n",
       "4           3     9             06     5  "
      ]
     },
     "execution_count": 38,
     "metadata": {},
     "output_type": "execute_result"
    }
   ],
   "source": [
    "#check the final dataframe\n",
    "df_train_initial.head()"
   ]
  },
  {
   "cell_type": "code",
   "execution_count": 39,
   "metadata": {},
   "outputs": [
    {
     "name": "stdout",
     "output_type": "stream",
     "text": [
      "<class 'pandas.core.frame.DataFrame'>\n",
      "Int64Index: 8011 entries, 0 to 8011\n",
      "Data columns (total 10 columns):\n",
      "Airline            8011 non-null object\n",
      "Source             8011 non-null object\n",
      "Destination        8011 non-null object\n",
      "Additional_Info    8011 non-null object\n",
      "Price              8011 non-null int64\n",
      "stops              8011 non-null int32\n",
      "day_of_week        8011 non-null object\n",
      "month              8011 non-null object\n",
      "departure_hour     8011 non-null object\n",
      "hours              8011 non-null object\n",
      "dtypes: int32(1), int64(1), object(8)\n",
      "memory usage: 977.2+ KB\n"
     ]
    }
   ],
   "source": [
    "df_train_initial.info()"
   ]
  },
  {
   "cell_type": "code",
   "execution_count": null,
   "metadata": {},
   "outputs": [],
   "source": []
  },
  {
   "cell_type": "markdown",
   "metadata": {},
   "source": [
    "# Do all the steps for Test data also"
   ]
  },
  {
   "cell_type": "code",
   "execution_count": 40,
   "metadata": {},
   "outputs": [
    {
     "data": {
      "text/plain": [
       "Airline            0\n",
       "Date_of_Journey    0\n",
       "Source             0\n",
       "Destination        0\n",
       "Route              0\n",
       "Dep_Time           0\n",
       "Arrival_Time       0\n",
       "Duration           0\n",
       "Total_Stops        0\n",
       "Additional_Info    0\n",
       "dtype: int64"
      ]
     },
     "execution_count": 40,
     "metadata": {},
     "output_type": "execute_result"
    }
   ],
   "source": [
    "df_test_initial.isna().sum()\n"
   ]
  },
  {
   "cell_type": "code",
   "execution_count": 41,
   "metadata": {},
   "outputs": [
    {
     "data": {
      "text/plain": [
       "Delhi       1139\n",
       "Kolkata      719\n",
       "Banglore     547\n",
       "Mumbai       174\n",
       "Chennai       92\n",
       "Name: Source, dtype: int64"
      ]
     },
     "execution_count": 41,
     "metadata": {},
     "output_type": "execute_result"
    }
   ],
   "source": [
    "# Inspect all other data for consistency\n",
    "df_test_initial['Source'].value_counts()\n"
   ]
  },
  {
   "cell_type": "code",
   "execution_count": 42,
   "metadata": {},
   "outputs": [
    {
     "data": {
      "text/plain": [
       "Cochin       1139\n",
       "Banglore      719\n",
       "Delhi         309\n",
       "New Delhi     238\n",
       "Hyderabad     174\n",
       "Kolkata        92\n",
       "Name: Destination, dtype: int64"
      ]
     },
     "execution_count": 42,
     "metadata": {},
     "output_type": "execute_result"
    }
   ],
   "source": [
    "df_test_initial['Destination'].value_counts()"
   ]
  },
  {
   "cell_type": "code",
   "execution_count": 43,
   "metadata": {},
   "outputs": [
    {
     "data": {
      "text/plain": [
       "Cochin       3397\n",
       "Banglore     2152\n",
       "Delhi        1650\n",
       "Hyderabad     523\n",
       "Kolkata       289\n",
       "Name: Destination, dtype: int64"
      ]
     },
     "execution_count": 43,
     "metadata": {},
     "output_type": "execute_result"
    }
   ],
   "source": [
    "# The above values suggest need to combine the values for Delhi and 'New Delhi'\n",
    "df_train_initial['Destination'] = df_train_initial['Destination'].replace(['New Delhi'],'Delhi')\n",
    "df_train_initial['Destination'].value_counts()"
   ]
  },
  {
   "cell_type": "code",
   "execution_count": 44,
   "metadata": {},
   "outputs": [
    {
     "data": {
      "text/plain": [
       "1 stop      1390\n",
       "non-stop     861\n",
       "2 stops      408\n",
       "3 stops       11\n",
       "4 stops        1\n",
       "Name: Total_Stops, dtype: int64"
      ]
     },
     "execution_count": 44,
     "metadata": {},
     "output_type": "execute_result"
    }
   ],
   "source": [
    "df_test_initial['Total_Stops'].value_counts()\n"
   ]
  },
  {
   "cell_type": "code",
   "execution_count": 45,
   "metadata": {},
   "outputs": [],
   "source": [
    "# Additional Feature Creation\n",
    "# From Total_Stops we know non-stop would mean 0. so we will replace 'non' with 0, take out only the first char and convert the data type to int and \n",
    "# create this as a new variable"
   ]
  },
  {
   "cell_type": "code",
   "execution_count": 46,
   "metadata": {},
   "outputs": [],
   "source": [
    "df_test_initial['stops'] = df_test_initial['Total_Stops'].replace('non-stop','0 stops').str.split(' ').str[0].astype(int)"
   ]
  },
  {
   "cell_type": "code",
   "execution_count": 47,
   "metadata": {},
   "outputs": [],
   "source": [
    "# create new time features deried from Date_of_Journey \n"
   ]
  },
  {
   "cell_type": "code",
   "execution_count": 48,
   "metadata": {},
   "outputs": [],
   "source": [
    "#create day_of_week\n",
    "df_test_initial['day_of_week']=pd.DatetimeIndex(df_test_initial['Date_of_Journey']).dayofweek.astype(object)"
   ]
  },
  {
   "cell_type": "code",
   "execution_count": 49,
   "metadata": {},
   "outputs": [],
   "source": [
    "df_test_initial['departure_hour'] = df_test_initial['Dep_Time'].str.split(':').str[0]"
   ]
  },
  {
   "cell_type": "code",
   "execution_count": 50,
   "metadata": {},
   "outputs": [],
   "source": [
    "df_test_initial['month']=pd.DatetimeIndex(df_test_initial['Date_of_Journey']).month.astype(object)"
   ]
  },
  {
   "cell_type": "code",
   "execution_count": 51,
   "metadata": {},
   "outputs": [],
   "source": [
    "df_test_initial['hours']=df_test_initial['Duration'].str.split(' ').str[0].str.rstrip('h')"
   ]
  },
  {
   "cell_type": "code",
   "execution_count": 52,
   "metadata": {},
   "outputs": [],
   "source": [
    "df_test_initial.drop(['Date_of_Journey','Route','Dep_Time','Arrival_Time','Duration','Total_Stops'],axis=1,inplace=True)"
   ]
  },
  {
   "cell_type": "code",
   "execution_count": 53,
   "metadata": {},
   "outputs": [
    {
     "data": {
      "text/html": [
       "<div>\n",
       "<style scoped>\n",
       "    .dataframe tbody tr th:only-of-type {\n",
       "        vertical-align: middle;\n",
       "    }\n",
       "\n",
       "    .dataframe tbody tr th {\n",
       "        vertical-align: top;\n",
       "    }\n",
       "\n",
       "    .dataframe thead th {\n",
       "        text-align: right;\n",
       "    }\n",
       "</style>\n",
       "<table border=\"1\" class=\"dataframe\">\n",
       "  <thead>\n",
       "    <tr style=\"text-align: right;\">\n",
       "      <th></th>\n",
       "      <th>Airline</th>\n",
       "      <th>Source</th>\n",
       "      <th>Destination</th>\n",
       "      <th>Additional_Info</th>\n",
       "      <th>stops</th>\n",
       "      <th>day_of_week</th>\n",
       "      <th>departure_hour</th>\n",
       "      <th>month</th>\n",
       "      <th>hours</th>\n",
       "    </tr>\n",
       "  </thead>\n",
       "  <tbody>\n",
       "    <tr>\n",
       "      <th>0</th>\n",
       "      <td>Airline B</td>\n",
       "      <td>Delhi</td>\n",
       "      <td>Cochin</td>\n",
       "      <td>No info</td>\n",
       "      <td>1</td>\n",
       "      <td>2</td>\n",
       "      <td>04</td>\n",
       "      <td>3</td>\n",
       "      <td>11</td>\n",
       "    </tr>\n",
       "    <tr>\n",
       "      <th>1</th>\n",
       "      <td>Airline E</td>\n",
       "      <td>Kolkata</td>\n",
       "      <td>Banglore</td>\n",
       "      <td>No info</td>\n",
       "      <td>0</td>\n",
       "      <td>0</td>\n",
       "      <td>22</td>\n",
       "      <td>5</td>\n",
       "      <td>2</td>\n",
       "    </tr>\n",
       "    <tr>\n",
       "      <th>2</th>\n",
       "      <td>Airline C</td>\n",
       "      <td>Kolkata</td>\n",
       "      <td>Banglore</td>\n",
       "      <td>No info</td>\n",
       "      <td>2</td>\n",
       "      <td>3</td>\n",
       "      <td>05</td>\n",
       "      <td>6</td>\n",
       "      <td>14</td>\n",
       "    </tr>\n",
       "    <tr>\n",
       "      <th>3</th>\n",
       "      <td>Airline A</td>\n",
       "      <td>Banglore</td>\n",
       "      <td>New Delhi</td>\n",
       "      <td>No info</td>\n",
       "      <td>1</td>\n",
       "      <td>0</td>\n",
       "      <td>09</td>\n",
       "      <td>6</td>\n",
       "      <td>4</td>\n",
       "    </tr>\n",
       "    <tr>\n",
       "      <th>4</th>\n",
       "      <td>Airline B</td>\n",
       "      <td>Delhi</td>\n",
       "      <td>Cochin</td>\n",
       "      <td>No info</td>\n",
       "      <td>1</td>\n",
       "      <td>5</td>\n",
       "      <td>16</td>\n",
       "      <td>6</td>\n",
       "      <td>9</td>\n",
       "    </tr>\n",
       "  </tbody>\n",
       "</table>\n",
       "</div>"
      ],
      "text/plain": [
       "     Airline    Source Destination Additional_Info  stops day_of_week  \\\n",
       "0  Airline B     Delhi      Cochin         No info      1           2   \n",
       "1  Airline E   Kolkata    Banglore         No info      0           0   \n",
       "2  Airline C   Kolkata    Banglore         No info      2           3   \n",
       "3  Airline A  Banglore   New Delhi         No info      1           0   \n",
       "4  Airline B     Delhi      Cochin         No info      1           5   \n",
       "\n",
       "  departure_hour month hours  \n",
       "0             04     3    11  \n",
       "1             22     5     2  \n",
       "2             05     6    14  \n",
       "3             09     6     4  \n",
       "4             16     6     9  "
      ]
     },
     "execution_count": 53,
     "metadata": {},
     "output_type": "execute_result"
    }
   ],
   "source": [
    "#check the final dataframe\n",
    "df_test_initial.head()"
   ]
  },
  {
   "cell_type": "markdown",
   "metadata": {},
   "source": [
    "#  End of test data pre-processing; we have train and test columns same except the target variable 'Price'\n"
   ]
  },
  {
   "cell_type": "markdown",
   "metadata": {},
   "source": [
    "# As last step we remove outliers for price > 20000 as done previously"
   ]
  },
  {
   "cell_type": "code",
   "execution_count": 54,
   "metadata": {},
   "outputs": [
    {
     "data": {
      "text/plain": [
       "(7898, 10)"
      ]
     },
     "execution_count": 54,
     "metadata": {},
     "output_type": "execute_result"
    }
   ],
   "source": [
    "# drop rows with price greater than 20000\n",
    "df_train_initial.drop(df_train_initial[df_train_initial['Price'] > 20000.0].index, inplace=True )\n",
    "df_train_initial.shape\n"
   ]
  },
  {
   "cell_type": "code",
   "execution_count": 55,
   "metadata": {},
   "outputs": [
    {
     "data": {
      "text/plain": [
       "(2671, 9)"
      ]
     },
     "execution_count": 55,
     "metadata": {},
     "output_type": "execute_result"
    }
   ],
   "source": [
    "df_test_initial.shape"
   ]
  },
  {
   "cell_type": "markdown",
   "metadata": {},
   "source": [
    "#  All set\n",
    "# Lets make copies of train and test sets as of now "
   ]
  },
  {
   "cell_type": "markdown",
   "metadata": {},
   "source": []
  },
  {
   "cell_type": "code",
   "execution_count": 56,
   "metadata": {},
   "outputs": [],
   "source": [
    "df_train_normalized=df_train_initial.copy(deep=True)\n",
    "df_test_normalized=df_test_initial.copy(deep=True)"
   ]
  },
  {
   "cell_type": "code",
   "execution_count": 57,
   "metadata": {},
   "outputs": [],
   "source": [
    "#modelling\n",
    "# we will try first with label encoding and then with one hot encoding [combining test and training sets]\n",
    "# Airline,Source,Destination, Additional_Info, day_of_week, departure_hour to be encoded"
   ]
  },
  {
   "cell_type": "code",
   "execution_count": 58,
   "metadata": {},
   "outputs": [],
   "source": [
    "# LABEL encoding"
   ]
  },
  {
   "cell_type": "code",
   "execution_count": 59,
   "metadata": {},
   "outputs": [
    {
     "name": "stdout",
     "output_type": "stream",
     "text": [
      "Airline Source Destination Additional_Info day_of_week month departure_hour hours\n"
     ]
    }
   ],
   "source": [
    "#Create the label encoded data\n",
    "#Initializing lable encoder\n",
    "le = LabelEncoder()\n",
    "\n",
    "#Code that auto encodes any dataframe column of type category or object.        \n",
    "columnsToEncode = list(df_train_initial.select_dtypes(include=['object']))\n",
    "print(' '.join(columnsToEncode))\n",
    "#Initializing Label Encoder\n",
    "le = LabelEncoder()\n",
    "\n",
    "#Iterating through each of the categorical columns and label encoding them\n",
    "for feature in columnsToEncode:\n",
    "    try:\n",
    "        df_train_initial[feature] = le.fit_transform(df_train_initial[feature])\n",
    "    except:\n",
    "        print('Error encoding '+feature)"
   ]
  },
  {
   "cell_type": "code",
   "execution_count": 60,
   "metadata": {},
   "outputs": [
    {
     "data": {
      "text/html": [
       "<div>\n",
       "<style scoped>\n",
       "    .dataframe tbody tr th:only-of-type {\n",
       "        vertical-align: middle;\n",
       "    }\n",
       "\n",
       "    .dataframe tbody tr th {\n",
       "        vertical-align: top;\n",
       "    }\n",
       "\n",
       "    .dataframe thead th {\n",
       "        text-align: right;\n",
       "    }\n",
       "</style>\n",
       "<table border=\"1\" class=\"dataframe\">\n",
       "  <thead>\n",
       "    <tr style=\"text-align: right;\">\n",
       "      <th></th>\n",
       "      <th>Airline</th>\n",
       "      <th>Source</th>\n",
       "      <th>Destination</th>\n",
       "      <th>Additional_Info</th>\n",
       "      <th>Price</th>\n",
       "      <th>stops</th>\n",
       "      <th>day_of_week</th>\n",
       "      <th>month</th>\n",
       "      <th>departure_hour</th>\n",
       "      <th>hours</th>\n",
       "    </tr>\n",
       "  </thead>\n",
       "  <tbody>\n",
       "    <tr>\n",
       "      <th>0</th>\n",
       "      <td>2</td>\n",
       "      <td>2</td>\n",
       "      <td>1</td>\n",
       "      <td>5</td>\n",
       "      <td>7480</td>\n",
       "      <td>1</td>\n",
       "      <td>4</td>\n",
       "      <td>6</td>\n",
       "      <td>20</td>\n",
       "      <td>3</td>\n",
       "    </tr>\n",
       "    <tr>\n",
       "      <th>1</th>\n",
       "      <td>0</td>\n",
       "      <td>0</td>\n",
       "      <td>2</td>\n",
       "      <td>5</td>\n",
       "      <td>8016</td>\n",
       "      <td>0</td>\n",
       "      <td>1</td>\n",
       "      <td>4</td>\n",
       "      <td>18</td>\n",
       "      <td>22</td>\n",
       "    </tr>\n",
       "    <tr>\n",
       "      <th>2</th>\n",
       "      <td>2</td>\n",
       "      <td>2</td>\n",
       "      <td>1</td>\n",
       "      <td>5</td>\n",
       "      <td>8879</td>\n",
       "      <td>1</td>\n",
       "      <td>5</td>\n",
       "      <td>3</td>\n",
       "      <td>3</td>\n",
       "      <td>6</td>\n",
       "    </tr>\n",
       "    <tr>\n",
       "      <th>3</th>\n",
       "      <td>0</td>\n",
       "      <td>3</td>\n",
       "      <td>0</td>\n",
       "      <td>2</td>\n",
       "      <td>9663</td>\n",
       "      <td>1</td>\n",
       "      <td>2</td>\n",
       "      <td>4</td>\n",
       "      <td>20</td>\n",
       "      <td>3</td>\n",
       "    </tr>\n",
       "    <tr>\n",
       "      <th>4</th>\n",
       "      <td>0</td>\n",
       "      <td>3</td>\n",
       "      <td>0</td>\n",
       "      <td>2</td>\n",
       "      <td>9663</td>\n",
       "      <td>1</td>\n",
       "      <td>3</td>\n",
       "      <td>5</td>\n",
       "      <td>6</td>\n",
       "      <td>36</td>\n",
       "    </tr>\n",
       "  </tbody>\n",
       "</table>\n",
       "</div>"
      ],
      "text/plain": [
       "   Airline  Source  Destination  Additional_Info  Price  stops  day_of_week  \\\n",
       "0        2       2            1                5   7480      1            4   \n",
       "1        0       0            2                5   8016      0            1   \n",
       "2        2       2            1                5   8879      1            5   \n",
       "3        0       3            0                2   9663      1            2   \n",
       "4        0       3            0                2   9663      1            3   \n",
       "\n",
       "   month  departure_hour  hours  \n",
       "0      6              20      3  \n",
       "1      4              18     22  \n",
       "2      3               3      6  \n",
       "3      4              20      3  \n",
       "4      5               6     36  "
      ]
     },
     "execution_count": 60,
     "metadata": {},
     "output_type": "execute_result"
    }
   ],
   "source": [
    "# check encoded columns\n",
    "df_train_initial.head()"
   ]
  },
  {
   "cell_type": "code",
   "execution_count": 61,
   "metadata": {},
   "outputs": [
    {
     "data": {
      "text/html": [
       "<div>\n",
       "<style scoped>\n",
       "    .dataframe tbody tr th:only-of-type {\n",
       "        vertical-align: middle;\n",
       "    }\n",
       "\n",
       "    .dataframe tbody tr th {\n",
       "        vertical-align: top;\n",
       "    }\n",
       "\n",
       "    .dataframe thead th {\n",
       "        text-align: right;\n",
       "    }\n",
       "</style>\n",
       "<table border=\"1\" class=\"dataframe\">\n",
       "  <thead>\n",
       "    <tr style=\"text-align: right;\">\n",
       "      <th></th>\n",
       "      <th>Airline</th>\n",
       "      <th>Source</th>\n",
       "      <th>Destination</th>\n",
       "      <th>Additional_Info</th>\n",
       "      <th>Price</th>\n",
       "      <th>stops</th>\n",
       "      <th>day_of_week</th>\n",
       "      <th>month</th>\n",
       "      <th>departure_hour</th>\n",
       "      <th>hours</th>\n",
       "    </tr>\n",
       "  </thead>\n",
       "  <tbody>\n",
       "    <tr>\n",
       "      <th>count</th>\n",
       "      <td>7898.000000</td>\n",
       "      <td>7898.000000</td>\n",
       "      <td>7898.000000</td>\n",
       "      <td>7898.000000</td>\n",
       "      <td>7898.000000</td>\n",
       "      <td>7898.000000</td>\n",
       "      <td>7898.000000</td>\n",
       "      <td>7898.000000</td>\n",
       "      <td>7898.000000</td>\n",
       "      <td>7898.000000</td>\n",
       "    </tr>\n",
       "    <tr>\n",
       "      <th>mean</th>\n",
       "      <td>1.722715</td>\n",
       "      <td>1.967080</td>\n",
       "      <td>1.167384</td>\n",
       "      <td>4.397569</td>\n",
       "      <td>8800.150038</td>\n",
       "      <td>0.813370</td>\n",
       "      <td>2.887440</td>\n",
       "      <td>3.061535</td>\n",
       "      <td>12.453153</td>\n",
       "      <td>16.389466</td>\n",
       "    </tr>\n",
       "    <tr>\n",
       "      <th>std</th>\n",
       "      <td>1.842636</td>\n",
       "      <td>1.169201</td>\n",
       "      <td>1.016934</td>\n",
       "      <td>1.177844</td>\n",
       "      <td>3959.478923</td>\n",
       "      <td>0.671882</td>\n",
       "      <td>1.831752</td>\n",
       "      <td>1.813730</td>\n",
       "      <td>5.730992</td>\n",
       "      <td>13.167664</td>\n",
       "    </tr>\n",
       "    <tr>\n",
       "      <th>min</th>\n",
       "      <td>0.000000</td>\n",
       "      <td>0.000000</td>\n",
       "      <td>0.000000</td>\n",
       "      <td>0.000000</td>\n",
       "      <td>1759.000000</td>\n",
       "      <td>0.000000</td>\n",
       "      <td>0.000000</td>\n",
       "      <td>0.000000</td>\n",
       "      <td>0.000000</td>\n",
       "      <td>0.000000</td>\n",
       "    </tr>\n",
       "    <tr>\n",
       "      <th>25%</th>\n",
       "      <td>0.000000</td>\n",
       "      <td>2.000000</td>\n",
       "      <td>0.000000</td>\n",
       "      <td>5.000000</td>\n",
       "      <td>5228.000000</td>\n",
       "      <td>0.000000</td>\n",
       "      <td>1.000000</td>\n",
       "      <td>1.000000</td>\n",
       "      <td>8.000000</td>\n",
       "      <td>6.000000</td>\n",
       "    </tr>\n",
       "    <tr>\n",
       "      <th>50%</th>\n",
       "      <td>1.000000</td>\n",
       "      <td>2.000000</td>\n",
       "      <td>1.000000</td>\n",
       "      <td>5.000000</td>\n",
       "      <td>8266.000000</td>\n",
       "      <td>1.000000</td>\n",
       "      <td>3.000000</td>\n",
       "      <td>3.000000</td>\n",
       "      <td>11.000000</td>\n",
       "      <td>11.000000</td>\n",
       "    </tr>\n",
       "    <tr>\n",
       "      <th>75%</th>\n",
       "      <td>3.000000</td>\n",
       "      <td>3.000000</td>\n",
       "      <td>2.000000</td>\n",
       "      <td>5.000000</td>\n",
       "      <td>12192.000000</td>\n",
       "      <td>1.000000</td>\n",
       "      <td>4.000000</td>\n",
       "      <td>4.000000</td>\n",
       "      <td>17.000000</td>\n",
       "      <td>22.000000</td>\n",
       "    </tr>\n",
       "    <tr>\n",
       "      <th>max</th>\n",
       "      <td>10.000000</td>\n",
       "      <td>4.000000</td>\n",
       "      <td>4.000000</td>\n",
       "      <td>6.000000</td>\n",
       "      <td>19907.000000</td>\n",
       "      <td>3.000000</td>\n",
       "      <td>6.000000</td>\n",
       "      <td>6.000000</td>\n",
       "      <td>23.000000</td>\n",
       "      <td>41.000000</td>\n",
       "    </tr>\n",
       "  </tbody>\n",
       "</table>\n",
       "</div>"
      ],
      "text/plain": [
       "           Airline       Source  Destination  Additional_Info         Price  \\\n",
       "count  7898.000000  7898.000000  7898.000000      7898.000000   7898.000000   \n",
       "mean      1.722715     1.967080     1.167384         4.397569   8800.150038   \n",
       "std       1.842636     1.169201     1.016934         1.177844   3959.478923   \n",
       "min       0.000000     0.000000     0.000000         0.000000   1759.000000   \n",
       "25%       0.000000     2.000000     0.000000         5.000000   5228.000000   \n",
       "50%       1.000000     2.000000     1.000000         5.000000   8266.000000   \n",
       "75%       3.000000     3.000000     2.000000         5.000000  12192.000000   \n",
       "max      10.000000     4.000000     4.000000         6.000000  19907.000000   \n",
       "\n",
       "             stops  day_of_week        month  departure_hour        hours  \n",
       "count  7898.000000  7898.000000  7898.000000     7898.000000  7898.000000  \n",
       "mean      0.813370     2.887440     3.061535       12.453153    16.389466  \n",
       "std       0.671882     1.831752     1.813730        5.730992    13.167664  \n",
       "min       0.000000     0.000000     0.000000        0.000000     0.000000  \n",
       "25%       0.000000     1.000000     1.000000        8.000000     6.000000  \n",
       "50%       1.000000     3.000000     3.000000       11.000000    11.000000  \n",
       "75%       1.000000     4.000000     4.000000       17.000000    22.000000  \n",
       "max       3.000000     6.000000     6.000000       23.000000    41.000000  "
      ]
     },
     "execution_count": 61,
     "metadata": {},
     "output_type": "execute_result"
    }
   ],
   "source": [
    "df_train_initial.describe()"
   ]
  },
  {
   "cell_type": "code",
   "execution_count": 62,
   "metadata": {},
   "outputs": [],
   "source": [
    "# Do the same thing for test data as well"
   ]
  },
  {
   "cell_type": "code",
   "execution_count": 63,
   "metadata": {},
   "outputs": [],
   "source": [
    "#Iterating through each of the categoerical columns and label encoding them\n",
    "for feature in columnsToEncode:\n",
    "    try:\n",
    "        df_test_initial[feature] = le.fit_transform(df_test_initial[feature])\n",
    "    except:\n",
    "        print('Error encoding '+feature)"
   ]
  },
  {
   "cell_type": "code",
   "execution_count": 64,
   "metadata": {},
   "outputs": [
    {
     "data": {
      "text/html": [
       "<div>\n",
       "<style scoped>\n",
       "    .dataframe tbody tr th:only-of-type {\n",
       "        vertical-align: middle;\n",
       "    }\n",
       "\n",
       "    .dataframe tbody tr th {\n",
       "        vertical-align: top;\n",
       "    }\n",
       "\n",
       "    .dataframe thead th {\n",
       "        text-align: right;\n",
       "    }\n",
       "</style>\n",
       "<table border=\"1\" class=\"dataframe\">\n",
       "  <thead>\n",
       "    <tr style=\"text-align: right;\">\n",
       "      <th></th>\n",
       "      <th>Airline</th>\n",
       "      <th>Source</th>\n",
       "      <th>Destination</th>\n",
       "      <th>Additional_Info</th>\n",
       "      <th>stops</th>\n",
       "      <th>day_of_week</th>\n",
       "      <th>departure_hour</th>\n",
       "      <th>month</th>\n",
       "      <th>hours</th>\n",
       "    </tr>\n",
       "  </thead>\n",
       "  <tbody>\n",
       "    <tr>\n",
       "      <th>0</th>\n",
       "      <td>1</td>\n",
       "      <td>2</td>\n",
       "      <td>1</td>\n",
       "      <td>5</td>\n",
       "      <td>1</td>\n",
       "      <td>2</td>\n",
       "      <td>4</td>\n",
       "      <td>1</td>\n",
       "      <td>2</td>\n",
       "    </tr>\n",
       "    <tr>\n",
       "      <th>1</th>\n",
       "      <td>4</td>\n",
       "      <td>3</td>\n",
       "      <td>0</td>\n",
       "      <td>5</td>\n",
       "      <td>0</td>\n",
       "      <td>0</td>\n",
       "      <td>22</td>\n",
       "      <td>3</td>\n",
       "      <td>11</td>\n",
       "    </tr>\n",
       "    <tr>\n",
       "      <th>2</th>\n",
       "      <td>2</td>\n",
       "      <td>3</td>\n",
       "      <td>0</td>\n",
       "      <td>5</td>\n",
       "      <td>2</td>\n",
       "      <td>3</td>\n",
       "      <td>5</td>\n",
       "      <td>4</td>\n",
       "      <td>5</td>\n",
       "    </tr>\n",
       "    <tr>\n",
       "      <th>3</th>\n",
       "      <td>0</td>\n",
       "      <td>0</td>\n",
       "      <td>5</td>\n",
       "      <td>5</td>\n",
       "      <td>1</td>\n",
       "      <td>0</td>\n",
       "      <td>9</td>\n",
       "      <td>4</td>\n",
       "      <td>32</td>\n",
       "    </tr>\n",
       "    <tr>\n",
       "      <th>4</th>\n",
       "      <td>1</td>\n",
       "      <td>2</td>\n",
       "      <td>1</td>\n",
       "      <td>5</td>\n",
       "      <td>1</td>\n",
       "      <td>5</td>\n",
       "      <td>16</td>\n",
       "      <td>4</td>\n",
       "      <td>40</td>\n",
       "    </tr>\n",
       "  </tbody>\n",
       "</table>\n",
       "</div>"
      ],
      "text/plain": [
       "   Airline  Source  Destination  Additional_Info  stops  day_of_week  \\\n",
       "0        1       2            1                5      1            2   \n",
       "1        4       3            0                5      0            0   \n",
       "2        2       3            0                5      2            3   \n",
       "3        0       0            5                5      1            0   \n",
       "4        1       2            1                5      1            5   \n",
       "\n",
       "   departure_hour  month  hours  \n",
       "0               4      1      2  \n",
       "1              22      3     11  \n",
       "2               5      4      5  \n",
       "3               9      4     32  \n",
       "4              16      4     40  "
      ]
     },
     "execution_count": 64,
     "metadata": {},
     "output_type": "execute_result"
    }
   ],
   "source": [
    "df_test_initial.head()"
   ]
  },
  {
   "cell_type": "code",
   "execution_count": 65,
   "metadata": {},
   "outputs": [
    {
     "data": {
      "text/html": [
       "<div>\n",
       "<style scoped>\n",
       "    .dataframe tbody tr th:only-of-type {\n",
       "        vertical-align: middle;\n",
       "    }\n",
       "\n",
       "    .dataframe tbody tr th {\n",
       "        vertical-align: top;\n",
       "    }\n",
       "\n",
       "    .dataframe thead th {\n",
       "        text-align: right;\n",
       "    }\n",
       "</style>\n",
       "<table border=\"1\" class=\"dataframe\">\n",
       "  <thead>\n",
       "    <tr style=\"text-align: right;\">\n",
       "      <th></th>\n",
       "      <th>Airline</th>\n",
       "      <th>Source</th>\n",
       "      <th>Destination</th>\n",
       "      <th>Additional_Info</th>\n",
       "      <th>stops</th>\n",
       "      <th>day_of_week</th>\n",
       "      <th>departure_hour</th>\n",
       "      <th>month</th>\n",
       "      <th>hours</th>\n",
       "    </tr>\n",
       "  </thead>\n",
       "  <tbody>\n",
       "    <tr>\n",
       "      <th>count</th>\n",
       "      <td>2671.000000</td>\n",
       "      <td>2671.000000</td>\n",
       "      <td>2671.000000</td>\n",
       "      <td>2671.000000</td>\n",
       "      <td>2671.00000</td>\n",
       "      <td>2671.000000</td>\n",
       "      <td>2671.000000</td>\n",
       "      <td>2671.000000</td>\n",
       "      <td>2671.000000</td>\n",
       "    </tr>\n",
       "    <tr>\n",
       "      <th>mean</th>\n",
       "      <td>1.691501</td>\n",
       "      <td>1.955447</td>\n",
       "      <td>1.436541</td>\n",
       "      <td>4.580681</td>\n",
       "      <td>0.83976</td>\n",
       "      <td>2.909023</td>\n",
       "      <td>12.606889</td>\n",
       "      <td>2.952827</td>\n",
       "      <td>15.916136</td>\n",
       "    </tr>\n",
       "    <tr>\n",
       "      <th>std</th>\n",
       "      <td>1.818939</td>\n",
       "      <td>1.175546</td>\n",
       "      <td>1.480332</td>\n",
       "      <td>0.837412</td>\n",
       "      <td>0.68516</td>\n",
       "      <td>1.861184</td>\n",
       "      <td>5.792906</td>\n",
       "      <td>1.826158</td>\n",
       "      <td>12.841051</td>\n",
       "    </tr>\n",
       "    <tr>\n",
       "      <th>min</th>\n",
       "      <td>0.000000</td>\n",
       "      <td>0.000000</td>\n",
       "      <td>0.000000</td>\n",
       "      <td>0.000000</td>\n",
       "      <td>0.00000</td>\n",
       "      <td>0.000000</td>\n",
       "      <td>0.000000</td>\n",
       "      <td>0.000000</td>\n",
       "      <td>0.000000</td>\n",
       "    </tr>\n",
       "    <tr>\n",
       "      <th>25%</th>\n",
       "      <td>0.000000</td>\n",
       "      <td>2.000000</td>\n",
       "      <td>0.000000</td>\n",
       "      <td>5.000000</td>\n",
       "      <td>0.00000</td>\n",
       "      <td>1.000000</td>\n",
       "      <td>8.000000</td>\n",
       "      <td>1.000000</td>\n",
       "      <td>6.000000</td>\n",
       "    </tr>\n",
       "    <tr>\n",
       "      <th>50%</th>\n",
       "      <td>1.000000</td>\n",
       "      <td>2.000000</td>\n",
       "      <td>1.000000</td>\n",
       "      <td>5.000000</td>\n",
       "      <td>1.00000</td>\n",
       "      <td>3.000000</td>\n",
       "      <td>12.000000</td>\n",
       "      <td>3.000000</td>\n",
       "      <td>11.000000</td>\n",
       "    </tr>\n",
       "    <tr>\n",
       "      <th>75%</th>\n",
       "      <td>3.000000</td>\n",
       "      <td>3.000000</td>\n",
       "      <td>2.000000</td>\n",
       "      <td>5.000000</td>\n",
       "      <td>1.00000</td>\n",
       "      <td>4.000000</td>\n",
       "      <td>18.000000</td>\n",
       "      <td>4.000000</td>\n",
       "      <td>22.000000</td>\n",
       "    </tr>\n",
       "    <tr>\n",
       "      <th>max</th>\n",
       "      <td>8.000000</td>\n",
       "      <td>4.000000</td>\n",
       "      <td>5.000000</td>\n",
       "      <td>5.000000</td>\n",
       "      <td>4.00000</td>\n",
       "      <td>6.000000</td>\n",
       "      <td>23.000000</td>\n",
       "      <td>6.000000</td>\n",
       "      <td>40.000000</td>\n",
       "    </tr>\n",
       "  </tbody>\n",
       "</table>\n",
       "</div>"
      ],
      "text/plain": [
       "           Airline       Source  Destination  Additional_Info       stops  \\\n",
       "count  2671.000000  2671.000000  2671.000000      2671.000000  2671.00000   \n",
       "mean      1.691501     1.955447     1.436541         4.580681     0.83976   \n",
       "std       1.818939     1.175546     1.480332         0.837412     0.68516   \n",
       "min       0.000000     0.000000     0.000000         0.000000     0.00000   \n",
       "25%       0.000000     2.000000     0.000000         5.000000     0.00000   \n",
       "50%       1.000000     2.000000     1.000000         5.000000     1.00000   \n",
       "75%       3.000000     3.000000     2.000000         5.000000     1.00000   \n",
       "max       8.000000     4.000000     5.000000         5.000000     4.00000   \n",
       "\n",
       "       day_of_week  departure_hour        month        hours  \n",
       "count  2671.000000     2671.000000  2671.000000  2671.000000  \n",
       "mean      2.909023       12.606889     2.952827    15.916136  \n",
       "std       1.861184        5.792906     1.826158    12.841051  \n",
       "min       0.000000        0.000000     0.000000     0.000000  \n",
       "25%       1.000000        8.000000     1.000000     6.000000  \n",
       "50%       3.000000       12.000000     3.000000    11.000000  \n",
       "75%       4.000000       18.000000     4.000000    22.000000  \n",
       "max       6.000000       23.000000     6.000000    40.000000  "
      ]
     },
     "execution_count": 65,
     "metadata": {},
     "output_type": "execute_result"
    }
   ],
   "source": [
    "df_test_initial.describe()"
   ]
  },
  {
   "cell_type": "code",
   "execution_count": 66,
   "metadata": {},
   "outputs": [
    {
     "data": {
      "text/plain": [
       "(2671, 9)"
      ]
     },
     "execution_count": 66,
     "metadata": {},
     "output_type": "execute_result"
    }
   ],
   "source": [
    "df_test_initial.shape"
   ]
  },
  {
   "cell_type": "code",
   "execution_count": 67,
   "metadata": {},
   "outputs": [],
   "source": [
    "# continue with modelling however - Option 1 [LABEL encoding trin ,test seperately] \n",
    "# break x,y \n",
    "X= df_train_initial.drop(\"Price\",axis=1)\n",
    "Y=df_train_initial[\"Price\"]"
   ]
  },
  {
   "cell_type": "code",
   "execution_count": 68,
   "metadata": {},
   "outputs": [
    {
     "data": {
      "text/plain": [
       "LinearRegression(copy_X=True, fit_intercept=True, n_jobs=1, normalize=False)"
      ]
     },
     "execution_count": 68,
     "metadata": {},
     "output_type": "execute_result"
    }
   ],
   "source": [
    "#create linear regression model\n",
    "lin_reg = LinearRegression()\n",
    "#perform the test,train split within the training data\n",
    "X_train, X_test, Y_train, Y_test = train_test_split(X, Y, test_size = 0.3, random_state = 0)          \n",
    "#fit the regressor\n",
    "lin_reg.fit(X_train, Y_train)\n"
   ]
  },
  {
   "cell_type": "code",
   "execution_count": 69,
   "metadata": {},
   "outputs": [],
   "source": [
    "#predict Y\n",
    "Y_predict=lin_reg.predict(X_test)\n",
    "df_predicted=pd.DataFrame(\n",
    "                            {'Actual':  np.round(Y_test,0),\n",
    "                            'Predicted':np.round(Y_predict,0) }\n",
    "                            ).reset_index(drop=True)"
   ]
  },
  {
   "cell_type": "code",
   "execution_count": 70,
   "metadata": {},
   "outputs": [
    {
     "data": {
      "text/html": [
       "<div>\n",
       "<style scoped>\n",
       "    .dataframe tbody tr th:only-of-type {\n",
       "        vertical-align: middle;\n",
       "    }\n",
       "\n",
       "    .dataframe tbody tr th {\n",
       "        vertical-align: top;\n",
       "    }\n",
       "\n",
       "    .dataframe thead th {\n",
       "        text-align: right;\n",
       "    }\n",
       "</style>\n",
       "<table border=\"1\" class=\"dataframe\">\n",
       "  <thead>\n",
       "    <tr style=\"text-align: right;\">\n",
       "      <th></th>\n",
       "      <th>Actual</th>\n",
       "      <th>Predicted</th>\n",
       "    </tr>\n",
       "  </thead>\n",
       "  <tbody>\n",
       "    <tr>\n",
       "      <th>0</th>\n",
       "      <td>5380</td>\n",
       "      <td>10355.0</td>\n",
       "    </tr>\n",
       "    <tr>\n",
       "      <th>1</th>\n",
       "      <td>12898</td>\n",
       "      <td>9612.0</td>\n",
       "    </tr>\n",
       "    <tr>\n",
       "      <th>2</th>\n",
       "      <td>19329</td>\n",
       "      <td>14399.0</td>\n",
       "    </tr>\n",
       "    <tr>\n",
       "      <th>3</th>\n",
       "      <td>16289</td>\n",
       "      <td>10699.0</td>\n",
       "    </tr>\n",
       "    <tr>\n",
       "      <th>4</th>\n",
       "      <td>4423</td>\n",
       "      <td>6176.0</td>\n",
       "    </tr>\n",
       "    <tr>\n",
       "      <th>5</th>\n",
       "      <td>3100</td>\n",
       "      <td>4593.0</td>\n",
       "    </tr>\n",
       "    <tr>\n",
       "      <th>6</th>\n",
       "      <td>4575</td>\n",
       "      <td>4830.0</td>\n",
       "    </tr>\n",
       "    <tr>\n",
       "      <th>7</th>\n",
       "      <td>12898</td>\n",
       "      <td>9705.0</td>\n",
       "    </tr>\n",
       "    <tr>\n",
       "      <th>8</th>\n",
       "      <td>13817</td>\n",
       "      <td>11207.0</td>\n",
       "    </tr>\n",
       "    <tr>\n",
       "      <th>9</th>\n",
       "      <td>12692</td>\n",
       "      <td>10894.0</td>\n",
       "    </tr>\n",
       "  </tbody>\n",
       "</table>\n",
       "</div>"
      ],
      "text/plain": [
       "   Actual  Predicted\n",
       "0    5380    10355.0\n",
       "1   12898     9612.0\n",
       "2   19329    14399.0\n",
       "3   16289    10699.0\n",
       "4    4423     6176.0\n",
       "5    3100     4593.0\n",
       "6    4575     4830.0\n",
       "7   12898     9705.0\n",
       "8   13817    11207.0\n",
       "9   12692    10894.0"
      ]
     },
     "execution_count": 70,
     "metadata": {},
     "output_type": "execute_result"
    }
   ],
   "source": [
    "df_predicted.head(10)\n"
   ]
  },
  {
   "cell_type": "code",
   "execution_count": 71,
   "metadata": {},
   "outputs": [
    {
     "data": {
      "text/html": [
       "<div>\n",
       "<style scoped>\n",
       "    .dataframe tbody tr th:only-of-type {\n",
       "        vertical-align: middle;\n",
       "    }\n",
       "\n",
       "    .dataframe tbody tr th {\n",
       "        vertical-align: top;\n",
       "    }\n",
       "\n",
       "    .dataframe thead th {\n",
       "        text-align: right;\n",
       "    }\n",
       "</style>\n",
       "<table border=\"1\" class=\"dataframe\">\n",
       "  <thead>\n",
       "    <tr style=\"text-align: right;\">\n",
       "      <th></th>\n",
       "      <th>Actual</th>\n",
       "      <th>Predicted</th>\n",
       "    </tr>\n",
       "  </thead>\n",
       "  <tbody>\n",
       "    <tr>\n",
       "      <th>count</th>\n",
       "      <td>2370.000000</td>\n",
       "      <td>2370.000000</td>\n",
       "    </tr>\n",
       "    <tr>\n",
       "      <th>mean</th>\n",
       "      <td>8838.302532</td>\n",
       "      <td>8840.868354</td>\n",
       "    </tr>\n",
       "    <tr>\n",
       "      <th>std</th>\n",
       "      <td>3936.997279</td>\n",
       "      <td>2824.645778</td>\n",
       "    </tr>\n",
       "    <tr>\n",
       "      <th>min</th>\n",
       "      <td>1965.000000</td>\n",
       "      <td>1044.000000</td>\n",
       "    </tr>\n",
       "    <tr>\n",
       "      <th>25%</th>\n",
       "      <td>5298.000000</td>\n",
       "      <td>6610.250000</td>\n",
       "    </tr>\n",
       "    <tr>\n",
       "      <th>50%</th>\n",
       "      <td>8372.000000</td>\n",
       "      <td>9375.000000</td>\n",
       "    </tr>\n",
       "    <tr>\n",
       "      <th>75%</th>\n",
       "      <td>12121.000000</td>\n",
       "      <td>10329.000000</td>\n",
       "    </tr>\n",
       "    <tr>\n",
       "      <th>max</th>\n",
       "      <td>19372.000000</td>\n",
       "      <td>17069.000000</td>\n",
       "    </tr>\n",
       "  </tbody>\n",
       "</table>\n",
       "</div>"
      ],
      "text/plain": [
       "             Actual     Predicted\n",
       "count   2370.000000   2370.000000\n",
       "mean    8838.302532   8840.868354\n",
       "std     3936.997279   2824.645778\n",
       "min     1965.000000   1044.000000\n",
       "25%     5298.000000   6610.250000\n",
       "50%     8372.000000   9375.000000\n",
       "75%    12121.000000  10329.000000\n",
       "max    19372.000000  17069.000000"
      ]
     },
     "execution_count": 71,
     "metadata": {},
     "output_type": "execute_result"
    }
   ],
   "source": [
    "df_predicted.describe()"
   ]
  },
  {
   "cell_type": "code",
   "execution_count": 72,
   "metadata": {},
   "outputs": [
    {
     "name": "stdout",
     "output_type": "stream",
     "text": [
      "RMSE 2718.61\n"
     ]
    }
   ],
   "source": [
    "#Find RMSE\n",
    "from math import sqrt\n",
    "from sklearn.metrics import mean_squared_error\n",
    "print('RMSE %.2f'%sqrt(mean_squared_error(Y_test,Y_predict)))\n"
   ]
  },
  {
   "cell_type": "code",
   "execution_count": 73,
   "metadata": {},
   "outputs": [],
   "source": [
    "# MODEL 1 observations\n",
    "# The predicted values are all higher\n",
    "# RMSE is quite high\n",
    "# Both could be because the higher values of outliers dragging all the values higher side\n",
    "# improements could be also gained in the model by Labelling the train and test data together"
   ]
  },
  {
   "cell_type": "markdown",
   "metadata": {},
   "source": [
    "# Now lets try to improve our model \n",
    "#Lets try one hot encoding - including both traing and test data "
   ]
  },
  {
   "cell_type": "code",
   "execution_count": 74,
   "metadata": {},
   "outputs": [],
   "source": [
    "df_train_normalized2=df_train_normalized # make another future copy\n",
    "df_test_normalized2=df_test_normalized # make another future copy"
   ]
  },
  {
   "cell_type": "code",
   "execution_count": 75,
   "metadata": {},
   "outputs": [
    {
     "data": {
      "text/html": [
       "<div>\n",
       "<style scoped>\n",
       "    .dataframe tbody tr th:only-of-type {\n",
       "        vertical-align: middle;\n",
       "    }\n",
       "\n",
       "    .dataframe tbody tr th {\n",
       "        vertical-align: top;\n",
       "    }\n",
       "\n",
       "    .dataframe thead th {\n",
       "        text-align: right;\n",
       "    }\n",
       "</style>\n",
       "<table border=\"1\" class=\"dataframe\">\n",
       "  <thead>\n",
       "    <tr style=\"text-align: right;\">\n",
       "      <th></th>\n",
       "      <th>Airline</th>\n",
       "      <th>Source</th>\n",
       "      <th>Destination</th>\n",
       "      <th>Additional_Info</th>\n",
       "      <th>stops</th>\n",
       "      <th>day_of_week</th>\n",
       "      <th>departure_hour</th>\n",
       "      <th>month</th>\n",
       "      <th>hours</th>\n",
       "    </tr>\n",
       "  </thead>\n",
       "  <tbody>\n",
       "    <tr>\n",
       "      <th>0</th>\n",
       "      <td>Airline B</td>\n",
       "      <td>Delhi</td>\n",
       "      <td>Cochin</td>\n",
       "      <td>No info</td>\n",
       "      <td>1</td>\n",
       "      <td>2</td>\n",
       "      <td>04</td>\n",
       "      <td>3</td>\n",
       "      <td>11</td>\n",
       "    </tr>\n",
       "    <tr>\n",
       "      <th>1</th>\n",
       "      <td>Airline E</td>\n",
       "      <td>Kolkata</td>\n",
       "      <td>Banglore</td>\n",
       "      <td>No info</td>\n",
       "      <td>0</td>\n",
       "      <td>0</td>\n",
       "      <td>22</td>\n",
       "      <td>5</td>\n",
       "      <td>2</td>\n",
       "    </tr>\n",
       "    <tr>\n",
       "      <th>2</th>\n",
       "      <td>Airline C</td>\n",
       "      <td>Kolkata</td>\n",
       "      <td>Banglore</td>\n",
       "      <td>No info</td>\n",
       "      <td>2</td>\n",
       "      <td>3</td>\n",
       "      <td>05</td>\n",
       "      <td>6</td>\n",
       "      <td>14</td>\n",
       "    </tr>\n",
       "    <tr>\n",
       "      <th>3</th>\n",
       "      <td>Airline A</td>\n",
       "      <td>Banglore</td>\n",
       "      <td>New Delhi</td>\n",
       "      <td>No info</td>\n",
       "      <td>1</td>\n",
       "      <td>0</td>\n",
       "      <td>09</td>\n",
       "      <td>6</td>\n",
       "      <td>4</td>\n",
       "    </tr>\n",
       "    <tr>\n",
       "      <th>4</th>\n",
       "      <td>Airline B</td>\n",
       "      <td>Delhi</td>\n",
       "      <td>Cochin</td>\n",
       "      <td>No info</td>\n",
       "      <td>1</td>\n",
       "      <td>5</td>\n",
       "      <td>16</td>\n",
       "      <td>6</td>\n",
       "      <td>9</td>\n",
       "    </tr>\n",
       "  </tbody>\n",
       "</table>\n",
       "</div>"
      ],
      "text/plain": [
       "     Airline    Source Destination Additional_Info  stops day_of_week  \\\n",
       "0  Airline B     Delhi      Cochin         No info      1           2   \n",
       "1  Airline E   Kolkata    Banglore         No info      0           0   \n",
       "2  Airline C   Kolkata    Banglore         No info      2           3   \n",
       "3  Airline A  Banglore   New Delhi         No info      1           0   \n",
       "4  Airline B     Delhi      Cochin         No info      1           5   \n",
       "\n",
       "  departure_hour month hours  \n",
       "0             04     3    11  \n",
       "1             22     5     2  \n",
       "2             05     6    14  \n",
       "3             09     6     4  \n",
       "4             16     6     9  "
      ]
     },
     "execution_count": 75,
     "metadata": {},
     "output_type": "execute_result"
    }
   ],
   "source": [
    "df_test_normalized.head()"
   ]
  },
  {
   "cell_type": "code",
   "execution_count": 76,
   "metadata": {},
   "outputs": [
    {
     "data": {
      "text/plain": [
       "(2671, 9)"
      ]
     },
     "execution_count": 76,
     "metadata": {},
     "output_type": "execute_result"
    }
   ],
   "source": [
    "df_test_normalized.shape"
   ]
  },
  {
   "cell_type": "code",
   "execution_count": 77,
   "metadata": {},
   "outputs": [],
   "source": [
    "# Do one-hot-encoding combining test and train data and splitting back\n",
    "Y_train=df_train_normalized['Price']"
   ]
  },
  {
   "cell_type": "code",
   "execution_count": 78,
   "metadata": {},
   "outputs": [],
   "source": [
    "df_train_normalized['train']=1\n",
    "df_test_normalized['train']=0"
   ]
  },
  {
   "cell_type": "code",
   "execution_count": 79,
   "metadata": {},
   "outputs": [],
   "source": [
    "common = pd.concat([df_train_normalized, df_test_normalized]) # axis =0 by default - rows added\n"
   ]
  },
  {
   "cell_type": "code",
   "execution_count": 80,
   "metadata": {
    "scrolled": true
   },
   "outputs": [
    {
     "name": "stdout",
     "output_type": "stream",
     "text": [
      "<class 'pandas.core.frame.DataFrame'>\n",
      "Int64Index: 10569 entries, 0 to 2670\n",
      "Data columns (total 11 columns):\n",
      "Additional_Info    10569 non-null object\n",
      "Airline            10569 non-null object\n",
      "Destination        10569 non-null object\n",
      "Price              7898 non-null float64\n",
      "Source             10569 non-null object\n",
      "day_of_week        10569 non-null object\n",
      "departure_hour     10569 non-null object\n",
      "hours              10569 non-null object\n",
      "month              10569 non-null object\n",
      "stops              10569 non-null int32\n",
      "train              10569 non-null int64\n",
      "dtypes: float64(1), int32(1), int64(1), object(8)\n",
      "memory usage: 949.6+ KB\n"
     ]
    }
   ],
   "source": [
    "common.info()"
   ]
  },
  {
   "cell_type": "code",
   "execution_count": 81,
   "metadata": {},
   "outputs": [],
   "source": [
    "#combined=pd.get_dummies()\n",
    "common = pd.get_dummies(common, columns=['Additional_Info','Airline','Destination','Source','day_of_week','departure_hour','hours','month'], drop_first=True)"
   ]
  },
  {
   "cell_type": "code",
   "execution_count": 82,
   "metadata": {},
   "outputs": [
    {
     "data": {
      "text/html": [
       "<div>\n",
       "<style scoped>\n",
       "    .dataframe tbody tr th:only-of-type {\n",
       "        vertical-align: middle;\n",
       "    }\n",
       "\n",
       "    .dataframe tbody tr th {\n",
       "        vertical-align: top;\n",
       "    }\n",
       "\n",
       "    .dataframe thead th {\n",
       "        text-align: right;\n",
       "    }\n",
       "</style>\n",
       "<table border=\"1\" class=\"dataframe\">\n",
       "  <thead>\n",
       "    <tr style=\"text-align: right;\">\n",
       "      <th></th>\n",
       "      <th>Price</th>\n",
       "      <th>stops</th>\n",
       "      <th>train</th>\n",
       "      <th>Additional_Info_Business class</th>\n",
       "      <th>Additional_Info_Change airports</th>\n",
       "      <th>Additional_Info_In-flight meal not included</th>\n",
       "      <th>Additional_Info_No Info</th>\n",
       "      <th>Additional_Info_No check-in baggage included</th>\n",
       "      <th>Additional_Info_No info</th>\n",
       "      <th>Additional_Info_Red-eye flight</th>\n",
       "      <th>Airline_Airline B</th>\n",
       "      <th>Airline_Airline C</th>\n",
       "      <th>Airline_Airline D</th>\n",
       "      <th>Airline_Airline E</th>\n",
       "      <th>Airline_Airline F</th>\n",
       "      <th>Airline_Airline G</th>\n",
       "      <th>Airline_Airline H</th>\n",
       "      <th>Airline_Airline I</th>\n",
       "      <th>Airline_Airline K</th>\n",
       "      <th>Airline_Airline L</th>\n",
       "      <th>Destination_Cochin</th>\n",
       "      <th>Destination_Delhi</th>\n",
       "      <th>Destination_Hyderabad</th>\n",
       "      <th>Destination_Kolkata</th>\n",
       "      <th>Destination_New Delhi</th>\n",
       "      <th>Source_Chennai</th>\n",
       "      <th>Source_Delhi</th>\n",
       "      <th>Source_Kolkata</th>\n",
       "      <th>Source_Mumbai</th>\n",
       "      <th>day_of_week_1</th>\n",
       "      <th>day_of_week_2</th>\n",
       "      <th>day_of_week_3</th>\n",
       "      <th>day_of_week_4</th>\n",
       "      <th>day_of_week_5</th>\n",
       "      <th>day_of_week_6</th>\n",
       "      <th>departure_hour_01</th>\n",
       "      <th>departure_hour_02</th>\n",
       "      <th>departure_hour_03</th>\n",
       "      <th>departure_hour_04</th>\n",
       "      <th>departure_hour_05</th>\n",
       "      <th>departure_hour_06</th>\n",
       "      <th>departure_hour_07</th>\n",
       "      <th>departure_hour_08</th>\n",
       "      <th>departure_hour_09</th>\n",
       "      <th>departure_hour_10</th>\n",
       "      <th>departure_hour_11</th>\n",
       "      <th>departure_hour_12</th>\n",
       "      <th>departure_hour_13</th>\n",
       "      <th>departure_hour_14</th>\n",
       "      <th>departure_hour_15</th>\n",
       "      <th>departure_hour_16</th>\n",
       "      <th>departure_hour_17</th>\n",
       "      <th>departure_hour_18</th>\n",
       "      <th>departure_hour_19</th>\n",
       "      <th>departure_hour_20</th>\n",
       "      <th>departure_hour_21</th>\n",
       "      <th>departure_hour_22</th>\n",
       "      <th>departure_hour_23</th>\n",
       "      <th>hours_10</th>\n",
       "      <th>hours_11</th>\n",
       "      <th>hours_12</th>\n",
       "      <th>hours_13</th>\n",
       "      <th>hours_14</th>\n",
       "      <th>hours_15</th>\n",
       "      <th>hours_16</th>\n",
       "      <th>hours_17</th>\n",
       "      <th>hours_18</th>\n",
       "      <th>hours_19</th>\n",
       "      <th>hours_2</th>\n",
       "      <th>hours_20</th>\n",
       "      <th>hours_21</th>\n",
       "      <th>hours_22</th>\n",
       "      <th>hours_23</th>\n",
       "      <th>hours_24</th>\n",
       "      <th>hours_25</th>\n",
       "      <th>hours_26</th>\n",
       "      <th>hours_27</th>\n",
       "      <th>hours_28</th>\n",
       "      <th>hours_29</th>\n",
       "      <th>hours_3</th>\n",
       "      <th>hours_30</th>\n",
       "      <th>hours_31</th>\n",
       "      <th>hours_32</th>\n",
       "      <th>hours_33</th>\n",
       "      <th>hours_34</th>\n",
       "      <th>hours_35</th>\n",
       "      <th>hours_36</th>\n",
       "      <th>hours_37</th>\n",
       "      <th>hours_38</th>\n",
       "      <th>hours_39</th>\n",
       "      <th>hours_4</th>\n",
       "      <th>hours_40</th>\n",
       "      <th>hours_41</th>\n",
       "      <th>hours_42</th>\n",
       "      <th>hours_47</th>\n",
       "      <th>hours_5</th>\n",
       "      <th>hours_5m</th>\n",
       "      <th>hours_6</th>\n",
       "      <th>hours_7</th>\n",
       "      <th>hours_8</th>\n",
       "      <th>hours_9</th>\n",
       "      <th>month_3</th>\n",
       "      <th>month_4</th>\n",
       "      <th>month_5</th>\n",
       "      <th>month_6</th>\n",
       "      <th>month_9</th>\n",
       "      <th>month_12</th>\n",
       "    </tr>\n",
       "  </thead>\n",
       "  <tbody>\n",
       "    <tr>\n",
       "      <th>0</th>\n",
       "      <td>7480.0</td>\n",
       "      <td>1</td>\n",
       "      <td>1</td>\n",
       "      <td>0</td>\n",
       "      <td>0</td>\n",
       "      <td>0</td>\n",
       "      <td>0</td>\n",
       "      <td>0</td>\n",
       "      <td>1</td>\n",
       "      <td>0</td>\n",
       "      <td>0</td>\n",
       "      <td>1</td>\n",
       "      <td>0</td>\n",
       "      <td>0</td>\n",
       "      <td>0</td>\n",
       "      <td>0</td>\n",
       "      <td>0</td>\n",
       "      <td>0</td>\n",
       "      <td>0</td>\n",
       "      <td>0</td>\n",
       "      <td>1</td>\n",
       "      <td>0</td>\n",
       "      <td>0</td>\n",
       "      <td>0</td>\n",
       "      <td>0</td>\n",
       "      <td>0</td>\n",
       "      <td>1</td>\n",
       "      <td>0</td>\n",
       "      <td>0</td>\n",
       "      <td>0</td>\n",
       "      <td>0</td>\n",
       "      <td>0</td>\n",
       "      <td>1</td>\n",
       "      <td>0</td>\n",
       "      <td>0</td>\n",
       "      <td>0</td>\n",
       "      <td>0</td>\n",
       "      <td>0</td>\n",
       "      <td>0</td>\n",
       "      <td>0</td>\n",
       "      <td>0</td>\n",
       "      <td>0</td>\n",
       "      <td>0</td>\n",
       "      <td>0</td>\n",
       "      <td>0</td>\n",
       "      <td>0</td>\n",
       "      <td>0</td>\n",
       "      <td>0</td>\n",
       "      <td>0</td>\n",
       "      <td>0</td>\n",
       "      <td>0</td>\n",
       "      <td>0</td>\n",
       "      <td>0</td>\n",
       "      <td>0</td>\n",
       "      <td>1</td>\n",
       "      <td>0</td>\n",
       "      <td>0</td>\n",
       "      <td>0</td>\n",
       "      <td>0</td>\n",
       "      <td>0</td>\n",
       "      <td>1</td>\n",
       "      <td>0</td>\n",
       "      <td>0</td>\n",
       "      <td>0</td>\n",
       "      <td>0</td>\n",
       "      <td>0</td>\n",
       "      <td>0</td>\n",
       "      <td>0</td>\n",
       "      <td>0</td>\n",
       "      <td>0</td>\n",
       "      <td>0</td>\n",
       "      <td>0</td>\n",
       "      <td>0</td>\n",
       "      <td>0</td>\n",
       "      <td>0</td>\n",
       "      <td>0</td>\n",
       "      <td>0</td>\n",
       "      <td>0</td>\n",
       "      <td>0</td>\n",
       "      <td>0</td>\n",
       "      <td>0</td>\n",
       "      <td>0</td>\n",
       "      <td>0</td>\n",
       "      <td>0</td>\n",
       "      <td>0</td>\n",
       "      <td>0</td>\n",
       "      <td>0</td>\n",
       "      <td>0</td>\n",
       "      <td>0</td>\n",
       "      <td>0</td>\n",
       "      <td>0</td>\n",
       "      <td>0</td>\n",
       "      <td>0</td>\n",
       "      <td>0</td>\n",
       "      <td>0</td>\n",
       "      <td>0</td>\n",
       "      <td>0</td>\n",
       "      <td>0</td>\n",
       "      <td>0</td>\n",
       "      <td>0</td>\n",
       "      <td>0</td>\n",
       "      <td>0</td>\n",
       "      <td>0</td>\n",
       "      <td>0</td>\n",
       "      <td>0</td>\n",
       "      <td>0</td>\n",
       "      <td>1</td>\n",
       "    </tr>\n",
       "    <tr>\n",
       "      <th>1</th>\n",
       "      <td>8016.0</td>\n",
       "      <td>0</td>\n",
       "      <td>1</td>\n",
       "      <td>0</td>\n",
       "      <td>0</td>\n",
       "      <td>0</td>\n",
       "      <td>0</td>\n",
       "      <td>0</td>\n",
       "      <td>1</td>\n",
       "      <td>0</td>\n",
       "      <td>0</td>\n",
       "      <td>0</td>\n",
       "      <td>0</td>\n",
       "      <td>0</td>\n",
       "      <td>0</td>\n",
       "      <td>0</td>\n",
       "      <td>0</td>\n",
       "      <td>0</td>\n",
       "      <td>0</td>\n",
       "      <td>0</td>\n",
       "      <td>0</td>\n",
       "      <td>1</td>\n",
       "      <td>0</td>\n",
       "      <td>0</td>\n",
       "      <td>0</td>\n",
       "      <td>0</td>\n",
       "      <td>0</td>\n",
       "      <td>0</td>\n",
       "      <td>0</td>\n",
       "      <td>1</td>\n",
       "      <td>0</td>\n",
       "      <td>0</td>\n",
       "      <td>0</td>\n",
       "      <td>0</td>\n",
       "      <td>0</td>\n",
       "      <td>0</td>\n",
       "      <td>0</td>\n",
       "      <td>0</td>\n",
       "      <td>0</td>\n",
       "      <td>0</td>\n",
       "      <td>0</td>\n",
       "      <td>0</td>\n",
       "      <td>0</td>\n",
       "      <td>0</td>\n",
       "      <td>0</td>\n",
       "      <td>0</td>\n",
       "      <td>0</td>\n",
       "      <td>0</td>\n",
       "      <td>0</td>\n",
       "      <td>0</td>\n",
       "      <td>0</td>\n",
       "      <td>0</td>\n",
       "      <td>1</td>\n",
       "      <td>0</td>\n",
       "      <td>0</td>\n",
       "      <td>0</td>\n",
       "      <td>0</td>\n",
       "      <td>0</td>\n",
       "      <td>0</td>\n",
       "      <td>0</td>\n",
       "      <td>0</td>\n",
       "      <td>0</td>\n",
       "      <td>0</td>\n",
       "      <td>0</td>\n",
       "      <td>0</td>\n",
       "      <td>0</td>\n",
       "      <td>0</td>\n",
       "      <td>0</td>\n",
       "      <td>0</td>\n",
       "      <td>0</td>\n",
       "      <td>0</td>\n",
       "      <td>0</td>\n",
       "      <td>0</td>\n",
       "      <td>0</td>\n",
       "      <td>0</td>\n",
       "      <td>0</td>\n",
       "      <td>0</td>\n",
       "      <td>0</td>\n",
       "      <td>0</td>\n",
       "      <td>1</td>\n",
       "      <td>0</td>\n",
       "      <td>0</td>\n",
       "      <td>0</td>\n",
       "      <td>0</td>\n",
       "      <td>0</td>\n",
       "      <td>0</td>\n",
       "      <td>0</td>\n",
       "      <td>0</td>\n",
       "      <td>0</td>\n",
       "      <td>0</td>\n",
       "      <td>0</td>\n",
       "      <td>0</td>\n",
       "      <td>0</td>\n",
       "      <td>0</td>\n",
       "      <td>0</td>\n",
       "      <td>0</td>\n",
       "      <td>0</td>\n",
       "      <td>0</td>\n",
       "      <td>0</td>\n",
       "      <td>0</td>\n",
       "      <td>0</td>\n",
       "      <td>0</td>\n",
       "      <td>0</td>\n",
       "      <td>0</td>\n",
       "      <td>1</td>\n",
       "      <td>0</td>\n",
       "      <td>0</td>\n",
       "    </tr>\n",
       "    <tr>\n",
       "      <th>2</th>\n",
       "      <td>8879.0</td>\n",
       "      <td>1</td>\n",
       "      <td>1</td>\n",
       "      <td>0</td>\n",
       "      <td>0</td>\n",
       "      <td>0</td>\n",
       "      <td>0</td>\n",
       "      <td>0</td>\n",
       "      <td>1</td>\n",
       "      <td>0</td>\n",
       "      <td>0</td>\n",
       "      <td>1</td>\n",
       "      <td>0</td>\n",
       "      <td>0</td>\n",
       "      <td>0</td>\n",
       "      <td>0</td>\n",
       "      <td>0</td>\n",
       "      <td>0</td>\n",
       "      <td>0</td>\n",
       "      <td>0</td>\n",
       "      <td>1</td>\n",
       "      <td>0</td>\n",
       "      <td>0</td>\n",
       "      <td>0</td>\n",
       "      <td>0</td>\n",
       "      <td>0</td>\n",
       "      <td>1</td>\n",
       "      <td>0</td>\n",
       "      <td>0</td>\n",
       "      <td>0</td>\n",
       "      <td>0</td>\n",
       "      <td>0</td>\n",
       "      <td>0</td>\n",
       "      <td>1</td>\n",
       "      <td>0</td>\n",
       "      <td>0</td>\n",
       "      <td>0</td>\n",
       "      <td>1</td>\n",
       "      <td>0</td>\n",
       "      <td>0</td>\n",
       "      <td>0</td>\n",
       "      <td>0</td>\n",
       "      <td>0</td>\n",
       "      <td>0</td>\n",
       "      <td>0</td>\n",
       "      <td>0</td>\n",
       "      <td>0</td>\n",
       "      <td>0</td>\n",
       "      <td>0</td>\n",
       "      <td>0</td>\n",
       "      <td>0</td>\n",
       "      <td>0</td>\n",
       "      <td>0</td>\n",
       "      <td>0</td>\n",
       "      <td>0</td>\n",
       "      <td>0</td>\n",
       "      <td>0</td>\n",
       "      <td>0</td>\n",
       "      <td>0</td>\n",
       "      <td>0</td>\n",
       "      <td>0</td>\n",
       "      <td>0</td>\n",
       "      <td>0</td>\n",
       "      <td>1</td>\n",
       "      <td>0</td>\n",
       "      <td>0</td>\n",
       "      <td>0</td>\n",
       "      <td>0</td>\n",
       "      <td>0</td>\n",
       "      <td>0</td>\n",
       "      <td>0</td>\n",
       "      <td>0</td>\n",
       "      <td>0</td>\n",
       "      <td>0</td>\n",
       "      <td>0</td>\n",
       "      <td>0</td>\n",
       "      <td>0</td>\n",
       "      <td>0</td>\n",
       "      <td>0</td>\n",
       "      <td>0</td>\n",
       "      <td>0</td>\n",
       "      <td>0</td>\n",
       "      <td>0</td>\n",
       "      <td>0</td>\n",
       "      <td>0</td>\n",
       "      <td>0</td>\n",
       "      <td>0</td>\n",
       "      <td>0</td>\n",
       "      <td>0</td>\n",
       "      <td>0</td>\n",
       "      <td>0</td>\n",
       "      <td>0</td>\n",
       "      <td>0</td>\n",
       "      <td>0</td>\n",
       "      <td>0</td>\n",
       "      <td>0</td>\n",
       "      <td>0</td>\n",
       "      <td>0</td>\n",
       "      <td>0</td>\n",
       "      <td>0</td>\n",
       "      <td>0</td>\n",
       "      <td>0</td>\n",
       "      <td>0</td>\n",
       "      <td>1</td>\n",
       "      <td>0</td>\n",
       "      <td>0</td>\n",
       "      <td>0</td>\n",
       "    </tr>\n",
       "    <tr>\n",
       "      <th>3</th>\n",
       "      <td>9663.0</td>\n",
       "      <td>1</td>\n",
       "      <td>1</td>\n",
       "      <td>0</td>\n",
       "      <td>0</td>\n",
       "      <td>1</td>\n",
       "      <td>0</td>\n",
       "      <td>0</td>\n",
       "      <td>0</td>\n",
       "      <td>0</td>\n",
       "      <td>0</td>\n",
       "      <td>0</td>\n",
       "      <td>0</td>\n",
       "      <td>0</td>\n",
       "      <td>0</td>\n",
       "      <td>0</td>\n",
       "      <td>0</td>\n",
       "      <td>0</td>\n",
       "      <td>0</td>\n",
       "      <td>0</td>\n",
       "      <td>0</td>\n",
       "      <td>0</td>\n",
       "      <td>0</td>\n",
       "      <td>0</td>\n",
       "      <td>0</td>\n",
       "      <td>0</td>\n",
       "      <td>0</td>\n",
       "      <td>1</td>\n",
       "      <td>0</td>\n",
       "      <td>0</td>\n",
       "      <td>1</td>\n",
       "      <td>0</td>\n",
       "      <td>0</td>\n",
       "      <td>0</td>\n",
       "      <td>0</td>\n",
       "      <td>0</td>\n",
       "      <td>0</td>\n",
       "      <td>0</td>\n",
       "      <td>0</td>\n",
       "      <td>0</td>\n",
       "      <td>0</td>\n",
       "      <td>0</td>\n",
       "      <td>0</td>\n",
       "      <td>0</td>\n",
       "      <td>0</td>\n",
       "      <td>0</td>\n",
       "      <td>0</td>\n",
       "      <td>0</td>\n",
       "      <td>0</td>\n",
       "      <td>0</td>\n",
       "      <td>0</td>\n",
       "      <td>0</td>\n",
       "      <td>0</td>\n",
       "      <td>0</td>\n",
       "      <td>1</td>\n",
       "      <td>0</td>\n",
       "      <td>0</td>\n",
       "      <td>0</td>\n",
       "      <td>0</td>\n",
       "      <td>0</td>\n",
       "      <td>1</td>\n",
       "      <td>0</td>\n",
       "      <td>0</td>\n",
       "      <td>0</td>\n",
       "      <td>0</td>\n",
       "      <td>0</td>\n",
       "      <td>0</td>\n",
       "      <td>0</td>\n",
       "      <td>0</td>\n",
       "      <td>0</td>\n",
       "      <td>0</td>\n",
       "      <td>0</td>\n",
       "      <td>0</td>\n",
       "      <td>0</td>\n",
       "      <td>0</td>\n",
       "      <td>0</td>\n",
       "      <td>0</td>\n",
       "      <td>0</td>\n",
       "      <td>0</td>\n",
       "      <td>0</td>\n",
       "      <td>0</td>\n",
       "      <td>0</td>\n",
       "      <td>0</td>\n",
       "      <td>0</td>\n",
       "      <td>0</td>\n",
       "      <td>0</td>\n",
       "      <td>0</td>\n",
       "      <td>0</td>\n",
       "      <td>0</td>\n",
       "      <td>0</td>\n",
       "      <td>0</td>\n",
       "      <td>0</td>\n",
       "      <td>0</td>\n",
       "      <td>0</td>\n",
       "      <td>0</td>\n",
       "      <td>0</td>\n",
       "      <td>0</td>\n",
       "      <td>0</td>\n",
       "      <td>0</td>\n",
       "      <td>0</td>\n",
       "      <td>0</td>\n",
       "      <td>0</td>\n",
       "      <td>0</td>\n",
       "      <td>0</td>\n",
       "      <td>1</td>\n",
       "      <td>0</td>\n",
       "      <td>0</td>\n",
       "    </tr>\n",
       "    <tr>\n",
       "      <th>4</th>\n",
       "      <td>9663.0</td>\n",
       "      <td>1</td>\n",
       "      <td>1</td>\n",
       "      <td>0</td>\n",
       "      <td>0</td>\n",
       "      <td>1</td>\n",
       "      <td>0</td>\n",
       "      <td>0</td>\n",
       "      <td>0</td>\n",
       "      <td>0</td>\n",
       "      <td>0</td>\n",
       "      <td>0</td>\n",
       "      <td>0</td>\n",
       "      <td>0</td>\n",
       "      <td>0</td>\n",
       "      <td>0</td>\n",
       "      <td>0</td>\n",
       "      <td>0</td>\n",
       "      <td>0</td>\n",
       "      <td>0</td>\n",
       "      <td>0</td>\n",
       "      <td>0</td>\n",
       "      <td>0</td>\n",
       "      <td>0</td>\n",
       "      <td>0</td>\n",
       "      <td>0</td>\n",
       "      <td>0</td>\n",
       "      <td>1</td>\n",
       "      <td>0</td>\n",
       "      <td>0</td>\n",
       "      <td>0</td>\n",
       "      <td>1</td>\n",
       "      <td>0</td>\n",
       "      <td>0</td>\n",
       "      <td>0</td>\n",
       "      <td>0</td>\n",
       "      <td>0</td>\n",
       "      <td>0</td>\n",
       "      <td>0</td>\n",
       "      <td>0</td>\n",
       "      <td>1</td>\n",
       "      <td>0</td>\n",
       "      <td>0</td>\n",
       "      <td>0</td>\n",
       "      <td>0</td>\n",
       "      <td>0</td>\n",
       "      <td>0</td>\n",
       "      <td>0</td>\n",
       "      <td>0</td>\n",
       "      <td>0</td>\n",
       "      <td>0</td>\n",
       "      <td>0</td>\n",
       "      <td>0</td>\n",
       "      <td>0</td>\n",
       "      <td>0</td>\n",
       "      <td>0</td>\n",
       "      <td>0</td>\n",
       "      <td>0</td>\n",
       "      <td>0</td>\n",
       "      <td>0</td>\n",
       "      <td>0</td>\n",
       "      <td>0</td>\n",
       "      <td>0</td>\n",
       "      <td>0</td>\n",
       "      <td>0</td>\n",
       "      <td>0</td>\n",
       "      <td>0</td>\n",
       "      <td>0</td>\n",
       "      <td>0</td>\n",
       "      <td>0</td>\n",
       "      <td>0</td>\n",
       "      <td>0</td>\n",
       "      <td>0</td>\n",
       "      <td>0</td>\n",
       "      <td>0</td>\n",
       "      <td>0</td>\n",
       "      <td>0</td>\n",
       "      <td>0</td>\n",
       "      <td>0</td>\n",
       "      <td>0</td>\n",
       "      <td>0</td>\n",
       "      <td>0</td>\n",
       "      <td>0</td>\n",
       "      <td>0</td>\n",
       "      <td>0</td>\n",
       "      <td>0</td>\n",
       "      <td>0</td>\n",
       "      <td>0</td>\n",
       "      <td>0</td>\n",
       "      <td>0</td>\n",
       "      <td>0</td>\n",
       "      <td>0</td>\n",
       "      <td>0</td>\n",
       "      <td>0</td>\n",
       "      <td>0</td>\n",
       "      <td>1</td>\n",
       "      <td>0</td>\n",
       "      <td>0</td>\n",
       "      <td>0</td>\n",
       "      <td>0</td>\n",
       "      <td>0</td>\n",
       "      <td>0</td>\n",
       "      <td>0</td>\n",
       "      <td>0</td>\n",
       "      <td>0</td>\n",
       "      <td>1</td>\n",
       "      <td>0</td>\n",
       "    </tr>\n",
       "  </tbody>\n",
       "</table>\n",
       "</div>"
      ],
      "text/plain": [
       "    Price  stops  train  Additional_Info_Business class  \\\n",
       "0  7480.0      1      1                               0   \n",
       "1  8016.0      0      1                               0   \n",
       "2  8879.0      1      1                               0   \n",
       "3  9663.0      1      1                               0   \n",
       "4  9663.0      1      1                               0   \n",
       "\n",
       "   Additional_Info_Change airports  \\\n",
       "0                                0   \n",
       "1                                0   \n",
       "2                                0   \n",
       "3                                0   \n",
       "4                                0   \n",
       "\n",
       "   Additional_Info_In-flight meal not included  Additional_Info_No Info  \\\n",
       "0                                            0                        0   \n",
       "1                                            0                        0   \n",
       "2                                            0                        0   \n",
       "3                                            1                        0   \n",
       "4                                            1                        0   \n",
       "\n",
       "   Additional_Info_No check-in baggage included  Additional_Info_No info  \\\n",
       "0                                             0                        1   \n",
       "1                                             0                        1   \n",
       "2                                             0                        1   \n",
       "3                                             0                        0   \n",
       "4                                             0                        0   \n",
       "\n",
       "   Additional_Info_Red-eye flight  Airline_Airline B  Airline_Airline C  \\\n",
       "0                               0                  0                  1   \n",
       "1                               0                  0                  0   \n",
       "2                               0                  0                  1   \n",
       "3                               0                  0                  0   \n",
       "4                               0                  0                  0   \n",
       "\n",
       "   Airline_Airline D  Airline_Airline E  Airline_Airline F  Airline_Airline G  \\\n",
       "0                  0                  0                  0                  0   \n",
       "1                  0                  0                  0                  0   \n",
       "2                  0                  0                  0                  0   \n",
       "3                  0                  0                  0                  0   \n",
       "4                  0                  0                  0                  0   \n",
       "\n",
       "   Airline_Airline H  Airline_Airline I  Airline_Airline K  Airline_Airline L  \\\n",
       "0                  0                  0                  0                  0   \n",
       "1                  0                  0                  0                  0   \n",
       "2                  0                  0                  0                  0   \n",
       "3                  0                  0                  0                  0   \n",
       "4                  0                  0                  0                  0   \n",
       "\n",
       "   Destination_Cochin  Destination_Delhi  Destination_Hyderabad  \\\n",
       "0                   1                  0                      0   \n",
       "1                   0                  1                      0   \n",
       "2                   1                  0                      0   \n",
       "3                   0                  0                      0   \n",
       "4                   0                  0                      0   \n",
       "\n",
       "   Destination_Kolkata  Destination_New Delhi  Source_Chennai  Source_Delhi  \\\n",
       "0                    0                      0               0             1   \n",
       "1                    0                      0               0             0   \n",
       "2                    0                      0               0             1   \n",
       "3                    0                      0               0             0   \n",
       "4                    0                      0               0             0   \n",
       "\n",
       "   Source_Kolkata  Source_Mumbai  day_of_week_1  day_of_week_2  day_of_week_3  \\\n",
       "0               0              0              0              0              0   \n",
       "1               0              0              1              0              0   \n",
       "2               0              0              0              0              0   \n",
       "3               1              0              0              1              0   \n",
       "4               1              0              0              0              1   \n",
       "\n",
       "   day_of_week_4  day_of_week_5  day_of_week_6  departure_hour_01  \\\n",
       "0              1              0              0                  0   \n",
       "1              0              0              0                  0   \n",
       "2              0              1              0                  0   \n",
       "3              0              0              0                  0   \n",
       "4              0              0              0                  0   \n",
       "\n",
       "   departure_hour_02  departure_hour_03  departure_hour_04  departure_hour_05  \\\n",
       "0                  0                  0                  0                  0   \n",
       "1                  0                  0                  0                  0   \n",
       "2                  0                  1                  0                  0   \n",
       "3                  0                  0                  0                  0   \n",
       "4                  0                  0                  0                  0   \n",
       "\n",
       "   departure_hour_06  departure_hour_07  departure_hour_08  departure_hour_09  \\\n",
       "0                  0                  0                  0                  0   \n",
       "1                  0                  0                  0                  0   \n",
       "2                  0                  0                  0                  0   \n",
       "3                  0                  0                  0                  0   \n",
       "4                  1                  0                  0                  0   \n",
       "\n",
       "   departure_hour_10  departure_hour_11  departure_hour_12  departure_hour_13  \\\n",
       "0                  0                  0                  0                  0   \n",
       "1                  0                  0                  0                  0   \n",
       "2                  0                  0                  0                  0   \n",
       "3                  0                  0                  0                  0   \n",
       "4                  0                  0                  0                  0   \n",
       "\n",
       "   departure_hour_14  departure_hour_15  departure_hour_16  departure_hour_17  \\\n",
       "0                  0                  0                  0                  0   \n",
       "1                  0                  0                  0                  0   \n",
       "2                  0                  0                  0                  0   \n",
       "3                  0                  0                  0                  0   \n",
       "4                  0                  0                  0                  0   \n",
       "\n",
       "   departure_hour_18  departure_hour_19  departure_hour_20  departure_hour_21  \\\n",
       "0                  0                  0                  1                  0   \n",
       "1                  1                  0                  0                  0   \n",
       "2                  0                  0                  0                  0   \n",
       "3                  0                  0                  1                  0   \n",
       "4                  0                  0                  0                  0   \n",
       "\n",
       "   departure_hour_22  departure_hour_23  hours_10  hours_11  hours_12  \\\n",
       "0                  0                  0         0         0         1   \n",
       "1                  0                  0         0         0         0   \n",
       "2                  0                  0         0         0         0   \n",
       "3                  0                  0         0         0         1   \n",
       "4                  0                  0         0         0         0   \n",
       "\n",
       "   hours_13  hours_14  hours_15  hours_16  hours_17  hours_18  hours_19  \\\n",
       "0         0         0         0         0         0         0         0   \n",
       "1         0         0         0         0         0         0         0   \n",
       "2         0         0         1         0         0         0         0   \n",
       "3         0         0         0         0         0         0         0   \n",
       "4         0         0         0         0         0         0         0   \n",
       "\n",
       "   hours_2  hours_20  hours_21  hours_22  hours_23  hours_24  hours_25  \\\n",
       "0        0         0         0         0         0         0         0   \n",
       "1        0         0         0         0         0         0         0   \n",
       "2        0         0         0         0         0         0         0   \n",
       "3        0         0         0         0         0         0         0   \n",
       "4        0         0         0         0         0         0         0   \n",
       "\n",
       "   hours_26  hours_27  hours_28  hours_29  hours_3  hours_30  hours_31  \\\n",
       "0         0         0         0         0        0         0         0   \n",
       "1         0         0         0         0        1         0         0   \n",
       "2         0         0         0         0        0         0         0   \n",
       "3         0         0         0         0        0         0         0   \n",
       "4         0         0         0         0        0         0         0   \n",
       "\n",
       "   hours_32  hours_33  hours_34  hours_35  hours_36  hours_37  hours_38  \\\n",
       "0         0         0         0         0         0         0         0   \n",
       "1         0         0         0         0         0         0         0   \n",
       "2         0         0         0         0         0         0         0   \n",
       "3         0         0         0         0         0         0         0   \n",
       "4         0         0         0         0         0         0         0   \n",
       "\n",
       "   hours_39  hours_4  hours_40  hours_41  hours_42  hours_47  hours_5  \\\n",
       "0         0        0         0         0         0         0        0   \n",
       "1         0        0         0         0         0         0        0   \n",
       "2         0        0         0         0         0         0        0   \n",
       "3         0        0         0         0         0         0        0   \n",
       "4         0        0         0         0         0         0        1   \n",
       "\n",
       "   hours_5m  hours_6  hours_7  hours_8  hours_9  month_3  month_4  month_5  \\\n",
       "0         0        0        0        0        0        0        0        0   \n",
       "1         0        0        0        0        0        0        0        0   \n",
       "2         0        0        0        0        0        0        0        1   \n",
       "3         0        0        0        0        0        0        0        0   \n",
       "4         0        0        0        0        0        0        0        0   \n",
       "\n",
       "   month_6  month_9  month_12  \n",
       "0        0        0         1  \n",
       "1        1        0         0  \n",
       "2        0        0         0  \n",
       "3        1        0         0  \n",
       "4        0        1         0  "
      ]
     },
     "execution_count": 82,
     "metadata": {},
     "output_type": "execute_result"
    }
   ],
   "source": [
    "common.head()"
   ]
  },
  {
   "cell_type": "code",
   "execution_count": 83,
   "metadata": {},
   "outputs": [],
   "source": [
    "# break them back as train and test data \n",
    "df_train_onehot=common[common['train']==1]"
   ]
  },
  {
   "cell_type": "code",
   "execution_count": 84,
   "metadata": {},
   "outputs": [
    {
     "data": {
      "text/plain": [
       "(7898, 107)"
      ]
     },
     "execution_count": 84,
     "metadata": {},
     "output_type": "execute_result"
    }
   ],
   "source": [
    "df_train_onehot.shape\n"
   ]
  },
  {
   "cell_type": "code",
   "execution_count": 85,
   "metadata": {},
   "outputs": [],
   "source": [
    "df_test_onehot=common[common['train']==0]"
   ]
  },
  {
   "cell_type": "code",
   "execution_count": 86,
   "metadata": {},
   "outputs": [
    {
     "data": {
      "text/plain": [
       "(2671, 107)"
      ]
     },
     "execution_count": 86,
     "metadata": {},
     "output_type": "execute_result"
    }
   ],
   "source": [
    "df_test_onehot.shape"
   ]
  },
  {
   "cell_type": "code",
   "execution_count": 87,
   "metadata": {},
   "outputs": [],
   "source": [
    "# drop price from test\n",
    "df_test_onehot.drop(['Price'],axis=1,inplace=True)"
   ]
  },
  {
   "cell_type": "code",
   "execution_count": 88,
   "metadata": {},
   "outputs": [
    {
     "data": {
      "text/plain": [
       "(2671, 10)"
      ]
     },
     "execution_count": 88,
     "metadata": {},
     "output_type": "execute_result"
    }
   ],
   "source": [
    "df_test_normalized.shape"
   ]
  },
  {
   "cell_type": "code",
   "execution_count": 89,
   "metadata": {},
   "outputs": [],
   "source": [
    "# Extract X,Y again from new train dataset\n",
    "X= df_train_onehot.drop(\"Price\",axis=1)\n",
    "Y=df_train_onehot['Price']"
   ]
  },
  {
   "cell_type": "code",
   "execution_count": 90,
   "metadata": {},
   "outputs": [
    {
     "data": {
      "text/plain": [
       "LinearRegression(copy_X=True, fit_intercept=True, n_jobs=1, normalize=False)"
      ]
     },
     "execution_count": 90,
     "metadata": {},
     "output_type": "execute_result"
    }
   ],
   "source": [
    "#create linear regression model\n",
    "lin_reg = LinearRegression()\n",
    "#perform the test,train split within the training data\n",
    "X_train, X_test, Y_train, Y_test = train_test_split(X, Y, test_size = 0.3, random_state = 0)          \n",
    "#fit the regressor\n",
    "lin_reg.fit(X_train, Y_train)"
   ]
  },
  {
   "cell_type": "code",
   "execution_count": 91,
   "metadata": {},
   "outputs": [],
   "source": [
    "#predict Y\n",
    "Y_predict=lin_reg.predict(X_test)\n",
    "df_predicted=pd.DataFrame(\n",
    "                            {'Actual':  np.round(Y_test,0),\n",
    "                            'Predicted':np.round(Y_predict,0) }\n",
    "                            ).reset_index(drop=True)"
   ]
  },
  {
   "cell_type": "code",
   "execution_count": 92,
   "metadata": {},
   "outputs": [
    {
     "data": {
      "text/html": [
       "<div>\n",
       "<style scoped>\n",
       "    .dataframe tbody tr th:only-of-type {\n",
       "        vertical-align: middle;\n",
       "    }\n",
       "\n",
       "    .dataframe tbody tr th {\n",
       "        vertical-align: top;\n",
       "    }\n",
       "\n",
       "    .dataframe thead th {\n",
       "        text-align: right;\n",
       "    }\n",
       "</style>\n",
       "<table border=\"1\" class=\"dataframe\">\n",
       "  <thead>\n",
       "    <tr style=\"text-align: right;\">\n",
       "      <th></th>\n",
       "      <th>Actual</th>\n",
       "      <th>Predicted</th>\n",
       "    </tr>\n",
       "  </thead>\n",
       "  <tbody>\n",
       "    <tr>\n",
       "      <th>count</th>\n",
       "      <td>2370.000000</td>\n",
       "      <td>2.370000e+03</td>\n",
       "    </tr>\n",
       "    <tr>\n",
       "      <th>mean</th>\n",
       "      <td>8838.302532</td>\n",
       "      <td>-9.124786e+10</td>\n",
       "    </tr>\n",
       "    <tr>\n",
       "      <th>std</th>\n",
       "      <td>3936.997279</td>\n",
       "      <td>4.328919e+12</td>\n",
       "    </tr>\n",
       "    <tr>\n",
       "      <th>min</th>\n",
       "      <td>1965.000000</td>\n",
       "      <td>-2.104443e+14</td>\n",
       "    </tr>\n",
       "    <tr>\n",
       "      <th>25%</th>\n",
       "      <td>5298.000000</td>\n",
       "      <td>5.684000e+03</td>\n",
       "    </tr>\n",
       "    <tr>\n",
       "      <th>50%</th>\n",
       "      <td>8372.000000</td>\n",
       "      <td>9.544000e+03</td>\n",
       "    </tr>\n",
       "    <tr>\n",
       "      <th>75%</th>\n",
       "      <td>12121.000000</td>\n",
       "      <td>1.118950e+04</td>\n",
       "    </tr>\n",
       "    <tr>\n",
       "      <th>max</th>\n",
       "      <td>19372.000000</td>\n",
       "      <td>4.510217e+12</td>\n",
       "    </tr>\n",
       "  </tbody>\n",
       "</table>\n",
       "</div>"
      ],
      "text/plain": [
       "             Actual     Predicted\n",
       "count   2370.000000  2.370000e+03\n",
       "mean    8838.302532 -9.124786e+10\n",
       "std     3936.997279  4.328919e+12\n",
       "min     1965.000000 -2.104443e+14\n",
       "25%     5298.000000  5.684000e+03\n",
       "50%     8372.000000  9.544000e+03\n",
       "75%    12121.000000  1.118950e+04\n",
       "max    19372.000000  4.510217e+12"
      ]
     },
     "execution_count": 92,
     "metadata": {},
     "output_type": "execute_result"
    }
   ],
   "source": [
    "df_predicted.describe()"
   ]
  },
  {
   "cell_type": "code",
   "execution_count": 93,
   "metadata": {},
   "outputs": [
    {
     "data": {
      "text/html": [
       "<div>\n",
       "<style scoped>\n",
       "    .dataframe tbody tr th:only-of-type {\n",
       "        vertical-align: middle;\n",
       "    }\n",
       "\n",
       "    .dataframe tbody tr th {\n",
       "        vertical-align: top;\n",
       "    }\n",
       "\n",
       "    .dataframe thead th {\n",
       "        text-align: right;\n",
       "    }\n",
       "</style>\n",
       "<table border=\"1\" class=\"dataframe\">\n",
       "  <thead>\n",
       "    <tr style=\"text-align: right;\">\n",
       "      <th></th>\n",
       "      <th>Actual</th>\n",
       "      <th>Predicted</th>\n",
       "    </tr>\n",
       "  </thead>\n",
       "  <tbody>\n",
       "    <tr>\n",
       "      <th>0</th>\n",
       "      <td>5380.0</td>\n",
       "      <td>6987.0</td>\n",
       "    </tr>\n",
       "    <tr>\n",
       "      <th>1</th>\n",
       "      <td>12898.0</td>\n",
       "      <td>11300.0</td>\n",
       "    </tr>\n",
       "    <tr>\n",
       "      <th>2</th>\n",
       "      <td>19329.0</td>\n",
       "      <td>14890.0</td>\n",
       "    </tr>\n",
       "    <tr>\n",
       "      <th>3</th>\n",
       "      <td>16289.0</td>\n",
       "      <td>13783.0</td>\n",
       "    </tr>\n",
       "    <tr>\n",
       "      <th>4</th>\n",
       "      <td>4423.0</td>\n",
       "      <td>4328.0</td>\n",
       "    </tr>\n",
       "    <tr>\n",
       "      <th>5</th>\n",
       "      <td>3100.0</td>\n",
       "      <td>4182.0</td>\n",
       "    </tr>\n",
       "    <tr>\n",
       "      <th>6</th>\n",
       "      <td>4575.0</td>\n",
       "      <td>2644.0</td>\n",
       "    </tr>\n",
       "    <tr>\n",
       "      <th>7</th>\n",
       "      <td>12898.0</td>\n",
       "      <td>10542.0</td>\n",
       "    </tr>\n",
       "    <tr>\n",
       "      <th>8</th>\n",
       "      <td>13817.0</td>\n",
       "      <td>14107.0</td>\n",
       "    </tr>\n",
       "    <tr>\n",
       "      <th>9</th>\n",
       "      <td>12692.0</td>\n",
       "      <td>12649.0</td>\n",
       "    </tr>\n",
       "  </tbody>\n",
       "</table>\n",
       "</div>"
      ],
      "text/plain": [
       "    Actual  Predicted\n",
       "0   5380.0     6987.0\n",
       "1  12898.0    11300.0\n",
       "2  19329.0    14890.0\n",
       "3  16289.0    13783.0\n",
       "4   4423.0     4328.0\n",
       "5   3100.0     4182.0\n",
       "6   4575.0     2644.0\n",
       "7  12898.0    10542.0\n",
       "8  13817.0    14107.0\n",
       "9  12692.0    12649.0"
      ]
     },
     "execution_count": 93,
     "metadata": {},
     "output_type": "execute_result"
    }
   ],
   "source": [
    "df_predicted.head(10)"
   ]
  },
  {
   "cell_type": "code",
   "execution_count": 94,
   "metadata": {},
   "outputs": [
    {
     "name": "stdout",
     "output_type": "stream",
     "text": [
      "RMSE 4328967244735.43\n"
     ]
    }
   ],
   "source": [
    "#Find RMSE\n",
    "from math import sqrt\n",
    "from sklearn.metrics import mean_squared_error\n",
    "print('RMSE %.2f'%sqrt(mean_squared_error(Y_test,Y_predict)))"
   ]
  },
  {
   "cell_type": "code",
   "execution_count": 95,
   "metadata": {},
   "outputs": [],
   "source": [
    "#######################"
   ]
  },
  {
   "cell_type": "code",
   "execution_count": null,
   "metadata": {},
   "outputs": [],
   "source": []
  },
  {
   "cell_type": "markdown",
   "metadata": {},
   "source": [
    "# RMSE values are  high and predictions are not close\n",
    "#one option is to use scalar\n",
    "#but before that lets try cross-validation and see if it improves the score"
   ]
  },
  {
   "cell_type": "markdown",
   "metadata": {},
   "source": [
    "# check with cross validation \n"
   ]
  },
  {
   "cell_type": "code",
   "execution_count": 96,
   "metadata": {},
   "outputs": [
    {
     "name": "stdout",
     "output_type": "stream",
     "text": [
      "[-1.82041858e+25 -8.01775224e+28 -4.56772491e+06 -4.31201075e+06\n",
      " -3.83324058e+06 -3.99480759e+06 -4.38601561e+06 -5.38824075e+27\n",
      " -4.28565118e+06 -4.51862680e+16]\n",
      "('Mean:', -8.55839672892737e+27)\n",
      "('Std:', 2.3926986885829603e+28)\n",
      "('RMSE', 92511603212393.69)\n"
     ]
    }
   ],
   "source": [
    "# Create 10 folds\n",
    "#https://openclassrooms.com/en/courses/6401081-improve-the-performance-of-a-machine-learning-model/6541851-resample-your-model-with-cross-validation\n",
    "from sklearn.model_selection import KFold\n",
    "from sklearn.model_selection import cross_val_score\n",
    "\n",
    "kfold = KFold(n_splits=10, shuffle=True, random_state=0)\n",
    "\n",
    "# Create a model \n",
    "\n",
    "modelonecv = LinearRegression()\n",
    "\n",
    "\n",
    "# Train and evaluate multiple models using kfolds\n",
    "resultsone = cross_val_score(modelonecv, X, Y, cv=kfold, scoring='neg_mean_squared_error')\n",
    "#for train, test in .split(X, yc):\n",
    "#    print(\"train: %s test: %s\" % (train, test))\n",
    "\n",
    "print(resultsone)\n",
    "print(\"Mean:\", resultsone.mean())\n",
    "print(\"Std:\", resultsone.std())\n",
    "print(\"RMSE\",sqrt(np.mean(np.abs(resultsone))))\n"
   ]
  },
  {
   "cell_type": "markdown",
   "metadata": {},
   "source": [
    "# The value of RMSE is slightly rediced to 99.91; a slight improvement\n",
    "# we will check with 5 splits for cv\n"
   ]
  },
  {
   "cell_type": "code",
   "execution_count": 97,
   "metadata": {},
   "outputs": [
    {
     "name": "stdout",
     "output_type": "stream",
     "text": [
      "[-5.09854186e+26 -6.16579541e+27 -8.78648769e+29 -6.45237637e+25\n",
      " -1.18821442e+15]\n",
      "('Mean:', -1.770777883913649e+29)\n",
      "('Std:', 3.5079316526886106e+29)\n",
      "('RMSE', 420806117340711.8)\n"
     ]
    }
   ],
   "source": [
    "# Trial with 5  folds\n",
    "#https://openclassrooms.com/en/courses/6401081-improve-the-performance-of-a-machine-learning-model/6541851-resample-your-model-with-cross-validation\n",
    "from sklearn.model_selection import KFold\n",
    "from sklearn.model_selection import cross_val_score\n",
    "\n",
    "kfold = KFold(n_splits=5, shuffle=True, random_state=0)\n",
    "\n",
    "# Create a model \n",
    "\n",
    "modelonecv = LinearRegression()\n",
    "\n",
    "\n",
    "# Train and evaluate multiple models using kfolds\n",
    "resultsone = cross_val_score(modelonecv, X, Y, cv=kfold, scoring='neg_mean_squared_error')\n",
    "#for train, test in .split(X, yc):\n",
    "#    print(\"train: %s test: %s\" % (train, test))\n",
    "\n",
    "print(resultsone)\n",
    "print(\"Mean:\", resultsone.mean())\n",
    "print(\"Std:\", resultsone.std())\n",
    "print(\"RMSE\",sqrt(np.mean(np.abs(resultsone))))\n"
   ]
  },
  {
   "cell_type": "markdown",
   "metadata": {},
   "source": [
    "# The value of RMSE is not changed with reducing splits to 5 for CV\n"
   ]
  },
  {
   "cell_type": "markdown",
   "metadata": {},
   "source": []
  },
  {
   "cell_type": "markdown",
   "metadata": {},
   "source": [
    "# Lets do some Ridge Analysis"
   ]
  },
  {
   "cell_type": "code",
   "execution_count": 98,
   "metadata": {},
   "outputs": [],
   "source": [
    "from sklearn import linear_model\n",
    "reg = linear_model.Ridge(alpha=.5)\n",
    "#reg = linear_model.RidgeCV(alphas=np.logspace(-6, 6, 13))"
   ]
  },
  {
   "cell_type": "code",
   "execution_count": 99,
   "metadata": {},
   "outputs": [
    {
     "data": {
      "text/plain": [
       "Ridge(alpha=0.5, copy_X=True, fit_intercept=True, max_iter=None,\n",
       "   normalize=False, random_state=None, solver='auto', tol=0.001)"
      ]
     },
     "execution_count": 99,
     "metadata": {},
     "output_type": "execute_result"
    }
   ],
   "source": [
    "#perform the test,train split within the training data\n",
    "X_train, X_test, Y_train, Y_test = train_test_split(X, Y, test_size = 0.3, random_state = 0)          \n",
    "#fit the regressor\n",
    "reg.fit(X_train, Y_train)"
   ]
  },
  {
   "cell_type": "code",
   "execution_count": 100,
   "metadata": {},
   "outputs": [],
   "source": [
    "#predict Y\n",
    "Y_predict=reg.predict(X_test)\n",
    "df_predicted=pd.DataFrame(\n",
    "                            {'Actual':  np.round(Y_test,0),\n",
    "                            'Predicted':np.round(Y_predict,0) }\n",
    "                            ).reset_index(drop=True)"
   ]
  },
  {
   "cell_type": "code",
   "execution_count": 101,
   "metadata": {},
   "outputs": [
    {
     "data": {
      "text/html": [
       "<div>\n",
       "<style scoped>\n",
       "    .dataframe tbody tr th:only-of-type {\n",
       "        vertical-align: middle;\n",
       "    }\n",
       "\n",
       "    .dataframe tbody tr th {\n",
       "        vertical-align: top;\n",
       "    }\n",
       "\n",
       "    .dataframe thead th {\n",
       "        text-align: right;\n",
       "    }\n",
       "</style>\n",
       "<table border=\"1\" class=\"dataframe\">\n",
       "  <thead>\n",
       "    <tr style=\"text-align: right;\">\n",
       "      <th></th>\n",
       "      <th>Actual</th>\n",
       "      <th>Predicted</th>\n",
       "    </tr>\n",
       "  </thead>\n",
       "  <tbody>\n",
       "    <tr>\n",
       "      <th>count</th>\n",
       "      <td>2370.000000</td>\n",
       "      <td>2370.000000</td>\n",
       "    </tr>\n",
       "    <tr>\n",
       "      <th>mean</th>\n",
       "      <td>8838.302532</td>\n",
       "      <td>8830.776793</td>\n",
       "    </tr>\n",
       "    <tr>\n",
       "      <th>std</th>\n",
       "      <td>3936.997279</td>\n",
       "      <td>3375.627207</td>\n",
       "    </tr>\n",
       "    <tr>\n",
       "      <th>min</th>\n",
       "      <td>1965.000000</td>\n",
       "      <td>926.000000</td>\n",
       "    </tr>\n",
       "    <tr>\n",
       "      <th>25%</th>\n",
       "      <td>5298.000000</td>\n",
       "      <td>5720.750000</td>\n",
       "    </tr>\n",
       "    <tr>\n",
       "      <th>50%</th>\n",
       "      <td>8372.000000</td>\n",
       "      <td>9524.000000</td>\n",
       "    </tr>\n",
       "    <tr>\n",
       "      <th>75%</th>\n",
       "      <td>12121.000000</td>\n",
       "      <td>11215.750000</td>\n",
       "    </tr>\n",
       "    <tr>\n",
       "      <th>max</th>\n",
       "      <td>19372.000000</td>\n",
       "      <td>16451.000000</td>\n",
       "    </tr>\n",
       "  </tbody>\n",
       "</table>\n",
       "</div>"
      ],
      "text/plain": [
       "             Actual     Predicted\n",
       "count   2370.000000   2370.000000\n",
       "mean    8838.302532   8830.776793\n",
       "std     3936.997279   3375.627207\n",
       "min     1965.000000    926.000000\n",
       "25%     5298.000000   5720.750000\n",
       "50%     8372.000000   9524.000000\n",
       "75%    12121.000000  11215.750000\n",
       "max    19372.000000  16451.000000"
      ]
     },
     "execution_count": 101,
     "metadata": {},
     "output_type": "execute_result"
    }
   ],
   "source": [
    "df_predicted.describe()"
   ]
  },
  {
   "cell_type": "code",
   "execution_count": 102,
   "metadata": {},
   "outputs": [
    {
     "data": {
      "text/html": [
       "<div>\n",
       "<style scoped>\n",
       "    .dataframe tbody tr th:only-of-type {\n",
       "        vertical-align: middle;\n",
       "    }\n",
       "\n",
       "    .dataframe tbody tr th {\n",
       "        vertical-align: top;\n",
       "    }\n",
       "\n",
       "    .dataframe thead th {\n",
       "        text-align: right;\n",
       "    }\n",
       "</style>\n",
       "<table border=\"1\" class=\"dataframe\">\n",
       "  <thead>\n",
       "    <tr style=\"text-align: right;\">\n",
       "      <th></th>\n",
       "      <th>Actual</th>\n",
       "      <th>Predicted</th>\n",
       "    </tr>\n",
       "  </thead>\n",
       "  <tbody>\n",
       "    <tr>\n",
       "      <th>0</th>\n",
       "      <td>5380.0</td>\n",
       "      <td>6982.0</td>\n",
       "    </tr>\n",
       "    <tr>\n",
       "      <th>1</th>\n",
       "      <td>12898.0</td>\n",
       "      <td>11285.0</td>\n",
       "    </tr>\n",
       "    <tr>\n",
       "      <th>2</th>\n",
       "      <td>19329.0</td>\n",
       "      <td>15023.0</td>\n",
       "    </tr>\n",
       "    <tr>\n",
       "      <th>3</th>\n",
       "      <td>16289.0</td>\n",
       "      <td>13762.0</td>\n",
       "    </tr>\n",
       "    <tr>\n",
       "      <th>4</th>\n",
       "      <td>4423.0</td>\n",
       "      <td>4194.0</td>\n",
       "    </tr>\n",
       "    <tr>\n",
       "      <th>5</th>\n",
       "      <td>3100.0</td>\n",
       "      <td>4371.0</td>\n",
       "    </tr>\n",
       "    <tr>\n",
       "      <th>6</th>\n",
       "      <td>4575.0</td>\n",
       "      <td>2789.0</td>\n",
       "    </tr>\n",
       "    <tr>\n",
       "      <th>7</th>\n",
       "      <td>12898.0</td>\n",
       "      <td>10536.0</td>\n",
       "    </tr>\n",
       "    <tr>\n",
       "      <th>8</th>\n",
       "      <td>13817.0</td>\n",
       "      <td>14056.0</td>\n",
       "    </tr>\n",
       "    <tr>\n",
       "      <th>9</th>\n",
       "      <td>12692.0</td>\n",
       "      <td>12653.0</td>\n",
       "    </tr>\n",
       "  </tbody>\n",
       "</table>\n",
       "</div>"
      ],
      "text/plain": [
       "    Actual  Predicted\n",
       "0   5380.0     6982.0\n",
       "1  12898.0    11285.0\n",
       "2  19329.0    15023.0\n",
       "3  16289.0    13762.0\n",
       "4   4423.0     4194.0\n",
       "5   3100.0     4371.0\n",
       "6   4575.0     2789.0\n",
       "7  12898.0    10536.0\n",
       "8  13817.0    14056.0\n",
       "9  12692.0    12653.0"
      ]
     },
     "execution_count": 102,
     "metadata": {},
     "output_type": "execute_result"
    }
   ],
   "source": [
    "df_predicted.head(10)"
   ]
  },
  {
   "cell_type": "code",
   "execution_count": 103,
   "metadata": {},
   "outputs": [
    {
     "name": "stdout",
     "output_type": "stream",
     "text": [
      "RMSE 2031.06\n"
     ]
    }
   ],
   "source": [
    "from math import sqrt\n",
    "#Find RMSE\n",
    "print('RMSE %.2f'%sqrt(mean_squared_error(Y_test,Y_predict)))"
   ]
  },
  {
   "cell_type": "code",
   "execution_count": 104,
   "metadata": {},
   "outputs": [],
   "source": [
    "# Try with alpha = 0.3"
   ]
  },
  {
   "cell_type": "code",
   "execution_count": 105,
   "metadata": {},
   "outputs": [],
   "source": [
    "reg_pt3 = linear_model.Ridge(alpha=.3)\n"
   ]
  },
  {
   "cell_type": "code",
   "execution_count": 106,
   "metadata": {},
   "outputs": [
    {
     "data": {
      "text/plain": [
       "Ridge(alpha=0.3, copy_X=True, fit_intercept=True, max_iter=None,\n",
       "   normalize=False, random_state=None, solver='auto', tol=0.001)"
      ]
     },
     "execution_count": 106,
     "metadata": {},
     "output_type": "execute_result"
    }
   ],
   "source": [
    "reg_pt3.fit(X_train, Y_train)\n"
   ]
  },
  {
   "cell_type": "code",
   "execution_count": 107,
   "metadata": {},
   "outputs": [],
   "source": [
    "#predict Y\n",
    "Y_predict=reg_pt3.predict(X_test)\n",
    "df_predicted=pd.DataFrame(\n",
    "                            {'Actual':  np.round(Y_test,0),\n",
    "                            'Predicted':np.round(Y_predict,0) }\n",
    "                            ).reset_index(drop=True)"
   ]
  },
  {
   "cell_type": "code",
   "execution_count": 108,
   "metadata": {},
   "outputs": [
    {
     "name": "stdout",
     "output_type": "stream",
     "text": [
      "RMSE 2030.19\n"
     ]
    }
   ],
   "source": [
    "#Find RMSE\n",
    "print('RMSE %.2f'%sqrt(mean_squared_error(Y_test,Y_predict)))"
   ]
  },
  {
   "cell_type": "code",
   "execution_count": 109,
   "metadata": {},
   "outputs": [],
   "source": [
    "# Try with alpha = 0.3"
   ]
  },
  {
   "cell_type": "code",
   "execution_count": 110,
   "metadata": {},
   "outputs": [],
   "source": [
    "reg_pt7 = linear_model.Ridge(alpha=.7)\n"
   ]
  },
  {
   "cell_type": "code",
   "execution_count": 111,
   "metadata": {},
   "outputs": [
    {
     "data": {
      "text/plain": [
       "Ridge(alpha=0.7, copy_X=True, fit_intercept=True, max_iter=None,\n",
       "   normalize=False, random_state=None, solver='auto', tol=0.001)"
      ]
     },
     "execution_count": 111,
     "metadata": {},
     "output_type": "execute_result"
    }
   ],
   "source": [
    "reg_pt7.fit(X_train, Y_train)"
   ]
  },
  {
   "cell_type": "code",
   "execution_count": 112,
   "metadata": {},
   "outputs": [],
   "source": [
    "#predict Y\n",
    "Y_predict=reg_pt7.predict(X_test)\n",
    "df_predicted=pd.DataFrame(\n",
    "                            {'Actual':  np.round(Y_test,0),\n",
    "                            'Predicted':np.round(Y_predict,0) }\n",
    "                            ).reset_index(drop=True)"
   ]
  },
  {
   "cell_type": "code",
   "execution_count": 113,
   "metadata": {},
   "outputs": [
    {
     "name": "stdout",
     "output_type": "stream",
     "text": [
      "RMSE 2032.32\n"
     ]
    }
   ],
   "source": [
    "#Find RMSE\n",
    "print('RMSE %.2f'%sqrt(mean_squared_error(Y_test,Y_predict)))"
   ]
  },
  {
   "cell_type": "markdown",
   "metadata": {},
   "source": [
    "# LETS stop Ridge here and continue with RandomForestRegressor"
   ]
  },
  {
   "cell_type": "markdown",
   "metadata": {},
   "source": [
    "# Start of RandomForestRegressor"
   ]
  },
  {
   "cell_type": "code",
   "execution_count": 114,
   "metadata": {},
   "outputs": [],
   "source": [
    "reg_rf1=RandomForestRegressor()"
   ]
  },
  {
   "cell_type": "code",
   "execution_count": 115,
   "metadata": {},
   "outputs": [
    {
     "data": {
      "text/plain": [
       "RandomForestRegressor(bootstrap=True, criterion='mse', max_depth=None,\n",
       "           max_features='auto', max_leaf_nodes=None,\n",
       "           min_impurity_decrease=0.0, min_impurity_split=None,\n",
       "           min_samples_leaf=1, min_samples_split=2,\n",
       "           min_weight_fraction_leaf=0.0, n_estimators=10, n_jobs=1,\n",
       "           oob_score=False, random_state=None, verbose=0, warm_start=False)"
      ]
     },
     "execution_count": 115,
     "metadata": {},
     "output_type": "execute_result"
    }
   ],
   "source": [
    "reg_rf1.fit(X_train, Y_train)"
   ]
  },
  {
   "cell_type": "code",
   "execution_count": 116,
   "metadata": {},
   "outputs": [],
   "source": [
    "#predict Y\n",
    "Y_predict=reg_rf1.predict(X_test)\n",
    "df_predicted=pd.DataFrame(\n",
    "                            {'Actual':  np.round(Y_test,0),\n",
    "                            'Predicted':np.round(Y_predict,0) }\n",
    "                            ).reset_index(drop=True)"
   ]
  },
  {
   "cell_type": "code",
   "execution_count": 117,
   "metadata": {},
   "outputs": [
    {
     "name": "stdout",
     "output_type": "stream",
     "text": [
      "RMSE 1740.92\n"
     ]
    }
   ],
   "source": [
    "from math import sqrt\n",
    "#Find RMSE\n",
    "print('RMSE %.2f'%sqrt(mean_squared_error(Y_test,Y_predict)))"
   ]
  },
  {
   "cell_type": "code",
   "execution_count": 118,
   "metadata": {},
   "outputs": [],
   "source": [
    "# Hyperparameter tuning for Random forest\n",
    "reg_rf1=RandomForestRegressor()"
   ]
  },
  {
   "cell_type": "code",
   "execution_count": 119,
   "metadata": {},
   "outputs": [],
   "source": [
    "#submission = pd.DataFrame(Y_predict,columns=['Price'])\n",
    "#submission = pd.concat([Id,prediction['y']],1)\n",
    "\n",
    "#submission.to_csv('../data/submission.csv',index=False)"
   ]
  },
  {
   "cell_type": "code",
   "execution_count": 120,
   "metadata": {},
   "outputs": [
    {
     "name": "stdout",
     "output_type": "stream",
     "text": [
      "[-5.09854186e+26 -6.16579541e+27 -8.78648769e+29 -6.45237637e+25\n",
      " -1.18821442e+15]\n",
      "('Mean:', -1.770777883913649e+29)\n",
      "('Std:', 3.5079316526886106e+29)\n",
      "('RMSE', 1747.0963933962428)\n"
     ]
    }
   ],
   "source": [
    "# Create 10 folds\n",
    "#https://openclassrooms.com/en/courses/6401081-improve-the-performance-of-a-machine-learning-model/6541851-resample-your-model-with-cross-validation\n",
    "from sklearn.model_selection import KFold\n",
    "from sklearn.model_selection import cross_val_score\n",
    "\n",
    "kfold = KFold(n_splits=10, shuffle=True, random_state=0)\n",
    "\n",
    "# Create a model \n",
    "\n",
    "modelonecv1 = RandomForestRegressor()\n",
    "\n",
    "\n",
    "# Train and evaluate multiple models using kfolds\n",
    "resultsone1 = cross_val_score(modelonecv1, X_train, Y_train, cv=kfold, scoring='neg_mean_squared_error')\n",
    "#for train, test in .split(X, yc):\n",
    "#    print(\"train: %s test: %s\" % (train, test))\n",
    "\n",
    "print(resultsone)\n",
    "print(\"Mean:\", resultsone.mean())\n",
    "print(\"Std:\", resultsone.std())\n",
    "print(\"RMSE\",sqrt(np.mean(np.abs(resultsone1))))"
   ]
  },
  {
   "cell_type": "code",
   "execution_count": 121,
   "metadata": {},
   "outputs": [
    {
     "data": {
      "text/plain": [
       "RandomForestRegressor(bootstrap=True, criterion='mse', max_depth=None,\n",
       "           max_features='auto', max_leaf_nodes=None,\n",
       "           min_impurity_decrease=0.0, min_impurity_split=None,\n",
       "           min_samples_leaf=1, min_samples_split=2,\n",
       "           min_weight_fraction_leaf=0.0, n_estimators=10, n_jobs=1,\n",
       "           oob_score=False, random_state=None, verbose=0, warm_start=False)"
      ]
     },
     "execution_count": 121,
     "metadata": {},
     "output_type": "execute_result"
    }
   ],
   "source": [
    "modelonecv1.fit(X_train, Y_train)"
   ]
  },
  {
   "cell_type": "code",
   "execution_count": 122,
   "metadata": {},
   "outputs": [],
   "source": [
    "#untest\n",
    "#predict Y\n",
    "Y_predict=modelonecv1.predict(X_test)\n",
    "df_predicted=pd.DataFrame(\n",
    "                            {'Actual':  np.round(Y_test,0),\n",
    "                            'Predicted':np.round(Y_predict,0) }\n",
    "                            ).reset_index(drop=True)"
   ]
  },
  {
   "cell_type": "code",
   "execution_count": 123,
   "metadata": {},
   "outputs": [
    {
     "data": {
      "text/html": [
       "<div>\n",
       "<style scoped>\n",
       "    .dataframe tbody tr th:only-of-type {\n",
       "        vertical-align: middle;\n",
       "    }\n",
       "\n",
       "    .dataframe tbody tr th {\n",
       "        vertical-align: top;\n",
       "    }\n",
       "\n",
       "    .dataframe thead th {\n",
       "        text-align: right;\n",
       "    }\n",
       "</style>\n",
       "<table border=\"1\" class=\"dataframe\">\n",
       "  <thead>\n",
       "    <tr style=\"text-align: right;\">\n",
       "      <th></th>\n",
       "      <th>Actual</th>\n",
       "      <th>Predicted</th>\n",
       "    </tr>\n",
       "  </thead>\n",
       "  <tbody>\n",
       "    <tr>\n",
       "      <th>0</th>\n",
       "      <td>5380.0</td>\n",
       "      <td>6036.0</td>\n",
       "    </tr>\n",
       "    <tr>\n",
       "      <th>1</th>\n",
       "      <td>12898.0</td>\n",
       "      <td>12634.0</td>\n",
       "    </tr>\n",
       "    <tr>\n",
       "      <th>2</th>\n",
       "      <td>19329.0</td>\n",
       "      <td>12974.0</td>\n",
       "    </tr>\n",
       "    <tr>\n",
       "      <th>3</th>\n",
       "      <td>16289.0</td>\n",
       "      <td>16142.0</td>\n",
       "    </tr>\n",
       "    <tr>\n",
       "      <th>4</th>\n",
       "      <td>4423.0</td>\n",
       "      <td>4027.0</td>\n",
       "    </tr>\n",
       "    <tr>\n",
       "      <th>5</th>\n",
       "      <td>3100.0</td>\n",
       "      <td>3284.0</td>\n",
       "    </tr>\n",
       "    <tr>\n",
       "      <th>6</th>\n",
       "      <td>4575.0</td>\n",
       "      <td>4678.0</td>\n",
       "    </tr>\n",
       "    <tr>\n",
       "      <th>7</th>\n",
       "      <td>12898.0</td>\n",
       "      <td>12581.0</td>\n",
       "    </tr>\n",
       "    <tr>\n",
       "      <th>8</th>\n",
       "      <td>13817.0</td>\n",
       "      <td>13817.0</td>\n",
       "    </tr>\n",
       "    <tr>\n",
       "      <th>9</th>\n",
       "      <td>12692.0</td>\n",
       "      <td>12470.0</td>\n",
       "    </tr>\n",
       "  </tbody>\n",
       "</table>\n",
       "</div>"
      ],
      "text/plain": [
       "    Actual  Predicted\n",
       "0   5380.0     6036.0\n",
       "1  12898.0    12634.0\n",
       "2  19329.0    12974.0\n",
       "3  16289.0    16142.0\n",
       "4   4423.0     4027.0\n",
       "5   3100.0     3284.0\n",
       "6   4575.0     4678.0\n",
       "7  12898.0    12581.0\n",
       "8  13817.0    13817.0\n",
       "9  12692.0    12470.0"
      ]
     },
     "execution_count": 123,
     "metadata": {},
     "output_type": "execute_result"
    }
   ],
   "source": [
    "df_predicted.head(10)"
   ]
  },
  {
   "cell_type": "code",
   "execution_count": 124,
   "metadata": {},
   "outputs": [
    {
     "data": {
      "text/html": [
       "<div>\n",
       "<style scoped>\n",
       "    .dataframe tbody tr th:only-of-type {\n",
       "        vertical-align: middle;\n",
       "    }\n",
       "\n",
       "    .dataframe tbody tr th {\n",
       "        vertical-align: top;\n",
       "    }\n",
       "\n",
       "    .dataframe thead th {\n",
       "        text-align: right;\n",
       "    }\n",
       "</style>\n",
       "<table border=\"1\" class=\"dataframe\">\n",
       "  <thead>\n",
       "    <tr style=\"text-align: right;\">\n",
       "      <th></th>\n",
       "      <th>Actual</th>\n",
       "      <th>Predicted</th>\n",
       "    </tr>\n",
       "  </thead>\n",
       "  <tbody>\n",
       "    <tr>\n",
       "      <th>count</th>\n",
       "      <td>2370.000000</td>\n",
       "      <td>2370.000000</td>\n",
       "    </tr>\n",
       "    <tr>\n",
       "      <th>mean</th>\n",
       "      <td>8838.302532</td>\n",
       "      <td>8830.609283</td>\n",
       "    </tr>\n",
       "    <tr>\n",
       "      <th>std</th>\n",
       "      <td>3936.997279</td>\n",
       "      <td>3676.506956</td>\n",
       "    </tr>\n",
       "    <tr>\n",
       "      <th>min</th>\n",
       "      <td>1965.000000</td>\n",
       "      <td>1924.000000</td>\n",
       "    </tr>\n",
       "    <tr>\n",
       "      <th>25%</th>\n",
       "      <td>5298.000000</td>\n",
       "      <td>5495.000000</td>\n",
       "    </tr>\n",
       "    <tr>\n",
       "      <th>50%</th>\n",
       "      <td>8372.000000</td>\n",
       "      <td>8698.500000</td>\n",
       "    </tr>\n",
       "    <tr>\n",
       "      <th>75%</th>\n",
       "      <td>12121.000000</td>\n",
       "      <td>11920.000000</td>\n",
       "    </tr>\n",
       "    <tr>\n",
       "      <th>max</th>\n",
       "      <td>19372.000000</td>\n",
       "      <td>19309.000000</td>\n",
       "    </tr>\n",
       "  </tbody>\n",
       "</table>\n",
       "</div>"
      ],
      "text/plain": [
       "             Actual     Predicted\n",
       "count   2370.000000   2370.000000\n",
       "mean    8838.302532   8830.609283\n",
       "std     3936.997279   3676.506956\n",
       "min     1965.000000   1924.000000\n",
       "25%     5298.000000   5495.000000\n",
       "50%     8372.000000   8698.500000\n",
       "75%    12121.000000  11920.000000\n",
       "max    19372.000000  19309.000000"
      ]
     },
     "execution_count": 124,
     "metadata": {},
     "output_type": "execute_result"
    }
   ],
   "source": [
    "df_predicted.describe()"
   ]
  },
  {
   "cell_type": "code",
   "execution_count": 125,
   "metadata": {},
   "outputs": [
    {
     "name": "stdout",
     "output_type": "stream",
     "text": [
      "RMSE 1742.32\n"
     ]
    }
   ],
   "source": [
    "print('RMSE %.2f'%sqrt(mean_squared_error(Y_test,Y_predict)))"
   ]
  },
  {
   "cell_type": "code",
   "execution_count": 127,
   "metadata": {},
   "outputs": [],
   "source": [
    "Y_predict=modelonecv1.predict(df_test_onehot)"
   ]
  },
  {
   "cell_type": "code",
   "execution_count": 128,
   "metadata": {},
   "outputs": [],
   "source": [
    "submission = pd.DataFrame(Y_predict,columns=['Price'])\n",
    "#submission = pd.concat([Id,prediction['y']],1)\n",
    "\n",
    "submission.to_csv('../data/submission.csv',index=False)"
   ]
  },
  {
   "cell_type": "code",
   "execution_count": 129,
   "metadata": {},
   "outputs": [],
   "source": [
    "from xgboost import XGBRegressor\n",
    "from sklearn.metrics import accuracy_score"
   ]
  },
  {
   "cell_type": "code",
   "execution_count": 130,
   "metadata": {},
   "outputs": [
    {
     "data": {
      "text/plain": [
       "XGBRegressor(base_score=0.5, booster='gbtree', colsample_bylevel=1,\n",
       "       colsample_bytree=1, gamma=0, importance_type='gain',\n",
       "       learning_rate=0.1, max_delta_step=0, max_depth=3,\n",
       "       min_child_weight=1, missing=None, n_estimators=100, n_jobs=1,\n",
       "       nthread=None, objective='reg:linear', random_state=0, reg_alpha=0,\n",
       "       reg_lambda=1, scale_pos_weight=1, seed=None, silent=True,\n",
       "       subsample=1)"
      ]
     },
     "execution_count": 130,
     "metadata": {},
     "output_type": "execute_result"
    }
   ],
   "source": [
    "# fit model no training data\n",
    "model = XGBRegressor()\n",
    "model.fit(X_train, Y_train)"
   ]
  },
  {
   "cell_type": "code",
   "execution_count": 131,
   "metadata": {},
   "outputs": [],
   "source": [
    "#predict Y\n",
    "Y_predict=model.predict(X_test)\n",
    "df_predicted=pd.DataFrame(\n",
    "                            {'Actual':  np.round(Y_test,0),\n",
    "                            'Predicted':np.round(Y_predict,0) }\n",
    "                            ).reset_index(drop=True)"
   ]
  },
  {
   "cell_type": "code",
   "execution_count": 132,
   "metadata": {},
   "outputs": [
    {
     "data": {
      "text/html": [
       "<div>\n",
       "<style scoped>\n",
       "    .dataframe tbody tr th:only-of-type {\n",
       "        vertical-align: middle;\n",
       "    }\n",
       "\n",
       "    .dataframe tbody tr th {\n",
       "        vertical-align: top;\n",
       "    }\n",
       "\n",
       "    .dataframe thead th {\n",
       "        text-align: right;\n",
       "    }\n",
       "</style>\n",
       "<table border=\"1\" class=\"dataframe\">\n",
       "  <thead>\n",
       "    <tr style=\"text-align: right;\">\n",
       "      <th></th>\n",
       "      <th>Actual</th>\n",
       "      <th>Predicted</th>\n",
       "    </tr>\n",
       "  </thead>\n",
       "  <tbody>\n",
       "    <tr>\n",
       "      <th>0</th>\n",
       "      <td>5380.0</td>\n",
       "      <td>7032.0</td>\n",
       "    </tr>\n",
       "    <tr>\n",
       "      <th>1</th>\n",
       "      <td>12898.0</td>\n",
       "      <td>10887.0</td>\n",
       "    </tr>\n",
       "    <tr>\n",
       "      <th>2</th>\n",
       "      <td>19329.0</td>\n",
       "      <td>14073.0</td>\n",
       "    </tr>\n",
       "    <tr>\n",
       "      <th>3</th>\n",
       "      <td>16289.0</td>\n",
       "      <td>12670.0</td>\n",
       "    </tr>\n",
       "    <tr>\n",
       "      <th>4</th>\n",
       "      <td>4423.0</td>\n",
       "      <td>4778.0</td>\n",
       "    </tr>\n",
       "    <tr>\n",
       "      <th>5</th>\n",
       "      <td>3100.0</td>\n",
       "      <td>3918.0</td>\n",
       "    </tr>\n",
       "    <tr>\n",
       "      <th>6</th>\n",
       "      <td>4575.0</td>\n",
       "      <td>4039.0</td>\n",
       "    </tr>\n",
       "    <tr>\n",
       "      <th>7</th>\n",
       "      <td>12898.0</td>\n",
       "      <td>10887.0</td>\n",
       "    </tr>\n",
       "    <tr>\n",
       "      <th>8</th>\n",
       "      <td>13817.0</td>\n",
       "      <td>12670.0</td>\n",
       "    </tr>\n",
       "    <tr>\n",
       "      <th>9</th>\n",
       "      <td>12692.0</td>\n",
       "      <td>12221.0</td>\n",
       "    </tr>\n",
       "  </tbody>\n",
       "</table>\n",
       "</div>"
      ],
      "text/plain": [
       "    Actual  Predicted\n",
       "0   5380.0     7032.0\n",
       "1  12898.0    10887.0\n",
       "2  19329.0    14073.0\n",
       "3  16289.0    12670.0\n",
       "4   4423.0     4778.0\n",
       "5   3100.0     3918.0\n",
       "6   4575.0     4039.0\n",
       "7  12898.0    10887.0\n",
       "8  13817.0    12670.0\n",
       "9  12692.0    12221.0"
      ]
     },
     "execution_count": 132,
     "metadata": {},
     "output_type": "execute_result"
    }
   ],
   "source": [
    "df_predicted.head(10)"
   ]
  },
  {
   "cell_type": "code",
   "execution_count": 133,
   "metadata": {},
   "outputs": [
    {
     "name": "stdout",
     "output_type": "stream",
     "text": [
      "RMSE 1975.06\n"
     ]
    }
   ],
   "source": [
    "from math import sqrt\n",
    "#Find RMSE\n",
    "print('RMSE %.2f'%sqrt(mean_squared_error(Y_test,Y_predict)))"
   ]
  },
  {
   "cell_type": "code",
   "execution_count": 137,
   "metadata": {},
   "outputs": [
    {
     "name": "stdout",
     "output_type": "stream",
     "text": [
      "<class 'pandas.core.frame.DataFrame'>\n",
      "Int64Index: 7898 entries, 0 to 8011\n",
      "Columns: 107 entries, Price to month_12\n",
      "dtypes: float64(1), int32(1), int64(1), uint8(104)\n",
      "memory usage: 1018.1 KB\n"
     ]
    }
   ],
   "source": [
    "df_train_onehot.info()"
   ]
  },
  {
   "cell_type": "markdown",
   "metadata": {},
   "source": [
    "#Lets try GradientBoostingRegressor"
   ]
  },
  {
   "cell_type": "code",
   "execution_count": 145,
   "metadata": {},
   "outputs": [],
   "source": [
    "from sklearn.ensemble import GradientBoostingRegressor \n",
    "gbrt=GradientBoostingRegressor(n_estimators=100)"
   ]
  },
  {
   "cell_type": "code",
   "execution_count": 146,
   "metadata": {},
   "outputs": [
    {
     "data": {
      "text/plain": [
       "GradientBoostingRegressor(alpha=0.9, criterion='friedman_mse', init=None,\n",
       "             learning_rate=0.1, loss='ls', max_depth=3, max_features=None,\n",
       "             max_leaf_nodes=None, min_impurity_decrease=0.0,\n",
       "             min_impurity_split=None, min_samples_leaf=1,\n",
       "             min_samples_split=2, min_weight_fraction_leaf=0.0,\n",
       "             n_estimators=500, presort='auto', random_state=None,\n",
       "             subsample=1.0, verbose=0, warm_start=False)"
      ]
     },
     "execution_count": 146,
     "metadata": {},
     "output_type": "execute_result"
    }
   ],
   "source": [
    "gbrt.fit(X_train, Y_train)"
   ]
  },
  {
   "cell_type": "code",
   "execution_count": 162,
   "metadata": {},
   "outputs": [],
   "source": [
    "#predict Y\n",
    "Y_predict=gbrt.predict(X_test)\n",
    "df_predicted=pd.DataFrame(\n",
    "                            {'Actual':  np.round(Y_test,0),\n",
    "                            'Predicted':np.round(Y_predict,0) }\n",
    "                            ).reset_index(drop=True)"
   ]
  },
  {
   "cell_type": "code",
   "execution_count": 163,
   "metadata": {},
   "outputs": [
    {
     "data": {
      "text/html": [
       "<div>\n",
       "<style scoped>\n",
       "    .dataframe tbody tr th:only-of-type {\n",
       "        vertical-align: middle;\n",
       "    }\n",
       "\n",
       "    .dataframe tbody tr th {\n",
       "        vertical-align: top;\n",
       "    }\n",
       "\n",
       "    .dataframe thead th {\n",
       "        text-align: right;\n",
       "    }\n",
       "</style>\n",
       "<table border=\"1\" class=\"dataframe\">\n",
       "  <thead>\n",
       "    <tr style=\"text-align: right;\">\n",
       "      <th></th>\n",
       "      <th>Actual</th>\n",
       "      <th>Predicted</th>\n",
       "    </tr>\n",
       "  </thead>\n",
       "  <tbody>\n",
       "    <tr>\n",
       "      <th>0</th>\n",
       "      <td>5380.0</td>\n",
       "      <td>6270.0</td>\n",
       "    </tr>\n",
       "    <tr>\n",
       "      <th>1</th>\n",
       "      <td>12898.0</td>\n",
       "      <td>12251.0</td>\n",
       "    </tr>\n",
       "    <tr>\n",
       "      <th>2</th>\n",
       "      <td>19329.0</td>\n",
       "      <td>14733.0</td>\n",
       "    </tr>\n",
       "    <tr>\n",
       "      <th>3</th>\n",
       "      <td>16289.0</td>\n",
       "      <td>15136.0</td>\n",
       "    </tr>\n",
       "    <tr>\n",
       "      <th>4</th>\n",
       "      <td>4423.0</td>\n",
       "      <td>4778.0</td>\n",
       "    </tr>\n",
       "    <tr>\n",
       "      <th>5</th>\n",
       "      <td>3100.0</td>\n",
       "      <td>3350.0</td>\n",
       "    </tr>\n",
       "    <tr>\n",
       "      <th>6</th>\n",
       "      <td>4575.0</td>\n",
       "      <td>3790.0</td>\n",
       "    </tr>\n",
       "    <tr>\n",
       "      <th>7</th>\n",
       "      <td>12898.0</td>\n",
       "      <td>11800.0</td>\n",
       "    </tr>\n",
       "    <tr>\n",
       "      <th>8</th>\n",
       "      <td>13817.0</td>\n",
       "      <td>14209.0</td>\n",
       "    </tr>\n",
       "    <tr>\n",
       "      <th>9</th>\n",
       "      <td>12692.0</td>\n",
       "      <td>12617.0</td>\n",
       "    </tr>\n",
       "  </tbody>\n",
       "</table>\n",
       "</div>"
      ],
      "text/plain": [
       "    Actual  Predicted\n",
       "0   5380.0     6270.0\n",
       "1  12898.0    12251.0\n",
       "2  19329.0    14733.0\n",
       "3  16289.0    15136.0\n",
       "4   4423.0     4778.0\n",
       "5   3100.0     3350.0\n",
       "6   4575.0     3790.0\n",
       "7  12898.0    11800.0\n",
       "8  13817.0    14209.0\n",
       "9  12692.0    12617.0"
      ]
     },
     "execution_count": 163,
     "metadata": {},
     "output_type": "execute_result"
    }
   ],
   "source": [
    "df_predicted.head(10)"
   ]
  },
  {
   "cell_type": "code",
   "execution_count": 164,
   "metadata": {},
   "outputs": [
    {
     "name": "stdout",
     "output_type": "stream",
     "text": [
      "RMSE 1691.03\n"
     ]
    }
   ],
   "source": [
    "from math import sqrt\n",
    "#Find RMSE\n",
    "print('RMSE %.2f'%sqrt(mean_squared_error(Y_test,Y_predict)))"
   ]
  },
  {
   "cell_type": "code",
   "execution_count": 151,
   "metadata": {},
   "outputs": [],
   "source": [
    "from lightgbm import LGBMRegressor\n",
    "from sklearn.model_selection import cross_val_score\n",
    "from sklearn.model_selection import RepeatedKFold\n",
    "lbrt=LGBMRegressor()\n"
   ]
  },
  {
   "cell_type": "code",
   "execution_count": 155,
   "metadata": {},
   "outputs": [
    {
     "data": {
      "text/plain": [
       "GradientBoostingRegressor(alpha=0.9, criterion='friedman_mse', init=None,\n",
       "             learning_rate=0.1, loss='ls', max_depth=3, max_features=None,\n",
       "             max_leaf_nodes=None, min_impurity_decrease=0.0,\n",
       "             min_impurity_split=None, min_samples_leaf=1,\n",
       "             min_samples_split=2, min_weight_fraction_leaf=0.0,\n",
       "             n_estimators=500, presort='auto', random_state=None,\n",
       "             subsample=1.0, verbose=0, warm_start=False)"
      ]
     },
     "execution_count": 155,
     "metadata": {},
     "output_type": "execute_result"
    }
   ],
   "source": [
    "gbrt.fit(X_train, Y_train)"
   ]
  },
  {
   "cell_type": "code",
   "execution_count": 159,
   "metadata": {},
   "outputs": [],
   "source": [
    "#predict Y\n",
    "Y_predict=gbrt.predict(X_test)\n",
    "df_predicted=pd.DataFrame(\n",
    "                            {'Actual':  np.round(Y_test,0),\n",
    "                            'Predicted':np.round(Y_predict,0) }\n",
    "                            ).reset_index(drop=True)"
   ]
  },
  {
   "cell_type": "code",
   "execution_count": 160,
   "metadata": {},
   "outputs": [
    {
     "data": {
      "text/html": [
       "<div>\n",
       "<style scoped>\n",
       "    .dataframe tbody tr th:only-of-type {\n",
       "        vertical-align: middle;\n",
       "    }\n",
       "\n",
       "    .dataframe tbody tr th {\n",
       "        vertical-align: top;\n",
       "    }\n",
       "\n",
       "    .dataframe thead th {\n",
       "        text-align: right;\n",
       "    }\n",
       "</style>\n",
       "<table border=\"1\" class=\"dataframe\">\n",
       "  <thead>\n",
       "    <tr style=\"text-align: right;\">\n",
       "      <th></th>\n",
       "      <th>Actual</th>\n",
       "      <th>Predicted</th>\n",
       "    </tr>\n",
       "  </thead>\n",
       "  <tbody>\n",
       "    <tr>\n",
       "      <th>0</th>\n",
       "      <td>5380.0</td>\n",
       "      <td>6270.0</td>\n",
       "    </tr>\n",
       "    <tr>\n",
       "      <th>1</th>\n",
       "      <td>12898.0</td>\n",
       "      <td>12251.0</td>\n",
       "    </tr>\n",
       "    <tr>\n",
       "      <th>2</th>\n",
       "      <td>19329.0</td>\n",
       "      <td>14733.0</td>\n",
       "    </tr>\n",
       "    <tr>\n",
       "      <th>3</th>\n",
       "      <td>16289.0</td>\n",
       "      <td>15136.0</td>\n",
       "    </tr>\n",
       "    <tr>\n",
       "      <th>4</th>\n",
       "      <td>4423.0</td>\n",
       "      <td>4778.0</td>\n",
       "    </tr>\n",
       "    <tr>\n",
       "      <th>5</th>\n",
       "      <td>3100.0</td>\n",
       "      <td>3350.0</td>\n",
       "    </tr>\n",
       "    <tr>\n",
       "      <th>6</th>\n",
       "      <td>4575.0</td>\n",
       "      <td>3790.0</td>\n",
       "    </tr>\n",
       "    <tr>\n",
       "      <th>7</th>\n",
       "      <td>12898.0</td>\n",
       "      <td>11800.0</td>\n",
       "    </tr>\n",
       "    <tr>\n",
       "      <th>8</th>\n",
       "      <td>13817.0</td>\n",
       "      <td>14209.0</td>\n",
       "    </tr>\n",
       "    <tr>\n",
       "      <th>9</th>\n",
       "      <td>12692.0</td>\n",
       "      <td>12617.0</td>\n",
       "    </tr>\n",
       "  </tbody>\n",
       "</table>\n",
       "</div>"
      ],
      "text/plain": [
       "    Actual  Predicted\n",
       "0   5380.0     6270.0\n",
       "1  12898.0    12251.0\n",
       "2  19329.0    14733.0\n",
       "3  16289.0    15136.0\n",
       "4   4423.0     4778.0\n",
       "5   3100.0     3350.0\n",
       "6   4575.0     3790.0\n",
       "7  12898.0    11800.0\n",
       "8  13817.0    14209.0\n",
       "9  12692.0    12617.0"
      ]
     },
     "execution_count": 160,
     "metadata": {},
     "output_type": "execute_result"
    }
   ],
   "source": [
    "df_predicted.head(10)"
   ]
  },
  {
   "cell_type": "code",
   "execution_count": 161,
   "metadata": {},
   "outputs": [
    {
     "name": "stdout",
     "output_type": "stream",
     "text": [
      "RMSE 1691.03\n"
     ]
    }
   ],
   "source": [
    "from math import sqrt\n",
    "#Find RMSE\n",
    "print('RMSE %.2f'%sqrt(mean_squared_error(Y_test,Y_predict)))"
   ]
  },
  {
   "cell_type": "code",
   "execution_count": 166,
   "metadata": {},
   "outputs": [],
   "source": [
    "from catboost import CatBoostRegressor"
   ]
  },
  {
   "cell_type": "code",
   "execution_count": 167,
   "metadata": {},
   "outputs": [
    {
     "name": "stdout",
     "output_type": "stream",
     "text": [
      "0:\tlearn: 9381.4499017\ttotal: 155ms\tremaining: 2m 34s\n",
      "1:\tlearn: 9124.9192092\ttotal: 248ms\tremaining: 2m 3s\n",
      "2:\tlearn: 8882.9082128\ttotal: 321ms\tremaining: 1m 46s\n",
      "3:\tlearn: 8645.1852863\ttotal: 365ms\tremaining: 1m 30s\n",
      "4:\tlearn: 8419.1204894\ttotal: 428ms\tremaining: 1m 25s\n",
      "5:\tlearn: 8193.3468277\ttotal: 501ms\tremaining: 1m 23s\n",
      "6:\tlearn: 7978.5790609\ttotal: 560ms\tremaining: 1m 19s\n",
      "7:\tlearn: 7770.8346495\ttotal: 625ms\tremaining: 1m 17s\n",
      "8:\tlearn: 7569.8031573\ttotal: 681ms\tremaining: 1m 15s\n",
      "9:\tlearn: 7372.1250321\ttotal: 744ms\tremaining: 1m 13s\n",
      "10:\tlearn: 7183.4242088\ttotal: 807ms\tremaining: 1m 12s\n",
      "11:\tlearn: 7002.5341041\ttotal: 867ms\tremaining: 1m 11s\n",
      "12:\tlearn: 6821.9086631\ttotal: 943ms\tremaining: 1m 11s\n",
      "13:\tlearn: 6649.5313741\ttotal: 1.05s\tremaining: 1m 14s\n",
      "14:\tlearn: 6486.9181618\ttotal: 1.16s\tremaining: 1m 16s\n",
      "15:\tlearn: 6329.5323061\ttotal: 1.27s\tremaining: 1m 18s\n",
      "16:\tlearn: 6176.1709015\ttotal: 1.36s\tremaining: 1m 18s\n",
      "17:\tlearn: 6029.5464580\ttotal: 1.46s\tremaining: 1m 19s\n",
      "18:\tlearn: 5888.0212760\ttotal: 1.53s\tremaining: 1m 19s\n",
      "19:\tlearn: 5748.0608851\ttotal: 1.62s\tremaining: 1m 19s\n",
      "20:\tlearn: 5616.0613232\ttotal: 1.69s\tremaining: 1m 18s\n",
      "21:\tlearn: 5496.4100057\ttotal: 1.77s\tremaining: 1m 18s\n",
      "22:\tlearn: 5369.6152193\ttotal: 1.84s\tremaining: 1m 18s\n",
      "23:\tlearn: 5250.3367710\ttotal: 1.91s\tremaining: 1m 17s\n",
      "24:\tlearn: 5132.7381814\ttotal: 2.01s\tremaining: 1m 18s\n",
      "25:\tlearn: 5022.9404562\ttotal: 2.07s\tremaining: 1m 17s\n",
      "26:\tlearn: 4918.1532526\ttotal: 2.13s\tremaining: 1m 16s\n",
      "27:\tlearn: 4813.6746725\ttotal: 2.21s\tremaining: 1m 16s\n",
      "28:\tlearn: 4713.0902899\ttotal: 2.27s\tremaining: 1m 16s\n",
      "29:\tlearn: 4617.3182861\ttotal: 2.32s\tremaining: 1m 15s\n",
      "30:\tlearn: 4525.5520513\ttotal: 2.39s\tremaining: 1m 14s\n",
      "31:\tlearn: 4438.8291934\ttotal: 2.46s\tremaining: 1m 14s\n",
      "32:\tlearn: 4351.3426658\ttotal: 2.53s\tremaining: 1m 14s\n",
      "33:\tlearn: 4267.0453230\ttotal: 2.6s\tremaining: 1m 13s\n",
      "34:\tlearn: 4184.7956541\ttotal: 2.67s\tremaining: 1m 13s\n",
      "35:\tlearn: 4108.2786928\ttotal: 2.73s\tremaining: 1m 13s\n",
      "36:\tlearn: 4035.5808238\ttotal: 2.79s\tremaining: 1m 12s\n",
      "37:\tlearn: 3961.0532196\ttotal: 2.87s\tremaining: 1m 12s\n",
      "38:\tlearn: 3891.7304789\ttotal: 2.92s\tremaining: 1m 12s\n",
      "39:\tlearn: 3827.3779629\ttotal: 3s\tremaining: 1m 11s\n",
      "40:\tlearn: 3764.9464443\ttotal: 3.09s\tremaining: 1m 12s\n",
      "41:\tlearn: 3704.3483932\ttotal: 3.15s\tremaining: 1m 11s\n",
      "42:\tlearn: 3650.6577914\ttotal: 3.21s\tremaining: 1m 11s\n",
      "43:\tlearn: 3593.7102289\ttotal: 3.27s\tremaining: 1m 11s\n",
      "44:\tlearn: 3542.0416851\ttotal: 3.33s\tremaining: 1m 10s\n",
      "45:\tlearn: 3492.1632029\ttotal: 3.38s\tremaining: 1m 10s\n",
      "46:\tlearn: 3449.1833990\ttotal: 3.41s\tremaining: 1m 9s\n",
      "47:\tlearn: 3404.1785152\ttotal: 3.47s\tremaining: 1m 8s\n",
      "48:\tlearn: 3358.8770817\ttotal: 3.54s\tremaining: 1m 8s\n",
      "49:\tlearn: 3314.6135081\ttotal: 3.61s\tremaining: 1m 8s\n",
      "50:\tlearn: 3272.6279033\ttotal: 3.67s\tremaining: 1m 8s\n",
      "51:\tlearn: 3233.7921720\ttotal: 3.74s\tremaining: 1m 8s\n",
      "52:\tlearn: 3199.3109191\ttotal: 3.79s\tremaining: 1m 7s\n",
      "53:\tlearn: 3159.1524662\ttotal: 3.85s\tremaining: 1m 7s\n",
      "54:\tlearn: 3118.7175248\ttotal: 3.91s\tremaining: 1m 7s\n",
      "55:\tlearn: 3082.2308957\ttotal: 4s\tremaining: 1m 7s\n",
      "56:\tlearn: 3051.3991249\ttotal: 4.06s\tremaining: 1m 7s\n",
      "57:\tlearn: 3022.2616760\ttotal: 4.12s\tremaining: 1m 6s\n",
      "58:\tlearn: 2988.4549958\ttotal: 4.19s\tremaining: 1m 6s\n",
      "59:\tlearn: 2960.9222708\ttotal: 4.25s\tremaining: 1m 6s\n",
      "60:\tlearn: 2931.6901617\ttotal: 4.31s\tremaining: 1m 6s\n",
      "61:\tlearn: 2906.2384073\ttotal: 4.38s\tremaining: 1m 6s\n",
      "62:\tlearn: 2883.2946960\ttotal: 4.43s\tremaining: 1m 5s\n",
      "63:\tlearn: 2860.3445170\ttotal: 4.5s\tremaining: 1m 5s\n",
      "64:\tlearn: 2836.6111988\ttotal: 4.57s\tremaining: 1m 5s\n",
      "65:\tlearn: 2815.3867562\ttotal: 4.64s\tremaining: 1m 5s\n",
      "66:\tlearn: 2797.2859318\ttotal: 4.69s\tremaining: 1m 5s\n",
      "67:\tlearn: 2769.7366933\ttotal: 4.74s\tremaining: 1m 5s\n",
      "68:\tlearn: 2754.5818250\ttotal: 4.81s\tremaining: 1m 4s\n",
      "69:\tlearn: 2735.5781008\ttotal: 4.87s\tremaining: 1m 4s\n",
      "70:\tlearn: 2715.4286197\ttotal: 4.94s\tremaining: 1m 4s\n",
      "71:\tlearn: 2701.1910655\ttotal: 5s\tremaining: 1m 4s\n",
      "72:\tlearn: 2683.1805142\ttotal: 5.06s\tremaining: 1m 4s\n",
      "73:\tlearn: 2664.7882871\ttotal: 5.13s\tremaining: 1m 4s\n",
      "74:\tlearn: 2652.0096547\ttotal: 5.21s\tremaining: 1m 4s\n",
      "75:\tlearn: 2638.2900060\ttotal: 5.27s\tremaining: 1m 4s\n",
      "76:\tlearn: 2622.4832685\ttotal: 5.32s\tremaining: 1m 3s\n",
      "77:\tlearn: 2604.9657682\ttotal: 5.39s\tremaining: 1m 3s\n",
      "78:\tlearn: 2589.7542594\ttotal: 5.46s\tremaining: 1m 3s\n",
      "79:\tlearn: 2574.3454968\ttotal: 5.52s\tremaining: 1m 3s\n",
      "80:\tlearn: 2560.7816604\ttotal: 5.58s\tremaining: 1m 3s\n",
      "81:\tlearn: 2550.1620381\ttotal: 5.64s\tremaining: 1m 3s\n",
      "82:\tlearn: 2540.7323839\ttotal: 5.71s\tremaining: 1m 3s\n",
      "83:\tlearn: 2531.6824938\ttotal: 5.78s\tremaining: 1m 3s\n",
      "84:\tlearn: 2517.3318653\ttotal: 5.86s\tremaining: 1m 3s\n",
      "85:\tlearn: 2504.2576634\ttotal: 5.92s\tremaining: 1m 2s\n",
      "86:\tlearn: 2490.2981017\ttotal: 5.99s\tremaining: 1m 2s\n",
      "87:\tlearn: 2480.4380436\ttotal: 6.06s\tremaining: 1m 2s\n",
      "88:\tlearn: 2468.1133013\ttotal: 6.12s\tremaining: 1m 2s\n",
      "89:\tlearn: 2458.4893971\ttotal: 6.18s\tremaining: 1m 2s\n",
      "90:\tlearn: 2448.5793937\ttotal: 6.25s\tremaining: 1m 2s\n",
      "91:\tlearn: 2437.7334311\ttotal: 6.32s\tremaining: 1m 2s\n",
      "92:\tlearn: 2432.5138041\ttotal: 6.39s\tremaining: 1m 2s\n",
      "93:\tlearn: 2422.3846056\ttotal: 6.46s\tremaining: 1m 2s\n",
      "94:\tlearn: 2415.1044758\ttotal: 6.53s\tremaining: 1m 2s\n",
      "95:\tlearn: 2407.3918841\ttotal: 6.59s\tremaining: 1m 2s\n",
      "96:\tlearn: 2396.0149830\ttotal: 6.67s\tremaining: 1m 2s\n",
      "97:\tlearn: 2387.1958841\ttotal: 6.73s\tremaining: 1m 1s\n",
      "98:\tlearn: 2379.0929454\ttotal: 6.81s\tremaining: 1m 1s\n",
      "99:\tlearn: 2373.5109932\ttotal: 6.89s\tremaining: 1m 2s\n",
      "100:\tlearn: 2366.0052641\ttotal: 6.96s\tremaining: 1m 1s\n",
      "101:\tlearn: 2358.2232343\ttotal: 7.03s\tremaining: 1m 1s\n",
      "102:\tlearn: 2350.9886482\ttotal: 7.09s\tremaining: 1m 1s\n",
      "103:\tlearn: 2343.5025538\ttotal: 7.16s\tremaining: 1m 1s\n",
      "104:\tlearn: 2337.0931268\ttotal: 7.23s\tremaining: 1m 1s\n",
      "105:\tlearn: 2329.3133006\ttotal: 7.29s\tremaining: 1m 1s\n",
      "106:\tlearn: 2324.3535725\ttotal: 7.36s\tremaining: 1m 1s\n",
      "107:\tlearn: 2317.1389603\ttotal: 7.44s\tremaining: 1m 1s\n",
      "108:\tlearn: 2310.3262771\ttotal: 7.5s\tremaining: 1m 1s\n",
      "109:\tlearn: 2302.8316312\ttotal: 7.57s\tremaining: 1m 1s\n",
      "110:\tlearn: 2296.3282646\ttotal: 7.67s\tremaining: 1m 1s\n",
      "111:\tlearn: 2291.8747604\ttotal: 7.75s\tremaining: 1m 1s\n",
      "112:\tlearn: 2285.8427642\ttotal: 7.83s\tremaining: 1m 1s\n",
      "113:\tlearn: 2280.8706218\ttotal: 7.9s\tremaining: 1m 1s\n",
      "114:\tlearn: 2276.1641569\ttotal: 7.95s\tremaining: 1m 1s\n",
      "115:\tlearn: 2272.3175174\ttotal: 8s\tremaining: 1m\n",
      "116:\tlearn: 2266.1870326\ttotal: 8.06s\tremaining: 1m\n",
      "117:\tlearn: 2262.8642081\ttotal: 8.12s\tremaining: 1m\n",
      "118:\tlearn: 2256.3497631\ttotal: 8.19s\tremaining: 1m\n",
      "119:\tlearn: 2250.0986358\ttotal: 8.24s\tremaining: 1m\n",
      "120:\tlearn: 2247.3178798\ttotal: 8.3s\tremaining: 1m\n",
      "121:\tlearn: 2243.4013720\ttotal: 8.37s\tremaining: 1m\n",
      "122:\tlearn: 2239.3370436\ttotal: 8.44s\tremaining: 1m\n",
      "123:\tlearn: 2233.8466050\ttotal: 8.49s\tremaining: 60s\n",
      "124:\tlearn: 2230.9696960\ttotal: 8.55s\tremaining: 59.9s\n",
      "125:\tlearn: 2227.9915785\ttotal: 8.62s\tremaining: 59.8s\n",
      "126:\tlearn: 2225.7261172\ttotal: 8.67s\tremaining: 59.6s\n",
      "127:\tlearn: 2219.1967542\ttotal: 8.72s\tremaining: 59.4s\n",
      "128:\tlearn: 2213.0306146\ttotal: 8.78s\tremaining: 59.3s\n",
      "129:\tlearn: 2208.4338744\ttotal: 8.84s\tremaining: 59.2s\n",
      "130:\tlearn: 2204.7577099\ttotal: 8.89s\tremaining: 59s\n",
      "131:\tlearn: 2201.7613127\ttotal: 8.95s\tremaining: 58.9s\n",
      "132:\tlearn: 2197.8401812\ttotal: 9.01s\tremaining: 58.7s\n",
      "133:\tlearn: 2194.0092315\ttotal: 9.07s\tremaining: 58.6s\n",
      "134:\tlearn: 2190.2357111\ttotal: 9.13s\tremaining: 58.5s\n",
      "135:\tlearn: 2187.3668838\ttotal: 9.18s\tremaining: 58.3s\n",
      "136:\tlearn: 2181.4617129\ttotal: 9.24s\tremaining: 58.2s\n",
      "137:\tlearn: 2177.3964366\ttotal: 9.3s\tremaining: 58.1s\n",
      "138:\tlearn: 2174.2847145\ttotal: 9.35s\tremaining: 57.9s\n",
      "139:\tlearn: 2171.1031951\ttotal: 9.41s\tremaining: 57.8s\n",
      "140:\tlearn: 2167.8950518\ttotal: 9.46s\tremaining: 57.6s\n",
      "141:\tlearn: 2164.0705688\ttotal: 9.52s\tremaining: 57.5s\n",
      "142:\tlearn: 2160.2658569\ttotal: 9.57s\tremaining: 57.4s\n",
      "143:\tlearn: 2155.4255669\ttotal: 9.62s\tremaining: 57.2s\n",
      "144:\tlearn: 2153.0558716\ttotal: 9.68s\tremaining: 57.1s\n",
      "145:\tlearn: 2151.5659925\ttotal: 9.74s\tremaining: 57s\n",
      "146:\tlearn: 2148.0456625\ttotal: 9.79s\tremaining: 56.8s\n",
      "147:\tlearn: 2146.6132769\ttotal: 9.84s\tremaining: 56.7s\n",
      "148:\tlearn: 2144.3748628\ttotal: 9.9s\tremaining: 56.5s\n",
      "149:\tlearn: 2142.3028453\ttotal: 9.97s\tremaining: 56.5s\n",
      "150:\tlearn: 2139.0068712\ttotal: 10s\tremaining: 56.4s\n",
      "151:\tlearn: 2135.1809437\ttotal: 10.1s\tremaining: 56.3s\n"
     ]
    },
    {
     "name": "stdout",
     "output_type": "stream",
     "text": [
      "152:\tlearn: 2132.0607192\ttotal: 10.2s\tremaining: 56.2s\n",
      "153:\tlearn: 2128.4342834\ttotal: 10.2s\tremaining: 56.2s\n",
      "154:\tlearn: 2124.9941422\ttotal: 10.3s\tremaining: 56s\n",
      "155:\tlearn: 2123.1457056\ttotal: 10.3s\tremaining: 55.9s\n",
      "156:\tlearn: 2120.9099642\ttotal: 10.4s\tremaining: 55.8s\n",
      "157:\tlearn: 2118.1290300\ttotal: 10.4s\tremaining: 55.7s\n",
      "158:\tlearn: 2115.9550010\ttotal: 10.5s\tremaining: 55.5s\n",
      "159:\tlearn: 2112.3955869\ttotal: 10.6s\tremaining: 55.4s\n",
      "160:\tlearn: 2109.7603011\ttotal: 10.6s\tremaining: 55.3s\n",
      "161:\tlearn: 2104.2430789\ttotal: 10.7s\tremaining: 55.2s\n",
      "162:\tlearn: 2099.9509300\ttotal: 10.7s\tremaining: 55s\n",
      "163:\tlearn: 2097.4733997\ttotal: 10.8s\tremaining: 54.9s\n",
      "164:\tlearn: 2096.0938198\ttotal: 10.8s\tremaining: 54.8s\n",
      "165:\tlearn: 2092.9834211\ttotal: 10.9s\tremaining: 54.7s\n",
      "166:\tlearn: 2090.2208720\ttotal: 10.9s\tremaining: 54.5s\n",
      "167:\tlearn: 2087.9397366\ttotal: 11s\tremaining: 54.4s\n",
      "168:\tlearn: 2084.4604626\ttotal: 11s\tremaining: 54.3s\n",
      "169:\tlearn: 2083.1922244\ttotal: 11.1s\tremaining: 54.2s\n",
      "170:\tlearn: 2080.0762881\ttotal: 11.2s\tremaining: 54.1s\n",
      "171:\tlearn: 2076.7559599\ttotal: 11.2s\tremaining: 53.9s\n",
      "172:\tlearn: 2075.5492406\ttotal: 11.3s\tremaining: 53.8s\n",
      "173:\tlearn: 2073.4029480\ttotal: 11.3s\tremaining: 53.7s\n",
      "174:\tlearn: 2070.1482730\ttotal: 11.4s\tremaining: 53.6s\n",
      "175:\tlearn: 2068.1432932\ttotal: 11.4s\tremaining: 53.5s\n",
      "176:\tlearn: 2065.9677396\ttotal: 11.5s\tremaining: 53.4s\n",
      "177:\tlearn: 2064.6706750\ttotal: 11.5s\tremaining: 53.3s\n",
      "178:\tlearn: 2062.2319077\ttotal: 11.6s\tremaining: 53.1s\n",
      "179:\tlearn: 2059.6088396\ttotal: 11.6s\tremaining: 53s\n",
      "180:\tlearn: 2057.9618513\ttotal: 11.7s\tremaining: 52.9s\n",
      "181:\tlearn: 2055.5839114\ttotal: 11.8s\tremaining: 52.8s\n",
      "182:\tlearn: 2053.6533667\ttotal: 11.8s\tremaining: 52.7s\n",
      "183:\tlearn: 2051.5262934\ttotal: 11.9s\tremaining: 52.6s\n",
      "184:\tlearn: 2050.1386774\ttotal: 11.9s\tremaining: 52.5s\n",
      "185:\tlearn: 2046.1696159\ttotal: 12s\tremaining: 52.4s\n",
      "186:\tlearn: 2044.0411309\ttotal: 12s\tremaining: 52.3s\n",
      "187:\tlearn: 2040.9151047\ttotal: 12.1s\tremaining: 52.2s\n",
      "188:\tlearn: 2039.7811056\ttotal: 12.2s\tremaining: 52.1s\n",
      "189:\tlearn: 2039.1591519\ttotal: 12.2s\tremaining: 52.1s\n",
      "190:\tlearn: 2038.5910425\ttotal: 12.3s\tremaining: 51.9s\n",
      "191:\tlearn: 2036.9683159\ttotal: 12.3s\tremaining: 51.8s\n",
      "192:\tlearn: 2034.9280119\ttotal: 12.4s\tremaining: 51.7s\n",
      "193:\tlearn: 2033.1950668\ttotal: 12.4s\tremaining: 51.7s\n",
      "194:\tlearn: 2032.3197383\ttotal: 12.5s\tremaining: 51.6s\n",
      "195:\tlearn: 2028.8140933\ttotal: 12.5s\tremaining: 51.5s\n",
      "196:\tlearn: 2028.3040156\ttotal: 12.6s\tremaining: 51.4s\n",
      "197:\tlearn: 2027.1019853\ttotal: 12.7s\tremaining: 51.3s\n",
      "198:\tlearn: 2025.8088820\ttotal: 12.7s\tremaining: 51.2s\n",
      "199:\tlearn: 2023.3770190\ttotal: 12.8s\tremaining: 51.1s\n",
      "200:\tlearn: 2021.3251844\ttotal: 12.8s\tremaining: 51s\n",
      "201:\tlearn: 2018.9488992\ttotal: 12.9s\tremaining: 50.9s\n",
      "202:\tlearn: 2017.4124792\ttotal: 12.9s\tremaining: 50.8s\n",
      "203:\tlearn: 2015.7651217\ttotal: 13s\tremaining: 50.7s\n",
      "204:\tlearn: 2014.5427747\ttotal: 13.1s\tremaining: 50.7s\n",
      "205:\tlearn: 2011.1350930\ttotal: 13.1s\tremaining: 50.6s\n",
      "206:\tlearn: 2009.5796136\ttotal: 13.2s\tremaining: 50.5s\n",
      "207:\tlearn: 2008.0576847\ttotal: 13.2s\tremaining: 50.4s\n",
      "208:\tlearn: 2004.6887171\ttotal: 13.3s\tremaining: 50.3s\n",
      "209:\tlearn: 2003.6964143\ttotal: 13.3s\tremaining: 50.2s\n",
      "210:\tlearn: 2002.2221433\ttotal: 13.4s\tremaining: 50.1s\n",
      "211:\tlearn: 2001.2910101\ttotal: 13.4s\tremaining: 50s\n",
      "212:\tlearn: 1999.2833057\ttotal: 13.5s\tremaining: 49.9s\n",
      "213:\tlearn: 1997.7009098\ttotal: 13.6s\tremaining: 49.8s\n",
      "214:\tlearn: 1995.9260937\ttotal: 13.6s\tremaining: 49.7s\n",
      "215:\tlearn: 1994.8682868\ttotal: 13.7s\tremaining: 49.6s\n",
      "216:\tlearn: 1993.5383002\ttotal: 13.7s\tremaining: 49.5s\n",
      "217:\tlearn: 1992.0895569\ttotal: 13.8s\tremaining: 49.4s\n",
      "218:\tlearn: 1991.0766540\ttotal: 13.8s\tremaining: 49.3s\n",
      "219:\tlearn: 1989.8729065\ttotal: 13.9s\tremaining: 49.2s\n",
      "220:\tlearn: 1987.3077419\ttotal: 13.9s\tremaining: 49.1s\n",
      "221:\tlearn: 1986.1232279\ttotal: 14s\tremaining: 49s\n",
      "222:\tlearn: 1984.3407017\ttotal: 14s\tremaining: 48.9s\n",
      "223:\tlearn: 1982.3885133\ttotal: 14.1s\tremaining: 48.9s\n",
      "224:\tlearn: 1980.7902805\ttotal: 14.2s\tremaining: 48.9s\n",
      "225:\tlearn: 1978.6464290\ttotal: 14.3s\tremaining: 49s\n",
      "226:\tlearn: 1977.4321442\ttotal: 14.4s\tremaining: 48.9s\n",
      "227:\tlearn: 1975.8071772\ttotal: 14.4s\tremaining: 48.9s\n",
      "228:\tlearn: 1974.0543214\ttotal: 14.5s\tremaining: 48.8s\n",
      "229:\tlearn: 1972.5154046\ttotal: 14.6s\tremaining: 48.7s\n",
      "230:\tlearn: 1971.9771569\ttotal: 14.6s\tremaining: 48.6s\n",
      "231:\tlearn: 1969.9349382\ttotal: 14.7s\tremaining: 48.6s\n",
      "232:\tlearn: 1968.8902351\ttotal: 14.7s\tremaining: 48.6s\n",
      "233:\tlearn: 1966.8287534\ttotal: 14.8s\tremaining: 48.5s\n",
      "234:\tlearn: 1964.0881074\ttotal: 14.9s\tremaining: 48.4s\n",
      "235:\tlearn: 1962.3192105\ttotal: 14.9s\tremaining: 48.4s\n",
      "236:\tlearn: 1961.2395794\ttotal: 15s\tremaining: 48.3s\n",
      "237:\tlearn: 1960.3738351\ttotal: 15.1s\tremaining: 48.2s\n",
      "238:\tlearn: 1958.3890361\ttotal: 15.1s\tremaining: 48.2s\n",
      "239:\tlearn: 1956.2590754\ttotal: 15.2s\tremaining: 48.1s\n",
      "240:\tlearn: 1954.5436674\ttotal: 15.3s\tremaining: 48.1s\n",
      "241:\tlearn: 1952.8600829\ttotal: 15.4s\tremaining: 48.1s\n",
      "242:\tlearn: 1951.0848691\ttotal: 15.4s\tremaining: 48.1s\n",
      "243:\tlearn: 1949.8923180\ttotal: 15.5s\tremaining: 48.1s\n",
      "244:\tlearn: 1949.0402702\ttotal: 15.6s\tremaining: 48s\n",
      "245:\tlearn: 1947.8060694\ttotal: 15.7s\tremaining: 48s\n",
      "246:\tlearn: 1946.9492627\ttotal: 15.7s\tremaining: 48s\n",
      "247:\tlearn: 1945.3925293\ttotal: 15.8s\tremaining: 47.9s\n",
      "248:\tlearn: 1943.8944723\ttotal: 15.9s\tremaining: 47.9s\n",
      "249:\tlearn: 1942.9584813\ttotal: 16s\tremaining: 47.9s\n",
      "250:\tlearn: 1941.5343723\ttotal: 16s\tremaining: 47.8s\n",
      "251:\tlearn: 1940.6175331\ttotal: 16.1s\tremaining: 47.9s\n",
      "252:\tlearn: 1939.0715937\ttotal: 16.2s\tremaining: 47.9s\n",
      "253:\tlearn: 1937.8200312\ttotal: 16.3s\tremaining: 47.8s\n",
      "254:\tlearn: 1936.4394236\ttotal: 16.3s\tremaining: 47.8s\n",
      "255:\tlearn: 1934.7616918\ttotal: 16.4s\tremaining: 47.7s\n",
      "256:\tlearn: 1934.2516090\ttotal: 16.5s\tremaining: 47.7s\n",
      "257:\tlearn: 1933.1091023\ttotal: 16.6s\tremaining: 47.6s\n",
      "258:\tlearn: 1932.3733665\ttotal: 16.6s\tremaining: 47.6s\n",
      "259:\tlearn: 1931.1251953\ttotal: 16.7s\tremaining: 47.5s\n",
      "260:\tlearn: 1930.0417759\ttotal: 16.8s\tremaining: 47.4s\n",
      "261:\tlearn: 1928.8422996\ttotal: 16.8s\tremaining: 47.4s\n",
      "262:\tlearn: 1928.4239446\ttotal: 16.9s\tremaining: 47.3s\n",
      "263:\tlearn: 1926.9535625\ttotal: 16.9s\tremaining: 47.2s\n",
      "264:\tlearn: 1924.6768377\ttotal: 17s\tremaining: 47.1s\n",
      "265:\tlearn: 1923.7074778\ttotal: 17s\tremaining: 47s\n",
      "266:\tlearn: 1921.9873812\ttotal: 17.1s\tremaining: 46.9s\n",
      "267:\tlearn: 1920.7039558\ttotal: 17.2s\tremaining: 46.9s\n",
      "268:\tlearn: 1919.4735235\ttotal: 17.2s\tremaining: 46.8s\n",
      "269:\tlearn: 1918.3316955\ttotal: 17.3s\tremaining: 46.7s\n",
      "270:\tlearn: 1917.2549118\ttotal: 17.3s\tremaining: 46.6s\n",
      "271:\tlearn: 1916.5085824\ttotal: 17.4s\tremaining: 46.5s\n",
      "272:\tlearn: 1915.2731321\ttotal: 17.4s\tremaining: 46.4s\n",
      "273:\tlearn: 1913.8034310\ttotal: 17.5s\tremaining: 46.3s\n",
      "274:\tlearn: 1913.1358179\ttotal: 17.6s\tremaining: 46.3s\n",
      "275:\tlearn: 1909.3468356\ttotal: 17.6s\tremaining: 46.2s\n",
      "276:\tlearn: 1908.4028554\ttotal: 17.7s\tremaining: 46.1s\n",
      "277:\tlearn: 1906.2636201\ttotal: 17.7s\tremaining: 46s\n",
      "278:\tlearn: 1903.8408165\ttotal: 17.8s\tremaining: 46s\n",
      "279:\tlearn: 1902.5353387\ttotal: 17.8s\tremaining: 45.9s\n",
      "280:\tlearn: 1901.2545958\ttotal: 17.9s\tremaining: 45.8s\n",
      "281:\tlearn: 1899.9967349\ttotal: 18s\tremaining: 45.7s\n",
      "282:\tlearn: 1898.3524740\ttotal: 18s\tremaining: 45.7s\n",
      "283:\tlearn: 1897.6193716\ttotal: 18.1s\tremaining: 45.6s\n",
      "284:\tlearn: 1896.8878095\ttotal: 18.1s\tremaining: 45.5s\n",
      "285:\tlearn: 1896.2073461\ttotal: 18.2s\tremaining: 45.4s\n",
      "286:\tlearn: 1895.0568010\ttotal: 18.2s\tremaining: 45.3s\n",
      "287:\tlearn: 1893.2217362\ttotal: 18.3s\tremaining: 45.2s\n",
      "288:\tlearn: 1891.6915090\ttotal: 18.4s\tremaining: 45.2s\n",
      "289:\tlearn: 1891.0748141\ttotal: 18.4s\tremaining: 45.1s\n",
      "290:\tlearn: 1889.6692000\ttotal: 18.5s\tremaining: 45s\n",
      "291:\tlearn: 1887.8422838\ttotal: 18.5s\tremaining: 44.9s\n",
      "292:\tlearn: 1885.8943414\ttotal: 18.6s\tremaining: 44.8s\n",
      "293:\tlearn: 1884.9889695\ttotal: 18.6s\tremaining: 44.8s\n",
      "294:\tlearn: 1883.3841393\ttotal: 18.7s\tremaining: 44.7s\n",
      "295:\tlearn: 1882.3291930\ttotal: 18.7s\tremaining: 44.6s\n",
      "296:\tlearn: 1879.6587065\ttotal: 18.8s\tremaining: 44.5s\n",
      "297:\tlearn: 1878.4909309\ttotal: 18.9s\tremaining: 44.4s\n",
      "298:\tlearn: 1877.8088345\ttotal: 18.9s\tremaining: 44.3s\n",
      "299:\tlearn: 1876.8727984\ttotal: 19s\tremaining: 44.3s\n",
      "300:\tlearn: 1876.1485968\ttotal: 19s\tremaining: 44.2s\n",
      "301:\tlearn: 1875.1043076\ttotal: 19.1s\tremaining: 44.1s\n",
      "302:\tlearn: 1874.1543761\ttotal: 19.1s\tremaining: 44s\n",
      "303:\tlearn: 1872.5863339\ttotal: 19.2s\tremaining: 44s\n",
      "304:\tlearn: 1871.7841129\ttotal: 19.3s\tremaining: 43.9s\n"
     ]
    },
    {
     "name": "stdout",
     "output_type": "stream",
     "text": [
      "305:\tlearn: 1869.5817853\ttotal: 19.3s\tremaining: 43.8s\n",
      "306:\tlearn: 1868.6633690\ttotal: 19.4s\tremaining: 43.8s\n",
      "307:\tlearn: 1867.2529331\ttotal: 19.4s\tremaining: 43.7s\n",
      "308:\tlearn: 1865.2253696\ttotal: 19.5s\tremaining: 43.6s\n",
      "309:\tlearn: 1863.6777680\ttotal: 19.5s\tremaining: 43.5s\n",
      "310:\tlearn: 1861.8046774\ttotal: 19.6s\tremaining: 43.4s\n",
      "311:\tlearn: 1860.2703663\ttotal: 19.7s\tremaining: 43.3s\n",
      "312:\tlearn: 1859.3745980\ttotal: 19.7s\tremaining: 43.3s\n",
      "313:\tlearn: 1858.3755426\ttotal: 19.8s\tremaining: 43.2s\n",
      "314:\tlearn: 1856.7216738\ttotal: 19.8s\tremaining: 43.1s\n",
      "315:\tlearn: 1855.9164054\ttotal: 19.9s\tremaining: 43s\n",
      "316:\tlearn: 1855.0952971\ttotal: 19.9s\tremaining: 42.9s\n",
      "317:\tlearn: 1854.3060009\ttotal: 20s\tremaining: 42.9s\n",
      "318:\tlearn: 1853.4678979\ttotal: 20.1s\tremaining: 42.8s\n",
      "319:\tlearn: 1852.1753079\ttotal: 20.1s\tremaining: 42.7s\n",
      "320:\tlearn: 1850.4874987\ttotal: 20.2s\tremaining: 42.6s\n",
      "321:\tlearn: 1849.7982175\ttotal: 20.2s\tremaining: 42.6s\n",
      "322:\tlearn: 1849.2172769\ttotal: 20.3s\tremaining: 42.5s\n",
      "323:\tlearn: 1848.3048939\ttotal: 20.3s\tremaining: 42.4s\n",
      "324:\tlearn: 1847.0125758\ttotal: 20.4s\tremaining: 42.3s\n",
      "325:\tlearn: 1846.3459518\ttotal: 20.4s\tremaining: 42.3s\n",
      "326:\tlearn: 1845.6016553\ttotal: 20.5s\tremaining: 42.2s\n",
      "327:\tlearn: 1842.5409284\ttotal: 20.6s\tremaining: 42.1s\n",
      "328:\tlearn: 1841.7867659\ttotal: 20.6s\tremaining: 42.1s\n",
      "329:\tlearn: 1840.3228451\ttotal: 20.7s\tremaining: 42s\n",
      "330:\tlearn: 1839.4277950\ttotal: 20.8s\tremaining: 42s\n",
      "331:\tlearn: 1838.3248394\ttotal: 20.8s\tremaining: 41.9s\n",
      "332:\tlearn: 1836.8828239\ttotal: 20.9s\tremaining: 41.8s\n",
      "333:\tlearn: 1836.1317170\ttotal: 20.9s\tremaining: 41.7s\n",
      "334:\tlearn: 1835.1343709\ttotal: 21s\tremaining: 41.7s\n",
      "335:\tlearn: 1833.6414466\ttotal: 21s\tremaining: 41.6s\n",
      "336:\tlearn: 1832.1924472\ttotal: 21.1s\tremaining: 41.5s\n",
      "337:\tlearn: 1831.0643551\ttotal: 21.1s\tremaining: 41.4s\n",
      "338:\tlearn: 1830.5104749\ttotal: 21.2s\tremaining: 41.3s\n",
      "339:\tlearn: 1829.6927396\ttotal: 21.3s\tremaining: 41.3s\n",
      "340:\tlearn: 1828.7977485\ttotal: 21.3s\tremaining: 41.2s\n",
      "341:\tlearn: 1827.6109420\ttotal: 21.4s\tremaining: 41.1s\n",
      "342:\tlearn: 1826.8490045\ttotal: 21.4s\tremaining: 41.1s\n",
      "343:\tlearn: 1824.9639247\ttotal: 21.5s\tremaining: 41s\n",
      "344:\tlearn: 1824.8894708\ttotal: 21.5s\tremaining: 40.9s\n",
      "345:\tlearn: 1823.9665832\ttotal: 21.6s\tremaining: 40.8s\n",
      "346:\tlearn: 1823.3533281\ttotal: 21.7s\tremaining: 40.8s\n",
      "347:\tlearn: 1821.8580579\ttotal: 21.7s\tremaining: 40.7s\n",
      "348:\tlearn: 1820.2207844\ttotal: 21.8s\tremaining: 40.6s\n",
      "349:\tlearn: 1818.8828959\ttotal: 21.8s\tremaining: 40.5s\n",
      "350:\tlearn: 1817.8989538\ttotal: 21.9s\tremaining: 40.5s\n",
      "351:\tlearn: 1817.4847399\ttotal: 21.9s\tremaining: 40.4s\n",
      "352:\tlearn: 1817.0000071\ttotal: 22s\tremaining: 40.4s\n",
      "353:\tlearn: 1815.7751686\ttotal: 22.1s\tremaining: 40.3s\n",
      "354:\tlearn: 1815.0819649\ttotal: 22.2s\tremaining: 40.3s\n",
      "355:\tlearn: 1812.5508266\ttotal: 22.2s\tremaining: 40.2s\n",
      "356:\tlearn: 1811.9132556\ttotal: 22.3s\tremaining: 40.1s\n",
      "357:\tlearn: 1811.0485274\ttotal: 22.3s\tremaining: 40.1s\n",
      "358:\tlearn: 1810.5698088\ttotal: 22.4s\tremaining: 40s\n",
      "359:\tlearn: 1809.9356443\ttotal: 22.4s\tremaining: 39.9s\n",
      "360:\tlearn: 1809.3642773\ttotal: 22.5s\tremaining: 39.8s\n",
      "361:\tlearn: 1808.6853292\ttotal: 22.6s\tremaining: 39.7s\n",
      "362:\tlearn: 1808.1040819\ttotal: 22.6s\tremaining: 39.7s\n",
      "363:\tlearn: 1807.4325802\ttotal: 22.7s\tremaining: 39.6s\n",
      "364:\tlearn: 1806.9345211\ttotal: 22.7s\tremaining: 39.6s\n",
      "365:\tlearn: 1806.3707173\ttotal: 22.8s\tremaining: 39.5s\n",
      "366:\tlearn: 1805.7504638\ttotal: 22.9s\tremaining: 39.5s\n",
      "367:\tlearn: 1804.6813622\ttotal: 22.9s\tremaining: 39.4s\n",
      "368:\tlearn: 1804.1736593\ttotal: 23s\tremaining: 39.3s\n",
      "369:\tlearn: 1803.6520058\ttotal: 23.1s\tremaining: 39.3s\n",
      "370:\tlearn: 1803.1539935\ttotal: 23.1s\tremaining: 39.2s\n",
      "371:\tlearn: 1802.3628175\ttotal: 23.2s\tremaining: 39.1s\n",
      "372:\tlearn: 1800.4283262\ttotal: 23.2s\tremaining: 39s\n",
      "373:\tlearn: 1799.2735301\ttotal: 23.3s\tremaining: 39s\n",
      "374:\tlearn: 1798.7158157\ttotal: 23.4s\tremaining: 38.9s\n",
      "375:\tlearn: 1797.9237624\ttotal: 23.4s\tremaining: 38.9s\n",
      "376:\tlearn: 1797.0596794\ttotal: 23.5s\tremaining: 38.8s\n",
      "377:\tlearn: 1794.4125083\ttotal: 23.6s\tremaining: 38.8s\n",
      "378:\tlearn: 1792.7730352\ttotal: 23.6s\tremaining: 38.7s\n",
      "379:\tlearn: 1792.2045920\ttotal: 23.7s\tremaining: 38.6s\n",
      "380:\tlearn: 1791.4021242\ttotal: 23.8s\tremaining: 38.6s\n",
      "381:\tlearn: 1789.6331448\ttotal: 23.8s\tremaining: 38.6s\n",
      "382:\tlearn: 1788.9497482\ttotal: 23.9s\tremaining: 38.5s\n",
      "383:\tlearn: 1787.6738105\ttotal: 24s\tremaining: 38.5s\n",
      "384:\tlearn: 1787.3041733\ttotal: 24.1s\tremaining: 38.4s\n",
      "385:\tlearn: 1786.1046002\ttotal: 24.1s\tremaining: 38.4s\n",
      "386:\tlearn: 1785.5185212\ttotal: 24.2s\tremaining: 38.4s\n",
      "387:\tlearn: 1784.8843407\ttotal: 24.3s\tremaining: 38.3s\n",
      "388:\tlearn: 1782.4239330\ttotal: 24.4s\tremaining: 38.3s\n",
      "389:\tlearn: 1782.1478863\ttotal: 24.4s\tremaining: 38.2s\n",
      "390:\tlearn: 1781.7513079\ttotal: 24.5s\tremaining: 38.1s\n",
      "391:\tlearn: 1781.1739187\ttotal: 24.5s\tremaining: 38s\n",
      "392:\tlearn: 1780.7471217\ttotal: 24.6s\tremaining: 38s\n",
      "393:\tlearn: 1780.1357269\ttotal: 24.6s\tremaining: 37.9s\n",
      "394:\tlearn: 1779.7307059\ttotal: 24.7s\tremaining: 37.8s\n",
      "395:\tlearn: 1778.6147636\ttotal: 24.8s\tremaining: 37.8s\n",
      "396:\tlearn: 1778.2793772\ttotal: 24.8s\tremaining: 37.7s\n",
      "397:\tlearn: 1777.7074484\ttotal: 24.9s\tremaining: 37.6s\n",
      "398:\tlearn: 1776.3966764\ttotal: 24.9s\tremaining: 37.5s\n",
      "399:\tlearn: 1776.0659392\ttotal: 25s\tremaining: 37.5s\n",
      "400:\tlearn: 1775.7716058\ttotal: 25s\tremaining: 37.4s\n",
      "401:\tlearn: 1774.6169361\ttotal: 25.1s\tremaining: 37.3s\n",
      "402:\tlearn: 1773.8228313\ttotal: 25.2s\tremaining: 37.3s\n",
      "403:\tlearn: 1773.3369167\ttotal: 25.2s\tremaining: 37.2s\n",
      "404:\tlearn: 1772.3158322\ttotal: 25.3s\tremaining: 37.2s\n",
      "405:\tlearn: 1771.9613883\ttotal: 25.4s\tremaining: 37.1s\n",
      "406:\tlearn: 1771.4955480\ttotal: 25.4s\tremaining: 37s\n",
      "407:\tlearn: 1770.5446620\ttotal: 25.5s\tremaining: 36.9s\n",
      "408:\tlearn: 1770.0734202\ttotal: 25.5s\tremaining: 36.9s\n",
      "409:\tlearn: 1769.2606910\ttotal: 25.6s\tremaining: 36.9s\n",
      "410:\tlearn: 1767.9572444\ttotal: 25.7s\tremaining: 36.8s\n",
      "411:\tlearn: 1767.0195821\ttotal: 25.7s\tremaining: 36.7s\n",
      "412:\tlearn: 1766.3298247\ttotal: 25.8s\tremaining: 36.7s\n",
      "413:\tlearn: 1765.1216099\ttotal: 25.9s\tremaining: 36.6s\n",
      "414:\tlearn: 1764.2256656\ttotal: 26s\tremaining: 36.6s\n",
      "415:\tlearn: 1763.0463631\ttotal: 26.1s\tremaining: 36.6s\n",
      "416:\tlearn: 1762.4534894\ttotal: 26.2s\tremaining: 36.6s\n",
      "417:\tlearn: 1762.0444368\ttotal: 26.3s\tremaining: 36.6s\n",
      "418:\tlearn: 1761.5736067\ttotal: 26.3s\tremaining: 36.5s\n",
      "419:\tlearn: 1760.7941178\ttotal: 26.4s\tremaining: 36.5s\n",
      "420:\tlearn: 1759.9526098\ttotal: 26.5s\tremaining: 36.5s\n",
      "421:\tlearn: 1758.7100306\ttotal: 26.6s\tremaining: 36.4s\n",
      "422:\tlearn: 1757.5900416\ttotal: 26.7s\tremaining: 36.4s\n",
      "423:\tlearn: 1756.9893308\ttotal: 26.8s\tremaining: 36.4s\n",
      "424:\tlearn: 1755.0230940\ttotal: 26.9s\tremaining: 36.4s\n",
      "425:\tlearn: 1753.2491497\ttotal: 27s\tremaining: 36.4s\n",
      "426:\tlearn: 1751.0709903\ttotal: 27.1s\tremaining: 36.4s\n",
      "427:\tlearn: 1750.5669020\ttotal: 27.2s\tremaining: 36.3s\n",
      "428:\tlearn: 1750.4986785\ttotal: 27.3s\tremaining: 36.3s\n",
      "429:\tlearn: 1750.0983776\ttotal: 27.4s\tremaining: 36.3s\n",
      "430:\tlearn: 1749.1471965\ttotal: 27.5s\tremaining: 36.3s\n",
      "431:\tlearn: 1748.5307368\ttotal: 27.6s\tremaining: 36.2s\n",
      "432:\tlearn: 1747.5184109\ttotal: 27.6s\tremaining: 36.2s\n",
      "433:\tlearn: 1746.9020622\ttotal: 27.7s\tremaining: 36.1s\n",
      "434:\tlearn: 1745.3992531\ttotal: 27.8s\tremaining: 36.1s\n",
      "435:\tlearn: 1743.3570315\ttotal: 27.9s\tremaining: 36.1s\n",
      "436:\tlearn: 1742.5810323\ttotal: 28s\tremaining: 36s\n",
      "437:\tlearn: 1741.9905347\ttotal: 28.1s\tremaining: 36s\n",
      "438:\tlearn: 1741.6145313\ttotal: 28.1s\tremaining: 36s\n",
      "439:\tlearn: 1741.2568060\ttotal: 28.2s\tremaining: 35.9s\n",
      "440:\tlearn: 1741.0281885\ttotal: 28.3s\tremaining: 35.8s\n",
      "441:\tlearn: 1740.2086849\ttotal: 28.3s\tremaining: 35.8s\n",
      "442:\tlearn: 1739.6352984\ttotal: 28.4s\tremaining: 35.7s\n",
      "443:\tlearn: 1738.7187784\ttotal: 28.5s\tremaining: 35.6s\n",
      "444:\tlearn: 1738.1054092\ttotal: 28.5s\tremaining: 35.6s\n",
      "445:\tlearn: 1737.1377213\ttotal: 28.6s\tremaining: 35.5s\n",
      "446:\tlearn: 1736.4263232\ttotal: 28.7s\tremaining: 35.5s\n",
      "447:\tlearn: 1735.9328236\ttotal: 28.7s\tremaining: 35.4s\n",
      "448:\tlearn: 1735.6051885\ttotal: 28.8s\tremaining: 35.3s\n",
      "449:\tlearn: 1735.2965335\ttotal: 28.9s\tremaining: 35.3s\n",
      "450:\tlearn: 1735.0621719\ttotal: 28.9s\tremaining: 35.2s\n",
      "451:\tlearn: 1734.0823237\ttotal: 29s\tremaining: 35.2s\n",
      "452:\tlearn: 1733.3424350\ttotal: 29.1s\tremaining: 35.1s\n",
      "453:\tlearn: 1732.8786675\ttotal: 29.1s\tremaining: 35s\n",
      "454:\tlearn: 1732.1275768\ttotal: 29.2s\tremaining: 35s\n"
     ]
    },
    {
     "name": "stdout",
     "output_type": "stream",
     "text": [
      "455:\tlearn: 1731.0400553\ttotal: 29.2s\tremaining: 34.9s\n",
      "456:\tlearn: 1730.1103394\ttotal: 29.3s\tremaining: 34.8s\n",
      "457:\tlearn: 1728.3748199\ttotal: 29.4s\tremaining: 34.8s\n",
      "458:\tlearn: 1727.9956442\ttotal: 29.4s\tremaining: 34.7s\n",
      "459:\tlearn: 1727.7459977\ttotal: 29.5s\tremaining: 34.6s\n",
      "460:\tlearn: 1726.9731063\ttotal: 29.5s\tremaining: 34.5s\n",
      "461:\tlearn: 1726.6144138\ttotal: 29.6s\tremaining: 34.5s\n",
      "462:\tlearn: 1726.2140549\ttotal: 29.7s\tremaining: 34.4s\n",
      "463:\tlearn: 1725.7871527\ttotal: 29.7s\tremaining: 34.3s\n",
      "464:\tlearn: 1725.3823592\ttotal: 29.8s\tremaining: 34.3s\n",
      "465:\tlearn: 1724.6350763\ttotal: 29.8s\tremaining: 34.2s\n",
      "466:\tlearn: 1724.3632903\ttotal: 29.9s\tremaining: 34.1s\n",
      "467:\tlearn: 1723.5799998\ttotal: 30s\tremaining: 34.1s\n",
      "468:\tlearn: 1723.2116722\ttotal: 30.1s\tremaining: 34.1s\n",
      "469:\tlearn: 1722.8330386\ttotal: 30.2s\tremaining: 34s\n",
      "470:\tlearn: 1722.4799887\ttotal: 30.2s\tremaining: 33.9s\n",
      "471:\tlearn: 1721.5014734\ttotal: 30.3s\tremaining: 33.9s\n",
      "472:\tlearn: 1721.2284858\ttotal: 30.4s\tremaining: 33.8s\n",
      "473:\tlearn: 1720.9289112\ttotal: 30.4s\tremaining: 33.8s\n",
      "474:\tlearn: 1720.7277701\ttotal: 30.5s\tremaining: 33.7s\n",
      "475:\tlearn: 1720.5184201\ttotal: 30.6s\tremaining: 33.6s\n",
      "476:\tlearn: 1719.9653963\ttotal: 30.6s\tremaining: 33.6s\n",
      "477:\tlearn: 1719.6325166\ttotal: 30.7s\tremaining: 33.5s\n",
      "478:\tlearn: 1719.2049412\ttotal: 30.7s\tremaining: 33.4s\n",
      "479:\tlearn: 1718.9805918\ttotal: 30.8s\tremaining: 33.4s\n",
      "480:\tlearn: 1718.6574132\ttotal: 30.9s\tremaining: 33.3s\n",
      "481:\tlearn: 1717.8005377\ttotal: 31s\tremaining: 33.3s\n",
      "482:\tlearn: 1717.6274241\ttotal: 31s\tremaining: 33.2s\n",
      "483:\tlearn: 1716.6931805\ttotal: 31.1s\tremaining: 33.2s\n",
      "484:\tlearn: 1716.2751552\ttotal: 31.2s\tremaining: 33.1s\n",
      "485:\tlearn: 1715.9557864\ttotal: 31.2s\tremaining: 33s\n",
      "486:\tlearn: 1715.1506560\ttotal: 31.3s\tremaining: 33s\n",
      "487:\tlearn: 1715.0840811\ttotal: 31.4s\tremaining: 32.9s\n",
      "488:\tlearn: 1714.4464413\ttotal: 31.4s\tremaining: 32.8s\n",
      "489:\tlearn: 1714.0807829\ttotal: 31.5s\tremaining: 32.8s\n",
      "490:\tlearn: 1713.0407982\ttotal: 31.6s\tremaining: 32.7s\n",
      "491:\tlearn: 1712.0620121\ttotal: 31.6s\tremaining: 32.6s\n",
      "492:\tlearn: 1711.3294118\ttotal: 31.7s\tremaining: 32.6s\n",
      "493:\tlearn: 1711.2589662\ttotal: 31.8s\tremaining: 32.5s\n",
      "494:\tlearn: 1710.9183721\ttotal: 31.8s\tremaining: 32.5s\n",
      "495:\tlearn: 1710.1700042\ttotal: 31.9s\tremaining: 32.4s\n",
      "496:\tlearn: 1709.7006351\ttotal: 32s\tremaining: 32.3s\n",
      "497:\tlearn: 1708.8592238\ttotal: 32s\tremaining: 32.3s\n",
      "498:\tlearn: 1708.6188069\ttotal: 32.1s\tremaining: 32.2s\n",
      "499:\tlearn: 1708.2152315\ttotal: 32.1s\tremaining: 32.1s\n",
      "500:\tlearn: 1705.4357816\ttotal: 32.2s\tremaining: 32.1s\n",
      "501:\tlearn: 1705.0744160\ttotal: 32.3s\tremaining: 32s\n",
      "502:\tlearn: 1704.8677330\ttotal: 32.3s\tremaining: 32s\n",
      "503:\tlearn: 1704.8189023\ttotal: 32.4s\tremaining: 31.9s\n",
      "504:\tlearn: 1704.1046830\ttotal: 32.4s\tremaining: 31.8s\n",
      "505:\tlearn: 1703.9488034\ttotal: 32.5s\tremaining: 31.7s\n",
      "506:\tlearn: 1703.5608759\ttotal: 32.6s\tremaining: 31.7s\n",
      "507:\tlearn: 1703.4198176\ttotal: 32.6s\tremaining: 31.6s\n",
      "508:\tlearn: 1702.8310236\ttotal: 32.7s\tremaining: 31.5s\n",
      "509:\tlearn: 1702.4475042\ttotal: 32.7s\tremaining: 31.4s\n",
      "510:\tlearn: 1701.9624413\ttotal: 32.8s\tremaining: 31.4s\n",
      "511:\tlearn: 1701.4972624\ttotal: 32.8s\tremaining: 31.3s\n",
      "512:\tlearn: 1701.4446600\ttotal: 32.9s\tremaining: 31.2s\n",
      "513:\tlearn: 1700.7605523\ttotal: 32.9s\tremaining: 31.1s\n",
      "514:\tlearn: 1700.7096597\ttotal: 33s\tremaining: 31.1s\n",
      "515:\tlearn: 1700.4166126\ttotal: 33s\tremaining: 31s\n",
      "516:\tlearn: 1699.4862310\ttotal: 33.1s\tremaining: 30.9s\n",
      "517:\tlearn: 1699.1336575\ttotal: 33.2s\tremaining: 30.9s\n",
      "518:\tlearn: 1698.3957429\ttotal: 33.2s\tremaining: 30.8s\n",
      "519:\tlearn: 1698.2763109\ttotal: 33.3s\tremaining: 30.7s\n",
      "520:\tlearn: 1697.1170752\ttotal: 33.3s\tremaining: 30.6s\n",
      "521:\tlearn: 1696.5620338\ttotal: 33.4s\tremaining: 30.6s\n",
      "522:\tlearn: 1696.3787131\ttotal: 33.4s\tremaining: 30.5s\n",
      "523:\tlearn: 1694.1952423\ttotal: 33.5s\tremaining: 30.4s\n",
      "524:\tlearn: 1694.0169946\ttotal: 33.5s\tremaining: 30.3s\n",
      "525:\tlearn: 1693.6806137\ttotal: 33.6s\tremaining: 30.3s\n",
      "526:\tlearn: 1693.0467210\ttotal: 33.7s\tremaining: 30.2s\n",
      "527:\tlearn: 1692.3728468\ttotal: 33.7s\tremaining: 30.1s\n",
      "528:\tlearn: 1692.1692316\ttotal: 33.8s\tremaining: 30.1s\n",
      "529:\tlearn: 1691.9647865\ttotal: 33.8s\tremaining: 30s\n",
      "530:\tlearn: 1691.7899643\ttotal: 33.9s\tremaining: 29.9s\n",
      "531:\tlearn: 1691.2855375\ttotal: 33.9s\tremaining: 29.8s\n",
      "532:\tlearn: 1691.0533702\ttotal: 34s\tremaining: 29.8s\n",
      "533:\tlearn: 1690.9760228\ttotal: 34.1s\tremaining: 29.7s\n",
      "534:\tlearn: 1690.7758519\ttotal: 34.1s\tremaining: 29.7s\n",
      "535:\tlearn: 1690.2400366\ttotal: 34.2s\tremaining: 29.6s\n",
      "536:\tlearn: 1689.8459852\ttotal: 34.2s\tremaining: 29.5s\n",
      "537:\tlearn: 1689.7642328\ttotal: 34.3s\tremaining: 29.4s\n",
      "538:\tlearn: 1689.1296672\ttotal: 34.3s\tremaining: 29.4s\n",
      "539:\tlearn: 1688.6068168\ttotal: 34.4s\tremaining: 29.3s\n",
      "540:\tlearn: 1688.3973004\ttotal: 34.4s\tremaining: 29.2s\n",
      "541:\tlearn: 1687.1593747\ttotal: 34.5s\tremaining: 29.2s\n",
      "542:\tlearn: 1686.8477507\ttotal: 34.6s\tremaining: 29.1s\n",
      "543:\tlearn: 1686.6487486\ttotal: 34.6s\tremaining: 29s\n",
      "544:\tlearn: 1686.3874697\ttotal: 34.7s\tremaining: 28.9s\n",
      "545:\tlearn: 1686.1664310\ttotal: 34.7s\tremaining: 28.9s\n",
      "546:\tlearn: 1685.5475356\ttotal: 34.8s\tremaining: 28.8s\n",
      "547:\tlearn: 1685.1578751\ttotal: 34.9s\tremaining: 28.7s\n",
      "548:\tlearn: 1684.9621729\ttotal: 34.9s\tremaining: 28.7s\n",
      "549:\tlearn: 1684.6141247\ttotal: 35s\tremaining: 28.6s\n",
      "550:\tlearn: 1683.9981620\ttotal: 35s\tremaining: 28.5s\n",
      "551:\tlearn: 1683.4146366\ttotal: 35.1s\tremaining: 28.5s\n",
      "552:\tlearn: 1683.0861325\ttotal: 35.2s\tremaining: 28.4s\n",
      "553:\tlearn: 1682.8096516\ttotal: 35.2s\tremaining: 28.4s\n",
      "554:\tlearn: 1682.3299728\ttotal: 35.3s\tremaining: 28.3s\n",
      "555:\tlearn: 1681.7599426\ttotal: 35.3s\tremaining: 28.2s\n",
      "556:\tlearn: 1681.2643555\ttotal: 35.4s\tremaining: 28.2s\n",
      "557:\tlearn: 1680.7357833\ttotal: 35.5s\tremaining: 28.1s\n",
      "558:\tlearn: 1680.4776914\ttotal: 35.6s\tremaining: 28.1s\n",
      "559:\tlearn: 1680.1680859\ttotal: 35.7s\tremaining: 28s\n",
      "560:\tlearn: 1679.6446746\ttotal: 35.7s\tremaining: 28s\n",
      "561:\tlearn: 1679.3165412\ttotal: 35.8s\tremaining: 27.9s\n",
      "562:\tlearn: 1678.6612060\ttotal: 35.8s\tremaining: 27.8s\n",
      "563:\tlearn: 1678.3419681\ttotal: 35.9s\tremaining: 27.8s\n",
      "564:\tlearn: 1678.1210918\ttotal: 36s\tremaining: 27.7s\n",
      "565:\tlearn: 1677.8162518\ttotal: 36s\tremaining: 27.6s\n",
      "566:\tlearn: 1677.7253935\ttotal: 36.1s\tremaining: 27.5s\n",
      "567:\tlearn: 1676.3780939\ttotal: 36.2s\tremaining: 27.5s\n",
      "568:\tlearn: 1676.1569753\ttotal: 36.2s\tremaining: 27.4s\n",
      "569:\tlearn: 1675.9710082\ttotal: 36.3s\tremaining: 27.4s\n",
      "570:\tlearn: 1675.4988864\ttotal: 36.3s\tremaining: 27.3s\n",
      "571:\tlearn: 1674.9514907\ttotal: 36.4s\tremaining: 27.2s\n",
      "572:\tlearn: 1673.9202419\ttotal: 36.5s\tremaining: 27.2s\n",
      "573:\tlearn: 1673.6686140\ttotal: 36.5s\tremaining: 27.1s\n",
      "574:\tlearn: 1673.4807630\ttotal: 36.6s\tremaining: 27s\n",
      "575:\tlearn: 1673.2271337\ttotal: 36.7s\tremaining: 27s\n",
      "576:\tlearn: 1672.8598297\ttotal: 36.7s\tremaining: 26.9s\n",
      "577:\tlearn: 1672.6069959\ttotal: 36.8s\tremaining: 26.9s\n",
      "578:\tlearn: 1672.3356821\ttotal: 36.8s\tremaining: 26.8s\n",
      "579:\tlearn: 1672.2907952\ttotal: 36.9s\tremaining: 26.7s\n",
      "580:\tlearn: 1672.0150865\ttotal: 37s\tremaining: 26.7s\n",
      "581:\tlearn: 1671.7821100\ttotal: 37s\tremaining: 26.6s\n",
      "582:\tlearn: 1671.5931989\ttotal: 37.1s\tremaining: 26.5s\n",
      "583:\tlearn: 1671.4237425\ttotal: 37.2s\tremaining: 26.5s\n",
      "584:\tlearn: 1671.1708736\ttotal: 37.3s\tremaining: 26.4s\n",
      "585:\tlearn: 1670.5930620\ttotal: 37.3s\tremaining: 26.4s\n",
      "586:\tlearn: 1668.5131695\ttotal: 37.4s\tremaining: 26.3s\n",
      "587:\tlearn: 1668.0838696\ttotal: 37.4s\tremaining: 26.2s\n",
      "588:\tlearn: 1667.6884424\ttotal: 37.5s\tremaining: 26.2s\n",
      "589:\tlearn: 1667.4160836\ttotal: 37.6s\tremaining: 26.1s\n",
      "590:\tlearn: 1667.2392834\ttotal: 37.6s\tremaining: 26s\n",
      "591:\tlearn: 1667.0466230\ttotal: 37.7s\tremaining: 26s\n",
      "592:\tlearn: 1666.9386677\ttotal: 37.7s\tremaining: 25.9s\n",
      "593:\tlearn: 1665.9309217\ttotal: 37.8s\tremaining: 25.8s\n",
      "594:\tlearn: 1665.9056681\ttotal: 37.8s\tremaining: 25.7s\n",
      "595:\tlearn: 1665.3944555\ttotal: 37.9s\tremaining: 25.7s\n",
      "596:\tlearn: 1665.0112484\ttotal: 38s\tremaining: 25.6s\n",
      "597:\tlearn: 1664.7729431\ttotal: 38s\tremaining: 25.6s\n",
      "598:\tlearn: 1664.6531391\ttotal: 38.1s\tremaining: 25.5s\n",
      "599:\tlearn: 1664.5377198\ttotal: 38.1s\tremaining: 25.4s\n",
      "600:\tlearn: 1664.2237479\ttotal: 38.2s\tremaining: 25.4s\n",
      "601:\tlearn: 1663.8348055\ttotal: 38.3s\tremaining: 25.3s\n",
      "602:\tlearn: 1663.6260351\ttotal: 38.3s\tremaining: 25.2s\n",
      "603:\tlearn: 1663.2556938\ttotal: 38.4s\tremaining: 25.2s\n",
      "604:\tlearn: 1663.1080695\ttotal: 38.5s\tremaining: 25.1s\n",
      "605:\tlearn: 1662.4028309\ttotal: 38.5s\tremaining: 25s\n"
     ]
    },
    {
     "name": "stdout",
     "output_type": "stream",
     "text": [
      "606:\tlearn: 1662.2686283\ttotal: 38.6s\tremaining: 25s\n",
      "607:\tlearn: 1661.8637523\ttotal: 38.6s\tremaining: 24.9s\n",
      "608:\tlearn: 1661.7739315\ttotal: 38.7s\tremaining: 24.8s\n",
      "609:\tlearn: 1661.4442276\ttotal: 38.7s\tremaining: 24.8s\n",
      "610:\tlearn: 1660.7090542\ttotal: 38.8s\tremaining: 24.7s\n",
      "611:\tlearn: 1660.3065650\ttotal: 38.9s\tremaining: 24.6s\n",
      "612:\tlearn: 1660.1001861\ttotal: 38.9s\tremaining: 24.6s\n",
      "613:\tlearn: 1659.9205157\ttotal: 39s\tremaining: 24.5s\n",
      "614:\tlearn: 1659.5363524\ttotal: 39s\tremaining: 24.4s\n",
      "615:\tlearn: 1659.4397947\ttotal: 39.1s\tremaining: 24.4s\n",
      "616:\tlearn: 1659.1727959\ttotal: 39.1s\tremaining: 24.3s\n",
      "617:\tlearn: 1658.4804963\ttotal: 39.2s\tremaining: 24.2s\n",
      "618:\tlearn: 1658.2438323\ttotal: 39.3s\tremaining: 24.2s\n",
      "619:\tlearn: 1657.9353036\ttotal: 39.3s\tremaining: 24.1s\n",
      "620:\tlearn: 1657.7329391\ttotal: 39.4s\tremaining: 24s\n",
      "621:\tlearn: 1657.0363389\ttotal: 39.4s\tremaining: 23.9s\n",
      "622:\tlearn: 1656.8254562\ttotal: 39.5s\tremaining: 23.9s\n",
      "623:\tlearn: 1656.5798124\ttotal: 39.5s\tremaining: 23.8s\n",
      "624:\tlearn: 1656.5406169\ttotal: 39.6s\tremaining: 23.7s\n",
      "625:\tlearn: 1656.3294373\ttotal: 39.6s\tremaining: 23.7s\n",
      "626:\tlearn: 1656.1029020\ttotal: 39.7s\tremaining: 23.6s\n",
      "627:\tlearn: 1655.8692337\ttotal: 39.7s\tremaining: 23.5s\n",
      "628:\tlearn: 1655.3493616\ttotal: 39.8s\tremaining: 23.5s\n",
      "629:\tlearn: 1654.8990050\ttotal: 39.8s\tremaining: 23.4s\n",
      "630:\tlearn: 1654.8592780\ttotal: 39.9s\tremaining: 23.3s\n",
      "631:\tlearn: 1654.7216260\ttotal: 39.9s\tremaining: 23.3s\n",
      "632:\tlearn: 1654.2852875\ttotal: 40s\tremaining: 23.2s\n",
      "633:\tlearn: 1654.1351845\ttotal: 40.1s\tremaining: 23.1s\n",
      "634:\tlearn: 1653.9937235\ttotal: 40.1s\tremaining: 23.1s\n",
      "635:\tlearn: 1653.1431719\ttotal: 40.2s\tremaining: 23s\n",
      "636:\tlearn: 1652.6413567\ttotal: 40.2s\tremaining: 22.9s\n",
      "637:\tlearn: 1652.1672146\ttotal: 40.3s\tremaining: 22.9s\n",
      "638:\tlearn: 1652.0332566\ttotal: 40.3s\tremaining: 22.8s\n",
      "639:\tlearn: 1651.6433434\ttotal: 40.4s\tremaining: 22.7s\n",
      "640:\tlearn: 1651.5106157\ttotal: 40.4s\tremaining: 22.7s\n",
      "641:\tlearn: 1651.3428747\ttotal: 40.5s\tremaining: 22.6s\n",
      "642:\tlearn: 1651.2526243\ttotal: 40.6s\tremaining: 22.5s\n",
      "643:\tlearn: 1651.1954845\ttotal: 40.6s\tremaining: 22.5s\n",
      "644:\tlearn: 1650.8418466\ttotal: 40.7s\tremaining: 22.4s\n",
      "645:\tlearn: 1650.6493169\ttotal: 40.7s\tremaining: 22.3s\n",
      "646:\tlearn: 1650.5498305\ttotal: 40.8s\tremaining: 22.3s\n",
      "647:\tlearn: 1650.0130583\ttotal: 40.9s\tremaining: 22.2s\n",
      "648:\tlearn: 1649.9202104\ttotal: 40.9s\tremaining: 22.1s\n",
      "649:\tlearn: 1649.7238472\ttotal: 41s\tremaining: 22.1s\n",
      "650:\tlearn: 1649.5638179\ttotal: 41s\tremaining: 22s\n",
      "651:\tlearn: 1649.1230826\ttotal: 41.1s\tremaining: 21.9s\n",
      "652:\tlearn: 1648.9221675\ttotal: 41.1s\tremaining: 21.9s\n",
      "653:\tlearn: 1648.3182819\ttotal: 41.2s\tremaining: 21.8s\n",
      "654:\tlearn: 1647.7476374\ttotal: 41.3s\tremaining: 21.7s\n",
      "655:\tlearn: 1647.7109235\ttotal: 41.3s\tremaining: 21.7s\n",
      "656:\tlearn: 1647.4220832\ttotal: 41.4s\tremaining: 21.6s\n",
      "657:\tlearn: 1645.6690460\ttotal: 41.4s\tremaining: 21.5s\n",
      "658:\tlearn: 1645.4960627\ttotal: 41.5s\tremaining: 21.5s\n",
      "659:\tlearn: 1644.3270634\ttotal: 41.6s\tremaining: 21.4s\n",
      "660:\tlearn: 1643.8933327\ttotal: 41.6s\tremaining: 21.4s\n",
      "661:\tlearn: 1643.4565987\ttotal: 41.7s\tremaining: 21.3s\n",
      "662:\tlearn: 1643.0852760\ttotal: 41.7s\tremaining: 21.2s\n",
      "663:\tlearn: 1642.8158568\ttotal: 41.8s\tremaining: 21.2s\n",
      "664:\tlearn: 1642.7764754\ttotal: 41.9s\tremaining: 21.1s\n",
      "665:\tlearn: 1642.6819445\ttotal: 41.9s\tremaining: 21s\n",
      "666:\tlearn: 1642.6106186\ttotal: 42s\tremaining: 21s\n",
      "667:\tlearn: 1642.2961432\ttotal: 42.1s\tremaining: 20.9s\n",
      "668:\tlearn: 1641.8943068\ttotal: 42.1s\tremaining: 20.8s\n",
      "669:\tlearn: 1641.1263211\ttotal: 42.2s\tremaining: 20.8s\n",
      "670:\tlearn: 1640.8157860\ttotal: 42.2s\tremaining: 20.7s\n",
      "671:\tlearn: 1639.5721156\ttotal: 42.3s\tremaining: 20.6s\n",
      "672:\tlearn: 1639.3571372\ttotal: 42.3s\tremaining: 20.6s\n",
      "673:\tlearn: 1639.1949185\ttotal: 42.4s\tremaining: 20.5s\n",
      "674:\tlearn: 1639.1008705\ttotal: 42.5s\tremaining: 20.4s\n",
      "675:\tlearn: 1639.0454337\ttotal: 42.5s\tremaining: 20.4s\n",
      "676:\tlearn: 1637.9832766\ttotal: 42.6s\tremaining: 20.3s\n",
      "677:\tlearn: 1637.8715950\ttotal: 42.6s\tremaining: 20.3s\n",
      "678:\tlearn: 1637.0088311\ttotal: 42.7s\tremaining: 20.2s\n",
      "679:\tlearn: 1636.8946127\ttotal: 42.8s\tremaining: 20.1s\n",
      "680:\tlearn: 1636.7641201\ttotal: 42.8s\tremaining: 20.1s\n",
      "681:\tlearn: 1636.5409407\ttotal: 42.9s\tremaining: 20s\n",
      "682:\tlearn: 1636.3004167\ttotal: 42.9s\tremaining: 19.9s\n",
      "683:\tlearn: 1636.1186000\ttotal: 43s\tremaining: 19.9s\n",
      "684:\tlearn: 1635.9302409\ttotal: 43s\tremaining: 19.8s\n",
      "685:\tlearn: 1635.5209190\ttotal: 43.1s\tremaining: 19.7s\n",
      "686:\tlearn: 1635.3929157\ttotal: 43.1s\tremaining: 19.7s\n",
      "687:\tlearn: 1634.7847051\ttotal: 43.2s\tremaining: 19.6s\n",
      "688:\tlearn: 1634.6497055\ttotal: 43.2s\tremaining: 19.5s\n",
      "689:\tlearn: 1634.4945942\ttotal: 43.3s\tremaining: 19.5s\n",
      "690:\tlearn: 1634.1365447\ttotal: 43.4s\tremaining: 19.4s\n",
      "691:\tlearn: 1633.7925148\ttotal: 43.4s\tremaining: 19.3s\n",
      "692:\tlearn: 1633.4149427\ttotal: 43.5s\tremaining: 19.3s\n",
      "693:\tlearn: 1633.0300580\ttotal: 43.5s\tremaining: 19.2s\n",
      "694:\tlearn: 1632.8946708\ttotal: 43.6s\tremaining: 19.1s\n",
      "695:\tlearn: 1631.9605961\ttotal: 43.6s\tremaining: 19.1s\n",
      "696:\tlearn: 1631.6358640\ttotal: 43.7s\tremaining: 19s\n",
      "697:\tlearn: 1631.5227938\ttotal: 43.7s\tremaining: 18.9s\n",
      "698:\tlearn: 1631.4301176\ttotal: 43.8s\tremaining: 18.9s\n",
      "699:\tlearn: 1631.2588083\ttotal: 43.9s\tremaining: 18.8s\n",
      "700:\tlearn: 1631.1710380\ttotal: 43.9s\tremaining: 18.7s\n",
      "701:\tlearn: 1630.7770252\ttotal: 44s\tremaining: 18.7s\n",
      "702:\tlearn: 1630.1239173\ttotal: 44.1s\tremaining: 18.6s\n",
      "703:\tlearn: 1630.0797645\ttotal: 44.1s\tremaining: 18.6s\n",
      "704:\tlearn: 1629.9549568\ttotal: 44.2s\tremaining: 18.5s\n",
      "705:\tlearn: 1629.8548795\ttotal: 44.3s\tremaining: 18.4s\n",
      "706:\tlearn: 1629.4727161\ttotal: 44.3s\tremaining: 18.4s\n",
      "707:\tlearn: 1629.1284825\ttotal: 44.4s\tremaining: 18.3s\n",
      "708:\tlearn: 1628.8406075\ttotal: 44.4s\tremaining: 18.2s\n",
      "709:\tlearn: 1628.7378775\ttotal: 44.5s\tremaining: 18.2s\n",
      "710:\tlearn: 1628.5527456\ttotal: 44.6s\tremaining: 18.1s\n",
      "711:\tlearn: 1628.4587081\ttotal: 44.6s\tremaining: 18s\n",
      "712:\tlearn: 1628.2896983\ttotal: 44.7s\tremaining: 18s\n",
      "713:\tlearn: 1627.9382545\ttotal: 44.7s\tremaining: 17.9s\n",
      "714:\tlearn: 1627.2781931\ttotal: 44.8s\tremaining: 17.9s\n",
      "715:\tlearn: 1627.2095704\ttotal: 44.9s\tremaining: 17.8s\n",
      "716:\tlearn: 1627.0978940\ttotal: 44.9s\tremaining: 17.7s\n",
      "717:\tlearn: 1626.9417213\ttotal: 45s\tremaining: 17.7s\n",
      "718:\tlearn: 1626.4338881\ttotal: 45s\tremaining: 17.6s\n",
      "719:\tlearn: 1626.0197169\ttotal: 45.1s\tremaining: 17.5s\n",
      "720:\tlearn: 1625.3742905\ttotal: 45.2s\tremaining: 17.5s\n",
      "721:\tlearn: 1624.7874276\ttotal: 45.2s\tremaining: 17.4s\n",
      "722:\tlearn: 1624.5749274\ttotal: 45.3s\tremaining: 17.3s\n",
      "723:\tlearn: 1624.2995192\ttotal: 45.3s\tremaining: 17.3s\n",
      "724:\tlearn: 1623.8616367\ttotal: 45.4s\tremaining: 17.2s\n",
      "725:\tlearn: 1623.7387010\ttotal: 45.5s\tremaining: 17.2s\n",
      "726:\tlearn: 1623.2338977\ttotal: 45.5s\tremaining: 17.1s\n",
      "727:\tlearn: 1621.9704534\ttotal: 45.6s\tremaining: 17s\n",
      "728:\tlearn: 1621.8949651\ttotal: 45.7s\tremaining: 17s\n",
      "729:\tlearn: 1620.6998128\ttotal: 45.8s\tremaining: 16.9s\n",
      "730:\tlearn: 1620.1357534\ttotal: 45.9s\tremaining: 16.9s\n",
      "731:\tlearn: 1620.0324179\ttotal: 45.9s\tremaining: 16.8s\n",
      "732:\tlearn: 1619.5955824\ttotal: 46s\tremaining: 16.8s\n",
      "733:\tlearn: 1618.9582718\ttotal: 46.1s\tremaining: 16.7s\n",
      "734:\tlearn: 1618.4481870\ttotal: 46.2s\tremaining: 16.6s\n",
      "735:\tlearn: 1618.1506593\ttotal: 46.2s\tremaining: 16.6s\n",
      "736:\tlearn: 1618.0376019\ttotal: 46.3s\tremaining: 16.5s\n",
      "737:\tlearn: 1617.5921241\ttotal: 46.4s\tremaining: 16.5s\n",
      "738:\tlearn: 1617.0764327\ttotal: 46.5s\tremaining: 16.4s\n",
      "739:\tlearn: 1617.0061828\ttotal: 46.5s\tremaining: 16.4s\n",
      "740:\tlearn: 1616.8365705\ttotal: 46.6s\tremaining: 16.3s\n",
      "741:\tlearn: 1616.7086764\ttotal: 46.7s\tremaining: 16.2s\n",
      "742:\tlearn: 1616.5425020\ttotal: 46.7s\tremaining: 16.2s\n",
      "743:\tlearn: 1616.4946315\ttotal: 46.8s\tremaining: 16.1s\n",
      "744:\tlearn: 1616.4548571\ttotal: 46.9s\tremaining: 16s\n",
      "745:\tlearn: 1616.3690382\ttotal: 46.9s\tremaining: 16s\n",
      "746:\tlearn: 1615.7318716\ttotal: 47s\tremaining: 15.9s\n",
      "747:\tlearn: 1615.6064367\ttotal: 47.1s\tremaining: 15.9s\n",
      "748:\tlearn: 1615.3613441\ttotal: 47.2s\tremaining: 15.8s\n",
      "749:\tlearn: 1615.0549350\ttotal: 47.2s\tremaining: 15.7s\n",
      "750:\tlearn: 1614.7814087\ttotal: 47.3s\tremaining: 15.7s\n",
      "751:\tlearn: 1614.2572346\ttotal: 47.4s\tremaining: 15.6s\n",
      "752:\tlearn: 1613.4247083\ttotal: 47.5s\tremaining: 15.6s\n",
      "753:\tlearn: 1613.2353482\ttotal: 47.5s\tremaining: 15.5s\n",
      "754:\tlearn: 1612.9843724\ttotal: 47.6s\tremaining: 15.5s\n",
      "755:\tlearn: 1611.4104247\ttotal: 47.7s\tremaining: 15.4s\n",
      "756:\tlearn: 1611.3813471\ttotal: 47.8s\tremaining: 15.3s\n",
      "757:\tlearn: 1611.3230559\ttotal: 47.8s\tremaining: 15.3s\n"
     ]
    },
    {
     "name": "stdout",
     "output_type": "stream",
     "text": [
      "758:\tlearn: 1611.2420988\ttotal: 47.9s\tremaining: 15.2s\n",
      "759:\tlearn: 1610.9915704\ttotal: 48s\tremaining: 15.1s\n",
      "760:\tlearn: 1610.8839080\ttotal: 48s\tremaining: 15.1s\n",
      "761:\tlearn: 1610.7303132\ttotal: 48.1s\tremaining: 15s\n",
      "762:\tlearn: 1610.6420382\ttotal: 48.2s\tremaining: 15s\n",
      "763:\tlearn: 1610.4616615\ttotal: 48.2s\tremaining: 14.9s\n",
      "764:\tlearn: 1610.3689817\ttotal: 48.3s\tremaining: 14.8s\n",
      "765:\tlearn: 1610.1284927\ttotal: 48.4s\tremaining: 14.8s\n",
      "766:\tlearn: 1609.9964994\ttotal: 48.4s\tremaining: 14.7s\n",
      "767:\tlearn: 1609.8746168\ttotal: 48.5s\tremaining: 14.6s\n",
      "768:\tlearn: 1609.2660425\ttotal: 48.5s\tremaining: 14.6s\n",
      "769:\tlearn: 1609.1724560\ttotal: 48.6s\tremaining: 14.5s\n",
      "770:\tlearn: 1609.0342680\ttotal: 48.7s\tremaining: 14.5s\n",
      "771:\tlearn: 1608.4310517\ttotal: 48.7s\tremaining: 14.4s\n",
      "772:\tlearn: 1608.3450237\ttotal: 48.8s\tremaining: 14.3s\n",
      "773:\tlearn: 1608.2665245\ttotal: 48.9s\tremaining: 14.3s\n",
      "774:\tlearn: 1608.2109478\ttotal: 48.9s\tremaining: 14.2s\n",
      "775:\tlearn: 1608.1631774\ttotal: 49s\tremaining: 14.1s\n",
      "776:\tlearn: 1608.0341343\ttotal: 49s\tremaining: 14.1s\n",
      "777:\tlearn: 1607.6877833\ttotal: 49.1s\tremaining: 14s\n",
      "778:\tlearn: 1607.3524509\ttotal: 49.1s\tremaining: 13.9s\n",
      "779:\tlearn: 1606.5548863\ttotal: 49.2s\tremaining: 13.9s\n",
      "780:\tlearn: 1606.4334007\ttotal: 49.2s\tremaining: 13.8s\n",
      "781:\tlearn: 1606.3206925\ttotal: 49.3s\tremaining: 13.7s\n",
      "782:\tlearn: 1606.1368753\ttotal: 49.3s\tremaining: 13.7s\n",
      "783:\tlearn: 1606.0419843\ttotal: 49.4s\tremaining: 13.6s\n",
      "784:\tlearn: 1605.9520681\ttotal: 49.4s\tremaining: 13.5s\n",
      "785:\tlearn: 1604.5126871\ttotal: 49.5s\tremaining: 13.5s\n",
      "786:\tlearn: 1604.4811937\ttotal: 49.6s\tremaining: 13.4s\n",
      "787:\tlearn: 1604.3529454\ttotal: 49.6s\tremaining: 13.3s\n",
      "788:\tlearn: 1603.9352217\ttotal: 49.7s\tremaining: 13.3s\n",
      "789:\tlearn: 1603.8005658\ttotal: 49.7s\tremaining: 13.2s\n",
      "790:\tlearn: 1603.1913247\ttotal: 49.8s\tremaining: 13.2s\n",
      "791:\tlearn: 1602.9026817\ttotal: 49.9s\tremaining: 13.1s\n",
      "792:\tlearn: 1602.7162411\ttotal: 50s\tremaining: 13s\n",
      "793:\tlearn: 1602.5971552\ttotal: 50s\tremaining: 13s\n",
      "794:\tlearn: 1602.5651716\ttotal: 50.1s\tremaining: 12.9s\n",
      "795:\tlearn: 1602.3892777\ttotal: 50.1s\tremaining: 12.8s\n",
      "796:\tlearn: 1602.2069135\ttotal: 50.2s\tremaining: 12.8s\n",
      "797:\tlearn: 1602.1671336\ttotal: 50.2s\tremaining: 12.7s\n",
      "798:\tlearn: 1601.9723483\ttotal: 50.3s\tremaining: 12.7s\n",
      "799:\tlearn: 1601.9317133\ttotal: 50.4s\tremaining: 12.6s\n",
      "800:\tlearn: 1601.8939672\ttotal: 50.4s\tremaining: 12.5s\n",
      "801:\tlearn: 1601.8334060\ttotal: 50.5s\tremaining: 12.5s\n",
      "802:\tlearn: 1601.8150796\ttotal: 50.5s\tremaining: 12.4s\n",
      "803:\tlearn: 1601.6032472\ttotal: 50.6s\tremaining: 12.3s\n",
      "804:\tlearn: 1601.5590500\ttotal: 50.6s\tremaining: 12.3s\n",
      "805:\tlearn: 1601.2030890\ttotal: 50.7s\tremaining: 12.2s\n",
      "806:\tlearn: 1600.4445429\ttotal: 50.8s\tremaining: 12.1s\n",
      "807:\tlearn: 1600.2363332\ttotal: 50.8s\tremaining: 12.1s\n",
      "808:\tlearn: 1599.7585181\ttotal: 50.9s\tremaining: 12s\n",
      "809:\tlearn: 1599.7243315\ttotal: 50.9s\tremaining: 11.9s\n",
      "810:\tlearn: 1599.4444472\ttotal: 51s\tremaining: 11.9s\n",
      "811:\tlearn: 1599.1718753\ttotal: 51s\tremaining: 11.8s\n",
      "812:\tlearn: 1599.0356161\ttotal: 51.1s\tremaining: 11.8s\n",
      "813:\tlearn: 1598.9330428\ttotal: 51.1s\tremaining: 11.7s\n",
      "814:\tlearn: 1598.7518409\ttotal: 51.2s\tremaining: 11.6s\n",
      "815:\tlearn: 1598.6674751\ttotal: 51.3s\tremaining: 11.6s\n",
      "816:\tlearn: 1598.6358846\ttotal: 51.3s\tremaining: 11.5s\n",
      "817:\tlearn: 1598.3947909\ttotal: 51.4s\tremaining: 11.4s\n",
      "818:\tlearn: 1598.3034003\ttotal: 51.4s\tremaining: 11.4s\n",
      "819:\tlearn: 1598.2208461\ttotal: 51.5s\tremaining: 11.3s\n",
      "820:\tlearn: 1597.6626107\ttotal: 51.5s\tremaining: 11.2s\n",
      "821:\tlearn: 1597.1291774\ttotal: 51.6s\tremaining: 11.2s\n",
      "822:\tlearn: 1596.9894247\ttotal: 51.7s\tremaining: 11.1s\n",
      "823:\tlearn: 1596.7436181\ttotal: 51.7s\tremaining: 11s\n",
      "824:\tlearn: 1596.5881720\ttotal: 51.8s\tremaining: 11s\n",
      "825:\tlearn: 1595.6242611\ttotal: 51.8s\tremaining: 10.9s\n",
      "826:\tlearn: 1595.3821772\ttotal: 51.9s\tremaining: 10.9s\n",
      "827:\tlearn: 1595.1383344\ttotal: 51.9s\tremaining: 10.8s\n",
      "828:\tlearn: 1594.9282746\ttotal: 52s\tremaining: 10.7s\n",
      "829:\tlearn: 1594.8781102\ttotal: 52s\tremaining: 10.7s\n",
      "830:\tlearn: 1594.2144014\ttotal: 52.1s\tremaining: 10.6s\n",
      "831:\tlearn: 1594.0467773\ttotal: 52.1s\tremaining: 10.5s\n",
      "832:\tlearn: 1593.0179553\ttotal: 52.2s\tremaining: 10.5s\n",
      "833:\tlearn: 1591.7860286\ttotal: 52.3s\tremaining: 10.4s\n",
      "834:\tlearn: 1591.6921543\ttotal: 52.3s\tremaining: 10.3s\n",
      "835:\tlearn: 1591.6621452\ttotal: 52.4s\tremaining: 10.3s\n",
      "836:\tlearn: 1591.5390425\ttotal: 52.4s\tremaining: 10.2s\n",
      "837:\tlearn: 1591.4294630\ttotal: 52.5s\tremaining: 10.1s\n",
      "838:\tlearn: 1590.9156043\ttotal: 52.5s\tremaining: 10.1s\n",
      "839:\tlearn: 1590.8789986\ttotal: 52.6s\tremaining: 10s\n",
      "840:\tlearn: 1590.7381723\ttotal: 52.7s\tremaining: 9.96s\n",
      "841:\tlearn: 1590.6084174\ttotal: 52.7s\tremaining: 9.89s\n",
      "842:\tlearn: 1590.5677025\ttotal: 52.8s\tremaining: 9.83s\n",
      "843:\tlearn: 1590.2232520\ttotal: 52.8s\tremaining: 9.77s\n",
      "844:\tlearn: 1590.0574952\ttotal: 52.9s\tremaining: 9.71s\n",
      "845:\tlearn: 1589.0700048\ttotal: 53s\tremaining: 9.64s\n",
      "846:\tlearn: 1588.6846089\ttotal: 53s\tremaining: 9.58s\n",
      "847:\tlearn: 1588.5291191\ttotal: 53.1s\tremaining: 9.51s\n",
      "848:\tlearn: 1588.3629169\ttotal: 53.2s\tremaining: 9.46s\n",
      "849:\tlearn: 1588.3517455\ttotal: 53.2s\tremaining: 9.39s\n",
      "850:\tlearn: 1588.1900619\ttotal: 53.3s\tremaining: 9.33s\n",
      "851:\tlearn: 1587.9619939\ttotal: 53.4s\tremaining: 9.27s\n",
      "852:\tlearn: 1587.9383818\ttotal: 53.4s\tremaining: 9.21s\n",
      "853:\tlearn: 1587.0935147\ttotal: 53.5s\tremaining: 9.14s\n",
      "854:\tlearn: 1586.9990111\ttotal: 53.6s\tremaining: 9.09s\n",
      "855:\tlearn: 1586.9608006\ttotal: 53.7s\tremaining: 9.03s\n",
      "856:\tlearn: 1586.8379702\ttotal: 53.8s\tremaining: 8.98s\n",
      "857:\tlearn: 1586.7528051\ttotal: 53.9s\tremaining: 8.92s\n",
      "858:\tlearn: 1586.6087954\ttotal: 53.9s\tremaining: 8.85s\n",
      "859:\tlearn: 1585.9906987\ttotal: 54s\tremaining: 8.79s\n",
      "860:\tlearn: 1585.7164693\ttotal: 54.1s\tremaining: 8.73s\n",
      "861:\tlearn: 1585.6941815\ttotal: 54.1s\tremaining: 8.66s\n",
      "862:\tlearn: 1585.2460090\ttotal: 54.2s\tremaining: 8.6s\n",
      "863:\tlearn: 1585.1012138\ttotal: 54.3s\tremaining: 8.54s\n",
      "864:\tlearn: 1584.8777078\ttotal: 54.3s\tremaining: 8.48s\n",
      "865:\tlearn: 1584.3161255\ttotal: 54.4s\tremaining: 8.42s\n",
      "866:\tlearn: 1584.2547604\ttotal: 54.5s\tremaining: 8.35s\n",
      "867:\tlearn: 1583.9235535\ttotal: 54.5s\tremaining: 8.29s\n",
      "868:\tlearn: 1583.8521292\ttotal: 54.6s\tremaining: 8.23s\n",
      "869:\tlearn: 1583.8165830\ttotal: 54.6s\tremaining: 8.16s\n",
      "870:\tlearn: 1583.7819584\ttotal: 54.7s\tremaining: 8.1s\n",
      "871:\tlearn: 1583.3193844\ttotal: 54.7s\tremaining: 8.03s\n",
      "872:\tlearn: 1583.2334704\ttotal: 54.8s\tremaining: 7.97s\n",
      "873:\tlearn: 1582.8646548\ttotal: 54.8s\tremaining: 7.91s\n",
      "874:\tlearn: 1582.3512928\ttotal: 54.9s\tremaining: 7.84s\n",
      "875:\tlearn: 1582.1444536\ttotal: 54.9s\tremaining: 7.78s\n",
      "876:\tlearn: 1582.1030141\ttotal: 55s\tremaining: 7.72s\n",
      "877:\tlearn: 1581.8016178\ttotal: 55.1s\tremaining: 7.65s\n",
      "878:\tlearn: 1581.7181435\ttotal: 55.1s\tremaining: 7.59s\n",
      "879:\tlearn: 1580.4483616\ttotal: 55.2s\tremaining: 7.53s\n",
      "880:\tlearn: 1580.3225856\ttotal: 55.3s\tremaining: 7.46s\n",
      "881:\tlearn: 1580.2150441\ttotal: 55.3s\tremaining: 7.4s\n",
      "882:\tlearn: 1580.1271736\ttotal: 55.4s\tremaining: 7.34s\n",
      "883:\tlearn: 1580.1053262\ttotal: 55.4s\tremaining: 7.28s\n",
      "884:\tlearn: 1579.0039531\ttotal: 55.5s\tremaining: 7.21s\n",
      "885:\tlearn: 1578.9597945\ttotal: 55.6s\tremaining: 7.15s\n",
      "886:\tlearn: 1578.8929142\ttotal: 55.6s\tremaining: 7.09s\n",
      "887:\tlearn: 1578.5209826\ttotal: 55.7s\tremaining: 7.02s\n",
      "888:\tlearn: 1578.4323751\ttotal: 55.8s\tremaining: 6.96s\n",
      "889:\tlearn: 1578.4040935\ttotal: 55.8s\tremaining: 6.9s\n",
      "890:\tlearn: 1578.3425986\ttotal: 55.9s\tremaining: 6.83s\n",
      "891:\tlearn: 1578.3227452\ttotal: 55.9s\tremaining: 6.77s\n",
      "892:\tlearn: 1578.1912994\ttotal: 56s\tremaining: 6.71s\n",
      "893:\tlearn: 1577.8622343\ttotal: 56.1s\tremaining: 6.65s\n",
      "894:\tlearn: 1577.8122931\ttotal: 56.2s\tremaining: 6.59s\n",
      "895:\tlearn: 1577.7580724\ttotal: 56.3s\tremaining: 6.53s\n",
      "896:\tlearn: 1577.5644464\ttotal: 56.3s\tremaining: 6.47s\n",
      "897:\tlearn: 1577.5405181\ttotal: 56.4s\tremaining: 6.41s\n",
      "898:\tlearn: 1577.2823539\ttotal: 56.5s\tremaining: 6.34s\n",
      "899:\tlearn: 1576.1382841\ttotal: 56.6s\tremaining: 6.28s\n",
      "900:\tlearn: 1575.2723814\ttotal: 56.6s\tremaining: 6.22s\n",
      "901:\tlearn: 1575.2402607\ttotal: 56.7s\tremaining: 6.16s\n",
      "902:\tlearn: 1575.1938834\ttotal: 56.7s\tremaining: 6.09s\n",
      "903:\tlearn: 1575.1175163\ttotal: 56.8s\tremaining: 6.03s\n",
      "904:\tlearn: 1575.0725597\ttotal: 56.9s\tremaining: 5.97s\n",
      "905:\tlearn: 1575.0302538\ttotal: 56.9s\tremaining: 5.91s\n",
      "906:\tlearn: 1574.8484084\ttotal: 57s\tremaining: 5.84s\n",
      "907:\tlearn: 1574.8221859\ttotal: 57.1s\tremaining: 5.78s\n",
      "908:\tlearn: 1574.5511512\ttotal: 57.2s\tremaining: 5.72s\n"
     ]
    },
    {
     "name": "stdout",
     "output_type": "stream",
     "text": [
      "909:\tlearn: 1574.2850791\ttotal: 57.2s\tremaining: 5.66s\n",
      "910:\tlearn: 1574.0023043\ttotal: 57.3s\tremaining: 5.6s\n",
      "911:\tlearn: 1573.8619355\ttotal: 57.3s\tremaining: 5.53s\n",
      "912:\tlearn: 1573.3463042\ttotal: 57.4s\tremaining: 5.47s\n",
      "913:\tlearn: 1573.2514587\ttotal: 57.4s\tremaining: 5.41s\n",
      "914:\tlearn: 1572.8305719\ttotal: 57.5s\tremaining: 5.34s\n",
      "915:\tlearn: 1572.7511008\ttotal: 57.6s\tremaining: 5.28s\n",
      "916:\tlearn: 1572.7102327\ttotal: 57.6s\tremaining: 5.21s\n",
      "917:\tlearn: 1572.4492997\ttotal: 57.7s\tremaining: 5.15s\n",
      "918:\tlearn: 1572.4184183\ttotal: 57.7s\tremaining: 5.09s\n",
      "919:\tlearn: 1572.3507605\ttotal: 57.8s\tremaining: 5.02s\n",
      "920:\tlearn: 1571.7859037\ttotal: 57.8s\tremaining: 4.96s\n",
      "921:\tlearn: 1571.5962563\ttotal: 57.9s\tremaining: 4.9s\n",
      "922:\tlearn: 1571.2357683\ttotal: 57.9s\tremaining: 4.83s\n",
      "923:\tlearn: 1571.0501966\ttotal: 58s\tremaining: 4.77s\n",
      "924:\tlearn: 1569.8433390\ttotal: 58.1s\tremaining: 4.71s\n",
      "925:\tlearn: 1569.8296918\ttotal: 58.1s\tremaining: 4.64s\n",
      "926:\tlearn: 1569.2171018\ttotal: 58.2s\tremaining: 4.58s\n",
      "927:\tlearn: 1569.1100078\ttotal: 58.3s\tremaining: 4.52s\n",
      "928:\tlearn: 1568.8157116\ttotal: 58.3s\tremaining: 4.46s\n",
      "929:\tlearn: 1568.5604980\ttotal: 58.4s\tremaining: 4.39s\n",
      "930:\tlearn: 1568.5225937\ttotal: 58.4s\tremaining: 4.33s\n",
      "931:\tlearn: 1568.4255179\ttotal: 58.5s\tremaining: 4.27s\n",
      "932:\tlearn: 1568.3648646\ttotal: 58.6s\tremaining: 4.21s\n",
      "933:\tlearn: 1567.4018087\ttotal: 58.6s\tremaining: 4.14s\n",
      "934:\tlearn: 1567.3520978\ttotal: 58.7s\tremaining: 4.08s\n",
      "935:\tlearn: 1567.1831753\ttotal: 58.8s\tremaining: 4.02s\n",
      "936:\tlearn: 1566.8501264\ttotal: 58.8s\tremaining: 3.96s\n",
      "937:\tlearn: 1565.3018902\ttotal: 58.9s\tremaining: 3.89s\n",
      "938:\tlearn: 1565.0697477\ttotal: 59s\tremaining: 3.83s\n",
      "939:\tlearn: 1564.9406604\ttotal: 59s\tremaining: 3.77s\n",
      "940:\tlearn: 1564.7447642\ttotal: 59.1s\tremaining: 3.7s\n",
      "941:\tlearn: 1564.7182772\ttotal: 59.1s\tremaining: 3.64s\n",
      "942:\tlearn: 1564.6605487\ttotal: 59.2s\tremaining: 3.58s\n",
      "943:\tlearn: 1564.5702744\ttotal: 59.2s\tremaining: 3.51s\n",
      "944:\tlearn: 1564.5325089\ttotal: 59.3s\tremaining: 3.45s\n",
      "945:\tlearn: 1564.2988919\ttotal: 59.3s\tremaining: 3.39s\n",
      "946:\tlearn: 1564.2804126\ttotal: 59.4s\tremaining: 3.32s\n",
      "947:\tlearn: 1564.2490837\ttotal: 59.4s\tremaining: 3.26s\n",
      "948:\tlearn: 1563.3911938\ttotal: 59.5s\tremaining: 3.2s\n",
      "949:\tlearn: 1563.3547205\ttotal: 59.5s\tremaining: 3.13s\n",
      "950:\tlearn: 1563.3283929\ttotal: 59.6s\tremaining: 3.07s\n",
      "951:\tlearn: 1563.0498759\ttotal: 59.6s\tremaining: 3.01s\n",
      "952:\tlearn: 1563.0268196\ttotal: 59.7s\tremaining: 2.94s\n",
      "953:\tlearn: 1563.0155481\ttotal: 59.8s\tremaining: 2.88s\n",
      "954:\tlearn: 1562.9863659\ttotal: 59.8s\tremaining: 2.82s\n",
      "955:\tlearn: 1562.9612115\ttotal: 59.9s\tremaining: 2.75s\n",
      "956:\tlearn: 1562.9527600\ttotal: 59.9s\tremaining: 2.69s\n",
      "957:\tlearn: 1562.9216275\ttotal: 60s\tremaining: 2.63s\n",
      "958:\tlearn: 1562.8998731\ttotal: 1m\tremaining: 2.56s\n",
      "959:\tlearn: 1562.7965767\ttotal: 1m\tremaining: 2.5s\n",
      "960:\tlearn: 1562.4554527\ttotal: 1m\tremaining: 2.44s\n",
      "961:\tlearn: 1562.4394434\ttotal: 1m\tremaining: 2.38s\n",
      "962:\tlearn: 1562.3890792\ttotal: 1m\tremaining: 2.31s\n",
      "963:\tlearn: 1561.4707188\ttotal: 1m\tremaining: 2.25s\n",
      "964:\tlearn: 1560.7828423\ttotal: 1m\tremaining: 2.19s\n",
      "965:\tlearn: 1560.5357942\ttotal: 1m\tremaining: 2.12s\n",
      "966:\tlearn: 1560.1400107\ttotal: 1m\tremaining: 2.06s\n",
      "967:\tlearn: 1559.6809718\ttotal: 1m\tremaining: 2s\n",
      "968:\tlearn: 1559.5246339\ttotal: 1m\tremaining: 1.94s\n",
      "969:\tlearn: 1559.3608809\ttotal: 1m\tremaining: 1.87s\n",
      "970:\tlearn: 1559.1705197\ttotal: 1m\tremaining: 1.81s\n",
      "971:\tlearn: 1559.0517334\ttotal: 1m\tremaining: 1.75s\n",
      "972:\tlearn: 1559.0056947\ttotal: 1m\tremaining: 1.69s\n",
      "973:\tlearn: 1558.9539622\ttotal: 1m\tremaining: 1.62s\n",
      "974:\tlearn: 1558.9324118\ttotal: 1m\tremaining: 1.56s\n",
      "975:\tlearn: 1558.8633642\ttotal: 1m\tremaining: 1.5s\n",
      "976:\tlearn: 1558.7597732\ttotal: 1m\tremaining: 1.44s\n",
      "977:\tlearn: 1558.3440928\ttotal: 1m 1s\tremaining: 1.37s\n",
      "978:\tlearn: 1558.3162850\ttotal: 1m 1s\tremaining: 1.31s\n",
      "979:\tlearn: 1557.5566324\ttotal: 1m 1s\tremaining: 1.25s\n",
      "980:\tlearn: 1557.5346425\ttotal: 1m 1s\tremaining: 1.19s\n",
      "981:\tlearn: 1557.4418872\ttotal: 1m 1s\tremaining: 1.12s\n",
      "982:\tlearn: 1557.4390369\ttotal: 1m 1s\tremaining: 1.06s\n",
      "983:\tlearn: 1557.4227964\ttotal: 1m 1s\tremaining: 998ms\n",
      "984:\tlearn: 1557.0527667\ttotal: 1m 1s\tremaining: 935ms\n",
      "985:\tlearn: 1556.9493060\ttotal: 1m 1s\tremaining: 873ms\n",
      "986:\tlearn: 1556.8991977\ttotal: 1m 1s\tremaining: 811ms\n",
      "987:\tlearn: 1556.8605649\ttotal: 1m 1s\tremaining: 748ms\n",
      "988:\tlearn: 1556.7713089\ttotal: 1m 1s\tremaining: 686ms\n",
      "989:\tlearn: 1556.7013322\ttotal: 1m 1s\tremaining: 624ms\n",
      "990:\tlearn: 1556.2274625\ttotal: 1m 1s\tremaining: 561ms\n",
      "991:\tlearn: 1556.0545017\ttotal: 1m 1s\tremaining: 499ms\n",
      "992:\tlearn: 1556.0210516\ttotal: 1m 1s\tremaining: 437ms\n",
      "993:\tlearn: 1555.8428654\ttotal: 1m 1s\tremaining: 374ms\n",
      "994:\tlearn: 1555.8110997\ttotal: 1m 2s\tremaining: 312ms\n",
      "995:\tlearn: 1555.8037637\ttotal: 1m 2s\tremaining: 249ms\n",
      "996:\tlearn: 1555.7965426\ttotal: 1m 2s\tremaining: 187ms\n",
      "997:\tlearn: 1555.7211814\ttotal: 1m 2s\tremaining: 125ms\n",
      "998:\tlearn: 1555.5509055\ttotal: 1m 2s\tremaining: 62.3ms\n",
      "999:\tlearn: 1555.5338286\ttotal: 1m 2s\tremaining: 0us\n"
     ]
    }
   ],
   "source": [
    "cbt=CatBoostRegressor()\n",
    "cbt.fit(X_train, Y_train)\n",
    "#predict Y\n",
    "Y_predict=cbt.predict(X_test)\n",
    "df_predicted=pd.DataFrame(\n",
    "                            {'Actual':  np.round(Y_test,0),\n",
    "                            'Predicted':np.round(Y_predict,0) }\n",
    "                            ).reset_index(drop=True)"
   ]
  },
  {
   "cell_type": "code",
   "execution_count": 168,
   "metadata": {},
   "outputs": [
    {
     "data": {
      "text/html": [
       "<div>\n",
       "<style scoped>\n",
       "    .dataframe tbody tr th:only-of-type {\n",
       "        vertical-align: middle;\n",
       "    }\n",
       "\n",
       "    .dataframe tbody tr th {\n",
       "        vertical-align: top;\n",
       "    }\n",
       "\n",
       "    .dataframe thead th {\n",
       "        text-align: right;\n",
       "    }\n",
       "</style>\n",
       "<table border=\"1\" class=\"dataframe\">\n",
       "  <thead>\n",
       "    <tr style=\"text-align: right;\">\n",
       "      <th></th>\n",
       "      <th>Actual</th>\n",
       "      <th>Predicted</th>\n",
       "    </tr>\n",
       "  </thead>\n",
       "  <tbody>\n",
       "    <tr>\n",
       "      <th>0</th>\n",
       "      <td>5380.0</td>\n",
       "      <td>6328.0</td>\n",
       "    </tr>\n",
       "    <tr>\n",
       "      <th>1</th>\n",
       "      <td>12898.0</td>\n",
       "      <td>12385.0</td>\n",
       "    </tr>\n",
       "    <tr>\n",
       "      <th>2</th>\n",
       "      <td>19329.0</td>\n",
       "      <td>14319.0</td>\n",
       "    </tr>\n",
       "    <tr>\n",
       "      <th>3</th>\n",
       "      <td>16289.0</td>\n",
       "      <td>14781.0</td>\n",
       "    </tr>\n",
       "    <tr>\n",
       "      <th>4</th>\n",
       "      <td>4423.0</td>\n",
       "      <td>4832.0</td>\n",
       "    </tr>\n",
       "    <tr>\n",
       "      <th>5</th>\n",
       "      <td>3100.0</td>\n",
       "      <td>2786.0</td>\n",
       "    </tr>\n",
       "    <tr>\n",
       "      <th>6</th>\n",
       "      <td>4575.0</td>\n",
       "      <td>3934.0</td>\n",
       "    </tr>\n",
       "    <tr>\n",
       "      <th>7</th>\n",
       "      <td>12898.0</td>\n",
       "      <td>11876.0</td>\n",
       "    </tr>\n",
       "    <tr>\n",
       "      <th>8</th>\n",
       "      <td>13817.0</td>\n",
       "      <td>14817.0</td>\n",
       "    </tr>\n",
       "    <tr>\n",
       "      <th>9</th>\n",
       "      <td>12692.0</td>\n",
       "      <td>12654.0</td>\n",
       "    </tr>\n",
       "  </tbody>\n",
       "</table>\n",
       "</div>"
      ],
      "text/plain": [
       "    Actual  Predicted\n",
       "0   5380.0     6328.0\n",
       "1  12898.0    12385.0\n",
       "2  19329.0    14319.0\n",
       "3  16289.0    14781.0\n",
       "4   4423.0     4832.0\n",
       "5   3100.0     2786.0\n",
       "6   4575.0     3934.0\n",
       "7  12898.0    11876.0\n",
       "8  13817.0    14817.0\n",
       "9  12692.0    12654.0"
      ]
     },
     "execution_count": 168,
     "metadata": {},
     "output_type": "execute_result"
    }
   ],
   "source": [
    "df_predicted.head(10)"
   ]
  },
  {
   "cell_type": "code",
   "execution_count": 169,
   "metadata": {},
   "outputs": [
    {
     "name": "stdout",
     "output_type": "stream",
     "text": [
      "RMSE 1639.51\n"
     ]
    }
   ],
   "source": [
    "print('RMSE %.2f'%sqrt(mean_squared_error(Y_test,Y_predict)))"
   ]
  },
  {
   "cell_type": "code",
   "execution_count": 170,
   "metadata": {},
   "outputs": [],
   "source": [
    "submission = pd.DataFrame(Y_predict,columns=['Price'])\n",
    "submission.to_csv('../data/submission.csv',index=False)"
   ]
  },
  {
   "cell_type": "markdown",
   "metadata": {},
   "source": [
    "## RESULTS: \n",
    "#RandomForestRegressor has privided the best RMSE values for this problem"
   ]
  }
 ],
 "metadata": {
  "kernelspec": {
   "display_name": "Python 3",
   "language": "python",
   "name": "python3"
  },
  "language_info": {
   "codemirror_mode": {
    "name": "ipython",
    "version": 3
   },
   "file_extension": ".py",
   "mimetype": "text/x-python",
   "name": "python",
   "nbconvert_exporter": "python",
   "pygments_lexer": "ipython3",
   "version": "3.8.5"
  }
 },
 "nbformat": 4,
 "nbformat_minor": 2
}
