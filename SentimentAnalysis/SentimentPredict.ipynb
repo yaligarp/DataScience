{
 "cells": [
  {
   "cell_type": "markdown",
   "metadata": {},
   "source": [
    "## Sentiment Prediction\n",
    "\n",
    "The notebook presents the solution and approaches and comaparisons there of for a sentiment prediction problem.\n",
    "Various vectorization methods and machine learning models are compared.\n",
    "\n",
    "## Data Description\n",
    "\n",
    "## TRAIN.csv\n",
    "\n",
    "It contains the training data with review details as described below\n",
    "\n",
    "Data Dictionary\n",
    "-----------------------\n",
    "Variable\t Description\n",
    "\n",
    "Id----Unique identifier for each tuple\n",
    "\n",
    "category----The reviews have been categorized into two categories representing positive and negative reviews. 0 represents positive reviews and 1 represents negative reviews.\n",
    "\n",
    "text-----Tokenized text content of the review\n",
    "\n",
    "\n",
    "## TEST.csv\n",
    "\n",
    "It has review details for which to predict whether category would be positive or negative\n",
    "\n",
    "## RESULTS:\n",
    "Various models and vectorization techniques are tried.\n",
    "LogisticRegressionCV with TfidfVectorizer has provided the best result (macro F1_score=0.9385221674876847)"
   ]
  },
  {
   "cell_type": "markdown",
   "metadata": {},
   "source": [
    "## Import libraries"
   ]
  },
  {
   "cell_type": "code",
   "execution_count": 81,
   "metadata": {},
   "outputs": [],
   "source": [
    "# For notebook plotting\n",
    "%matplotlib inline\n",
    "\n",
    "# Standard packages\n",
    "import os\n",
    "import numpy as np\n",
    "import pandas as pd\n",
    "import matplotlib.pyplot as plt\n"
   ]
  },
  {
   "cell_type": "code",
   "execution_count": 82,
   "metadata": {},
   "outputs": [],
   "source": [
    "#import skipthoughts\n",
    "#https://monkeylearn.com/blog/beginners-guide-text-vectorization/"
   ]
  },
  {
   "cell_type": "code",
   "execution_count": 83,
   "metadata": {},
   "outputs": [],
   "source": [
    "from nltk.tokenize import sent_tokenize, word_tokenize\n",
    "from nltk.corpus import stopwords\n",
    "from nltk.stem.snowball import SnowballStemmer"
   ]
  },
  {
   "cell_type": "code",
   "execution_count": 84,
   "metadata": {},
   "outputs": [],
   "source": [
    "# sklearn for preprocessing and machine learning models\n",
    "from sklearn.model_selection import train_test_split\n",
    "from sklearn.linear_model import LogisticRegression\n",
    "from sklearn.naive_bayes import MultinomialNB\n",
    "from sklearn.ensemble import GradientBoostingClassifier\n",
    "from sklearn.metrics  import accuracy_score\n",
    "from sklearn.utils import shuffle\n",
    "from sklearn.preprocessing import OneHotEncoder\n",
    "from sklearn.feature_extraction.text import TfidfVectorizer"
   ]
  },
  {
   "cell_type": "code",
   "execution_count": 85,
   "metadata": {},
   "outputs": [],
   "source": [
    "import re\n",
    "import nltk\n",
    "import spacy\n",
    "import string\n",
    "pd.options.mode.chained_assignment = None\n",
    "from sklearn.linear_model import LogisticRegression\n",
    "from sklearn.tree import DecisionTreeClassifier\n",
    "from sklearn.ensemble import GradientBoostingClassifier ,RandomForestClassifier ,GradientBoostingClassifier,RandomForestRegressor\n",
    "from xgboost import XGBClassifier                                      \n",
    "from sklearn.model_selection import GridSearchCV, RandomizedSearchCV"
   ]
  },
  {
   "cell_type": "code",
   "execution_count": 86,
   "metadata": {},
   "outputs": [],
   "source": [
    "from smart_open import smart_open\n",
    "from gensim.models import Word2Vec    #Import gensim Word2Fec\n",
    "from sklearn.decomposition import PCA #Grab PCA functions"
   ]
  },
  {
   "cell_type": "markdown",
   "metadata": {},
   "source": [
    "## Read the data"
   ]
  },
  {
   "cell_type": "code",
   "execution_count": 133,
   "metadata": {},
   "outputs": [],
   "source": [
    "#print(os.getcwd())\n",
    "#os.chdir('./data')\n",
    "df = pd.read_csv('./TRAIN.csv')"
   ]
  },
  {
   "cell_type": "code",
   "execution_count": 89,
   "metadata": {},
   "outputs": [
    {
     "data": {
      "text/html": [
       "<div>\n",
       "<style scoped>\n",
       "    .dataframe tbody tr th:only-of-type {\n",
       "        vertical-align: middle;\n",
       "    }\n",
       "\n",
       "    .dataframe tbody tr th {\n",
       "        vertical-align: top;\n",
       "    }\n",
       "\n",
       "    .dataframe thead th {\n",
       "        text-align: right;\n",
       "    }\n",
       "</style>\n",
       "<table border=\"1\" class=\"dataframe\">\n",
       "  <thead>\n",
       "    <tr style=\"text-align: right;\">\n",
       "      <th></th>\n",
       "      <th>id</th>\n",
       "      <th>text</th>\n",
       "      <th>category</th>\n",
       "    </tr>\n",
       "  </thead>\n",
       "  <tbody>\n",
       "    <tr>\n",
       "      <th>0</th>\n",
       "      <td>3973</td>\n",
       "      <td>1047 6700 4178 2912 183 6700</td>\n",
       "      <td>0</td>\n",
       "    </tr>\n",
       "    <tr>\n",
       "      <th>1</th>\n",
       "      <td>4462</td>\n",
       "      <td>4035 4563 1994 154 5373 4956 6035 4393 4017 40...</td>\n",
       "      <td>1</td>\n",
       "    </tr>\n",
       "    <tr>\n",
       "      <th>2</th>\n",
       "      <td>2889</td>\n",
       "      <td>5035 7685 3139 4407 254 584 6589 8518 3078</td>\n",
       "      <td>0</td>\n",
       "    </tr>\n",
       "    <tr>\n",
       "      <th>3</th>\n",
       "      <td>3457</td>\n",
       "      <td>1047 2540 2578 6700 2242 230 3771 4676 5881 64...</td>\n",
       "      <td>0</td>\n",
       "    </tr>\n",
       "    <tr>\n",
       "      <th>4</th>\n",
       "      <td>1555</td>\n",
       "      <td>7685 5868 237 6794 3078</td>\n",
       "      <td>0</td>\n",
       "    </tr>\n",
       "  </tbody>\n",
       "</table>\n",
       "</div>"
      ],
      "text/plain": [
       "     id                                               text  category\n",
       "0  3973                       1047 6700 4178 2912 183 6700         0\n",
       "1  4462  4035 4563 1994 154 5373 4956 6035 4393 4017 40...         1\n",
       "2  2889         5035 7685 3139 4407 254 584 6589 8518 3078         0\n",
       "3  3457  1047 2540 2578 6700 2242 230 3771 4676 5881 64...         0\n",
       "4  1555                            7685 5868 237 6794 3078         0"
      ]
     },
     "execution_count": 89,
     "metadata": {},
     "output_type": "execute_result"
    }
   ],
   "source": [
    "df.head()"
   ]
  },
  {
   "cell_type": "code",
   "execution_count": 90,
   "metadata": {},
   "outputs": [
    {
     "name": "stdout",
     "output_type": "stream",
     "text": [
      "<class 'pandas.core.frame.DataFrame'>\n",
      "RangeIndex: 2598 entries, 0 to 2597\n",
      "Data columns (total 3 columns):\n",
      "id          2598 non-null int64\n",
      "text        2598 non-null object\n",
      "category    2598 non-null int64\n",
      "dtypes: int64(2), object(1)\n",
      "memory usage: 61.0+ KB\n"
     ]
    }
   ],
   "source": [
    "# Data types\n",
    "df.info()"
   ]
  },
  {
   "cell_type": "code",
   "execution_count": 91,
   "metadata": {},
   "outputs": [
    {
     "data": {
      "text/plain": [
       "id          0\n",
       "text        0\n",
       "category    0\n",
       "dtype: int64"
      ]
     },
     "execution_count": 91,
     "metadata": {},
     "output_type": "execute_result"
    }
   ],
   "source": [
    "#Check for nulls\n",
    "df.isna().sum()"
   ]
  },
  {
   "cell_type": "code",
   "execution_count": 92,
   "metadata": {},
   "outputs": [
    {
     "data": {
      "text/plain": [
       "<matplotlib.axes._subplots.AxesSubplot at 0x11334358>"
      ]
     },
     "execution_count": 92,
     "metadata": {},
     "output_type": "execute_result"
    },
    {
     "data": {
      "image/png": "[encoded data removed]",
      "text/plain": [
       "<Figure size 432x288 with 1 Axes>"
      ]
     },
     "metadata": {},
     "output_type": "display_data"
    }
   ],
   "source": [
    "# check the distribution\n",
    "df.category.value_counts().plot(kind='pie', autopct='%1.0f%%', colors=[\"red\", \"yellow\", \"green\"])"
   ]
  },
  {
   "cell_type": "code",
   "execution_count": 93,
   "metadata": {},
   "outputs": [],
   "source": [
    "# we have class imbalances"
   ]
  },
  {
   "cell_type": "code",
   "execution_count": 94,
   "metadata": {},
   "outputs": [
    {
     "data": {
      "image/png": "[encoded data removed]",
      "text/plain": [
       "<Figure size 864x720 with 1 Axes>"
      ]
     },
     "metadata": {},
     "output_type": "display_data"
    }
   ],
   "source": [
    "# lets look at the word distribution\n",
    "import collections\n",
    "import seaborn as sns\n",
    "from sklearn.feature_extraction.text import CountVectorizer\n",
    "\n",
    "cv = CountVectorizer()\n",
    "bow = cv.fit_transform(df['text'])\n",
    "word_freq = dict(zip(cv.get_feature_names(), np.asarray(bow.sum(axis=0)).ravel()))\n",
    "word_counter = collections.Counter(word_freq)\n",
    "word_counter_df = pd.DataFrame(word_counter.most_common(20), columns = ['word', 'freq'])\n",
    "fig, ax = plt.subplots(figsize=(12, 10))\n",
    "sns.barplot(x=\"word\", y=\"freq\", data=word_counter_df, palette=\"PuBuGn_d\", ax=ax)\n",
    "plt.show();\n"
   ]
  },
  {
   "cell_type": "code",
   "execution_count": 95,
   "metadata": {},
   "outputs": [],
   "source": [
    "#Pre-processing Texts"
   ]
  },
  {
   "cell_type": "code",
   "execution_count": 96,
   "metadata": {},
   "outputs": [],
   "source": [
    "#Generic function\n",
    "def preprocess_text(txt):\n",
    "    txt.lower()\n",
    "    # Remove urls\n",
    "    ##txt = re.sub(r\"http\\S+|www\\S+|https\\S+\", '', twxt, flags=re.MULTILINE) -- not needed for this problem\n",
    "    # Remove user @ references and '#' from text\n",
    "    ##txt = re.sub(r'\\@\\w+|\\#','', txt)                                     -- no need for this problem  \n",
    "    # Remove punctuations\n",
    "    ##txt = txt.translate(str.maketrans('', '', string.punctuation))        -- no need for this problem   \n",
    "    # Remove stopwords\n",
    "    txt_tokens = word_tokenize(txt)   \n",
    "    filtered_words = [w for w in txt_tokens] \n",
    "    \n",
    "    #ps = PorterStemmer()                                                   \n",
    "    #stemmed_words = [ps.stem(w) for w in filtered_words]\n",
    "    #lemmatizer = WordNetLemmatizer()\n",
    "    #lemma_words = [lemmatizer.lemmatize(w, pos='a') for w in stemmed_words]\n",
    "    \n",
    "    return \" \".join(filtered_words)"
   ]
  },
  {
   "cell_type": "markdown",
   "metadata": {},
   "source": [
    "# Vectorizing Data           "
   ]
  },
  {
   "cell_type": "markdown",
   "metadata": {},
   "source": [
    "# Lets try TfidfVectorizer"
   ]
  },
  {
   "cell_type": "code",
   "execution_count": 97,
   "metadata": {},
   "outputs": [],
   "source": [
    "#Generic function\n",
    "def get_feature_vector(train_fit):         \n",
    "    vector = TfidfVectorizer(strip_accents = \"unicode\", stop_words = \"english\")\n",
    "    #vector = TfidfVectorizer(sublinear_tf=True)\n",
    "    vector.fit(train_fit)\n",
    "    return vector"
   ]
  },
  {
   "cell_type": "code",
   "execution_count": 98,
   "metadata": {},
   "outputs": [
    {
     "data": {
      "text/html": [
       "<div>\n",
       "<style scoped>\n",
       "    .dataframe tbody tr th:only-of-type {\n",
       "        vertical-align: middle;\n",
       "    }\n",
       "\n",
       "    .dataframe tbody tr th {\n",
       "        vertical-align: top;\n",
       "    }\n",
       "\n",
       "    .dataframe thead th {\n",
       "        text-align: right;\n",
       "    }\n",
       "</style>\n",
       "<table border=\"1\" class=\"dataframe\">\n",
       "  <thead>\n",
       "    <tr style=\"text-align: right;\">\n",
       "      <th></th>\n",
       "      <th>id</th>\n",
       "      <th>text</th>\n",
       "      <th>category</th>\n",
       "    </tr>\n",
       "  </thead>\n",
       "  <tbody>\n",
       "    <tr>\n",
       "      <th>0</th>\n",
       "      <td>3973</td>\n",
       "      <td>1047 6700 4178 2912 183 6700</td>\n",
       "      <td>0</td>\n",
       "    </tr>\n",
       "    <tr>\n",
       "      <th>1</th>\n",
       "      <td>4462</td>\n",
       "      <td>4035 4563 1994 154 5373 4956 6035 4393 4017 40...</td>\n",
       "      <td>1</td>\n",
       "    </tr>\n",
       "    <tr>\n",
       "      <th>2</th>\n",
       "      <td>2889</td>\n",
       "      <td>5035 7685 3139 4407 254 584 6589 8518 3078</td>\n",
       "      <td>0</td>\n",
       "    </tr>\n",
       "    <tr>\n",
       "      <th>3</th>\n",
       "      <td>3457</td>\n",
       "      <td>1047 2540 2578 6700 2242 230 3771 4676 5881 64...</td>\n",
       "      <td>0</td>\n",
       "    </tr>\n",
       "    <tr>\n",
       "      <th>4</th>\n",
       "      <td>1555</td>\n",
       "      <td>7685 5868 237 6794 3078</td>\n",
       "      <td>0</td>\n",
       "    </tr>\n",
       "  </tbody>\n",
       "</table>\n",
       "</div>"
      ],
      "text/plain": [
       "     id                                               text  category\n",
       "0  3973                       1047 6700 4178 2912 183 6700         0\n",
       "1  4462  4035 4563 1994 154 5373 4956 6035 4393 4017 40...         1\n",
       "2  2889         5035 7685 3139 4407 254 584 6589 8518 3078         0\n",
       "3  3457  1047 2540 2578 6700 2242 230 3771 4676 5881 64...         0\n",
       "4  1555                            7685 5868 237 6794 3078         0"
      ]
     },
     "execution_count": 98,
     "metadata": {},
     "output_type": "execute_result"
    }
   ],
   "source": [
    "df.head()"
   ]
  },
  {
   "cell_type": "code",
   "execution_count": 99,
   "metadata": {},
   "outputs": [
    {
     "data": {
      "text/plain": [
       "0                         1047 6700 4178 2912 183 6700\n",
       "1    4035 4563 1994 154 5373 4956 6035 4393 4017 40...\n",
       "2           5035 7685 3139 4407 254 584 6589 8518 3078\n",
       "3    1047 2540 2578 6700 2242 230 3771 4676 5881 64...\n",
       "4                              7685 5868 237 6794 3078\n",
       "Name: text, dtype: object"
      ]
     },
     "execution_count": 99,
     "metadata": {},
     "output_type": "execute_result"
    }
   ],
   "source": [
    "n = df.iloc[:, 1]\n",
    "n.head()"
   ]
  },
  {
   "cell_type": "code",
   "execution_count": 100,
   "metadata": {},
   "outputs": [
    {
     "data": {
      "text/plain": [
       "0                         1047 6700 4178 2912 183 6700\n",
       "1    4035 4563 1994 154 5373 4956 6035 4393 4017 40...\n",
       "2           5035 7685 3139 4407 254 584 6589 8518 3078\n",
       "3    1047 2540 2578 6700 2242 230 3771 4676 5881 64...\n",
       "4                              7685 5868 237 6794 3078\n",
       "Name: text, dtype: object"
      ]
     },
     "execution_count": 100,
     "metadata": {},
     "output_type": "execute_result"
    }
   ],
   "source": [
    "n = df.iloc[:, 1]\n",
    "n.head()"
   ]
  },
  {
   "cell_type": "markdown",
   "metadata": {},
   "source": [
    "## PUT everything together"
   ]
  },
  {
   "cell_type": "code",
   "execution_count": 101,
   "metadata": {
    "scrolled": true
   },
   "outputs": [
    {
     "name": "stdout",
     "output_type": "stream",
     "text": [
      "('accuracy', 0.9923076923076923)\n",
      "('F1 Score = ', 0.9146981627296588)\n"
     ]
    }
   ],
   "source": [
    "from sklearn.metrics import f1_score, roc_auc_score, roc_curve\n",
    "from sklearn.svm import LinearSVC,SVC\n",
    "from sklearn.ensemble import ExtraTreesClassifier, BaggingClassifier,GradientBoostingClassifier#StackingC#lassifier\n",
    "from sklearn.naive_bayes import BernoulliNB,GaussianNB,MultinomialNB\n",
    "from sklearn.linear_model import PassiveAggressiveClassifier, RidgeClassifier,RidgeClassifierCV,SGDClassifier,LogisticRegressionCV\n",
    "from sklearn.neighbors import KNeighborsClassifier\n",
    "from sklearn.neural_network import MLPClassifier\n",
    "tf_vector = get_feature_vector(np.array(df.iloc[:, 1]).ravel())\n",
    "X = tf_vector.transform(np.array(df.iloc[:, 1]).ravel())\n",
    "y = np.array(df.iloc[:, 2]).ravel()\n",
    "X_train, X_test, y_train, y_test = train_test_split(X, y, test_size=0.2, random_state=30)\n",
    "\n",
    "NB_model = RidgeClassifierCV()\n",
    "NB_model.fit(X_train, y_train)\n",
    "y_predict_nb = NB_model.predict(X_test)\n",
    "#print('test...',y_test)\n",
    "#print('predict...',y_predict_nb)\n",
    "print('accuracy',accuracy_score(y_test, y_predict_nb))\n",
    "print(\"F1 Score = \" ,f1_score(y_test, y_predict_nb,average='macro'))"
   ]
  },
  {
   "cell_type": "markdown",
   "metadata": {},
   "source": [
    "# Results with TfidfVectorizer"
   ]
  },
  {
   "cell_type": "code",
   "execution_count": null,
   "metadata": {},
   "outputs": [],
   "source": [
    "PassiveAggressiveClassifier:\n",
    "    ('accuracy', 0.9942307692307693)\n",
    "('F1 Score = ', 0.9385221674876847)\n",
    "\n",
    "MLPClassifier:\n",
    "    ('accuracy', 0.9942307692307693)\n",
    "('F1 Score = ', 0.9385221674876847)\n",
    "\n",
    "SGDClassifier:\n",
    "   ('accuracy', 0.9942307692307693)\n",
    "('F1 Score = ', 0.9385221674876847)  \n",
    "LogisticRegressionCV:               [same result with all-solver{‘newton-cg’, ‘lbfgs’, ‘liblinear’, ‘sag’, ‘saga’}, default=’lbfgs’]\n",
    "    ('accuracy', 0.9942307692307693)\n",
    "('F1 Score = ', 0.9385221674876847)\n",
    "\n",
    "RidgeClassifierCV:\n",
    "    ('accuracy', 0.9923076923076923)\n",
    "('F1 Score = ', 0.9146981627296588)\n",
    "LinearSVC :\n",
    "    ('accuracy', 0.9903846153846154)\n",
    "    ('F1 Score = ', 0.8888461374032748)\n",
    "KNeighborsClassifier:\n",
    "    ('accuracy', 0.9903846153846154)\n",
    "('F1 Score = ', 0.8888461374032748)\n",
    "\n",
    "RidgeClassifier:\n",
    "    ('accuracy', 0.9903846153846154)\n",
    "('F1 Score = ', 0.8888461374032748)\n",
    "\n",
    "GradientBoostingClassifier:\n",
    "    ('accuracy', 0.9884615384615385)\n",
    "    ('F1 Score = ', 0.8720472440944882)\n",
    "BaggingClassifier:\n",
    "    ('accuracy', 0.9865384615384616)\n",
    "    ('F1 Score = ', 0.856551724137931)\n",
    "DecisionTreeClassifier:\n",
    "    ('accuracy', 0.9826923076923076)\n",
    "    ('F1 Score = ', 0.8403765476312288)\n",
    "\n",
    "ExtraTreesClassifier:\n",
    "    ('accuracy', 0.9846153846153847)\n",
    "('F1 Score = ', 0.8142525450973388)\n",
    "\n",
    "RandomForestClassifier:\n",
    " ('accuracy', 0.9826923076923076)\n",
    "('F1 Score = ', 0.758750451054178)\n",
    "\n",
    "LogisticRegression:\n",
    "    ('accuracy', 0.9730769230769231)\n",
    "('F1 Score = ', 0.49317738791423)\n",
    "BernoulliNB:\n",
    "    ('accuracy', 0.9730769230769231)\n",
    "('F1 Score = ', 0.49317738791423)\n",
    "MultinomialNB:\n",
    "    ('accuracy', 0.9730769230769231)\n",
    "('F1 Score = ', 0.49317738791423)"
   ]
  },
  {
   "cell_type": "markdown",
   "metadata": {},
   "source": [
    "#Conclusion:\n",
    "#PassiveAggressiveClassifier, MLPClassifier, SGDClassifier, LogisticRegressionCV are giving the higest F_score"
   ]
  },
  {
   "cell_type": "markdown",
   "metadata": {},
   "source": [
    "# Lets try CountVectorizer"
   ]
  },
  {
   "cell_type": "code",
   "execution_count": 102,
   "metadata": {},
   "outputs": [],
   "source": [
    "def get_feature_vector_cv(train_fit):         \n",
    "    #vector = Word2Vec(train_fit, min_count=1)\n",
    "    vector=  CountVectorizer(analyzer='word')\n",
    "    vector.fit(train_fit)\n",
    "    return vector"
   ]
  },
  {
   "cell_type": "code",
   "execution_count": 103,
   "metadata": {},
   "outputs": [
    {
     "name": "stdout",
     "output_type": "stream",
     "text": [
      "('accuracy', 0.9942307692307693)\n",
      "('F1 Score = ', 0.9385221674876847)\n"
     ]
    }
   ],
   "source": [
    "tf_vector = get_feature_vector_cv(np.array(df.iloc[:, 1]).ravel())\n",
    "X = tf_vector.transform(np.array(df.iloc[:, 1]).ravel())\n",
    "y = np.array(df.iloc[:, 2]).ravel()\n",
    "X_train, X_test, y_train, y_test = train_test_split(X, y, test_size=0.2, random_state=30)\n",
    "# Training Naive Bayes model\n",
    "model = LogisticRegression()\n",
    "model.fit(X_train, y_train)\n",
    "y_predict_nb = model.predict(X_test)\n",
    "#print('test...',y_test)\n",
    "#print('predict...',y_predict_nb)\n",
    "print('accuracy',accuracy_score(y_test, y_predict_nb))\n",
    "print(\"F1 Score = \" ,f1_score(y_test, y_predict_nb,average='macro'))"
   ]
  },
  {
   "cell_type": "markdown",
   "metadata": {},
   "source": [
    "# Results with CountVectorizer:"
   ]
  },
  {
   "cell_type": "code",
   "execution_count": null,
   "metadata": {},
   "outputs": [],
   "source": [
    "PassiveAggressiveClassifier:\n",
    "('accuracy', 0.9923076923076923)\n",
    "('F1 Score = ', 0.9146981627296588)\n",
    "MLPClassifier:\n",
    "('accuracy', 0.9923076923076923)\n",
    "('F1 Score = ', 0.9146981627296588)\n",
    "SGDClassifier:\n",
    "('accuracy', 0.9884615384615385)\n",
    "('F1 Score = ', 0.8898927159796726)\n",
    "LogisticRegressionCV:               [same result with all-solver{‘newton-cg’, ‘lbfgs’, ‘liblinear’, ‘sag’, ‘saga’}, default=’lbfgs’]\n",
    "('accuracy', 0.9942307692307693)\n",
    "('F1 Score = ', 0.9385221674876847) [ Same for tfidf and count, and same as LogisticRegression]\n",
    "RidgeClassifierCV:\n",
    "('accuracy', 0.9942307692307693)\n",
    "('F1 Score = ', 0.9385221674876847)\n",
    "LinearSVC :\n",
    "('accuracy', 0.9923076923076923)\n",
    "('F1 Score = ', 0.9211045364891519)\n",
    "KNeighborsClassifier:\n",
    "('accuracy', 0.9730769230769231)\n",
    "('F1 Score = ', 0.49317738791423)\n",
    "RidgeClassifier:\n",
    "('accuracy', 0.9730769230769231)\n",
    "('F1 Score = ', 0.49317738791423)\n",
    "GradientBoostingClassifier:\n",
    "   ('accuracy', 0.9826923076923076)\n",
    "('F1 Score = ', 0.7999230473258946)\n",
    "BaggingClassifier:\n",
    "('accuracy', 0.9807692307692307)\n",
    "('F1 Score = ', 0.7678156813716734)\n",
    "DecisionTreeClassifier:\n",
    "('accuracy', 0.9807692307692307)\n",
    "('F1 Score = ', 0.8283828382838283)\n",
    "ExtraTreesClassifier:\n",
    "('accuracy', 0.9846153846153847)\n",
    "('F1 Score = ', 0.7960784313725491)\n",
    "RandomForestClassifier:\n",
    "('accuracy', 0.9769230769230769)\n",
    "('F1 Score = ', 0.619140625)\n",
    "LogisticRegression:                      1 0.85\n",
    "('accuracy', 0.9942307692307693)\n",
    "('F1 Score = ', 0.9385221674876847)\n",
    "BernoulliNB:\n",
    "('accuracy', 0.9730769230769231)\n",
    "('F1 Score = ', 0.49317738791423)\n",
    "MultinomialNB:\n",
    "('accuracy', 0.9826923076923076)\n",
    "('F1 Score = ', 0.8591676446691342)    "
   ]
  },
  {
   "cell_type": "code",
   "execution_count": null,
   "metadata": {},
   "outputs": [],
   "source": [
    "# RidgeClassifierCV LogisticRegressionCV,LogisticRegression are giving the higest F_score with CountVectorization"
   ]
  },
  {
   "cell_type": "markdown",
   "metadata": {},
   "source": [
    "## LETS try with the test data"
   ]
  },
  {
   "cell_type": "code",
   "execution_count": 104,
   "metadata": {},
   "outputs": [],
   "source": [
    "df_test = pd.read_csv('./TEST.csv')"
   ]
  },
  {
   "cell_type": "code",
   "execution_count": 105,
   "metadata": {},
   "outputs": [
    {
     "data": {
      "text/html": [
       "<div>\n",
       "<style scoped>\n",
       "    .dataframe tbody tr th:only-of-type {\n",
       "        vertical-align: middle;\n",
       "    }\n",
       "\n",
       "    .dataframe tbody tr th {\n",
       "        vertical-align: top;\n",
       "    }\n",
       "\n",
       "    .dataframe thead th {\n",
       "        text-align: right;\n",
       "    }\n",
       "</style>\n",
       "<table border=\"1\" class=\"dataframe\">\n",
       "  <thead>\n",
       "    <tr style=\"text-align: right;\">\n",
       "      <th></th>\n",
       "      <th>id</th>\n",
       "      <th>text</th>\n",
       "    </tr>\n",
       "  </thead>\n",
       "  <tbody>\n",
       "    <tr>\n",
       "      <th>0</th>\n",
       "      <td>1546</td>\n",
       "      <td>5222 7526 427 4829 7526 1164 4768 997 7924 332...</td>\n",
       "    </tr>\n",
       "    <tr>\n",
       "      <th>1</th>\n",
       "      <td>2956</td>\n",
       "      <td>590 983 5773 8352 1803 237 5045 6300 6267 5773...</td>\n",
       "    </tr>\n",
       "    <tr>\n",
       "      <th>2</th>\n",
       "      <td>4248</td>\n",
       "      <td>5915 4871 2982 6310 2734 3581 5773 6498 5773</td>\n",
       "    </tr>\n",
       "    <tr>\n",
       "      <th>3</th>\n",
       "      <td>4403</td>\n",
       "      <td>5435 1994 7248 1944 4017 3567 8618 5018 6619 3...</td>\n",
       "    </tr>\n",
       "    <tr>\n",
       "      <th>4</th>\n",
       "      <td>2097</td>\n",
       "      <td>6666 230 4768 2684 5773 3656 907 5922 2295 577...</td>\n",
       "    </tr>\n",
       "  </tbody>\n",
       "</table>\n",
       "</div>"
      ],
      "text/plain": [
       "     id                                               text\n",
       "0  1546  5222 7526 427 4829 7526 1164 4768 997 7924 332...\n",
       "1  2956  590 983 5773 8352 1803 237 5045 6300 6267 5773...\n",
       "2  4248       5915 4871 2982 6310 2734 3581 5773 6498 5773\n",
       "3  4403  5435 1994 7248 1944 4017 3567 8618 5018 6619 3...\n",
       "4  2097  6666 230 4768 2684 5773 3656 907 5922 2295 577..."
      ]
     },
     "execution_count": 105,
     "metadata": {},
     "output_type": "execute_result"
    }
   ],
   "source": [
    "df_test.head()"
   ]
  },
  {
   "cell_type": "code",
   "execution_count": 106,
   "metadata": {},
   "outputs": [],
   "source": [
    "X_tst = tf_vector.transform(np.array(df_test.iloc[:, 1]).ravel())"
   ]
  },
  {
   "cell_type": "code",
   "execution_count": 67,
   "metadata": {},
   "outputs": [],
   "source": [
    "Y_predict=model.predict(X_tst)"
   ]
  },
  {
   "cell_type": "code",
   "execution_count": 68,
   "metadata": {},
   "outputs": [],
   "source": [
    "#submission = pd.DataFrame(Y_predict,columns=['category'])\n",
    "#submission = pd.concat([Id,prediction['y']],1)\n",
    "\n",
    "#submission.to_csv('../data/submission.csv',index=False)"
   ]
  },
  {
   "cell_type": "code",
   "execution_count": null,
   "metadata": {},
   "outputs": [],
   "source": [
    "# LETS try Smote to take care of class imbalance: we will only consider tf tokinzer henceforth.\n",
    "# And only consider subset of models that are giving better scores.\n",
    "# PassiveAggressiveClassifier, MLPClassifier, SGDClassifier, LogisticRegressionCV are giving the higest F_score"
   ]
  },
  {
   "cell_type": "code",
   "execution_count": 115,
   "metadata": {},
   "outputs": [],
   "source": [
    "from imblearn.over_sampling import SMOTE"
   ]
  },
  {
   "cell_type": "code",
   "execution_count": 116,
   "metadata": {},
   "outputs": [],
   "source": [
    "tf_vector = get_feature_vector(np.array(df.iloc[:, 1]).ravel())\n",
    "X = tf_vector.transform(np.array(df.iloc[:, 1]).ravel())\n",
    "y = np.array(df.iloc[:, 2]).ravel()\n",
    "X_train, X_test, y_train, y_test = train_test_split(X, y, test_size=0.2, random_state=30)\n"
   ]
  },
  {
   "cell_type": "code",
   "execution_count": 121,
   "metadata": {},
   "outputs": [
    {
     "name": "stderr",
     "output_type": "stream",
     "text": [
      "D:\\Anaconda2\\lib\\site-packages\\sklearn\\utils\\deprecation.py:77: DeprecationWarning: Function _ratio_float is deprecated; Use a float for 'ratio' is deprecated from version 0.2. The support will be removed in 0.4. Use a dict, str, or a callable instead.\n",
      "  warnings.warn(msg, category=DeprecationWarning)\n"
     ]
    }
   ],
   "source": [
    "#Initialising a SMOTE object\n",
    "smote = SMOTE(random_state=12,ratio=1.0)\n",
    "\n",
    "#Sampling the data using SMOTE\n",
    "X_sample_2, y_sample_2 = smote.fit_sample(X_train, y_train)\n"
   ]
  },
  {
   "cell_type": "code",
   "execution_count": 130,
   "metadata": {},
   "outputs": [
    {
     "name": "stdout",
     "output_type": "stream",
     "text": [
      "('accuracy', 0.9884615384615385)\n",
      "('F1 Score = ', 0.8898927159796726)\n"
     ]
    },
    {
     "name": "stderr",
     "output_type": "stream",
     "text": [
      "D:\\Anaconda2\\lib\\site-packages\\sklearn\\preprocessing\\label.py:151: DeprecationWarning: The truth value of an empty array is ambiguous. Returning False, but in future this will result in an error. Use `array.size > 0` to check that an array is not empty.\n",
      "  if diff:\n"
     ]
    }
   ],
   "source": [
    "import xgboost as xgb\n",
    "from xgboost import XGBClassifier\n",
    "\n",
    "NB_model = XGBClassifier()#LogisticRegressionCV()\n",
    "NB_model.fit(X_sample_2, y_sample_2)\n",
    "y_predict_nb = NB_model.predict(X_test)\n",
    "#print('test...',y_test)\n",
    "#print('predict...',y_predict_nb)\n",
    "print('accuracy',accuracy_score(y_test, y_predict_nb))\n",
    "print(\"F1 Score = \" ,f1_score(y_test, y_predict_nb,average='macro'))"
   ]
  },
  {
   "cell_type": "code",
   "execution_count": 132,
   "metadata": {},
   "outputs": [],
   "source": [
    "submission = pd.DataFrame(Y_predict,columns=['category'])\n",
    "submission.to_csv('../data/submission.csv',index=False)"
   ]
  },
  {
   "cell_type": "code",
   "execution_count": null,
   "metadata": {},
   "outputs": [],
   "source": [
    "# No improvement with smote!"
   ]
  },
  {
   "cell_type": "markdown",
   "metadata": {},
   "source": [
    "## RESULT\n",
    "## We declare LogisticRegressionCV with TfidfVectorizer as a winner!\n",
    "\n",
    "## Final 'accuracy'               : 0.9942307692307693\n",
    "## Final 'F1 Score (macro)'  :0.9385221674876847\n"
   ]
  },
  {
   "cell_type": "markdown",
   "metadata": {},
   "source": [
    "## Scope for future\n",
    "# Try word2wec,skipthoughts\n",
    "# Try NN models\n"
   ]
  }
 ],
 "metadata": {
  "kernelspec": {
   "display_name": "Python 3",
   "language": "python",
   "name": "python3"
  },
  "language_info": {
   "codemirror_mode": {
    "name": "ipython",
    "version": 3
   },
   "file_extension": ".py",
   "mimetype": "text/x-python",
   "name": "python",
   "nbconvert_exporter": "python",
   "pygments_lexer": "ipython3",
   "version": "3.8.5"
  }
 },
 "nbformat": 4,
 "nbformat_minor": 4
}
