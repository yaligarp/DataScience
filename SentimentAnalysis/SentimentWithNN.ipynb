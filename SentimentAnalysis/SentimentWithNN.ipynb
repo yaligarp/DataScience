{
 "cells": [
  {
   "cell_type": "markdown",
   "metadata": {
    "id": "fc8F25SGmQsa"
   },
   "source": [
    "## Problem Statement:Sentiment Prediction\n",
    "The notebook presents the solution and approaches and comaparisons there of for a sentiment prediction problem. Various vectorization methods and machine learning models are compared.\n",
    "\n",
    "Data Description\n",
    "\n",
    "TRAIN.csv\n",
    "\n",
    "It contains the training data with review details as described below\n",
    "\n",
    "Data Dictionary\n",
    "Variable Description\n",
    "\n",
    "id----Unique identifier for each tuple\n",
    "\n",
    "category----The reviews have been categorized into two categories representing positive and negative reviews. 0 represents positive reviews and 1 represents negative reviews.\n",
    "\n",
    "text-----Tokenized text content of the review\n",
    "\n",
    "TEST.csv\n",
    "\n",
    "It has review details for which to predict whether category would be positive or negative\n",
    "\n",
    "RESULTS:\n",
    "accuracy: 0.9654 with keras\n"
   ]
  },
  {
   "cell_type": "code",
   "execution_count": 137,
   "metadata": {
    "id": "X0xr5fuHmSqc"
   },
   "outputs": [],
   "source": [
    "#Import libraries\n",
    "# For notebook plotting\n",
    "%matplotlib inline\n",
    "\n",
    "# Standard packages\n",
    "import os\n",
    "import numpy as np\n",
    "import pandas as pd\n",
    "import matplotlib.pyplot as plt\n"
   ]
  },
  {
   "cell_type": "code",
   "execution_count": 138,
   "metadata": {
    "id": "Kl9wCqi0mc_n"
   },
   "outputs": [],
   "source": [
    "#import skipthoughts\n",
    "#https://monkeylearn.com/blog/beginners-guide-text-vectorization/"
   ]
  },
  {
   "cell_type": "code",
   "execution_count": 139,
   "metadata": {
    "id": "55WfZ65emm01"
   },
   "outputs": [],
   "source": [
    "from nltk.tokenize import sent_tokenize, word_tokenize\n",
    "from nltk.corpus import stopwords\n",
    "from nltk.stem.snowball import SnowballStemmer"
   ]
  },
  {
   "cell_type": "code",
   "execution_count": 140,
   "metadata": {
    "id": "dQRu3ywAmqzo"
   },
   "outputs": [],
   "source": [
    "# sklearn for preprocessing and machine learning models\n",
    "from sklearn.model_selection import train_test_split\n",
    "from sklearn.linear_model import LogisticRegression\n",
    "from sklearn.naive_bayes import MultinomialNB\n",
    "from sklearn.ensemble import GradientBoostingClassifier\n",
    "from sklearn.metrics  import accuracy_score\n",
    "from sklearn.utils import shuffle\n",
    "from sklearn.preprocessing import OneHotEncoder\n",
    "from sklearn.feature_extraction.text import TfidfVectorizer"
   ]
  },
  {
   "cell_type": "code",
   "execution_count": 141,
   "metadata": {
    "id": "ASz41-7smwD7"
   },
   "outputs": [],
   "source": [
    "import re\n",
    "import nltk\n",
    "import spacy\n",
    "import string\n",
    "pd.options.mode.chained_assignment = None\n",
    "from sklearn.linear_model import LogisticRegression\n",
    "from sklearn.tree import DecisionTreeClassifier\n",
    "from sklearn.ensemble import GradientBoostingClassifier ,RandomForestClassifier ,GradientBoostingClassifier,RandomForestRegressor\n",
    "from xgboost import XGBClassifier                                      \n",
    "from sklearn.model_selection import GridSearchCV, RandomizedSearchCV"
   ]
  },
  {
   "cell_type": "code",
   "execution_count": 142,
   "metadata": {
    "id": "GWS4kCIkm2P5"
   },
   "outputs": [],
   "source": [
    "from smart_open import smart_open\n",
    "from gensim.models import Word2Vec    #Import gensim Word2Fec\n",
    "from sklearn.decomposition import PCA #Grab PCA functions"
   ]
  },
  {
   "cell_type": "code",
   "execution_count": 143,
   "metadata": {
    "colab": {
     "base_uri": "https://localhost:8080/"
    },
    "id": "axagxkSlm32N",
    "outputId": "655b917f-cd9e-4f6a-b2c7-7ea9fe568e3a"
   },
   "outputs": [
    {
     "name": "stdout",
     "output_type": "stream",
     "text": [
      "/content/drive/My Drive/Colab Notebooks\n",
      "/content/drive/My Drive/Colab Notebooks\n"
     ]
    }
   ],
   "source": [
    "!pwd"
   ]
  },
  {
   "cell_type": "code",
   "execution_count": 144,
   "metadata": {
    "colab": {
     "base_uri": "https://localhost:8080/"
    },
    "id": "HKAMGGMko69w",
    "outputId": "29226848-7d1d-4c3a-9795-6710bbe47f04"
   },
   "outputs": [
    {
     "name": "stdout",
     "output_type": "stream",
     "text": [
      "Drive already mounted at /content/drive; to attempt to forcibly remount, call drive.mount(\"/content/drive\", force_remount=True).\n",
      "Drive already mounted at /content/drive; to attempt to forcibly remount, call drive.mount(\"/content/drive\", force_remount=True).\n"
     ]
    }
   ],
   "source": [
    "from google.colab import drive\n",
    "drive.mount('/content/drive')"
   ]
  },
  {
   "cell_type": "code",
   "execution_count": 145,
   "metadata": {
    "colab": {
     "base_uri": "https://localhost:8080/"
    },
    "id": "hSvaqXySnWzh",
    "outputId": "78ccdb9c-bf2a-48d4-c484-371fbcdff8dd"
   },
   "outputs": [
    {
     "name": "stdout",
     "output_type": "stream",
     "text": [
      "/content/drive/My Drive/Colab Notebooks\n",
      "/content/drive/My Drive/Colab Notebooks\n"
     ]
    }
   ],
   "source": [
    "!pwd"
   ]
  },
  {
   "cell_type": "code",
   "execution_count": 146,
   "metadata": {
    "colab": {
     "base_uri": "https://localhost:8080/"
    },
    "id": "0WGN5OyipNlr",
    "outputId": "167dd8b5-fa25-4bad-d850-a893a49e440b"
   },
   "outputs": [
    {
     "name": "stdout",
     "output_type": "stream",
     "text": [
      "'Copy of intro_to_colab.ipynb'\t intro_to_colab.ipynb   TRAIN.csv\n",
      "'Copy of sentiment.ipynb'\t sentiment.ipynb        v1b.ipynb\n",
      "'Copy of w2v.ipynb'\t\t TEST.csv\n",
      "'Copy of intro_to_colab.ipynb'\t intro_to_colab.ipynb   TRAIN.csv\n",
      "'Copy of sentiment.ipynb'\t sentiment.ipynb        v1b.ipynb\n",
      "'Copy of w2v.ipynb'\t\t TEST.csv\n"
     ]
    }
   ],
   "source": [
    "!ls\n"
   ]
  },
  {
   "cell_type": "code",
   "execution_count": 147,
   "metadata": {
    "colab": {
     "base_uri": "https://localhost:8080/"
    },
    "id": "ymDFkhFFuKPD",
    "outputId": "ff2f8693-8b76-4101-bff0-eda35b230426"
   },
   "outputs": [
    {
     "name": "stdout",
     "output_type": "stream",
     "text": [
      "/bin/bash: line 0: cd: drive: No such file or directory\n",
      "/bin/bash: line 0: cd: drive: No such file or directory\n"
     ]
    }
   ],
   "source": [
    "!cd drive"
   ]
  },
  {
   "cell_type": "code",
   "execution_count": 148,
   "metadata": {
    "colab": {
     "base_uri": "https://localhost:8080/"
    },
    "id": "LXHktdkGuOL1",
    "outputId": "b6a9a509-69c3-4f19-dd8b-956a5b01c9c4"
   },
   "outputs": [
    {
     "name": "stdout",
     "output_type": "stream",
     "text": [
      "[Errno 2] No such file or directory: 'MyDrive/'\n",
      "/content/drive/My Drive/Colab Notebooks\n",
      "[Errno 2] No such file or directory: 'MyDrive/'\n",
      "/content/drive/My Drive/Colab Notebooks\n"
     ]
    }
   ],
   "source": [
    "cd MyDrive/"
   ]
  },
  {
   "cell_type": "code",
   "execution_count": 149,
   "metadata": {
    "colab": {
     "base_uri": "https://localhost:8080/"
    },
    "id": "UDdZLB9HvKMl",
    "outputId": "8feec27b-9e2c-4f90-fdc7-b915397a2bd1"
   },
   "outputs": [
    {
     "name": "stdout",
     "output_type": "stream",
     "text": [
      "[Errno 2] No such file or directory: 'Colab Notebooks'\n",
      "/content/drive/My Drive/Colab Notebooks\n",
      "[Errno 2] No such file or directory: 'Colab Notebooks'\n",
      "/content/drive/My Drive/Colab Notebooks\n"
     ]
    }
   ],
   "source": [
    "cd Colab\\ Notebooks\n"
   ]
  },
  {
   "cell_type": "code",
   "execution_count": 150,
   "metadata": {
    "colab": {
     "base_uri": "https://localhost:8080/"
    },
    "id": "gaC2OHHJvq_X",
    "outputId": "8ccf7e6d-07a3-47bc-8992-3cef17cc1847"
   },
   "outputs": [
    {
     "name": "stdout",
     "output_type": "stream",
     "text": [
      "'Copy of intro_to_colab.ipynb'\t intro_to_colab.ipynb   TRAIN.csv\n",
      "'Copy of sentiment.ipynb'\t sentiment.ipynb        v1b.ipynb\n",
      "'Copy of w2v.ipynb'\t\t TEST.csv\n",
      "'Copy of intro_to_colab.ipynb'\t intro_to_colab.ipynb   TRAIN.csv\n",
      "'Copy of sentiment.ipynb'\t sentiment.ipynb        v1b.ipynb\n",
      "'Copy of w2v.ipynb'\t\t TEST.csv\n"
     ]
    }
   ],
   "source": [
    "!ls     # we are at the correct directory"
   ]
  },
  {
   "cell_type": "code",
   "execution_count": 151,
   "metadata": {
    "id": "7r9Uzo5uw3jC"
   },
   "outputs": [],
   "source": [
    "df = pd.read_csv('./TRAIN.csv')"
   ]
  },
  {
   "cell_type": "code",
   "execution_count": 152,
   "metadata": {
    "colab": {
     "base_uri": "https://localhost:8080/",
     "height": 391
    },
    "id": "hedXfnzDxbTD",
    "outputId": "3cd057a2-e509-4a69-f347-422cbe22c6c6"
   },
   "outputs": [
    {
     "data": {
      "text/html": [
       "<div>\n",
       "<style scoped>\n",
       "    .dataframe tbody tr th:only-of-type {\n",
       "        vertical-align: middle;\n",
       "    }\n",
       "\n",
       "    .dataframe tbody tr th {\n",
       "        vertical-align: top;\n",
       "    }\n",
       "\n",
       "    .dataframe thead th {\n",
       "        text-align: right;\n",
       "    }\n",
       "</style>\n",
       "<table border=\"1\" class=\"dataframe\">\n",
       "  <thead>\n",
       "    <tr style=\"text-align: right;\">\n",
       "      <th></th>\n",
       "      <th>id</th>\n",
       "      <th>text</th>\n",
       "      <th>category</th>\n",
       "    </tr>\n",
       "  </thead>\n",
       "  <tbody>\n",
       "    <tr>\n",
       "      <th>0</th>\n",
       "      <td>3973</td>\n",
       "      <td>1047 6700 4178 2912 183 6700</td>\n",
       "      <td>0</td>\n",
       "    </tr>\n",
       "    <tr>\n",
       "      <th>1</th>\n",
       "      <td>4462</td>\n",
       "      <td>4035 4563 1994 154 5373 4956 6035 4393 4017 40...</td>\n",
       "      <td>1</td>\n",
       "    </tr>\n",
       "    <tr>\n",
       "      <th>2</th>\n",
       "      <td>2889</td>\n",
       "      <td>5035 7685 3139 4407 254 584 6589 8518 3078</td>\n",
       "      <td>0</td>\n",
       "    </tr>\n",
       "    <tr>\n",
       "      <th>3</th>\n",
       "      <td>3457</td>\n",
       "      <td>1047 2540 2578 6700 2242 230 3771 4676 5881 64...</td>\n",
       "      <td>0</td>\n",
       "    </tr>\n",
       "    <tr>\n",
       "      <th>4</th>\n",
       "      <td>1555</td>\n",
       "      <td>7685 5868 237 6794 3078</td>\n",
       "      <td>0</td>\n",
       "    </tr>\n",
       "  </tbody>\n",
       "</table>\n",
       "</div>"
      ],
      "text/plain": [
       "     id                                               text  category\n",
       "0  3973                       1047 6700 4178 2912 183 6700         0\n",
       "1  4462  4035 4563 1994 154 5373 4956 6035 4393 4017 40...         1\n",
       "2  2889         5035 7685 3139 4407 254 584 6589 8518 3078         0\n",
       "3  3457  1047 2540 2578 6700 2242 230 3771 4676 5881 64...         0\n",
       "4  1555                            7685 5868 237 6794 3078         0"
      ]
     },
     "execution_count": 121,
     "metadata": {
      "tags": []
     },
     "output_type": "execute_result"
    },
    {
     "data": {
      "text/html": [
       "<div>\n",
       "<style scoped>\n",
       "    .dataframe tbody tr th:only-of-type {\n",
       "        vertical-align: middle;\n",
       "    }\n",
       "\n",
       "    .dataframe tbody tr th {\n",
       "        vertical-align: top;\n",
       "    }\n",
       "\n",
       "    .dataframe thead th {\n",
       "        text-align: right;\n",
       "    }\n",
       "</style>\n",
       "<table border=\"1\" class=\"dataframe\">\n",
       "  <thead>\n",
       "    <tr style=\"text-align: right;\">\n",
       "      <th></th>\n",
       "      <th>id</th>\n",
       "      <th>text</th>\n",
       "      <th>category</th>\n",
       "    </tr>\n",
       "  </thead>\n",
       "  <tbody>\n",
       "    <tr>\n",
       "      <th>0</th>\n",
       "      <td>3973</td>\n",
       "      <td>1047 6700 4178 2912 183 6700</td>\n",
       "      <td>0</td>\n",
       "    </tr>\n",
       "    <tr>\n",
       "      <th>1</th>\n",
       "      <td>4462</td>\n",
       "      <td>4035 4563 1994 154 5373 4956 6035 4393 4017 40...</td>\n",
       "      <td>1</td>\n",
       "    </tr>\n",
       "    <tr>\n",
       "      <th>2</th>\n",
       "      <td>2889</td>\n",
       "      <td>5035 7685 3139 4407 254 584 6589 8518 3078</td>\n",
       "      <td>0</td>\n",
       "    </tr>\n",
       "    <tr>\n",
       "      <th>3</th>\n",
       "      <td>3457</td>\n",
       "      <td>1047 2540 2578 6700 2242 230 3771 4676 5881 64...</td>\n",
       "      <td>0</td>\n",
       "    </tr>\n",
       "    <tr>\n",
       "      <th>4</th>\n",
       "      <td>1555</td>\n",
       "      <td>7685 5868 237 6794 3078</td>\n",
       "      <td>0</td>\n",
       "    </tr>\n",
       "  </tbody>\n",
       "</table>\n",
       "</div>"
      ],
      "text/plain": [
       "     id                                               text  category\n",
       "0  3973                       1047 6700 4178 2912 183 6700         0\n",
       "1  4462  4035 4563 1994 154 5373 4956 6035 4393 4017 40...         1\n",
       "2  2889         5035 7685 3139 4407 254 584 6589 8518 3078         0\n",
       "3  3457  1047 2540 2578 6700 2242 230 3771 4676 5881 64...         0\n",
       "4  1555                            7685 5868 237 6794 3078         0"
      ]
     },
     "execution_count": 152,
     "metadata": {
      "tags": []
     },
     "output_type": "execute_result"
    }
   ],
   "source": [
    "df.head()"
   ]
  },
  {
   "cell_type": "code",
   "execution_count": 153,
   "metadata": {
    "colab": {
     "base_uri": "https://localhost:8080/"
    },
    "id": "cdXNQ-csxdqW",
    "outputId": "3646476f-8c6f-4b4e-9377-63bdd7ed5fd8"
   },
   "outputs": [
    {
     "data": {
      "text/plain": [
       "id          0\n",
       "text        0\n",
       "category    0\n",
       "dtype: int64"
      ]
     },
     "execution_count": 122,
     "metadata": {
      "tags": []
     },
     "output_type": "execute_result"
    },
    {
     "data": {
      "text/plain": [
       "id          0\n",
       "text        0\n",
       "category    0\n",
       "dtype: int64"
      ]
     },
     "execution_count": 153,
     "metadata": {
      "tags": []
     },
     "output_type": "execute_result"
    }
   ],
   "source": [
    "#Check for nulls\n",
    "df.isna().sum()"
   ]
  },
  {
   "cell_type": "code",
   "execution_count": 154,
   "metadata": {
    "colab": {
     "base_uri": "https://localhost:8080/",
     "height": 513
    },
    "id": "0QZjK0l5xl1W",
    "outputId": "0c5655e7-c0c4-4b4d-d70b-ea94c22e81b1"
   },
   "outputs": [
    {
     "data": {
      "text/plain": [
       "<matplotlib.axes._subplots.AxesSubplot at 0x7fa7432a0898>"
      ]
     },
     "execution_count": 123,
     "metadata": {
      "tags": []
     },
     "output_type": "execute_result"
    },
    {
     "data": {
      "image/png": "[encoded data removed]",
      "text/plain": [
       "<Figure size 432x288 with 1 Axes>"
      ]
     },
     "metadata": {
      "tags": []
     },
     "output_type": "display_data"
    },
    {
     "data": {
      "text/plain": [
       "<matplotlib.axes._subplots.AxesSubplot at 0x7fa743107ac8>"
      ]
     },
     "execution_count": 154,
     "metadata": {
      "tags": []
     },
     "output_type": "execute_result"
    },
    {
     "data": {
      "image/png": "[encoded data removed]",
      "text/plain": [
       "<Figure size 432x288 with 1 Axes>"
      ]
     },
     "metadata": {
      "tags": []
     },
     "output_type": "display_data"
    }
   ],
   "source": [
    "# check the distribution\n",
    "df.category.value_counts().plot(kind='pie', autopct='%1.0f%%', colors=[\"red\", \"yellow\", \"green\"])"
   ]
  },
  {
   "cell_type": "code",
   "execution_count": 155,
   "metadata": {
    "colab": {
     "base_uri": "https://localhost:8080/",
     "height": 1000
    },
    "id": "bG35vb-KxpfD",
    "outputId": "4fc3638c-64c3-4b3f-efa7-3dd634fead8d"
   },
   "outputs": [
    {
     "data": {
      "image/png": "[encoded data removed]",
      "text/plain": [
       "<Figure size 864x720 with 1 Axes>"
      ]
     },
     "metadata": {
      "needs_background": "light",
      "tags": []
     },
     "output_type": "display_data"
    },
    {
     "data": {
      "image/png": "[encoded data removed]",
      "text/plain": [
       "<Figure size 864x720 with 1 Axes>"
      ]
     },
     "metadata": {
      "needs_background": "light",
      "tags": []
     },
     "output_type": "display_data"
    }
   ],
   "source": [
    "# lets look at the word distribution\n",
    "import collections\n",
    "import seaborn as sns\n",
    "from sklearn.feature_extraction.text import CountVectorizer\n",
    "\n",
    "cv = CountVectorizer()\n",
    "bow = cv.fit_transform(df['text'])\n",
    "word_freq = dict(zip(cv.get_feature_names(), np.asarray(bow.sum(axis=0)).ravel()))\n",
    "word_counter = collections.Counter(word_freq)\n",
    "word_counter_df = pd.DataFrame(word_counter.most_common(20), columns = ['word', 'freq'])\n",
    "fig, ax = plt.subplots(figsize=(12, 10))\n",
    "sns.barplot(x=\"word\", y=\"freq\", data=word_counter_df, palette=\"PuBuGn_d\", ax=ax)\n",
    "plt.show();\n"
   ]
  },
  {
   "cell_type": "markdown",
   "metadata": {
    "id": "Mm8uNImaxx8D"
   },
   "source": [
    "#Pre-processing Tweets"
   ]
  },
  {
   "cell_type": "code",
   "execution_count": 156,
   "metadata": {
    "id": "_U0NjUTJx1KE"
   },
   "outputs": [],
   "source": [
    "# Generic method that can be used as needed\n",
    "def preprocess_text(txt):\n",
    "    txt.lower()\n",
    "    # Remove urls\n",
    "    ##txt = re.sub(r\"http\\S+|www\\S+|https\\S+\", '', twxt, flags=re.MULTILINE) -- not needed for this problem\n",
    "    # Remove user @ references and '#' from text\n",
    "    ##txt = re.sub(r'\\@\\w+|\\#','', txt)                                     -- no need for this problem  \n",
    "    # Remove punctuations\n",
    "    ##txt = txt.translate(str.maketrans('', '', string.punctuation))        -- no need for this problem   \n",
    "    # Remove stopwords\n",
    "    txt_tokens = word_tokenize(txt)   \n",
    "    filtered_words = [w for w in txt_tokens] \n",
    "    \n",
    "    #ps = PorterStemmer()\n",
    "    #stemmed_words = [ps.stem(w) for w in filtered_words]\n",
    "    #lemmatizer = WordNetLemmatizer()\n",
    "    #lemma_words = [lemmatizer.lemmatize(w, pos='a') for w in stemmed_words]\n",
    "    \n",
    "    return \" \".join(filtered_words)"
   ]
  },
  {
   "cell_type": "markdown",
   "metadata": {
    "id": "9VQnGik3yAPQ"
   },
   "source": [
    "# Vectorizing Data           \n",
    "# Lets try TfidfVectorizer"
   ]
  },
  {
   "cell_type": "code",
   "execution_count": 157,
   "metadata": {
    "id": "XRtkqJ98yEFq"
   },
   "outputs": [],
   "source": [
    "#as a function\n",
    "def get_feature_vector(train_fit):         \n",
    "    vector = TfidfVectorizer(strip_accents = \"unicode\", stop_words = \"english\")\n",
    "    #vector = TfidfVectorizer(sublinear_tf=True)\n",
    "    vector.fit(train_fit)\n",
    "    return vector"
   ]
  },
  {
   "cell_type": "code",
   "execution_count": 158,
   "metadata": {
    "colab": {
     "base_uri": "https://localhost:8080/"
    },
    "id": "0_uqgkp0yQox",
    "outputId": "bee3c4b2-3fde-4852-ae6b-c87083adb040"
   },
   "outputs": [
    {
     "data": {
      "text/plain": [
       "0                         1047 6700 4178 2912 183 6700\n",
       "1    4035 4563 1994 154 5373 4956 6035 4393 4017 40...\n",
       "2           5035 7685 3139 4407 254 584 6589 8518 3078\n",
       "3    1047 2540 2578 6700 2242 230 3771 4676 5881 64...\n",
       "4                              7685 5868 237 6794 3078\n",
       "Name: text, dtype: object"
      ]
     },
     "execution_count": 127,
     "metadata": {
      "tags": []
     },
     "output_type": "execute_result"
    },
    {
     "data": {
      "text/plain": [
       "0                         1047 6700 4178 2912 183 6700\n",
       "1    4035 4563 1994 154 5373 4956 6035 4393 4017 40...\n",
       "2           5035 7685 3139 4407 254 584 6589 8518 3078\n",
       "3    1047 2540 2578 6700 2242 230 3771 4676 5881 64...\n",
       "4                              7685 5868 237 6794 3078\n",
       "Name: text, dtype: object"
      ]
     },
     "execution_count": 158,
     "metadata": {
      "tags": []
     },
     "output_type": "execute_result"
    }
   ],
   "source": [
    "#Check\n",
    "n = df.iloc[:, 1]\n",
    "n.head()"
   ]
  },
  {
   "cell_type": "code",
   "execution_count": 159,
   "metadata": {
    "colab": {
     "base_uri": "https://localhost:8080/"
    },
    "id": "fgeM3SDDyVQr",
    "outputId": "712efabe-3b13-4f02-ce25-7ce5acfd43fc"
   },
   "outputs": [
    {
     "data": {
      "text/plain": [
       "0                         1047 6700 4178 2912 183 6700\n",
       "1    4035 4563 1994 154 5373 4956 6035 4393 4017 40...\n",
       "2           5035 7685 3139 4407 254 584 6589 8518 3078\n",
       "3    1047 2540 2578 6700 2242 230 3771 4676 5881 64...\n",
       "4                              7685 5868 237 6794 3078\n",
       "Name: text, dtype: object"
      ]
     },
     "execution_count": 128,
     "metadata": {
      "tags": []
     },
     "output_type": "execute_result"
    },
    {
     "data": {
      "text/plain": [
       "0                         1047 6700 4178 2912 183 6700\n",
       "1    4035 4563 1994 154 5373 4956 6035 4393 4017 40...\n",
       "2           5035 7685 3139 4407 254 584 6589 8518 3078\n",
       "3    1047 2540 2578 6700 2242 230 3771 4676 5881 64...\n",
       "4                              7685 5868 237 6794 3078\n",
       "Name: text, dtype: object"
      ]
     },
     "execution_count": 159,
     "metadata": {
      "tags": []
     },
     "output_type": "execute_result"
    }
   ],
   "source": [
    "#Check\n",
    "n = df.iloc[:, 1]\n",
    "n.head()"
   ]
  },
  {
   "cell_type": "code",
   "execution_count": 160,
   "metadata": {
    "id": "Ew2fIrsWygn3"
   },
   "outputs": [],
   "source": [
    "# Impoirt other libraries\n",
    "from sklearn.metrics import f1_score, roc_auc_score, roc_curve\n",
    "from sklearn.svm import LinearSVC,SVC\n",
    "from sklearn.ensemble import ExtraTreesClassifier, BaggingClassifier,GradientBoostingClassifier#StackingC#lassifier\n",
    "from sklearn.naive_bayes import BernoulliNB,GaussianNB,MultinomialNB\n",
    "from sklearn.linear_model import PassiveAggressiveClassifier, RidgeClassifier,RidgeClassifierCV,SGDClassifier,LogisticRegressionCV\n",
    "from sklearn.neighbors import KNeighborsClassifier\n",
    "from sklearn.neural_network import MLPClassifier\n"
   ]
  },
  {
   "cell_type": "markdown",
   "metadata": {
    "id": "xukGM4V5ylJf"
   },
   "source": [
    "#Modelling"
   ]
  },
  {
   "cell_type": "code",
   "execution_count": 161,
   "metadata": {
    "id": "2LtyNYM1ynb4"
   },
   "outputs": [],
   "source": [
    "#vectorization,splitting data\n",
    "tf_vector = get_feature_vector(np.array(df.iloc[:, 1]).ravel())\n",
    "X = tf_vector.transform(np.array(df.iloc[:, 1]).ravel())\n",
    "y = np.array(df.iloc[:, 2]).ravel()\n",
    "X_train, X_test, y_train, y_test = train_test_split(X, y, test_size=0.2, random_state=30)\n"
   ]
  },
  {
   "cell_type": "code",
   "execution_count": 162,
   "metadata": {
    "colab": {
     "base_uri": "https://localhost:8080/"
    },
    "id": "mpkoS4k4yy1c",
    "outputId": "13f32eb2-f3b6-4494-a75c-776ebd398d68"
   },
   "outputs": [
    {
     "name": "stdout",
     "output_type": "stream",
     "text": [
      "accuracy 0.9923076923076923\n",
      "F1 Score =  0.9146981627296588\n",
      "accuracy 0.9923076923076923\n",
      "F1 Score =  0.9146981627296588\n"
     ]
    }
   ],
   "source": [
    "#Model\n",
    "NB_model = RidgeClassifierCV()#RandomForestClassifier()\n",
    "NB_model.fit(X_train, y_train)\n",
    "y_predict_nb = NB_model.predict(X_test)\n",
    "#print('test...',y_test)\n",
    "#print('predict...',y_predict_nb)\n",
    "print('accuracy',accuracy_score(y_test, y_predict_nb))\n",
    "print(\"F1 Score = \" ,f1_score(y_test, y_predict_nb,average='macro'))"
   ]
  },
  {
   "cell_type": "markdown",
   "metadata": {
    "id": "7uMt1kv3y7ee"
   },
   "source": [
    "# Results with TfidfVectorizer\n"
   ]
  },
  {
   "cell_type": "markdown",
   "metadata": {
    "id": "C2YWNZaSy-Ay"
   },
   "source": [
    "PassiveAggressiveClassifier:\n",
    "\n",
    "('accuracy', 0.9942307692307693)\n",
    "('F1 Score = ', 0.9385221674876847)\n",
    "\n",
    "MLPClassifier:\n",
    "\n",
    "('accuracy', 0.9942307692307693)\n",
    "('F1 Score = ', 0.9385221674876847)\n",
    "\n",
    "SGDClassifier:\n",
    "\n",
    "  ('accuracy', 0.9942307692307693)\n",
    "('F1 Score = ', 0.9385221674876847)  \n",
    "LogisticRegressionCV:            \n",
    "   [same result with all-solver{‘newton-cg’, ‘lbfgs’, ‘liblinear’, ‘sag’, ‘saga’}, default=’lbfgs’]\n",
    "\n",
    "('accuracy', 0.9942307692307693)\n",
    "('F1 Score = ', 0.9385221674876847)\n",
    "\n",
    "RidgeClassifierCV:\n",
    "\n",
    "   ('accuracy', 0.9923076923076923)\n",
    "('F1 Score = ', 0.9146981627296588)\n",
    "LinearSVC :\n",
    "\n",
    "('accuracy', 0.9903846153846154)\n",
    "('F1 Score = ', 0.8888461374032748)\n",
    "KNeighborsClassifier:\n",
    "\n",
    " ('accuracy', 0.9903846153846154)\n",
    "('F1 Score = ', 0.8888461374032748)\n",
    "\n",
    "RidgeClassifier:\n",
    "\n",
    "('accuracy', 0.9903846153846154)\n",
    "('F1 Score = ', 0.8888461374032748)\n",
    "\n",
    "GradientBoostingClassifier:\n",
    "\n",
    "('accuracy', 0.9884615384615385)\n",
    "('F1 Score = ', 0.8720472440944882)\n",
    "BaggingClassifier:\n",
    "\n",
    "('accuracy', 0.9865384615384616)\n",
    "('F1 Score = ', 0.856551724137931)\n",
    "\n",
    "DecisionTreeClassifier:\n",
    "\n",
    "('accuracy', 0.9826923076923076)\n",
    "('F1 Score = ', 0.8403765476312288)\n",
    "\n",
    "ExtraTreesClassifier:\n",
    "\n",
    "('accuracy', 0.9846153846153847)\n",
    "('F1 Score = ', 0.8142525450973388)\n",
    "\n",
    "RandomForestClassifier:\n",
    "\n",
    "('accuracy', 0.9826923076923076)\n",
    "('F1 Score = ', 0.758750451054178)\n",
    "\n",
    "LogisticRegression:\n",
    "\n",
    "('accuracy', 0.9730769230769231)\n",
    "('F1 Score = ', 0.49317738791423)\n",
    "BernoulliNB:\n",
    "\n",
    "('accuracy', 0.9730769230769231)\n",
    "('F1 Score = ', 0.49317738791423)\n",
    "MultinomialNB:\n",
    "\n",
    "('accuracy', 0.9730769230769231)\n",
    "('F1 Score = ', 0.49317738791423)"
   ]
  },
  {
   "cell_type": "markdown",
   "metadata": {
    "id": "3wsRr5k-0GPn"
   },
   "source": [
    "#PassiveAggressiveClassifier, MLPClassifier, SGDClassifier, LogisticRegressionCV are giving the higest F_score"
   ]
  },
  {
   "cell_type": "markdown",
   "metadata": {
    "id": "XP4TeIDv0Jvi"
   },
   "source": [
    "# Lets try CountVectorizer"
   ]
  },
  {
   "cell_type": "code",
   "execution_count": 163,
   "metadata": {
    "id": "dQzjk-IG0Swl"
   },
   "outputs": [],
   "source": [
    "#new vectorization function\n",
    "def get_feature_vector_cv(train_fit):         \n",
    "    #vector = Word2Vec(train_fit, min_count=1)\n",
    "    vector=  CountVectorizer(analyzer='word')\n",
    "    vector.fit(train_fit)\n",
    "    return vector\n"
   ]
  },
  {
   "cell_type": "code",
   "execution_count": 164,
   "metadata": {
    "id": "Xair-L3e0fq1"
   },
   "outputs": [],
   "source": [
    "#pre-procecss, data transformation\n",
    "tf_vector = get_feature_vector_cv(np.array(df.iloc[:, 1]).ravel())\n",
    "X = tf_vector.transform(np.array(df.iloc[:, 1]).ravel())\n",
    "y = np.array(df.iloc[:, 2]).ravel()\n",
    "X_train, X_test, y_train, y_test = train_test_split(X, y, test_size=0.2, random_state=30)\n"
   ]
  },
  {
   "cell_type": "markdown",
   "metadata": {
    "id": "cfXolSNK0oG9"
   },
   "source": [
    "Modelling"
   ]
  },
  {
   "cell_type": "code",
   "execution_count": 165,
   "metadata": {
    "colab": {
     "base_uri": "https://localhost:8080/"
    },
    "id": "rOM0gwFS0qTv",
    "outputId": "14fc5e2d-2288-4544-9e33-25efaf99d853"
   },
   "outputs": [
    {
     "name": "stdout",
     "output_type": "stream",
     "text": [
      "accuracy 0.9923076923076923\n",
      "F1 Score =  0.9146981627296588\n",
      "accuracy 0.9923076923076923\n",
      "F1 Score =  0.9146981627296588\n"
     ]
    }
   ],
   "source": [
    "# Training \n",
    "model = LogisticRegression()#RandomForestClassifier()\n",
    "model.fit(X_train, y_train)\n",
    "y_predict_nb = model.predict(X_test)\n",
    "#print('test...',y_test)\n",
    "#print('predict...',y_predict_nb)\n",
    "print('accuracy',accuracy_score(y_test, y_predict_nb))\n",
    "print(\"F1 Score = \" ,f1_score(y_test, y_predict_nb,average='macro'))"
   ]
  },
  {
   "cell_type": "markdown",
   "metadata": {
    "id": "4vnlZIZG03Wy"
   },
   "source": [
    "Results with CountVectorizer"
   ]
  },
  {
   "cell_type": "markdown",
   "metadata": {
    "id": "HhjUsPvb1Hcd"
   },
   "source": [
    "PassiveAggressiveClassifier:\n",
    "\n",
    "('accuracy', 0.9923076923076923)\n",
    "('F1 Score = ', 0.9146981627296588)\n",
    "\n",
    "MLPClassifier:\n",
    "('accuracy', 0.9923076923076923)\n",
    "('F1 Score = ', 0.9146981627296588)\n",
    "\n",
    "SGDClassifier:\n",
    "('accuracy', 0.9884615384615385)\n",
    "('F1 Score = ', 0.8898927159796726)\n",
    "\n",
    "LogisticRegressionCV:               [same result with all-solver{‘newton-cg’, ‘lbfgs’, ‘liblinear’, ‘sag’, ‘saga’}, default=’lbfgs’]\n",
    "\n",
    "('accuracy', 0.9942307692307693)\n",
    "('F1 Score = ', 0.9385221674876847) [ Same for tfidf and count]\n",
    "\n",
    "RidgeClassifierCV:\n",
    "\n",
    "('accuracy', 0.9942307692307693)\n",
    "('F1 Score = ', 0.9385221674876847)\n",
    "LinearSVC :\n",
    "\n",
    "('accuracy', 0.9923076923076923)\n",
    "('F1 Score = ', 0.9211045364891519)\n",
    "KNeighborsClassifier:\n",
    "\n",
    "('accuracy', 0.9730769230769231)\n",
    "('F1 Score = ', 0.49317738791423)\n",
    "RidgeClassifier:\n",
    "\n",
    "('accuracy', 0.9730769230769231)\n",
    "('F1 Score = ', 0.49317738791423)\n",
    "GradientBoostingClassifier:\n",
    "\n",
    "   ('accuracy', 0.9826923076923076)\n",
    "('F1 Score = ', 0.7999230473258946)\n",
    "BaggingClassifier:\n",
    "\n",
    "('accuracy', 0.9807692307692307)\n",
    "('F1 Score = ', 0.7678156813716734)\n",
    "DecisionTreeClassifier:\n",
    "\n",
    "('accuracy', 0.9807692307692307)\n",
    "('F1 Score = ', 0.8283828382838283)\n",
    "ExtraTreesClassifier:\n",
    "\n",
    "('accuracy', 0.9846153846153847)\n",
    "('F1 Score = ', 0.7960784313725491)\n",
    "RandomForestClassifier:\n",
    "\n",
    "('accuracy', 0.9769230769230769)\n",
    "('F1 Score = ', 0.619140625)\n",
    "\n",
    "LogisticRegression:                     \n",
    "('accuracy', 0.9942307692307693)\n",
    "('F1 Score = ', 0.9385221674876847)\n",
    "\n",
    "BernoulliNB:\n",
    "\n",
    "('accuracy', 0.9730769230769231)\n",
    "('F1 Score = ', 0.49317738791423)\n",
    "\n",
    "MultinomialNB:\n",
    "\n",
    "('accuracy', 0.9826923076923076)\n",
    "('F1 Score = ', 0.8591676446691342)    \n"
   ]
  },
  {
   "cell_type": "markdown",
   "metadata": {
    "id": "AXi4i_LZ1wTW"
   },
   "source": [
    "# RidgeClassifierCV LogisticRegressionCV,LogisticRegression are giving the higest F_score with CountVectorization"
   ]
  },
  {
   "cell_type": "markdown",
   "metadata": {
    "id": "wFRmVd_G1xXS"
   },
   "source": [
    "## LETS try with the test data\n"
   ]
  },
  {
   "cell_type": "code",
   "execution_count": 166,
   "metadata": {
    "id": "Yov1hQL012Ef"
   },
   "outputs": [],
   "source": [
    "df_test = pd.read_csv('./TEST.csv')"
   ]
  },
  {
   "cell_type": "code",
   "execution_count": 167,
   "metadata": {
    "colab": {
     "base_uri": "https://localhost:8080/",
     "height": 391
    },
    "id": "RBhu2Kht15I2",
    "outputId": "052341b4-e62f-4190-c1a2-74108bc45219"
   },
   "outputs": [
    {
     "data": {
      "text/html": [
       "<div>\n",
       "<style scoped>\n",
       "    .dataframe tbody tr th:only-of-type {\n",
       "        vertical-align: middle;\n",
       "    }\n",
       "\n",
       "    .dataframe tbody tr th {\n",
       "        vertical-align: top;\n",
       "    }\n",
       "\n",
       "    .dataframe thead th {\n",
       "        text-align: right;\n",
       "    }\n",
       "</style>\n",
       "<table border=\"1\" class=\"dataframe\">\n",
       "  <thead>\n",
       "    <tr style=\"text-align: right;\">\n",
       "      <th></th>\n",
       "      <th>id</th>\n",
       "      <th>text</th>\n",
       "    </tr>\n",
       "  </thead>\n",
       "  <tbody>\n",
       "    <tr>\n",
       "      <th>0</th>\n",
       "      <td>1546</td>\n",
       "      <td>5222 7526 427 4829 7526 1164 4768 997 7924 332...</td>\n",
       "    </tr>\n",
       "    <tr>\n",
       "      <th>1</th>\n",
       "      <td>2956</td>\n",
       "      <td>590 983 5773 8352 1803 237 5045 6300 6267 5773...</td>\n",
       "    </tr>\n",
       "    <tr>\n",
       "      <th>2</th>\n",
       "      <td>4248</td>\n",
       "      <td>5915 4871 2982 6310 2734 3581 5773 6498 5773</td>\n",
       "    </tr>\n",
       "    <tr>\n",
       "      <th>3</th>\n",
       "      <td>4403</td>\n",
       "      <td>5435 1994 7248 1944 4017 3567 8618 5018 6619 3...</td>\n",
       "    </tr>\n",
       "    <tr>\n",
       "      <th>4</th>\n",
       "      <td>2097</td>\n",
       "      <td>6666 230 4768 2684 5773 3656 907 5922 2295 577...</td>\n",
       "    </tr>\n",
       "  </tbody>\n",
       "</table>\n",
       "</div>"
      ],
      "text/plain": [
       "     id                                               text\n",
       "0  1546  5222 7526 427 4829 7526 1164 4768 997 7924 332...\n",
       "1  2956  590 983 5773 8352 1803 237 5045 6300 6267 5773...\n",
       "2  4248       5915 4871 2982 6310 2734 3581 5773 6498 5773\n",
       "3  4403  5435 1994 7248 1944 4017 3567 8618 5018 6619 3...\n",
       "4  2097  6666 230 4768 2684 5773 3656 907 5922 2295 577..."
      ]
     },
     "execution_count": 136,
     "metadata": {
      "tags": []
     },
     "output_type": "execute_result"
    },
    {
     "data": {
      "text/html": [
       "<div>\n",
       "<style scoped>\n",
       "    .dataframe tbody tr th:only-of-type {\n",
       "        vertical-align: middle;\n",
       "    }\n",
       "\n",
       "    .dataframe tbody tr th {\n",
       "        vertical-align: top;\n",
       "    }\n",
       "\n",
       "    .dataframe thead th {\n",
       "        text-align: right;\n",
       "    }\n",
       "</style>\n",
       "<table border=\"1\" class=\"dataframe\">\n",
       "  <thead>\n",
       "    <tr style=\"text-align: right;\">\n",
       "      <th></th>\n",
       "      <th>id</th>\n",
       "      <th>text</th>\n",
       "    </tr>\n",
       "  </thead>\n",
       "  <tbody>\n",
       "    <tr>\n",
       "      <th>0</th>\n",
       "      <td>1546</td>\n",
       "      <td>5222 7526 427 4829 7526 1164 4768 997 7924 332...</td>\n",
       "    </tr>\n",
       "    <tr>\n",
       "      <th>1</th>\n",
       "      <td>2956</td>\n",
       "      <td>590 983 5773 8352 1803 237 5045 6300 6267 5773...</td>\n",
       "    </tr>\n",
       "    <tr>\n",
       "      <th>2</th>\n",
       "      <td>4248</td>\n",
       "      <td>5915 4871 2982 6310 2734 3581 5773 6498 5773</td>\n",
       "    </tr>\n",
       "    <tr>\n",
       "      <th>3</th>\n",
       "      <td>4403</td>\n",
       "      <td>5435 1994 7248 1944 4017 3567 8618 5018 6619 3...</td>\n",
       "    </tr>\n",
       "    <tr>\n",
       "      <th>4</th>\n",
       "      <td>2097</td>\n",
       "      <td>6666 230 4768 2684 5773 3656 907 5922 2295 577...</td>\n",
       "    </tr>\n",
       "  </tbody>\n",
       "</table>\n",
       "</div>"
      ],
      "text/plain": [
       "     id                                               text\n",
       "0  1546  5222 7526 427 4829 7526 1164 4768 997 7924 332...\n",
       "1  2956  590 983 5773 8352 1803 237 5045 6300 6267 5773...\n",
       "2  4248       5915 4871 2982 6310 2734 3581 5773 6498 5773\n",
       "3  4403  5435 1994 7248 1944 4017 3567 8618 5018 6619 3...\n",
       "4  2097  6666 230 4768 2684 5773 3656 907 5922 2295 577..."
      ]
     },
     "execution_count": 167,
     "metadata": {
      "tags": []
     },
     "output_type": "execute_result"
    }
   ],
   "source": [
    "df_test.head()"
   ]
  },
  {
   "cell_type": "code",
   "execution_count": 169,
   "metadata": {
    "id": "cxZakRjO0nLY"
   },
   "outputs": [],
   "source": [
    "X_tst = tf_vector.transform(np.array(df_test.iloc[:, 1]).ravel())"
   ]
  },
  {
   "cell_type": "code",
   "execution_count": 170,
   "metadata": {
    "id": "M6q7C-AE2Cu9"
   },
   "outputs": [],
   "source": [
    "Y_predict=model.predict(X_tst)"
   ]
  },
  {
   "cell_type": "code",
   "execution_count": 171,
   "metadata": {
    "id": "3e6STS4L2IiG"
   },
   "outputs": [],
   "source": [
    "##submission = pd.DataFrame(Y_predict,columns=['category'])\n",
    "#submission = pd.concat([Id,prediction['y']],1)\n",
    "\n",
    "#submission.to_csv('../data/submission.csv',index=False)"
   ]
  },
  {
   "cell_type": "markdown",
   "metadata": {
    "id": "HWL3UJuv2bjc"
   },
   "source": [
    "# LETS try Smote to take care of class imbalance: we will only consider tfTokinzer henceforth.\n",
    "# And only consider subset of models that are giving better scores.\n",
    "# PassiveAggressiveClassifier, MLPClassifier, SGDClassifier, LogisticRegressionCV are giving the higest F_score"
   ]
  },
  {
   "cell_type": "code",
   "execution_count": 172,
   "metadata": {
    "id": "JQbUqAiE2fvQ"
   },
   "outputs": [],
   "source": [
    "from imblearn.over_sampling import SMOTE"
   ]
  },
  {
   "cell_type": "code",
   "execution_count": 173,
   "metadata": {
    "id": "qh3ojPOg2t6r"
   },
   "outputs": [],
   "source": [
    "tf_vector = get_feature_vector(np.array(df.iloc[:, 1]).ravel())\n",
    "X = tf_vector.transform(np.array(df.iloc[:, 1]).ravel())\n",
    "y = np.array(df.iloc[:, 2]).ravel()\n",
    "X_train, X_test, y_train, y_test = train_test_split(X, y, test_size=0.2, random_state=30)"
   ]
  },
  {
   "cell_type": "code",
   "execution_count": 174,
   "metadata": {
    "colab": {
     "base_uri": "https://localhost:8080/"
    },
    "id": "Nt41VlOY2ycg",
    "outputId": "642c05c9-641f-4909-bfc9-e594890f5b36"
   },
   "outputs": [
    {
     "name": "stderr",
     "output_type": "stream",
     "text": [
      "/usr/local/lib/python3.6/dist-packages/sklearn/utils/deprecation.py:87: FutureWarning: Function safe_indexing is deprecated; safe_indexing is deprecated in version 0.22 and will be removed in version 0.24.\n",
      "  warnings.warn(msg, category=FutureWarning)\n"
     ]
    }
   ],
   "source": [
    "#Initialising a SMOTE object\n",
    "smote = SMOTE(random_state=12,ratio=1.0)\n",
    "\n",
    "#Sampling the data using SMOTE\n",
    "X_sample_2, y_sample_2 = smote.fit_sample(X_train, y_train)"
   ]
  },
  {
   "cell_type": "code",
   "execution_count": 175,
   "metadata": {
    "colab": {
     "base_uri": "https://localhost:8080/"
    },
    "id": "HpXpPw8Z24WC",
    "outputId": "487b1057-723a-4c5d-a16c-f9df2fa06593"
   },
   "outputs": [
    {
     "name": "stdout",
     "output_type": "stream",
     "text": [
      "accuracy 0.9942307692307693\n",
      "F1 Score =  0.9385221674876847\n"
     ]
    }
   ],
   "source": [
    "#Model\n",
    "NB_model = LogisticRegressionCV()\n",
    "NB_model.fit(X_sample_2, y_sample_2)\n",
    "y_predict_nb = NB_model.predict(X_test)\n",
    "#print('test...',y_test)\n",
    "#print('predict...',y_predict_nb)\n",
    "print('accuracy',accuracy_score(y_test, y_predict_nb))\n",
    "print(\"F1 Score = \" ,f1_score(y_test, y_predict_nb,average='macro'))"
   ]
  },
  {
   "cell_type": "markdown",
   "metadata": {
    "id": "8gnWwHfh3Nl3"
   },
   "source": [
    "# Try NN model"
   ]
  },
  {
   "cell_type": "markdown",
   "metadata": {
    "id": "ZszdWa8b3Tgg"
   },
   "source": [
    "#Try with word2wec\n"
   ]
  },
  {
   "cell_type": "code",
   "execution_count": 176,
   "metadata": {
    "id": "Lj0qSpUJ3Z26"
   },
   "outputs": [],
   "source": [
    "#https://www.ahmedbesbes.com/blog/sentiment-analysis-with-keras-and-word-2-vec\n",
    "from copy import deepcopy\n",
    "from string import punctuation\n",
    "from random import shuffle"
   ]
  },
  {
   "cell_type": "code",
   "execution_count": 177,
   "metadata": {
    "id": "Hj0NBYXM9ZUr"
   },
   "outputs": [],
   "source": [
    "import gensim\n",
    "from gensim.models.word2vec import Word2Vec # "
   ]
  },
  {
   "cell_type": "code",
   "execution_count": 179,
   "metadata": {
    "id": "97JPQwmM9hKs"
   },
   "outputs": [],
   "source": [
    "from tqdm import tqdm\n",
    "tqdm.pandas(desc=\"progress-bar\")\n",
    "\n",
    "from nltk.tokenize import TweetTokenizer # a tweet tokenizer from nltk.\n",
    "tokenizer = TweetTokenizer()\n"
   ]
  },
  {
   "cell_type": "code",
   "execution_count": 180,
   "metadata": {
    "id": "5O6CTo6C9-LV"
   },
   "outputs": [],
   "source": [
    "# function to tokenize\n",
    "def tokenize(text):\n",
    "    try:\n",
    "        text = unicode(tweet.decode('utf-8').lower())\n",
    "        tokens = tokenizer.tokenize(tweet)\n",
    "        tokens = filter(lambda t: not t.startswith('@'), tokens)\n",
    "        tokens = filter(lambda t: not t.startswith('#'), tokens)\n",
    "        tokens = filter(lambda t: not t.startswith('http'), tokens)\n",
    "        return tokens\n",
    "    except:\n",
    "        return 'NC'"
   ]
  },
  {
   "cell_type": "markdown",
   "metadata": {
    "id": "XQr_ITNH3Qro"
   },
   "source": [
    "The results of the tokenization should now be cleaned to remove lines with 'NC'"
   ]
  },
  {
   "cell_type": "code",
   "execution_count": 181,
   "metadata": {
    "id": "Fitd9fVE-dkF"
   },
   "outputs": [],
   "source": [
    "def postprocess(data, n=1000000):\n",
    "    data = data.head(n)\n",
    "    data['tokens'] = data['text'].progress_map(tokenize)  ## progress_map is a variant of the map function plus a progress bar. Handy to monitor DataFrame creations.\n",
    "    data = data[data.tokens != 'NC']\n",
    "    data.reset_index(inplace=True)\n",
    "    data.drop('index', inplace=True, axis=1)\n",
    "    return data"
   ]
  },
  {
   "cell_type": "code",
   "execution_count": 70,
   "metadata": {
    "colab": {
     "base_uri": "https://localhost:8080/"
    },
    "id": "GzvlmYid-l_s",
    "outputId": "640c6d55-2315-4218-a542-53ce3707cc59"
   },
   "outputs": [
    {
     "name": "stderr",
     "output_type": "stream",
     "text": [
      "progress-bar: 100%|██████████| 2598/2598 [00:00<00:00, 217875.03it/s]\n"
     ]
    }
   ],
   "source": [
    "df = postprocess(df)"
   ]
  },
  {
   "cell_type": "code",
   "execution_count": 182,
   "metadata": {
    "colab": {
     "base_uri": "https://localhost:8080/",
     "height": 204
    },
    "id": "HdvXSdnoATME",
    "outputId": "b2b993f4-40b9-459f-ed33-2fcf3e626db1"
   },
   "outputs": [
    {
     "data": {
      "text/html": [
       "<div>\n",
       "<style scoped>\n",
       "    .dataframe tbody tr th:only-of-type {\n",
       "        vertical-align: middle;\n",
       "    }\n",
       "\n",
       "    .dataframe tbody tr th {\n",
       "        vertical-align: top;\n",
       "    }\n",
       "\n",
       "    .dataframe thead th {\n",
       "        text-align: right;\n",
       "    }\n",
       "</style>\n",
       "<table border=\"1\" class=\"dataframe\">\n",
       "  <thead>\n",
       "    <tr style=\"text-align: right;\">\n",
       "      <th></th>\n",
       "      <th>id</th>\n",
       "      <th>text</th>\n",
       "      <th>category</th>\n",
       "    </tr>\n",
       "  </thead>\n",
       "  <tbody>\n",
       "    <tr>\n",
       "      <th>0</th>\n",
       "      <td>3973</td>\n",
       "      <td>1047 6700 4178 2912 183 6700</td>\n",
       "      <td>0</td>\n",
       "    </tr>\n",
       "    <tr>\n",
       "      <th>1</th>\n",
       "      <td>4462</td>\n",
       "      <td>4035 4563 1994 154 5373 4956 6035 4393 4017 40...</td>\n",
       "      <td>1</td>\n",
       "    </tr>\n",
       "    <tr>\n",
       "      <th>2</th>\n",
       "      <td>2889</td>\n",
       "      <td>5035 7685 3139 4407 254 584 6589 8518 3078</td>\n",
       "      <td>0</td>\n",
       "    </tr>\n",
       "    <tr>\n",
       "      <th>3</th>\n",
       "      <td>3457</td>\n",
       "      <td>1047 2540 2578 6700 2242 230 3771 4676 5881 64...</td>\n",
       "      <td>0</td>\n",
       "    </tr>\n",
       "    <tr>\n",
       "      <th>4</th>\n",
       "      <td>1555</td>\n",
       "      <td>7685 5868 237 6794 3078</td>\n",
       "      <td>0</td>\n",
       "    </tr>\n",
       "  </tbody>\n",
       "</table>\n",
       "</div>"
      ],
      "text/plain": [
       "     id                                               text  category\n",
       "0  3973                       1047 6700 4178 2912 183 6700         0\n",
       "1  4462  4035 4563 1994 154 5373 4956 6035 4393 4017 40...         1\n",
       "2  2889         5035 7685 3139 4407 254 584 6589 8518 3078         0\n",
       "3  3457  1047 2540 2578 6700 2242 230 3771 4676 5881 64...         0\n",
       "4  1555                            7685 5868 237 6794 3078         0"
      ]
     },
     "execution_count": 182,
     "metadata": {
      "tags": []
     },
     "output_type": "execute_result"
    }
   ],
   "source": [
    "df.head(5)"
   ]
  },
  {
   "cell_type": "code",
   "execution_count": 184,
   "metadata": {
    "id": "KBtrp3rW-yDz"
   },
   "outputs": [],
   "source": [
    "#Feed it in the word2vec model\n",
    "x_train, x_test, y_train, y_test = train_test_split(np.array(df.text),\n",
    "                                                    np.array(df.category), test_size=0.2)"
   ]
  },
  {
   "cell_type": "markdown",
   "metadata": {
    "id": "ZxX7048U2-Vk"
   },
   "source": [
    "Before feeding lists of tokens into the word2vec model, we must turn them into LabeledSentence"
   ]
  },
  {
   "cell_type": "code",
   "execution_count": 188,
   "metadata": {
    "id": "N61Z78DpJKKD"
   },
   "outputs": [],
   "source": [
    "import gensim\n",
    "from gensim.models.word2vec import Word2Vec # the word2vec model gensim class\n",
    "LabeledSentence = gensim.models.doc2vec.LabeledSentence"
   ]
  },
  {
   "cell_type": "code",
   "execution_count": 189,
   "metadata": {
    "id": "5J7HXr0tIG65"
   },
   "outputs": [],
   "source": [
    "def labelizeTweets(tweets, label_type):\n",
    "    labelized = []\n",
    "    for i,v in tqdm(enumerate(tweets)):\n",
    "        label = '%s_%s'%(label_type,i)\n",
    "        labelized.append(LabeledSentence(v, [label]))\n",
    "    return labelized\n"
   ]
  },
  {
   "cell_type": "code",
   "execution_count": 190,
   "metadata": {
    "colab": {
     "base_uri": "https://localhost:8080/"
    },
    "id": "WmDDdbvXIzY8",
    "outputId": "6173071b-0455-44af-e281-ea08a5ee55a0"
   },
   "outputs": [
    {
     "name": "stderr",
     "output_type": "stream",
     "text": [
      "0it [00:00, ?it/s]/usr/local/lib/python3.6/dist-packages/ipykernel_launcher.py:5: DeprecationWarning: Call to deprecated `LabeledSentence` (Class will be removed in 4.0.0, use TaggedDocument instead).\n",
      "  \"\"\"\n",
      "2078it [00:00, 127189.15it/s]\n",
      "520it [00:00, 125984.18it/s]\n"
     ]
    }
   ],
   "source": [
    "x_train = labelizeTweets(x_train, 'TRAIN')\n",
    "x_test = labelizeTweets(x_test, 'TEST')"
   ]
  },
  {
   "cell_type": "code",
   "execution_count": 191,
   "metadata": {
    "colab": {
     "base_uri": "https://localhost:8080/"
    },
    "id": "_Wo44gGBARJ9",
    "outputId": "0ddd8934-62bc-474f-9f3c-6c8b715d5aeb"
   },
   "outputs": [
    {
     "data": {
      "text/plain": [
       "LabeledSentence(words='7152 7982 6484 3718 3149 3078', tags=['TRAIN_0'])"
      ]
     },
     "execution_count": 191,
     "metadata": {
      "tags": []
     },
     "output_type": "execute_result"
    }
   ],
   "source": [
    "x_train[0]"
   ]
  },
  {
   "cell_type": "markdown",
   "metadata": {
    "id": "5EkpEIhXJj0P"
   },
   "source": [
    "Each element is basically some object with two attributes: a list (of tokens) and a label.\n",
    "\n",
    "Now we are ready to build the word2vec model from x_train i.e. the corpus"
   ]
  },
  {
   "cell_type": "code",
   "execution_count": 200,
   "metadata": {
    "colab": {
     "base_uri": "https://localhost:8080/"
    },
    "id": "o0CrpfBAJvvD",
    "outputId": "c298b284-9530-4e21-d25f-271d507cf91b"
   },
   "outputs": [
    {
     "name": "stderr",
     "output_type": "stream",
     "text": [
      "100%|██████████| 2078/2078 [00:00<00:00, 591661.37it/s]\n",
      "100%|██████████| 2078/2078 [00:00<00:00, 532715.83it/s]\n"
     ]
    },
    {
     "data": {
      "text/plain": [
       "(114731, 1010210)"
      ]
     },
     "execution_count": 200,
     "metadata": {
      "tags": []
     },
     "output_type": "execute_result"
    }
   ],
   "source": [
    "tweet_w2v = Word2Vec(size=200)\n",
    "tweet_w2v.build_vocab([x.words for x in tqdm(x_train)])\n",
    "tweet_w2v.train([x.words for x in tqdm(x_train)],total_examples=tweet_w2v.corpus_count,epochs=tweet_w2v.epochs)"
   ]
  },
  {
   "cell_type": "markdown",
   "metadata": {
    "id": "22GTQ9pfPE1L"
   },
   "source": [
    "Once the model is built and trained on the corpus of tweets, we can use it to convert words to vectors. Here's an example"
   ]
  },
  {
   "cell_type": "code",
   "execution_count": 203,
   "metadata": {
    "id": "qZaduTs0PGUp"
   },
   "outputs": [],
   "source": [
    "#tweet_w2v['1047']\n"
   ]
  },
  {
   "cell_type": "code",
   "execution_count": 206,
   "metadata": {
    "colab": {
     "base_uri": "https://localhost:8080/"
    },
    "id": "dO5RgvGaJFre",
    "outputId": "6946c791-61d1-4c79-8221-2aad2fc74c5e"
   },
   "outputs": [
    {
     "name": "stdout",
     "output_type": "stream",
     "text": [
      "vocab size : 11\n"
     ]
    }
   ],
   "source": [
    "#print 'building tf-idf matrix ...'\n",
    "vectorizer = TfidfVectorizer(analyzer=lambda x: x, min_df=10)\n",
    "matrix = vectorizer.fit_transform([x.words for x in x_train])\n",
    "tfidf = dict(zip(vectorizer.get_feature_names(), vectorizer.idf_))\n",
    "print ('vocab size :', len(tfidf))"
   ]
  },
  {
   "cell_type": "markdown",
   "metadata": {
    "id": "q2M2K1YSQdMN"
   },
   "source": [
    "Now let's define a function that, given a list of tweet tokens, creates an averaged tweet vector.\n",
    "\n"
   ]
  },
  {
   "cell_type": "code",
   "execution_count": 207,
   "metadata": {
    "id": "Er25qfm7QeHX"
   },
   "outputs": [],
   "source": [
    "def buildWordVector(tokens, size):\n",
    "    vec = np.zeros(size).reshape((1, size))\n",
    "    count = 0.\n",
    "    for word in tokens:\n",
    "        try:\n",
    "            vec += tweet_w2v[word].reshape((1, size)) * tfidf[word]\n",
    "            count += 1.\n",
    "        except KeyError: # handling the case where the token is not\n",
    "                         # in the corpus. useful for testing.\n",
    "            continue\n",
    "    if count != 0:\n",
    "        vec /= count\n",
    "    return vec"
   ]
  },
  {
   "cell_type": "markdown",
   "metadata": {
    "id": "Db_iN2FUQpCc"
   },
   "source": [
    "Now we convert xtrain and and xtest into list of vectors using this function. We also scale each column to have zero mean and unit standard deviation."
   ]
  },
  {
   "cell_type": "code",
   "execution_count": 209,
   "metadata": {
    "colab": {
     "base_uri": "https://localhost:8080/"
    },
    "id": "Bs9mBFmEQpyA",
    "outputId": "dd9ada32-a076-4e70-e95a-d25077565966"
   },
   "outputs": [
    {
     "name": "stderr",
     "output_type": "stream",
     "text": [
      "\n",
      "0it [00:00, ?it/s]\u001b[A/usr/local/lib/python3.6/dist-packages/ipykernel_launcher.py:6: DeprecationWarning: Call to deprecated `__getitem__` (Method will be removed in 4.0.0, use self.wv.__getitem__() instead).\n",
      "  \n",
      "\n",
      "102it [00:00, 1013.77it/s]\u001b[A\n",
      "225it [00:00, 1067.50it/s]\u001b[A\n",
      "343it [00:00, 1095.06it/s]\u001b[A\n",
      "455it [00:00, 1102.17it/s]\u001b[A\n",
      "586it [00:00, 1156.66it/s]\u001b[A\n",
      "715it [00:00, 1192.62it/s]\u001b[A\n",
      "824it [00:00, 1132.71it/s]\u001b[A\n",
      "950it [00:00, 1167.46it/s]\u001b[A\n",
      "1074it [00:00, 1184.78it/s]\u001b[A\n",
      "1204it [00:01, 1215.40it/s]\u001b[A\n",
      "1324it [00:01, 1119.95it/s]\u001b[A\n",
      "1437it [00:01, 1095.64it/s]\u001b[A\n",
      "1547it [00:01, 605.73it/s] \u001b[A\n",
      "1662it [00:01, 705.95it/s]\u001b[A\n",
      "1778it [00:01, 799.53it/s]\u001b[A\n",
      "1919it [00:01, 918.01it/s]\u001b[A\n",
      "2078it [00:02, 992.68it/s]\n",
      "\n",
      "0it [00:00, ?it/s]\u001b[A/usr/local/lib/python3.6/dist-packages/ipykernel_launcher.py:6: DeprecationWarning: Call to deprecated `__getitem__` (Method will be removed in 4.0.0, use self.wv.__getitem__() instead).\n",
      "  \n",
      "\n",
      "124it [00:00, 1238.11it/s]\u001b[A\n",
      "249it [00:00, 1239.39it/s]\u001b[A\n",
      "381it [00:00, 1260.97it/s]\u001b[A\n",
      "520it [00:00, 1237.35it/s]\n"
     ]
    }
   ],
   "source": [
    "from sklearn.preprocessing import scale\n",
    "train_vecs_w2v = np.concatenate([buildWordVector(z, 200) for z in tqdm(map(lambda x: x.words, x_train))])\n",
    "train_vecs_w2v = scale(train_vecs_w2v)\n",
    "\n",
    "test_vecs_w2v = np.concatenate([buildWordVector(z, 200) for z in tqdm(map(lambda x: x.words, x_test))])\n",
    "test_vecs_w2v = scale(test_vecs_w2v)"
   ]
  },
  {
   "cell_type": "markdown",
   "metadata": {
    "id": "EJfSElF2RMEb"
   },
   "source": [
    "We should now be ready to feed these vectors into a neural network classifier. \n",
    "Here is a basic 2-layer architecture."
   ]
  },
  {
   "cell_type": "code",
   "execution_count": 212,
   "metadata": {
    "colab": {
     "base_uri": "https://localhost:8080/"
    },
    "id": "Qij_Gv_BRE1a",
    "outputId": "f1e91c0e-dbc0-440e-e955-739cfc6f2d01"
   },
   "outputs": [
    {
     "name": "stdout",
     "output_type": "stream",
     "text": [
      "Epoch 1/9\n",
      "65/65 - 1s - loss: 0.1898 - accuracy: 0.9601\n",
      "Epoch 2/9\n",
      "65/65 - 0s - loss: 0.1350 - accuracy: 0.9673\n",
      "Epoch 3/9\n",
      "65/65 - 0s - loss: 0.1305 - accuracy: 0.9673\n",
      "Epoch 4/9\n",
      "65/65 - 0s - loss: 0.1295 - accuracy: 0.9673\n",
      "Epoch 5/9\n",
      "65/65 - 0s - loss: 0.1269 - accuracy: 0.9673\n",
      "Epoch 6/9\n",
      "65/65 - 0s - loss: 0.1272 - accuracy: 0.9673\n",
      "Epoch 7/9\n",
      "65/65 - 0s - loss: 0.1243 - accuracy: 0.9673\n",
      "Epoch 8/9\n",
      "65/65 - 0s - loss: 0.1233 - accuracy: 0.9673\n",
      "Epoch 9/9\n",
      "65/65 - 0s - loss: 0.1215 - accuracy: 0.9673\n"
     ]
    },
    {
     "data": {
      "text/plain": [
       "<tensorflow.python.keras.callbacks.History at 0x7fa70e06f208>"
      ]
     },
     "execution_count": 212,
     "metadata": {
      "tags": []
     },
     "output_type": "execute_result"
    }
   ],
   "source": [
    "from keras.models import Sequential\n",
    "from keras.layers import Activation, Dense\n",
    "model = Sequential()\n",
    "model.add(Dense(32, activation='relu', input_dim=200))\n",
    "model.add(Dense(1, activation='sigmoid'))\n",
    "model.compile(optimizer='rmsprop',\n",
    "              loss='binary_crossentropy',\n",
    "              metrics=['accuracy'])\n",
    "\n",
    "model.fit(train_vecs_w2v, y_train, epochs=9, batch_size=32, verbose=2)"
   ]
  },
  {
   "cell_type": "markdown",
   "metadata": {
    "id": "aLgy8RqzSS7w"
   },
   "source": [
    "Evaluate the model"
   ]
  },
  {
   "cell_type": "code",
   "execution_count": 213,
   "metadata": {
    "colab": {
     "base_uri": "https://localhost:8080/"
    },
    "id": "hYSdAiGnSUps",
    "outputId": "13c74cf1-6477-4b32-ce7f-88cfc8a55e73"
   },
   "outputs": [
    {
     "name": "stdout",
     "output_type": "stream",
     "text": [
      "5/5 - 0s - loss: 0.1410 - accuracy: 0.9654\n"
     ]
    }
   ],
   "source": [
    "score = model.evaluate(test_vecs_w2v, y_test, batch_size=128, verbose=2)"
   ]
  },
  {
   "cell_type": "code",
   "execution_count": 215,
   "metadata": {
    "id": "E6WFLZD3SyQ3"
   },
   "outputs": [],
   "source": [
    "submission = pd.DataFrame(Y_predict,columns=['category'])\n",
    "#submission = pd.concat([Id,prediction['y']],1)\n",
    "\n",
    "submission.to_csv('./submission.csv',index=False)"
   ]
  },
  {
   "cell_type": "markdown",
   "metadata": {
    "id": "97T1MuV0Eyxj"
   },
   "source": [
    "RESULTS: accuracy: 0.9654\n"
   ]
  }
 ],
 "metadata": {
  "colab": {
   "collapsed_sections": [],
   "name": "sentiment.ipynb",
   "provenance": []
  },
  "kernelspec": {
   "display_name": "Python 3",
   "language": "python",
   "name": "python3"
  },
  "language_info": {
   "codemirror_mode": {
    "name": "ipython",
    "version": 3
   },
   "file_extension": ".py",
   "mimetype": "text/x-python",
   "name": "python",
   "nbconvert_exporter": "python",
   "pygments_lexer": "ipython3",
   "version": "3.8.5"
  }
 },
 "nbformat": 4,
 "nbformat_minor": 1
}
