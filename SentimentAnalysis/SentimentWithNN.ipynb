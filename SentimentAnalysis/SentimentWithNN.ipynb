{
  "nbformat": 4,
  "nbformat_minor": 0,
  "metadata": {
    "colab": {
      "name": "sentiment.ipynb",
      "provenance": [],
      "collapsed_sections": []
    },
    "kernelspec": {
      "name": "python3",
      "display_name": "Python 3"
    }
  },
  "cells": [
    {
      "cell_type": "code",
      "metadata": {
        "id": "lHQkf_hLl8Ss"
      },
      "source": [
        ""
      ],
      "execution_count": 136,
      "outputs": []
    },
    {
      "cell_type": "markdown",
      "metadata": {
        "id": "fc8F25SGmQsa"
      },
      "source": [
        "Sentiment Prediction\r\n",
        "The notebook presents the solution and approaches and comaparisons there of for a sentiment prediction problem. Various vectorization methods and machine learning models are compared.\r\n",
        "\r\n",
        "Data Description\r\n",
        "\r\n",
        "TRAIN.csv\r\n",
        "\r\n",
        "It contains the training data with review details as described below\r\n",
        "\r\n",
        "Data Dictionary\r\n",
        "Variable Description\r\n",
        "\r\n",
        "id----Unique identifier for each tuple\r\n",
        "\r\n",
        "category----The reviews have been categorized into two categories representing positive and negative reviews. 0 represents positive reviews and 1 represents negative reviews.\r\n",
        "\r\n",
        "text-----Tokenized text content of the review\r\n",
        "\r\n",
        "TEST.csv\r\n",
        "\r\n",
        "It has review details for which to predict whether category would be positive or negative\r\n",
        "\r\n",
        "Import libraries¶"
      ]
    },
    {
      "cell_type": "code",
      "metadata": {
        "id": "X0xr5fuHmSqc"
      },
      "source": [
        "# For notebook plotting\r\n",
        "%matplotlib inline\r\n",
        "\r\n",
        "# Standard packages\r\n",
        "import os\r\n",
        "import numpy as np\r\n",
        "import pandas as pd\r\n",
        "import matplotlib.pyplot as plt\r\n"
      ],
      "execution_count": 137,
      "outputs": []
    },
    {
      "cell_type": "code",
      "metadata": {
        "id": "Kl9wCqi0mc_n"
      },
      "source": [
        "#import skipthoughts\r\n",
        "#https://monkeylearn.com/blog/beginners-guide-text-vectorization/"
      ],
      "execution_count": 138,
      "outputs": []
    },
    {
      "cell_type": "code",
      "metadata": {
        "id": "55WfZ65emm01"
      },
      "source": [
        "from nltk.tokenize import sent_tokenize, word_tokenize\r\n",
        "from nltk.corpus import stopwords\r\n",
        "from nltk.stem.snowball import SnowballStemmer"
      ],
      "execution_count": 139,
      "outputs": []
    },
    {
      "cell_type": "code",
      "metadata": {
        "id": "dQRu3ywAmqzo"
      },
      "source": [
        "# sklearn for preprocessing and machine learning models\r\n",
        "from sklearn.model_selection import train_test_split\r\n",
        "from sklearn.linear_model import LogisticRegression\r\n",
        "from sklearn.naive_bayes import MultinomialNB\r\n",
        "from sklearn.ensemble import GradientBoostingClassifier\r\n",
        "from sklearn.metrics  import accuracy_score\r\n",
        "from sklearn.utils import shuffle\r\n",
        "from sklearn.preprocessing import OneHotEncoder\r\n",
        "from sklearn.feature_extraction.text import TfidfVectorizer"
      ],
      "execution_count": 140,
      "outputs": []
    },
    {
      "cell_type": "code",
      "metadata": {
        "id": "ASz41-7smwD7"
      },
      "source": [
        "import re\r\n",
        "import nltk\r\n",
        "import spacy\r\n",
        "import string\r\n",
        "pd.options.mode.chained_assignment = None\r\n",
        "from sklearn.linear_model import LogisticRegression\r\n",
        "from sklearn.tree import DecisionTreeClassifier\r\n",
        "from sklearn.ensemble import GradientBoostingClassifier ,RandomForestClassifier ,GradientBoostingClassifier,RandomForestRegressor\r\n",
        "from xgboost import XGBClassifier                                      \r\n",
        "from sklearn.model_selection import GridSearchCV, RandomizedSearchCV"
      ],
      "execution_count": 141,
      "outputs": []
    },
    {
      "cell_type": "code",
      "metadata": {
        "id": "GWS4kCIkm2P5"
      },
      "source": [
        "from smart_open import smart_open\r\n",
        "from gensim.models import Word2Vec    #Import gensim Word2Fec\r\n",
        "from sklearn.decomposition import PCA #Grab PCA functions"
      ],
      "execution_count": 142,
      "outputs": []
    },
    {
      "cell_type": "code",
      "metadata": {
        "colab": {
          "base_uri": "https://localhost:8080/"
        },
        "id": "axagxkSlm32N",
        "outputId": "655b917f-cd9e-4f6a-b2c7-7ea9fe568e3a"
      },
      "source": [
        "!pwd"
      ],
      "execution_count": 143,
      "outputs": [
        {
          "output_type": "stream",
          "text": [
            "/content/drive/My Drive/Colab Notebooks\n",
            "/content/drive/My Drive/Colab Notebooks\n"
          ],
          "name": "stdout"
        }
      ]
    },
    {
      "cell_type": "code",
      "metadata": {
        "colab": {
          "base_uri": "https://localhost:8080/"
        },
        "id": "HKAMGGMko69w",
        "outputId": "29226848-7d1d-4c3a-9795-6710bbe47f04"
      },
      "source": [
        "from google.colab import drive\n",
        "drive.mount('/content/drive')"
      ],
      "execution_count": 144,
      "outputs": [
        {
          "output_type": "stream",
          "text": [
            "Drive already mounted at /content/drive; to attempt to forcibly remount, call drive.mount(\"/content/drive\", force_remount=True).\n",
            "Drive already mounted at /content/drive; to attempt to forcibly remount, call drive.mount(\"/content/drive\", force_remount=True).\n"
          ],
          "name": "stdout"
        }
      ]
    },
    {
      "cell_type": "code",
      "metadata": {
        "colab": {
          "base_uri": "https://localhost:8080/"
        },
        "id": "hSvaqXySnWzh",
        "outputId": "78ccdb9c-bf2a-48d4-c484-371fbcdff8dd"
      },
      "source": [
        "!pwd"
      ],
      "execution_count": 145,
      "outputs": [
        {
          "output_type": "stream",
          "text": [
            "/content/drive/My Drive/Colab Notebooks\n",
            "/content/drive/My Drive/Colab Notebooks\n"
          ],
          "name": "stdout"
        }
      ]
    },
    {
      "cell_type": "code",
      "metadata": {
        "colab": {
          "base_uri": "https://localhost:8080/"
        },
        "id": "0WGN5OyipNlr",
        "outputId": "167dd8b5-fa25-4bad-d850-a893a49e440b"
      },
      "source": [
        "!ls\r\n"
      ],
      "execution_count": 146,
      "outputs": [
        {
          "output_type": "stream",
          "text": [
            "'Copy of intro_to_colab.ipynb'\t intro_to_colab.ipynb   TRAIN.csv\n",
            "'Copy of sentiment.ipynb'\t sentiment.ipynb        v1b.ipynb\n",
            "'Copy of w2v.ipynb'\t\t TEST.csv\n",
            "'Copy of intro_to_colab.ipynb'\t intro_to_colab.ipynb   TRAIN.csv\n",
            "'Copy of sentiment.ipynb'\t sentiment.ipynb        v1b.ipynb\n",
            "'Copy of w2v.ipynb'\t\t TEST.csv\n"
          ],
          "name": "stdout"
        }
      ]
    },
    {
      "cell_type": "code",
      "metadata": {
        "colab": {
          "base_uri": "https://localhost:8080/"
        },
        "id": "ymDFkhFFuKPD",
        "outputId": "ff2f8693-8b76-4101-bff0-eda35b230426"
      },
      "source": [
        "!cd drive"
      ],
      "execution_count": 147,
      "outputs": [
        {
          "output_type": "stream",
          "text": [
            "/bin/bash: line 0: cd: drive: No such file or directory\n",
            "/bin/bash: line 0: cd: drive: No such file or directory\n"
          ],
          "name": "stdout"
        }
      ]
    },
    {
      "cell_type": "code",
      "metadata": {
        "colab": {
          "base_uri": "https://localhost:8080/"
        },
        "id": "LXHktdkGuOL1",
        "outputId": "b6a9a509-69c3-4f19-dd8b-956a5b01c9c4"
      },
      "source": [
        "cd MyDrive/"
      ],
      "execution_count": 148,
      "outputs": [
        {
          "output_type": "stream",
          "text": [
            "[Errno 2] No such file or directory: 'MyDrive/'\n",
            "/content/drive/My Drive/Colab Notebooks\n",
            "[Errno 2] No such file or directory: 'MyDrive/'\n",
            "/content/drive/My Drive/Colab Notebooks\n"
          ],
          "name": "stdout"
        }
      ]
    },
    {
      "cell_type": "code",
      "metadata": {
        "colab": {
          "base_uri": "https://localhost:8080/"
        },
        "id": "UDdZLB9HvKMl",
        "outputId": "8feec27b-9e2c-4f90-fdc7-b915397a2bd1"
      },
      "source": [
        "cd Colab\\ Notebooks\r\n"
      ],
      "execution_count": 149,
      "outputs": [
        {
          "output_type": "stream",
          "text": [
            "[Errno 2] No such file or directory: 'Colab Notebooks'\n",
            "/content/drive/My Drive/Colab Notebooks\n",
            "[Errno 2] No such file or directory: 'Colab Notebooks'\n",
            "/content/drive/My Drive/Colab Notebooks\n"
          ],
          "name": "stdout"
        }
      ]
    },
    {
      "cell_type": "code",
      "metadata": {
        "colab": {
          "base_uri": "https://localhost:8080/"
        },
        "id": "gaC2OHHJvq_X",
        "outputId": "8ccf7e6d-07a3-47bc-8992-3cef17cc1847"
      },
      "source": [
        "!ls     # we are at the correct directory"
      ],
      "execution_count": 150,
      "outputs": [
        {
          "output_type": "stream",
          "text": [
            "'Copy of intro_to_colab.ipynb'\t intro_to_colab.ipynb   TRAIN.csv\n",
            "'Copy of sentiment.ipynb'\t sentiment.ipynb        v1b.ipynb\n",
            "'Copy of w2v.ipynb'\t\t TEST.csv\n",
            "'Copy of intro_to_colab.ipynb'\t intro_to_colab.ipynb   TRAIN.csv\n",
            "'Copy of sentiment.ipynb'\t sentiment.ipynb        v1b.ipynb\n",
            "'Copy of w2v.ipynb'\t\t TEST.csv\n"
          ],
          "name": "stdout"
        }
      ]
    },
    {
      "cell_type": "code",
      "metadata": {
        "id": "7r9Uzo5uw3jC"
      },
      "source": [
        "df = pd.read_csv('./TRAIN.csv')"
      ],
      "execution_count": 151,
      "outputs": []
    },
    {
      "cell_type": "code",
      "metadata": {
        "colab": {
          "base_uri": "https://localhost:8080/",
          "height": 391
        },
        "id": "hedXfnzDxbTD",
        "outputId": "3cd057a2-e509-4a69-f347-422cbe22c6c6"
      },
      "source": [
        "df.head()"
      ],
      "execution_count": 152,
      "outputs": [
        {
          "output_type": "execute_result",
          "data": {
            "text/html": [
              "<div>\n",
              "<style scoped>\n",
              "    .dataframe tbody tr th:only-of-type {\n",
              "        vertical-align: middle;\n",
              "    }\n",
              "\n",
              "    .dataframe tbody tr th {\n",
              "        vertical-align: top;\n",
              "    }\n",
              "\n",
              "    .dataframe thead th {\n",
              "        text-align: right;\n",
              "    }\n",
              "</style>\n",
              "<table border=\"1\" class=\"dataframe\">\n",
              "  <thead>\n",
              "    <tr style=\"text-align: right;\">\n",
              "      <th></th>\n",
              "      <th>id</th>\n",
              "      <th>text</th>\n",
              "      <th>category</th>\n",
              "    </tr>\n",
              "  </thead>\n",
              "  <tbody>\n",
              "    <tr>\n",
              "      <th>0</th>\n",
              "      <td>3973</td>\n",
              "      <td>1047 6700 4178 2912 183 6700</td>\n",
              "      <td>0</td>\n",
              "    </tr>\n",
              "    <tr>\n",
              "      <th>1</th>\n",
              "      <td>4462</td>\n",
              "      <td>4035 4563 1994 154 5373 4956 6035 4393 4017 40...</td>\n",
              "      <td>1</td>\n",
              "    </tr>\n",
              "    <tr>\n",
              "      <th>2</th>\n",
              "      <td>2889</td>\n",
              "      <td>5035 7685 3139 4407 254 584 6589 8518 3078</td>\n",
              "      <td>0</td>\n",
              "    </tr>\n",
              "    <tr>\n",
              "      <th>3</th>\n",
              "      <td>3457</td>\n",
              "      <td>1047 2540 2578 6700 2242 230 3771 4676 5881 64...</td>\n",
              "      <td>0</td>\n",
              "    </tr>\n",
              "    <tr>\n",
              "      <th>4</th>\n",
              "      <td>1555</td>\n",
              "      <td>7685 5868 237 6794 3078</td>\n",
              "      <td>0</td>\n",
              "    </tr>\n",
              "  </tbody>\n",
              "</table>\n",
              "</div>"
            ],
            "text/plain": [
              "     id                                               text  category\n",
              "0  3973                       1047 6700 4178 2912 183 6700         0\n",
              "1  4462  4035 4563 1994 154 5373 4956 6035 4393 4017 40...         1\n",
              "2  2889         5035 7685 3139 4407 254 584 6589 8518 3078         0\n",
              "3  3457  1047 2540 2578 6700 2242 230 3771 4676 5881 64...         0\n",
              "4  1555                            7685 5868 237 6794 3078         0"
            ]
          },
          "metadata": {
            "tags": []
          },
          "execution_count": 121
        },
        {
          "output_type": "execute_result",
          "data": {
            "text/html": [
              "<div>\n",
              "<style scoped>\n",
              "    .dataframe tbody tr th:only-of-type {\n",
              "        vertical-align: middle;\n",
              "    }\n",
              "\n",
              "    .dataframe tbody tr th {\n",
              "        vertical-align: top;\n",
              "    }\n",
              "\n",
              "    .dataframe thead th {\n",
              "        text-align: right;\n",
              "    }\n",
              "</style>\n",
              "<table border=\"1\" class=\"dataframe\">\n",
              "  <thead>\n",
              "    <tr style=\"text-align: right;\">\n",
              "      <th></th>\n",
              "      <th>id</th>\n",
              "      <th>text</th>\n",
              "      <th>category</th>\n",
              "    </tr>\n",
              "  </thead>\n",
              "  <tbody>\n",
              "    <tr>\n",
              "      <th>0</th>\n",
              "      <td>3973</td>\n",
              "      <td>1047 6700 4178 2912 183 6700</td>\n",
              "      <td>0</td>\n",
              "    </tr>\n",
              "    <tr>\n",
              "      <th>1</th>\n",
              "      <td>4462</td>\n",
              "      <td>4035 4563 1994 154 5373 4956 6035 4393 4017 40...</td>\n",
              "      <td>1</td>\n",
              "    </tr>\n",
              "    <tr>\n",
              "      <th>2</th>\n",
              "      <td>2889</td>\n",
              "      <td>5035 7685 3139 4407 254 584 6589 8518 3078</td>\n",
              "      <td>0</td>\n",
              "    </tr>\n",
              "    <tr>\n",
              "      <th>3</th>\n",
              "      <td>3457</td>\n",
              "      <td>1047 2540 2578 6700 2242 230 3771 4676 5881 64...</td>\n",
              "      <td>0</td>\n",
              "    </tr>\n",
              "    <tr>\n",
              "      <th>4</th>\n",
              "      <td>1555</td>\n",
              "      <td>7685 5868 237 6794 3078</td>\n",
              "      <td>0</td>\n",
              "    </tr>\n",
              "  </tbody>\n",
              "</table>\n",
              "</div>"
            ],
            "text/plain": [
              "     id                                               text  category\n",
              "0  3973                       1047 6700 4178 2912 183 6700         0\n",
              "1  4462  4035 4563 1994 154 5373 4956 6035 4393 4017 40...         1\n",
              "2  2889         5035 7685 3139 4407 254 584 6589 8518 3078         0\n",
              "3  3457  1047 2540 2578 6700 2242 230 3771 4676 5881 64...         0\n",
              "4  1555                            7685 5868 237 6794 3078         0"
            ]
          },
          "metadata": {
            "tags": []
          },
          "execution_count": 152
        }
      ]
    },
    {
      "cell_type": "code",
      "metadata": {
        "colab": {
          "base_uri": "https://localhost:8080/"
        },
        "id": "cdXNQ-csxdqW",
        "outputId": "3646476f-8c6f-4b4e-9377-63bdd7ed5fd8"
      },
      "source": [
        "#Check for nulls\r\n",
        "df.isna().sum()"
      ],
      "execution_count": 153,
      "outputs": [
        {
          "output_type": "execute_result",
          "data": {
            "text/plain": [
              "id          0\n",
              "text        0\n",
              "category    0\n",
              "dtype: int64"
            ]
          },
          "metadata": {
            "tags": []
          },
          "execution_count": 122
        },
        {
          "output_type": "execute_result",
          "data": {
            "text/plain": [
              "id          0\n",
              "text        0\n",
              "category    0\n",
              "dtype: int64"
            ]
          },
          "metadata": {
            "tags": []
          },
          "execution_count": 153
        }
      ]
    },
    {
      "cell_type": "code",
      "metadata": {
        "colab": {
          "base_uri": "https://localhost:8080/",
          "height": 513
        },
        "id": "0QZjK0l5xl1W",
        "outputId": "0c5655e7-c0c4-4b4d-d70b-ea94c22e81b1"
      },
      "source": [
        "# check the distribution\r\n",
        "df.category.value_counts().plot(kind='pie', autopct='%1.0f%%', colors=[\"red\", \"yellow\", \"green\"])"
      ],
      "execution_count": 154,
      "outputs": [
        {
          "output_type": "execute_result",
          "data": {
            "text/plain": [
              "<matplotlib.axes._subplots.AxesSubplot at 0x7fa7432a0898>"
            ]
          },
          "metadata": {
            "tags": []
          },
          "execution_count": 123
        },
        {
          "output_type": "display_data",
          "data": {
            "image/png": "[encoded data removed]",
            "text/plain": [
              "<Figure size 432x288 with 1 Axes>"
            ]
          },
          "metadata": {
            "tags": []
          }
        },
        {
          "output_type": "execute_result",
          "data": {
            "text/plain": [
              "<matplotlib.axes._subplots.AxesSubplot at 0x7fa743107ac8>"
            ]
          },
          "metadata": {
            "tags": []
          },
          "execution_count": 154
        },
        {
          "output_type": "display_data",
          "data": {
            "image/png": "[encoded data removed]",
            "text/plain": [
              "<Figure size 432x288 with 1 Axes>"
            ]
          },
          "metadata": {
            "tags": []
          }
        }
      ]
    },
    {
      "cell_type": "code",
      "metadata": {
        "colab": {
          "base_uri": "https://localhost:8080/",
          "height": 1000
        },
        "id": "bG35vb-KxpfD",
        "outputId": "4fc3638c-64c3-4b3f-efa7-3dd634fead8d"
      },
      "source": [
        "# lets look at the word distribution\r\n",
        "import collections\r\n",
        "import seaborn as sns\r\n",
        "from sklearn.feature_extraction.text import CountVectorizer\r\n",
        "\r\n",
        "cv = CountVectorizer()\r\n",
        "bow = cv.fit_transform(df['text'])\r\n",
        "word_freq = dict(zip(cv.get_feature_names(), np.asarray(bow.sum(axis=0)).ravel()))\r\n",
        "word_counter = collections.Counter(word_freq)\r\n",
        "word_counter_df = pd.DataFrame(word_counter.most_common(20), columns = ['word', 'freq'])\r\n",
        "fig, ax = plt.subplots(figsize=(12, 10))\r\n",
        "sns.barplot(x=\"word\", y=\"freq\", data=word_counter_df, palette=\"PuBuGn_d\", ax=ax)\r\n",
        "plt.show();\r\n"
      ],
      "execution_count": 155,
      "outputs": [
        {
          "output_type": "display_data",
          "data": {
            "image/png": "[encoded data removed]",
            "text/plain": [
              "<Figure size 864x720 with 1 Axes>"
            ]
          },
          "metadata": {
            "tags": [],
            "needs_background": "light"
          }
        },
        {
          "output_type": "display_data",
          "data": {
            "image/png": "[encoded data removed]",
            "text/plain": [
              "<Figure size 864x720 with 1 Axes>"
            ]
          },
          "metadata": {
            "tags": [],
            "needs_background": "light"
          }
        }
      ]
    },
    {
      "cell_type": "markdown",
      "metadata": {
        "id": "Mm8uNImaxx8D"
      },
      "source": [
        "#Pre-processing Tweets"
      ]
    },
    {
      "cell_type": "code",
      "metadata": {
        "id": "_U0NjUTJx1KE"
      },
      "source": [
        "# Generic method that can be used as needed\r\n",
        "def preprocess_text(txt):\r\n",
        "    txt.lower()\r\n",
        "    # Remove urls\r\n",
        "    ##txt = re.sub(r\"http\\S+|www\\S+|https\\S+\", '', twxt, flags=re.MULTILINE) -- not needed for this problem\r\n",
        "    # Remove user @ references and '#' from text\r\n",
        "    ##txt = re.sub(r'\\@\\w+|\\#','', txt)                                     -- no need for this problem  \r\n",
        "    # Remove punctuations\r\n",
        "    ##txt = txt.translate(str.maketrans('', '', string.punctuation))        -- no need for this problem   \r\n",
        "    # Remove stopwords\r\n",
        "    txt_tokens = word_tokenize(txt)   \r\n",
        "    filtered_words = [w for w in txt_tokens] \r\n",
        "    \r\n",
        "    #ps = PorterStemmer()\r\n",
        "    #stemmed_words = [ps.stem(w) for w in filtered_words]\r\n",
        "    #lemmatizer = WordNetLemmatizer()\r\n",
        "    #lemma_words = [lemmatizer.lemmatize(w, pos='a') for w in stemmed_words]\r\n",
        "    \r\n",
        "    return \" \".join(filtered_words)"
      ],
      "execution_count": 156,
      "outputs": []
    },
    {
      "cell_type": "markdown",
      "metadata": {
        "id": "9VQnGik3yAPQ"
      },
      "source": [
        "# Vectorizing Data           \r\n",
        "# Lets try TfidfVectorizer"
      ]
    },
    {
      "cell_type": "code",
      "metadata": {
        "id": "XRtkqJ98yEFq"
      },
      "source": [
        "#as a function\r\n",
        "def get_feature_vector(train_fit):         \r\n",
        "    vector = TfidfVectorizer(strip_accents = \"unicode\", stop_words = \"english\")\r\n",
        "    #vector = TfidfVectorizer(sublinear_tf=True)\r\n",
        "    vector.fit(train_fit)\r\n",
        "    return vector"
      ],
      "execution_count": 157,
      "outputs": []
    },
    {
      "cell_type": "code",
      "metadata": {
        "colab": {
          "base_uri": "https://localhost:8080/"
        },
        "id": "0_uqgkp0yQox",
        "outputId": "bee3c4b2-3fde-4852-ae6b-c87083adb040"
      },
      "source": [
        "#Check\r\n",
        "n = df.iloc[:, 1]\r\n",
        "n.head()"
      ],
      "execution_count": 158,
      "outputs": [
        {
          "output_type": "execute_result",
          "data": {
            "text/plain": [
              "0                         1047 6700 4178 2912 183 6700\n",
              "1    4035 4563 1994 154 5373 4956 6035 4393 4017 40...\n",
              "2           5035 7685 3139 4407 254 584 6589 8518 3078\n",
              "3    1047 2540 2578 6700 2242 230 3771 4676 5881 64...\n",
              "4                              7685 5868 237 6794 3078\n",
              "Name: text, dtype: object"
            ]
          },
          "metadata": {
            "tags": []
          },
          "execution_count": 127
        },
        {
          "output_type": "execute_result",
          "data": {
            "text/plain": [
              "0                         1047 6700 4178 2912 183 6700\n",
              "1    4035 4563 1994 154 5373 4956 6035 4393 4017 40...\n",
              "2           5035 7685 3139 4407 254 584 6589 8518 3078\n",
              "3    1047 2540 2578 6700 2242 230 3771 4676 5881 64...\n",
              "4                              7685 5868 237 6794 3078\n",
              "Name: text, dtype: object"
            ]
          },
          "metadata": {
            "tags": []
          },
          "execution_count": 158
        }
      ]
    },
    {
      "cell_type": "code",
      "metadata": {
        "colab": {
          "base_uri": "https://localhost:8080/"
        },
        "id": "fgeM3SDDyVQr",
        "outputId": "712efabe-3b13-4f02-ce25-7ce5acfd43fc"
      },
      "source": [
        "#Check\r\n",
        "n = df.iloc[:, 1]\r\n",
        "n.head()"
      ],
      "execution_count": 159,
      "outputs": [
        {
          "output_type": "execute_result",
          "data": {
            "text/plain": [
              "0                         1047 6700 4178 2912 183 6700\n",
              "1    4035 4563 1994 154 5373 4956 6035 4393 4017 40...\n",
              "2           5035 7685 3139 4407 254 584 6589 8518 3078\n",
              "3    1047 2540 2578 6700 2242 230 3771 4676 5881 64...\n",
              "4                              7685 5868 237 6794 3078\n",
              "Name: text, dtype: object"
            ]
          },
          "metadata": {
            "tags": []
          },
          "execution_count": 128
        },
        {
          "output_type": "execute_result",
          "data": {
            "text/plain": [
              "0                         1047 6700 4178 2912 183 6700\n",
              "1    4035 4563 1994 154 5373 4956 6035 4393 4017 40...\n",
              "2           5035 7685 3139 4407 254 584 6589 8518 3078\n",
              "3    1047 2540 2578 6700 2242 230 3771 4676 5881 64...\n",
              "4                              7685 5868 237 6794 3078\n",
              "Name: text, dtype: object"
            ]
          },
          "metadata": {
            "tags": []
          },
          "execution_count": 159
        }
      ]
    },
    {
      "cell_type": "code",
      "metadata": {
        "id": "Ew2fIrsWygn3"
      },
      "source": [
        "# Impoirt other libraries\r\n",
        "from sklearn.metrics import f1_score, roc_auc_score, roc_curve\r\n",
        "from sklearn.svm import LinearSVC,SVC\r\n",
        "from sklearn.ensemble import ExtraTreesClassifier, BaggingClassifier,GradientBoostingClassifier#StackingC#lassifier\r\n",
        "from sklearn.naive_bayes import BernoulliNB,GaussianNB,MultinomialNB\r\n",
        "from sklearn.linear_model import PassiveAggressiveClassifier, RidgeClassifier,RidgeClassifierCV,SGDClassifier,LogisticRegressionCV\r\n",
        "from sklearn.neighbors import KNeighborsClassifier\r\n",
        "from sklearn.neural_network import MLPClassifier\r\n"
      ],
      "execution_count": 160,
      "outputs": []
    },
    {
      "cell_type": "markdown",
      "metadata": {
        "id": "xukGM4V5ylJf"
      },
      "source": [
        "#Modelling"
      ]
    },
    {
      "cell_type": "code",
      "metadata": {
        "id": "2LtyNYM1ynb4"
      },
      "source": [
        "#vectorization,splitting data\r\n",
        "tf_vector = get_feature_vector(np.array(df.iloc[:, 1]).ravel())\r\n",
        "X = tf_vector.transform(np.array(df.iloc[:, 1]).ravel())\r\n",
        "y = np.array(df.iloc[:, 2]).ravel()\r\n",
        "X_train, X_test, y_train, y_test = train_test_split(X, y, test_size=0.2, random_state=30)\r\n"
      ],
      "execution_count": 161,
      "outputs": []
    },
    {
      "cell_type": "code",
      "metadata": {
        "colab": {
          "base_uri": "https://localhost:8080/"
        },
        "id": "mpkoS4k4yy1c",
        "outputId": "13f32eb2-f3b6-4494-a75c-776ebd398d68"
      },
      "source": [
        "#Model\r\n",
        "NB_model = RidgeClassifierCV()#RandomForestClassifier()\r\n",
        "NB_model.fit(X_train, y_train)\r\n",
        "y_predict_nb = NB_model.predict(X_test)\r\n",
        "#print('test...',y_test)\r\n",
        "#print('predict...',y_predict_nb)\r\n",
        "print('accuracy',accuracy_score(y_test, y_predict_nb))\r\n",
        "print(\"F1 Score = \" ,f1_score(y_test, y_predict_nb,average='macro'))"
      ],
      "execution_count": 162,
      "outputs": [
        {
          "output_type": "stream",
          "text": [
            "accuracy 0.9923076923076923\n",
            "F1 Score =  0.9146981627296588\n",
            "accuracy 0.9923076923076923\n",
            "F1 Score =  0.9146981627296588\n"
          ],
          "name": "stdout"
        }
      ]
    },
    {
      "cell_type": "markdown",
      "metadata": {
        "id": "7uMt1kv3y7ee"
      },
      "source": [
        "# Results with TfidfVectorizer\r\n"
      ]
    },
    {
      "cell_type": "markdown",
      "metadata": {
        "id": "C2YWNZaSy-Ay"
      },
      "source": [
        "PassiveAggressiveClassifier:\r\n",
        "\r\n",
        "('accuracy', 0.9942307692307693)\r\n",
        "('F1 Score = ', 0.9385221674876847)\r\n",
        "\r\n",
        "MLPClassifier:\r\n",
        "\r\n",
        "('accuracy', 0.9942307692307693)\r\n",
        "('F1 Score = ', 0.9385221674876847)\r\n",
        "\r\n",
        "SGDClassifier:\r\n",
        "\r\n",
        "  ('accuracy', 0.9942307692307693)\r\n",
        "('F1 Score = ', 0.9385221674876847)  \r\n",
        "LogisticRegressionCV:            \r\n",
        "   [same result with all-solver{‘newton-cg’, ‘lbfgs’, ‘liblinear’, ‘sag’, ‘saga’}, default=’lbfgs’]\r\n",
        "\r\n",
        "('accuracy', 0.9942307692307693)\r\n",
        "('F1 Score = ', 0.9385221674876847)\r\n",
        "\r\n",
        "RidgeClassifierCV:\r\n",
        "\r\n",
        "   ('accuracy', 0.9923076923076923)\r\n",
        "('F1 Score = ', 0.9146981627296588)\r\n",
        "LinearSVC :\r\n",
        "\r\n",
        "('accuracy', 0.9903846153846154)\r\n",
        "('F1 Score = ', 0.8888461374032748)\r\n",
        "KNeighborsClassifier:\r\n",
        "\r\n",
        " ('accuracy', 0.9903846153846154)\r\n",
        "('F1 Score = ', 0.8888461374032748)\r\n",
        "\r\n",
        "RidgeClassifier:\r\n",
        "\r\n",
        "('accuracy', 0.9903846153846154)\r\n",
        "('F1 Score = ', 0.8888461374032748)\r\n",
        "\r\n",
        "GradientBoostingClassifier:\r\n",
        "\r\n",
        "('accuracy', 0.9884615384615385)\r\n",
        "('F1 Score = ', 0.8720472440944882)\r\n",
        "BaggingClassifier:\r\n",
        "\r\n",
        "('accuracy', 0.9865384615384616)\r\n",
        "('F1 Score = ', 0.856551724137931)\r\n",
        "\r\n",
        "DecisionTreeClassifier:\r\n",
        "\r\n",
        "('accuracy', 0.9826923076923076)\r\n",
        "('F1 Score = ', 0.8403765476312288)\r\n",
        "\r\n",
        "ExtraTreesClassifier:\r\n",
        "\r\n",
        "('accuracy', 0.9846153846153847)\r\n",
        "('F1 Score = ', 0.8142525450973388)\r\n",
        "\r\n",
        "RandomForestClassifier:\r\n",
        "\r\n",
        "('accuracy', 0.9826923076923076)\r\n",
        "('F1 Score = ', 0.758750451054178)\r\n",
        "\r\n",
        "LogisticRegression:\r\n",
        "\r\n",
        "('accuracy', 0.9730769230769231)\r\n",
        "('F1 Score = ', 0.49317738791423)\r\n",
        "BernoulliNB:\r\n",
        "\r\n",
        "('accuracy', 0.9730769230769231)\r\n",
        "('F1 Score = ', 0.49317738791423)\r\n",
        "MultinomialNB:\r\n",
        "\r\n",
        "('accuracy', 0.9730769230769231)\r\n",
        "('F1 Score = ', 0.49317738791423)"
      ]
    },
    {
      "cell_type": "markdown",
      "metadata": {
        "id": "3wsRr5k-0GPn"
      },
      "source": [
        "#PassiveAggressiveClassifier, MLPClassifier, SGDClassifier, LogisticRegressionCV are giving the higest F_score"
      ]
    },
    {
      "cell_type": "markdown",
      "metadata": {
        "id": "XP4TeIDv0Jvi"
      },
      "source": [
        "# Lets try CountVectorizer"
      ]
    },
    {
      "cell_type": "code",
      "metadata": {
        "id": "dQzjk-IG0Swl"
      },
      "source": [
        "#new vectorization function\r\n",
        "def get_feature_vector_cv(train_fit):         \r\n",
        "    #vector = Word2Vec(train_fit, min_count=1)\r\n",
        "    vector=  CountVectorizer(analyzer='word')\r\n",
        "    vector.fit(train_fit)\r\n",
        "    return vector\r\n"
      ],
      "execution_count": 163,
      "outputs": []
    },
    {
      "cell_type": "code",
      "metadata": {
        "id": "Xair-L3e0fq1"
      },
      "source": [
        "#pre-procecss, data transformation\r\n",
        "tf_vector = get_feature_vector_cv(np.array(df.iloc[:, 1]).ravel())\r\n",
        "X = tf_vector.transform(np.array(df.iloc[:, 1]).ravel())\r\n",
        "y = np.array(df.iloc[:, 2]).ravel()\r\n",
        "X_train, X_test, y_train, y_test = train_test_split(X, y, test_size=0.2, random_state=30)\r\n"
      ],
      "execution_count": 164,
      "outputs": []
    },
    {
      "cell_type": "markdown",
      "metadata": {
        "id": "cfXolSNK0oG9"
      },
      "source": [
        "Modelling"
      ]
    },
    {
      "cell_type": "code",
      "metadata": {
        "colab": {
          "base_uri": "https://localhost:8080/"
        },
        "id": "rOM0gwFS0qTv",
        "outputId": "14fc5e2d-2288-4544-9e33-25efaf99d853"
      },
      "source": [
        "# Training \r\n",
        "model = LogisticRegression()#RandomForestClassifier()\r\n",
        "model.fit(X_train, y_train)\r\n",
        "y_predict_nb = model.predict(X_test)\r\n",
        "#print('test...',y_test)\r\n",
        "#print('predict...',y_predict_nb)\r\n",
        "print('accuracy',accuracy_score(y_test, y_predict_nb))\r\n",
        "print(\"F1 Score = \" ,f1_score(y_test, y_predict_nb,average='macro'))"
      ],
      "execution_count": 165,
      "outputs": [
        {
          "output_type": "stream",
          "text": [
            "accuracy 0.9923076923076923\n",
            "F1 Score =  0.9146981627296588\n",
            "accuracy 0.9923076923076923\n",
            "F1 Score =  0.9146981627296588\n"
          ],
          "name": "stdout"
        }
      ]
    },
    {
      "cell_type": "markdown",
      "metadata": {
        "id": "4vnlZIZG03Wy"
      },
      "source": [
        "Results with CountVectorizer"
      ]
    },
    {
      "cell_type": "markdown",
      "metadata": {
        "id": "HhjUsPvb1Hcd"
      },
      "source": [
        "PassiveAggressiveClassifier:\r\n",
        "\r\n",
        "('accuracy', 0.9923076923076923)\r\n",
        "('F1 Score = ', 0.9146981627296588)\r\n",
        "\r\n",
        "MLPClassifier:\r\n",
        "('accuracy', 0.9923076923076923)\r\n",
        "('F1 Score = ', 0.9146981627296588)\r\n",
        "\r\n",
        "SGDClassifier:\r\n",
        "('accuracy', 0.9884615384615385)\r\n",
        "('F1 Score = ', 0.8898927159796726)\r\n",
        "\r\n",
        "LogisticRegressionCV:               [same result with all-solver{‘newton-cg’, ‘lbfgs’, ‘liblinear’, ‘sag’, ‘saga’}, default=’lbfgs’]\r\n",
        "\r\n",
        "('accuracy', 0.9942307692307693)\r\n",
        "('F1 Score = ', 0.9385221674876847) [ Same for tfidf and count]\r\n",
        "\r\n",
        "RidgeClassifierCV:\r\n",
        "\r\n",
        "('accuracy', 0.9942307692307693)\r\n",
        "('F1 Score = ', 0.9385221674876847)\r\n",
        "LinearSVC :\r\n",
        "\r\n",
        "('accuracy', 0.9923076923076923)\r\n",
        "('F1 Score = ', 0.9211045364891519)\r\n",
        "KNeighborsClassifier:\r\n",
        "\r\n",
        "('accuracy', 0.9730769230769231)\r\n",
        "('F1 Score = ', 0.49317738791423)\r\n",
        "RidgeClassifier:\r\n",
        "\r\n",
        "('accuracy', 0.9730769230769231)\r\n",
        "('F1 Score = ', 0.49317738791423)\r\n",
        "GradientBoostingClassifier:\r\n",
        "\r\n",
        "   ('accuracy', 0.9826923076923076)\r\n",
        "('F1 Score = ', 0.7999230473258946)\r\n",
        "BaggingClassifier:\r\n",
        "\r\n",
        "('accuracy', 0.9807692307692307)\r\n",
        "('F1 Score = ', 0.7678156813716734)\r\n",
        "DecisionTreeClassifier:\r\n",
        "\r\n",
        "('accuracy', 0.9807692307692307)\r\n",
        "('F1 Score = ', 0.8283828382838283)\r\n",
        "ExtraTreesClassifier:\r\n",
        "\r\n",
        "('accuracy', 0.9846153846153847)\r\n",
        "('F1 Score = ', 0.7960784313725491)\r\n",
        "RandomForestClassifier:\r\n",
        "\r\n",
        "('accuracy', 0.9769230769230769)\r\n",
        "('F1 Score = ', 0.619140625)\r\n",
        "\r\n",
        "LogisticRegression:                     \r\n",
        "('accuracy', 0.9942307692307693)\r\n",
        "('F1 Score = ', 0.9385221674876847)\r\n",
        "\r\n",
        "BernoulliNB:\r\n",
        "\r\n",
        "('accuracy', 0.9730769230769231)\r\n",
        "('F1 Score = ', 0.49317738791423)\r\n",
        "\r\n",
        "MultinomialNB:\r\n",
        "\r\n",
        "('accuracy', 0.9826923076923076)\r\n",
        "('F1 Score = ', 0.8591676446691342)    \r\n"
      ]
    },
    {
      "cell_type": "markdown",
      "metadata": {
        "id": "AXi4i_LZ1wTW"
      },
      "source": [
        "# RidgeClassifierCV LogisticRegressionCV,LogisticRegression are giving the higest F_score with CountVectorization"
      ]
    },
    {
      "cell_type": "markdown",
      "metadata": {
        "id": "wFRmVd_G1xXS"
      },
      "source": [
        "## LETS try with the test data\r\n"
      ]
    },
    {
      "cell_type": "code",
      "metadata": {
        "id": "Yov1hQL012Ef"
      },
      "source": [
        "df_test = pd.read_csv('./TEST.csv')"
      ],
      "execution_count": 166,
      "outputs": []
    },
    {
      "cell_type": "code",
      "metadata": {
        "colab": {
          "base_uri": "https://localhost:8080/",
          "height": 391
        },
        "id": "RBhu2Kht15I2",
        "outputId": "052341b4-e62f-4190-c1a2-74108bc45219"
      },
      "source": [
        "df_test.head()"
      ],
      "execution_count": 167,
      "outputs": [
        {
          "output_type": "execute_result",
          "data": {
            "text/html": [
              "<div>\n",
              "<style scoped>\n",
              "    .dataframe tbody tr th:only-of-type {\n",
              "        vertical-align: middle;\n",
              "    }\n",
              "\n",
              "    .dataframe tbody tr th {\n",
              "        vertical-align: top;\n",
              "    }\n",
              "\n",
              "    .dataframe thead th {\n",
              "        text-align: right;\n",
              "    }\n",
              "</style>\n",
              "<table border=\"1\" class=\"dataframe\">\n",
              "  <thead>\n",
              "    <tr style=\"text-align: right;\">\n",
              "      <th></th>\n",
              "      <th>id</th>\n",
              "      <th>text</th>\n",
              "    </tr>\n",
              "  </thead>\n",
              "  <tbody>\n",
              "    <tr>\n",
              "      <th>0</th>\n",
              "      <td>1546</td>\n",
              "      <td>5222 7526 427 4829 7526 1164 4768 997 7924 332...</td>\n",
              "    </tr>\n",
              "    <tr>\n",
              "      <th>1</th>\n",
              "      <td>2956</td>\n",
              "      <td>590 983 5773 8352 1803 237 5045 6300 6267 5773...</td>\n",
              "    </tr>\n",
              "    <tr>\n",
              "      <th>2</th>\n",
              "      <td>4248</td>\n",
              "      <td>5915 4871 2982 6310 2734 3581 5773 6498 5773</td>\n",
              "    </tr>\n",
              "    <tr>\n",
              "      <th>3</th>\n",
              "      <td>4403</td>\n",
              "      <td>5435 1994 7248 1944 4017 3567 8618 5018 6619 3...</td>\n",
              "    </tr>\n",
              "    <tr>\n",
              "      <th>4</th>\n",
              "      <td>2097</td>\n",
              "      <td>6666 230 4768 2684 5773 3656 907 5922 2295 577...</td>\n",
              "    </tr>\n",
              "  </tbody>\n",
              "</table>\n",
              "</div>"
            ],
            "text/plain": [
              "     id                                               text\n",
              "0  1546  5222 7526 427 4829 7526 1164 4768 997 7924 332...\n",
              "1  2956  590 983 5773 8352 1803 237 5045 6300 6267 5773...\n",
              "2  4248       5915 4871 2982 6310 2734 3581 5773 6498 5773\n",
              "3  4403  5435 1994 7248 1944 4017 3567 8618 5018 6619 3...\n",
              "4  2097  6666 230 4768 2684 5773 3656 907 5922 2295 577..."
            ]
          },
          "metadata": {
            "tags": []
          },
          "execution_count": 136
        },
        {
          "output_type": "execute_result",
          "data": {
            "text/html": [
              "<div>\n",
              "<style scoped>\n",
              "    .dataframe tbody tr th:only-of-type {\n",
              "        vertical-align: middle;\n",
              "    }\n",
              "\n",
              "    .dataframe tbody tr th {\n",
              "        vertical-align: top;\n",
              "    }\n",
              "\n",
              "    .dataframe thead th {\n",
              "        text-align: right;\n",
              "    }\n",
              "</style>\n",
              "<table border=\"1\" class=\"dataframe\">\n",
              "  <thead>\n",
              "    <tr style=\"text-align: right;\">\n",
              "      <th></th>\n",
              "      <th>id</th>\n",
              "      <th>text</th>\n",
              "    </tr>\n",
              "  </thead>\n",
              "  <tbody>\n",
              "    <tr>\n",
              "      <th>0</th>\n",
              "      <td>1546</td>\n",
              "      <td>5222 7526 427 4829 7526 1164 4768 997 7924 332...</td>\n",
              "    </tr>\n",
              "    <tr>\n",
              "      <th>1</th>\n",
              "      <td>2956</td>\n",
              "      <td>590 983 5773 8352 1803 237 5045 6300 6267 5773...</td>\n",
              "    </tr>\n",
              "    <tr>\n",
              "      <th>2</th>\n",
              "      <td>4248</td>\n",
              "      <td>5915 4871 2982 6310 2734 3581 5773 6498 5773</td>\n",
              "    </tr>\n",
              "    <tr>\n",
              "      <th>3</th>\n",
              "      <td>4403</td>\n",
              "      <td>5435 1994 7248 1944 4017 3567 8618 5018 6619 3...</td>\n",
              "    </tr>\n",
              "    <tr>\n",
              "      <th>4</th>\n",
              "      <td>2097</td>\n",
              "      <td>6666 230 4768 2684 5773 3656 907 5922 2295 577...</td>\n",
              "    </tr>\n",
              "  </tbody>\n",
              "</table>\n",
              "</div>"
            ],
            "text/plain": [
              "     id                                               text\n",
              "0  1546  5222 7526 427 4829 7526 1164 4768 997 7924 332...\n",
              "1  2956  590 983 5773 8352 1803 237 5045 6300 6267 5773...\n",
              "2  4248       5915 4871 2982 6310 2734 3581 5773 6498 5773\n",
              "3  4403  5435 1994 7248 1944 4017 3567 8618 5018 6619 3...\n",
              "4  2097  6666 230 4768 2684 5773 3656 907 5922 2295 577..."
            ]
          },
          "metadata": {
            "tags": []
          },
          "execution_count": 167
        }
      ]
    },
    {
      "cell_type": "code",
      "metadata": {
        "id": "cxZakRjO0nLY"
      },
      "source": [
        "X_tst = tf_vector.transform(np.array(df_test.iloc[:, 1]).ravel())"
      ],
      "execution_count": 169,
      "outputs": []
    },
    {
      "cell_type": "code",
      "metadata": {
        "id": "M6q7C-AE2Cu9"
      },
      "source": [
        "Y_predict=model.predict(X_tst)"
      ],
      "execution_count": 170,
      "outputs": []
    },
    {
      "cell_type": "code",
      "metadata": {
        "id": "3e6STS4L2IiG"
      },
      "source": [
        "##submission = pd.DataFrame(Y_predict,columns=['category'])\r\n",
        "#submission = pd.concat([Id,prediction['y']],1)\r\n",
        "\r\n",
        "#submission.to_csv('../data/submission.csv',index=False)"
      ],
      "execution_count": 171,
      "outputs": []
    },
    {
      "cell_type": "markdown",
      "metadata": {
        "id": "HWL3UJuv2bjc"
      },
      "source": [
        "# LETS try Smote to take care of class imbalance: we will only consider tf tokinzer henceforth.\r\n",
        "# And only consider subset of models that are giving better scores.\r\n",
        "# PassiveAggressiveClassifier, MLPClassifier, SGDClassifier, LogisticRegressionCV are giving the higest F_score"
      ]
    },
    {
      "cell_type": "code",
      "metadata": {
        "id": "JQbUqAiE2fvQ"
      },
      "source": [
        "from imblearn.over_sampling import SMOTE"
      ],
      "execution_count": 172,
      "outputs": []
    },
    {
      "cell_type": "code",
      "metadata": {
        "id": "qh3ojPOg2t6r"
      },
      "source": [
        "tf_vector = get_feature_vector(np.array(df.iloc[:, 1]).ravel())\r\n",
        "X = tf_vector.transform(np.array(df.iloc[:, 1]).ravel())\r\n",
        "y = np.array(df.iloc[:, 2]).ravel()\r\n",
        "X_train, X_test, y_train, y_test = train_test_split(X, y, test_size=0.2, random_state=30)"
      ],
      "execution_count": 173,
      "outputs": []
    },
    {
      "cell_type": "code",
      "metadata": {
        "colab": {
          "base_uri": "https://localhost:8080/"
        },
        "id": "Nt41VlOY2ycg",
        "outputId": "642c05c9-641f-4909-bfc9-e594890f5b36"
      },
      "source": [
        "#Initialising a SMOTE object\r\n",
        "smote = SMOTE(random_state=12,ratio=1.0)\r\n",
        "\r\n",
        "#Sampling the data using SMOTE\r\n",
        "X_sample_2, y_sample_2 = smote.fit_sample(X_train, y_train)"
      ],
      "execution_count": 174,
      "outputs": [
        {
          "output_type": "stream",
          "text": [
            "/usr/local/lib/python3.6/dist-packages/sklearn/utils/deprecation.py:87: FutureWarning: Function safe_indexing is deprecated; safe_indexing is deprecated in version 0.22 and will be removed in version 0.24.\n",
            "  warnings.warn(msg, category=FutureWarning)\n"
          ],
          "name": "stderr"
        }
      ]
    },
    {
      "cell_type": "code",
      "metadata": {
        "colab": {
          "base_uri": "https://localhost:8080/"
        },
        "id": "HpXpPw8Z24WC",
        "outputId": "487b1057-723a-4c5d-a16c-f9df2fa06593"
      },
      "source": [
        "#Model\r\n",
        "NB_model = LogisticRegressionCV()\r\n",
        "NB_model.fit(X_sample_2, y_sample_2)\r\n",
        "y_predict_nb = NB_model.predict(X_test)\r\n",
        "#print('test...',y_test)\r\n",
        "#print('predict...',y_predict_nb)\r\n",
        "print('accuracy',accuracy_score(y_test, y_predict_nb))\r\n",
        "print(\"F1 Score = \" ,f1_score(y_test, y_predict_nb,average='macro'))"
      ],
      "execution_count": 175,
      "outputs": [
        {
          "output_type": "stream",
          "text": [
            "accuracy 0.9942307692307693\n",
            "F1 Score =  0.9385221674876847\n"
          ],
          "name": "stdout"
        }
      ]
    },
    {
      "cell_type": "markdown",
      "metadata": {
        "id": "7OSvZK6g28r4"
      },
      "source": [
        "# No improvement with the smote!\r\n",
        "# So we will declare LogisticRegressionCV with tfidf-vectorization as a winner!"
      ]
    },
    {
      "cell_type": "markdown",
      "metadata": {
        "id": "8gnWwHfh3Nl3"
      },
      "source": [
        "## Scope for future\r\n",
        "# Try word2wec\r\n",
        "# Try NN models"
      ]
    },
    {
      "cell_type": "markdown",
      "metadata": {
        "id": "ZszdWa8b3Tgg"
      },
      "source": [
        "# Try word2wec\r\n"
      ]
    },
    {
      "cell_type": "code",
      "metadata": {
        "id": "Lj0qSpUJ3Z26"
      },
      "source": [
        "#https://www.ahmedbesbes.com/blog/sentiment-analysis-with-keras-and-word-2-vec\r\n",
        "from copy import deepcopy\r\n",
        "from string import punctuation\r\n",
        "from random import shuffle"
      ],
      "execution_count": 176,
      "outputs": []
    },
    {
      "cell_type": "code",
      "metadata": {
        "id": "Hj0NBYXM9ZUr"
      },
      "source": [
        "import gensim\r\n",
        "from gensim.models.word2vec import Word2Vec # "
      ],
      "execution_count": 177,
      "outputs": []
    },
    {
      "cell_type": "code",
      "metadata": {
        "id": "97JPQwmM9hKs"
      },
      "source": [
        "from tqdm import tqdm\r\n",
        "tqdm.pandas(desc=\"progress-bar\")\r\n",
        "\r\n",
        "from nltk.tokenize import TweetTokenizer # a tweet tokenizer from nltk.\r\n",
        "tokenizer = TweetTokenizer()\r\n"
      ],
      "execution_count": 179,
      "outputs": []
    },
    {
      "cell_type": "code",
      "metadata": {
        "id": "5O6CTo6C9-LV"
      },
      "source": [
        "# function to tokenize\r\n",
        "def tokenize(text):\r\n",
        "    try:\r\n",
        "        text = unicode(tweet.decode('utf-8').lower())\r\n",
        "        tokens = tokenizer.tokenize(tweet)\r\n",
        "        tokens = filter(lambda t: not t.startswith('@'), tokens)\r\n",
        "        tokens = filter(lambda t: not t.startswith('#'), tokens)\r\n",
        "        tokens = filter(lambda t: not t.startswith('http'), tokens)\r\n",
        "        return tokens\r\n",
        "    except:\r\n",
        "        return 'NC'"
      ],
      "execution_count": 180,
      "outputs": []
    },
    {
      "cell_type": "markdown",
      "metadata": {
        "id": "XQr_ITNH3Qro"
      },
      "source": [
        "The results of the tokenization should now be cleaned to remove lines with 'NC'"
      ]
    },
    {
      "cell_type": "code",
      "metadata": {
        "id": "Fitd9fVE-dkF"
      },
      "source": [
        "def postprocess(data, n=1000000):\r\n",
        "    data = data.head(n)\r\n",
        "    data['tokens'] = data['text'].progress_map(tokenize)  ## progress_map is a variant of the map function plus a progress bar. Handy to monitor DataFrame creations.\r\n",
        "    data = data[data.tokens != 'NC']\r\n",
        "    data.reset_index(inplace=True)\r\n",
        "    data.drop('index', inplace=True, axis=1)\r\n",
        "    return data"
      ],
      "execution_count": 181,
      "outputs": []
    },
    {
      "cell_type": "code",
      "metadata": {
        "colab": {
          "base_uri": "https://localhost:8080/"
        },
        "id": "GzvlmYid-l_s",
        "outputId": "640c6d55-2315-4218-a542-53ce3707cc59"
      },
      "source": [
        "df = postprocess(df)"
      ],
      "execution_count": 70,
      "outputs": [
        {
          "output_type": "stream",
          "text": [
            "progress-bar: 100%|██████████| 2598/2598 [00:00<00:00, 217875.03it/s]\n"
          ],
          "name": "stderr"
        }
      ]
    },
    {
      "cell_type": "code",
      "metadata": {
        "colab": {
          "base_uri": "https://localhost:8080/",
          "height": 204
        },
        "id": "HdvXSdnoATME",
        "outputId": "b2b993f4-40b9-459f-ed33-2fcf3e626db1"
      },
      "source": [
        "df.head(5)"
      ],
      "execution_count": 182,
      "outputs": [
        {
          "output_type": "execute_result",
          "data": {
            "text/html": [
              "<div>\n",
              "<style scoped>\n",
              "    .dataframe tbody tr th:only-of-type {\n",
              "        vertical-align: middle;\n",
              "    }\n",
              "\n",
              "    .dataframe tbody tr th {\n",
              "        vertical-align: top;\n",
              "    }\n",
              "\n",
              "    .dataframe thead th {\n",
              "        text-align: right;\n",
              "    }\n",
              "</style>\n",
              "<table border=\"1\" class=\"dataframe\">\n",
              "  <thead>\n",
              "    <tr style=\"text-align: right;\">\n",
              "      <th></th>\n",
              "      <th>id</th>\n",
              "      <th>text</th>\n",
              "      <th>category</th>\n",
              "    </tr>\n",
              "  </thead>\n",
              "  <tbody>\n",
              "    <tr>\n",
              "      <th>0</th>\n",
              "      <td>3973</td>\n",
              "      <td>1047 6700 4178 2912 183 6700</td>\n",
              "      <td>0</td>\n",
              "    </tr>\n",
              "    <tr>\n",
              "      <th>1</th>\n",
              "      <td>4462</td>\n",
              "      <td>4035 4563 1994 154 5373 4956 6035 4393 4017 40...</td>\n",
              "      <td>1</td>\n",
              "    </tr>\n",
              "    <tr>\n",
              "      <th>2</th>\n",
              "      <td>2889</td>\n",
              "      <td>5035 7685 3139 4407 254 584 6589 8518 3078</td>\n",
              "      <td>0</td>\n",
              "    </tr>\n",
              "    <tr>\n",
              "      <th>3</th>\n",
              "      <td>3457</td>\n",
              "      <td>1047 2540 2578 6700 2242 230 3771 4676 5881 64...</td>\n",
              "      <td>0</td>\n",
              "    </tr>\n",
              "    <tr>\n",
              "      <th>4</th>\n",
              "      <td>1555</td>\n",
              "      <td>7685 5868 237 6794 3078</td>\n",
              "      <td>0</td>\n",
              "    </tr>\n",
              "  </tbody>\n",
              "</table>\n",
              "</div>"
            ],
            "text/plain": [
              "     id                                               text  category\n",
              "0  3973                       1047 6700 4178 2912 183 6700         0\n",
              "1  4462  4035 4563 1994 154 5373 4956 6035 4393 4017 40...         1\n",
              "2  2889         5035 7685 3139 4407 254 584 6589 8518 3078         0\n",
              "3  3457  1047 2540 2578 6700 2242 230 3771 4676 5881 64...         0\n",
              "4  1555                            7685 5868 237 6794 3078         0"
            ]
          },
          "metadata": {
            "tags": []
          },
          "execution_count": 182
        }
      ]
    },
    {
      "cell_type": "code",
      "metadata": {
        "id": "KBtrp3rW-yDz"
      },
      "source": [
        "#Feed it in the word2vec model\r\n",
        "x_train, x_test, y_train, y_test = train_test_split(np.array(df.text),\r\n",
        "                                                    np.array(df.category), test_size=0.2)"
      ],
      "execution_count": 184,
      "outputs": []
    },
    {
      "cell_type": "markdown",
      "metadata": {
        "id": "ZxX7048U2-Vk"
      },
      "source": [
        "Before feeding lists of tokens into the word2vec model, we must turn them into LabeledSentence"
      ]
    },
    {
      "cell_type": "code",
      "metadata": {
        "id": "N61Z78DpJKKD"
      },
      "source": [
        "import gensim\r\n",
        "from gensim.models.word2vec import Word2Vec # the word2vec model gensim class\r\n",
        "LabeledSentence = gensim.models.doc2vec.LabeledSentence # we'll talk about this down below"
      ],
      "execution_count": 188,
      "outputs": []
    },
    {
      "cell_type": "code",
      "metadata": {
        "id": "5J7HXr0tIG65"
      },
      "source": [
        "def labelizeTweets(tweets, label_type):\r\n",
        "    labelized = []\r\n",
        "    for i,v in tqdm(enumerate(tweets)):\r\n",
        "        label = '%s_%s'%(label_type,i)\r\n",
        "        labelized.append(LabeledSentence(v, [label]))\r\n",
        "    return labelized\r\n"
      ],
      "execution_count": 189,
      "outputs": []
    },
    {
      "cell_type": "code",
      "metadata": {
        "colab": {
          "base_uri": "https://localhost:8080/"
        },
        "id": "WmDDdbvXIzY8",
        "outputId": "6173071b-0455-44af-e281-ea08a5ee55a0"
      },
      "source": [
        "x_train = labelizeTweets(x_train, 'TRAIN')\r\n",
        "x_test = labelizeTweets(x_test, 'TEST')"
      ],
      "execution_count": 190,
      "outputs": [
        {
          "output_type": "stream",
          "text": [
            "0it [00:00, ?it/s]/usr/local/lib/python3.6/dist-packages/ipykernel_launcher.py:5: DeprecationWarning: Call to deprecated `LabeledSentence` (Class will be removed in 4.0.0, use TaggedDocument instead).\n",
            "  \"\"\"\n",
            "2078it [00:00, 127189.15it/s]\n",
            "520it [00:00, 125984.18it/s]\n"
          ],
          "name": "stderr"
        }
      ]
    },
    {
      "cell_type": "code",
      "metadata": {
        "colab": {
          "base_uri": "https://localhost:8080/"
        },
        "id": "_Wo44gGBARJ9",
        "outputId": "0ddd8934-62bc-474f-9f3c-6c8b715d5aeb"
      },
      "source": [
        "x_train[0]"
      ],
      "execution_count": 191,
      "outputs": [
        {
          "output_type": "execute_result",
          "data": {
            "text/plain": [
              "LabeledSentence(words='7152 7982 6484 3718 3149 3078', tags=['TRAIN_0'])"
            ]
          },
          "metadata": {
            "tags": []
          },
          "execution_count": 191
        }
      ]
    },
    {
      "cell_type": "markdown",
      "metadata": {
        "id": "5EkpEIhXJj0P"
      },
      "source": [
        "Each element is basically some object with two attributes: a list (of tokens) and a label.\r\n",
        "\r\n",
        "Now we are ready to build the word2vec model from x_train i.e. the corpus"
      ]
    },
    {
      "cell_type": "code",
      "metadata": {
        "colab": {
          "base_uri": "https://localhost:8080/"
        },
        "id": "o0CrpfBAJvvD",
        "outputId": "c298b284-9530-4e21-d25f-271d507cf91b"
      },
      "source": [
        "tweet_w2v = Word2Vec(size=200)\r\n",
        "tweet_w2v.build_vocab([x.words for x in tqdm(x_train)])\r\n",
        "tweet_w2v.train([x.words for x in tqdm(x_train)],total_examples=tweet_w2v.corpus_count,epochs=tweet_w2v.epochs)"
      ],
      "execution_count": 200,
      "outputs": [
        {
          "output_type": "stream",
          "text": [
            "100%|██████████| 2078/2078 [00:00<00:00, 591661.37it/s]\n",
            "100%|██████████| 2078/2078 [00:00<00:00, 532715.83it/s]\n"
          ],
          "name": "stderr"
        },
        {
          "output_type": "execute_result",
          "data": {
            "text/plain": [
              "(114731, 1010210)"
            ]
          },
          "metadata": {
            "tags": []
          },
          "execution_count": 200
        }
      ]
    },
    {
      "cell_type": "markdown",
      "metadata": {
        "id": "22GTQ9pfPE1L"
      },
      "source": [
        "Once the model is built and trained on the corpus of tweets, we can use it to convert words to vectors. Here's an example"
      ]
    },
    {
      "cell_type": "code",
      "metadata": {
        "id": "qZaduTs0PGUp"
      },
      "source": [
        "#tweet_w2v['1047']\r\n"
      ],
      "execution_count": 203,
      "outputs": []
    },
    {
      "cell_type": "code",
      "metadata": {
        "colab": {
          "base_uri": "https://localhost:8080/"
        },
        "id": "dO5RgvGaJFre",
        "outputId": "6946c791-61d1-4c79-8221-2aad2fc74c5e"
      },
      "source": [
        "#print 'building tf-idf matrix ...'\r\n",
        "vectorizer = TfidfVectorizer(analyzer=lambda x: x, min_df=10)\r\n",
        "matrix = vectorizer.fit_transform([x.words for x in x_train])\r\n",
        "tfidf = dict(zip(vectorizer.get_feature_names(), vectorizer.idf_))\r\n",
        "print ('vocab size :', len(tfidf))"
      ],
      "execution_count": 206,
      "outputs": [
        {
          "output_type": "stream",
          "text": [
            "vocab size : 11\n"
          ],
          "name": "stdout"
        }
      ]
    },
    {
      "cell_type": "markdown",
      "metadata": {
        "id": "q2M2K1YSQdMN"
      },
      "source": [
        "Now let's define a function that, given a list of tweet tokens, creates an averaged tweet vector.\r\n",
        "\r\n"
      ]
    },
    {
      "cell_type": "code",
      "metadata": {
        "id": "Er25qfm7QeHX"
      },
      "source": [
        "def buildWordVector(tokens, size):\r\n",
        "    vec = np.zeros(size).reshape((1, size))\r\n",
        "    count = 0.\r\n",
        "    for word in tokens:\r\n",
        "        try:\r\n",
        "            vec += tweet_w2v[word].reshape((1, size)) * tfidf[word]\r\n",
        "            count += 1.\r\n",
        "        except KeyError: # handling the case where the token is not\r\n",
        "                         # in the corpus. useful for testing.\r\n",
        "            continue\r\n",
        "    if count != 0:\r\n",
        "        vec /= count\r\n",
        "    return vec"
      ],
      "execution_count": 207,
      "outputs": []
    },
    {
      "cell_type": "markdown",
      "metadata": {
        "id": "Db_iN2FUQpCc"
      },
      "source": [
        "Now we convert xtrain and and xtest into list of vectors using this function. We also scale each column to have zero mean and unit standard deviation."
      ]
    },
    {
      "cell_type": "code",
      "metadata": {
        "colab": {
          "base_uri": "https://localhost:8080/"
        },
        "id": "Bs9mBFmEQpyA",
        "outputId": "dd9ada32-a076-4e70-e95a-d25077565966"
      },
      "source": [
        "from sklearn.preprocessing import scale\r\n",
        "train_vecs_w2v = np.concatenate([buildWordVector(z, 200) for z in tqdm(map(lambda x: x.words, x_train))])\r\n",
        "train_vecs_w2v = scale(train_vecs_w2v)\r\n",
        "\r\n",
        "test_vecs_w2v = np.concatenate([buildWordVector(z, 200) for z in tqdm(map(lambda x: x.words, x_test))])\r\n",
        "test_vecs_w2v = scale(test_vecs_w2v)"
      ],
      "execution_count": 209,
      "outputs": [
        {
          "output_type": "stream",
          "text": [
            "\n",
            "0it [00:00, ?it/s]\u001b[A/usr/local/lib/python3.6/dist-packages/ipykernel_launcher.py:6: DeprecationWarning: Call to deprecated `__getitem__` (Method will be removed in 4.0.0, use self.wv.__getitem__() instead).\n",
            "  \n",
            "\n",
            "102it [00:00, 1013.77it/s]\u001b[A\n",
            "225it [00:00, 1067.50it/s]\u001b[A\n",
            "343it [00:00, 1095.06it/s]\u001b[A\n",
            "455it [00:00, 1102.17it/s]\u001b[A\n",
            "586it [00:00, 1156.66it/s]\u001b[A\n",
            "715it [00:00, 1192.62it/s]\u001b[A\n",
            "824it [00:00, 1132.71it/s]\u001b[A\n",
            "950it [00:00, 1167.46it/s]\u001b[A\n",
            "1074it [00:00, 1184.78it/s]\u001b[A\n",
            "1204it [00:01, 1215.40it/s]\u001b[A\n",
            "1324it [00:01, 1119.95it/s]\u001b[A\n",
            "1437it [00:01, 1095.64it/s]\u001b[A\n",
            "1547it [00:01, 605.73it/s] \u001b[A\n",
            "1662it [00:01, 705.95it/s]\u001b[A\n",
            "1778it [00:01, 799.53it/s]\u001b[A\n",
            "1919it [00:01, 918.01it/s]\u001b[A\n",
            "2078it [00:02, 992.68it/s]\n",
            "\n",
            "0it [00:00, ?it/s]\u001b[A/usr/local/lib/python3.6/dist-packages/ipykernel_launcher.py:6: DeprecationWarning: Call to deprecated `__getitem__` (Method will be removed in 4.0.0, use self.wv.__getitem__() instead).\n",
            "  \n",
            "\n",
            "124it [00:00, 1238.11it/s]\u001b[A\n",
            "249it [00:00, 1239.39it/s]\u001b[A\n",
            "381it [00:00, 1260.97it/s]\u001b[A\n",
            "520it [00:00, 1237.35it/s]\n"
          ],
          "name": "stderr"
        }
      ]
    },
    {
      "cell_type": "markdown",
      "metadata": {
        "id": "EJfSElF2RMEb"
      },
      "source": [
        "We should now be ready to feed these vectors into a neural network classifier. In fact, using Keras is very easy to define layers and activation functions.\r\n",
        "\r\n",
        "Here is a basic 2-layer architecture."
      ]
    },
    {
      "cell_type": "code",
      "metadata": {
        "colab": {
          "base_uri": "https://localhost:8080/"
        },
        "id": "Qij_Gv_BRE1a",
        "outputId": "f1e91c0e-dbc0-440e-e955-739cfc6f2d01"
      },
      "source": [
        "from keras.models import Sequential\r\n",
        "from keras.layers import Activation, Dense\r\n",
        "model = Sequential()\r\n",
        "model.add(Dense(32, activation='relu', input_dim=200))\r\n",
        "model.add(Dense(1, activation='sigmoid'))\r\n",
        "model.compile(optimizer='rmsprop',\r\n",
        "              loss='binary_crossentropy',\r\n",
        "              metrics=['accuracy'])\r\n",
        "\r\n",
        "model.fit(train_vecs_w2v, y_train, epochs=9, batch_size=32, verbose=2)"
      ],
      "execution_count": 212,
      "outputs": [
        {
          "output_type": "stream",
          "text": [
            "Epoch 1/9\n",
            "65/65 - 1s - loss: 0.1898 - accuracy: 0.9601\n",
            "Epoch 2/9\n",
            "65/65 - 0s - loss: 0.1350 - accuracy: 0.9673\n",
            "Epoch 3/9\n",
            "65/65 - 0s - loss: 0.1305 - accuracy: 0.9673\n",
            "Epoch 4/9\n",
            "65/65 - 0s - loss: 0.1295 - accuracy: 0.9673\n",
            "Epoch 5/9\n",
            "65/65 - 0s - loss: 0.1269 - accuracy: 0.9673\n",
            "Epoch 6/9\n",
            "65/65 - 0s - loss: 0.1272 - accuracy: 0.9673\n",
            "Epoch 7/9\n",
            "65/65 - 0s - loss: 0.1243 - accuracy: 0.9673\n",
            "Epoch 8/9\n",
            "65/65 - 0s - loss: 0.1233 - accuracy: 0.9673\n",
            "Epoch 9/9\n",
            "65/65 - 0s - loss: 0.1215 - accuracy: 0.9673\n"
          ],
          "name": "stdout"
        },
        {
          "output_type": "execute_result",
          "data": {
            "text/plain": [
              "<tensorflow.python.keras.callbacks.History at 0x7fa70e06f208>"
            ]
          },
          "metadata": {
            "tags": []
          },
          "execution_count": 212
        }
      ]
    },
    {
      "cell_type": "markdown",
      "metadata": {
        "id": "aLgy8RqzSS7w"
      },
      "source": [
        "Evaluate the model"
      ]
    },
    {
      "cell_type": "code",
      "metadata": {
        "colab": {
          "base_uri": "https://localhost:8080/"
        },
        "id": "hYSdAiGnSUps",
        "outputId": "13c74cf1-6477-4b32-ce7f-88cfc8a55e73"
      },
      "source": [
        "score = model.evaluate(test_vecs_w2v, y_test, batch_size=128, verbose=2)"
      ],
      "execution_count": 213,
      "outputs": [
        {
          "output_type": "stream",
          "text": [
            "5/5 - 0s - loss: 0.1410 - accuracy: 0.9654\n"
          ],
          "name": "stdout"
        }
      ]
    },
    {
      "cell_type": "code",
      "metadata": {
        "id": "E6WFLZD3SyQ3"
      },
      "source": [
        "submission = pd.DataFrame(Y_predict,columns=['category'])\r\n",
        "#submission = pd.concat([Id,prediction['y']],1)\r\n",
        "\r\n",
        "submission.to_csv('./submission.csv',index=False)"
      ],
      "execution_count": 215,
      "outputs": []
    },
    {
      "cell_type": "markdown",
      "metadata": {
        "id": "97T1MuV0Eyxj"
      },
      "source": [
        "RESULTS: accuracy: 0.9654\r\n"
      ]
    }
  ]
}