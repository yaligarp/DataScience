{
 "cells": [
  {
   "cell_type": "code",
   "execution_count": null,
   "metadata": {},
   "outputs": [],
   "source": [
    "## Problem Statement\n",
    "Given the results of previous ad-compaigns need to predict(classify) there would be net gain in running the campaign.\n",
    "\n",
    "Various classification algorithms have been tried.\n",
    "\n",
    "RESULTS:\n",
    "LogisticClassfier model with parameter class_wight='balanced' set had the best resuts on the training data:\n",
    "('Accuracy:', 0.772052550759256)\n",
    "('recall:', 0.8449008498583569)\n",
    "('precision:', 0.5164502164502165)\n",
    "('f1_score:', 0.6410531972058033    \n",
    "    \n",
    "However SVC model (with 'rbf' kernel) had the best resuts on test data:\n",
    "('Accuracy:', 0.7384405391571405)\n",
    "('recall:', 0.8881019830028328)\n",
    "('precision:', 0.4769874476987448)\n",
    "('f1_score:', 0.6206384558277653)\n"
   ]
  },
  {
   "cell_type": "code",
   "execution_count": 1,
   "metadata": {
    "scrolled": true
   },
   "outputs": [],
   "source": [
    "import numpy as np\n",
    "import pandas as pd\n",
    "import matplotlib.pyplot as plt\n",
    "import seaborn as sns\n",
    "%matplotlib inline\n",
    "import warnings\n",
    "warnings.filterwarnings('ignore')\n",
    "from sklearn.preprocessing import LabelEncoder,MinMaxScaler,StandardScaler\n",
    "from sklearn.linear_model import LogisticRegression\n",
    "from sklearn.tree import DecisionTreeClassifier\n",
    "from sklearn.ensemble import GradientBoostingClassifier ,RandomForestClassifier ,GradientBoostingClassifier,RandomForestRegressor\n",
    "from xgboost import XGBClassifier                                           \n",
    "from sklearn.model_selection import GridSearchCV, RandomizedSearchCV\n",
    "from sklearn.linear_model import Ridge,Lasso\n",
    "from sklearn.metrics import roc_auc_score ,mean_squared_error,accuracy_score,classification_report,roc_curve,confusion_matrix\n",
    "from scipy.stats.mstats import winsorize\n",
    "from sklearn.feature_selection import RFE\n",
    "from sklearn.model_selection import train_test_split   \n",
    "pd.set_option('display.max_columns',None)\n",
    "\n",
    "from sklearn.naive_bayes import MultinomialNB\n",
    "from sklearn.naive_bayes import GaussianNB\n",
    "from sklearn.naive_bayes import BernoulliNB\n",
    "\n",
    "from sklearn.linear_model import LinearRegression          \n",
    "from sklearn import metrics                                 \n"
   ]
  },
  {
   "cell_type": "markdown",
   "metadata": {},
   "source": [
    "#ADDED all the required Libraries.\n"
   ]
  },
  {
   "cell_type": "markdown",
   "metadata": {},
   "source": [
    "## Data Loading and Cleaning\n",
    "#doublecheck the current directory\n",
    "#change directory to 'data'"
   ]
  },
  {
   "cell_type": "code",
   "execution_count": 2,
   "metadata": {},
   "outputs": [
    {
     "name": "stdout",
     "output_type": "stream",
     "text": [
      "C:\\Users\\BLR_01\\Pictures\\Geyitm\\hack3Dec\n",
      "C:\\Users\\BLR_01\\Pictures\\Geyitm\\hack3Dec\\data\n"
     ]
    }
   ],
   "source": [
    "import os\n",
    "print(os.getcwd())\n",
    "os.chdir('./data')\n",
    "print(os.getcwd())"
   ]
  },
  {
   "cell_type": "markdown",
   "metadata": {},
   "source": [
    "# Read the data."
   ]
  },
  {
   "cell_type": "code",
   "execution_count": 3,
   "metadata": {},
   "outputs": [
    {
     "name": "stdout",
     "output_type": "stream",
     "text": [
      "('Shape of train_initial: ', (19536, 12))\n",
      "('Shape of test_initial: ', (6512, 11))\n"
     ]
    }
   ],
   "source": [
    "# Load the dataframe: both initial train and test \n",
    "df_train_initial = pd.read_csv('train.csv',delimiter=',')\n",
    "df_test_initial =pd.read_csv('test.csv',delimiter=',')\n",
    "\n",
    "#find the shapes of initial data\n",
    "print('Shape of train_initial: ',df_train_initial.shape)\n",
    "print('Shape of test_initial: ',df_test_initial.shape)\n"
   ]
  },
  {
   "cell_type": "markdown",
   "metadata": {},
   "source": [
    "# Observe the data"
   ]
  },
  {
   "cell_type": "code",
   "execution_count": 4,
   "metadata": {},
   "outputs": [
    {
     "data": {
      "text/html": [
       "<div>\n",
       "<style scoped>\n",
       "    .dataframe tbody tr th:only-of-type {\n",
       "        vertical-align: middle;\n",
       "    }\n",
       "\n",
       "    .dataframe tbody tr th {\n",
       "        vertical-align: top;\n",
       "    }\n",
       "\n",
       "    .dataframe thead th {\n",
       "        text-align: right;\n",
       "    }\n",
       "</style>\n",
       "<table border=\"1\" class=\"dataframe\">\n",
       "  <thead>\n",
       "    <tr style=\"text-align: right;\">\n",
       "      <th></th>\n",
       "      <th>UserID</th>\n",
       "      <th>realtionship_status</th>\n",
       "      <th>industry</th>\n",
       "      <th>genre</th>\n",
       "      <th>targeted_sex</th>\n",
       "      <th>average_runtime(minutes_per_week)</th>\n",
       "      <th>airtime</th>\n",
       "      <th>airlocation</th>\n",
       "      <th>ratings</th>\n",
       "      <th>expensive</th>\n",
       "      <th>money_back_guarantee</th>\n",
       "      <th>netgain</th>\n",
       "    </tr>\n",
       "  </thead>\n",
       "  <tbody>\n",
       "    <tr>\n",
       "      <th>0</th>\n",
       "      <td>UI_9185</td>\n",
       "      <td>Married-civ-spouse</td>\n",
       "      <td>Pharma</td>\n",
       "      <td>Comedy</td>\n",
       "      <td>Male</td>\n",
       "      <td>40</td>\n",
       "      <td>Daytime</td>\n",
       "      <td>United-States</td>\n",
       "      <td>0.027465</td>\n",
       "      <td>Medium</td>\n",
       "      <td>No</td>\n",
       "      <td>0</td>\n",
       "    </tr>\n",
       "    <tr>\n",
       "      <th>1</th>\n",
       "      <td>UI_449</td>\n",
       "      <td>Never-married</td>\n",
       "      <td>Political</td>\n",
       "      <td>Comedy</td>\n",
       "      <td>Male</td>\n",
       "      <td>35</td>\n",
       "      <td>Morning</td>\n",
       "      <td>International</td>\n",
       "      <td>0.027465</td>\n",
       "      <td>Low</td>\n",
       "      <td>No</td>\n",
       "      <td>0</td>\n",
       "    </tr>\n",
       "    <tr>\n",
       "      <th>2</th>\n",
       "      <td>UI_9014</td>\n",
       "      <td>Never-married</td>\n",
       "      <td>Auto</td>\n",
       "      <td>Comedy</td>\n",
       "      <td>Male</td>\n",
       "      <td>40</td>\n",
       "      <td>Morning</td>\n",
       "      <td>United-States</td>\n",
       "      <td>0.027465</td>\n",
       "      <td>Low</td>\n",
       "      <td>No</td>\n",
       "      <td>0</td>\n",
       "    </tr>\n",
       "    <tr>\n",
       "      <th>3</th>\n",
       "      <td>UI_14987</td>\n",
       "      <td>Married-civ-spouse</td>\n",
       "      <td>Pharma</td>\n",
       "      <td>Infomercial</td>\n",
       "      <td>Male</td>\n",
       "      <td>40</td>\n",
       "      <td>Primetime</td>\n",
       "      <td>United-States</td>\n",
       "      <td>0.027465</td>\n",
       "      <td>Low</td>\n",
       "      <td>Yes</td>\n",
       "      <td>0</td>\n",
       "    </tr>\n",
       "    <tr>\n",
       "      <th>4</th>\n",
       "      <td>UI_25532</td>\n",
       "      <td>Married-civ-spouse</td>\n",
       "      <td>Other</td>\n",
       "      <td>Comedy</td>\n",
       "      <td>Female</td>\n",
       "      <td>50</td>\n",
       "      <td>Primetime</td>\n",
       "      <td>United-States</td>\n",
       "      <td>0.027465</td>\n",
       "      <td>Low</td>\n",
       "      <td>Yes</td>\n",
       "      <td>1</td>\n",
       "    </tr>\n",
       "  </tbody>\n",
       "</table>\n",
       "</div>"
      ],
      "text/plain": [
       "     UserID realtionship_status   industry        genre targeted_sex  \\\n",
       "0   UI_9185  Married-civ-spouse     Pharma       Comedy         Male   \n",
       "1    UI_449       Never-married  Political       Comedy         Male   \n",
       "2   UI_9014       Never-married       Auto       Comedy         Male   \n",
       "3  UI_14987  Married-civ-spouse     Pharma  Infomercial         Male   \n",
       "4  UI_25532  Married-civ-spouse      Other       Comedy       Female   \n",
       "\n",
       "   average_runtime(minutes_per_week)    airtime    airlocation   ratings  \\\n",
       "0                                 40    Daytime  United-States  0.027465   \n",
       "1                                 35    Morning  International  0.027465   \n",
       "2                                 40    Morning  United-States  0.027465   \n",
       "3                                 40  Primetime  United-States  0.027465   \n",
       "4                                 50  Primetime  United-States  0.027465   \n",
       "\n",
       "  expensive money_back_guarantee  netgain  \n",
       "0    Medium                   No        0  \n",
       "1       Low                   No        0  \n",
       "2       Low                   No        0  \n",
       "3       Low                  Yes        0  \n",
       "4       Low                  Yes        1  "
      ]
     },
     "execution_count": 4,
     "metadata": {},
     "output_type": "execute_result"
    }
   ],
   "source": [
    "# info on train data initial\n",
    "df_train_initial.head()"
   ]
  },
  {
   "cell_type": "code",
   "execution_count": 5,
   "metadata": {},
   "outputs": [
    {
     "data": {
      "text/html": [
       "<div>\n",
       "<style scoped>\n",
       "    .dataframe tbody tr th:only-of-type {\n",
       "        vertical-align: middle;\n",
       "    }\n",
       "\n",
       "    .dataframe tbody tr th {\n",
       "        vertical-align: top;\n",
       "    }\n",
       "\n",
       "    .dataframe thead th {\n",
       "        text-align: right;\n",
       "    }\n",
       "</style>\n",
       "<table border=\"1\" class=\"dataframe\">\n",
       "  <thead>\n",
       "    <tr style=\"text-align: right;\">\n",
       "      <th></th>\n",
       "      <th>UserID</th>\n",
       "      <th>realtionship_status</th>\n",
       "      <th>industry</th>\n",
       "      <th>genre</th>\n",
       "      <th>targeted_sex</th>\n",
       "      <th>average_runtime(minutes_per_week)</th>\n",
       "      <th>airtime</th>\n",
       "      <th>airlocation</th>\n",
       "      <th>ratings</th>\n",
       "      <th>expensive</th>\n",
       "      <th>money_back_guarantee</th>\n",
       "    </tr>\n",
       "  </thead>\n",
       "  <tbody>\n",
       "    <tr>\n",
       "      <th>0</th>\n",
       "      <td>UI_8772</td>\n",
       "      <td>Never-married</td>\n",
       "      <td>Entertainment</td>\n",
       "      <td>Infomercial</td>\n",
       "      <td>Female</td>\n",
       "      <td>40</td>\n",
       "      <td>Primetime</td>\n",
       "      <td>United-States</td>\n",
       "      <td>0.027465</td>\n",
       "      <td>High</td>\n",
       "      <td>Yes</td>\n",
       "    </tr>\n",
       "    <tr>\n",
       "      <th>1</th>\n",
       "      <td>UI_13139</td>\n",
       "      <td>Divorced</td>\n",
       "      <td>Auto</td>\n",
       "      <td>Comedy</td>\n",
       "      <td>Female</td>\n",
       "      <td>40</td>\n",
       "      <td>Primetime</td>\n",
       "      <td>United-States</td>\n",
       "      <td>0.027465</td>\n",
       "      <td>Low</td>\n",
       "      <td>No</td>\n",
       "    </tr>\n",
       "    <tr>\n",
       "      <th>2</th>\n",
       "      <td>UI_15381</td>\n",
       "      <td>Married-civ-spouse</td>\n",
       "      <td>Pharma</td>\n",
       "      <td>Infomercial</td>\n",
       "      <td>Male</td>\n",
       "      <td>40</td>\n",
       "      <td>Primetime</td>\n",
       "      <td>United-States</td>\n",
       "      <td>0.027465</td>\n",
       "      <td>High</td>\n",
       "      <td>No</td>\n",
       "    </tr>\n",
       "    <tr>\n",
       "      <th>3</th>\n",
       "      <td>UI_15503</td>\n",
       "      <td>Never-married</td>\n",
       "      <td>Auto</td>\n",
       "      <td>Comedy</td>\n",
       "      <td>Male</td>\n",
       "      <td>30</td>\n",
       "      <td>Primetime</td>\n",
       "      <td>United-States</td>\n",
       "      <td>0.027465</td>\n",
       "      <td>High</td>\n",
       "      <td>Yes</td>\n",
       "    </tr>\n",
       "    <tr>\n",
       "      <th>4</th>\n",
       "      <td>UI_16556</td>\n",
       "      <td>Never-married</td>\n",
       "      <td>Political</td>\n",
       "      <td>Comedy</td>\n",
       "      <td>Male</td>\n",
       "      <td>70</td>\n",
       "      <td>Morning</td>\n",
       "      <td>United-States</td>\n",
       "      <td>0.027465</td>\n",
       "      <td>Low</td>\n",
       "      <td>No</td>\n",
       "    </tr>\n",
       "  </tbody>\n",
       "</table>\n",
       "</div>"
      ],
      "text/plain": [
       "     UserID realtionship_status       industry        genre targeted_sex  \\\n",
       "0   UI_8772       Never-married  Entertainment  Infomercial       Female   \n",
       "1  UI_13139            Divorced           Auto       Comedy       Female   \n",
       "2  UI_15381  Married-civ-spouse         Pharma  Infomercial         Male   \n",
       "3  UI_15503       Never-married           Auto       Comedy         Male   \n",
       "4  UI_16556       Never-married      Political       Comedy         Male   \n",
       "\n",
       "   average_runtime(minutes_per_week)    airtime    airlocation   ratings  \\\n",
       "0                                 40  Primetime  United-States  0.027465   \n",
       "1                                 40  Primetime  United-States  0.027465   \n",
       "2                                 40  Primetime  United-States  0.027465   \n",
       "3                                 30  Primetime  United-States  0.027465   \n",
       "4                                 70    Morning  United-States  0.027465   \n",
       "\n",
       "  expensive money_back_guarantee  \n",
       "0      High                  Yes  \n",
       "1       Low                   No  \n",
       "2      High                   No  \n",
       "3      High                  Yes  \n",
       "4       Low                   No  "
      ]
     },
     "execution_count": 5,
     "metadata": {},
     "output_type": "execute_result"
    }
   ],
   "source": [
    "# info on test data\n",
    "df_test_initial.head()"
   ]
  },
  {
   "cell_type": "code",
   "execution_count": 6,
   "metadata": {},
   "outputs": [
    {
     "name": "stdout",
     "output_type": "stream",
     "text": [
      "<class 'pandas.core.frame.DataFrame'>\n",
      "RangeIndex: 19536 entries, 0 to 19535\n",
      "Data columns (total 12 columns):\n",
      "UserID                               19536 non-null object\n",
      "realtionship_status                  19536 non-null object\n",
      "industry                             19536 non-null object\n",
      "genre                                19536 non-null object\n",
      "targeted_sex                         19536 non-null object\n",
      "average_runtime(minutes_per_week)    19536 non-null int64\n",
      "airtime                              19536 non-null object\n",
      "airlocation                          19536 non-null object\n",
      "ratings                              19536 non-null float64\n",
      "expensive                            19536 non-null object\n",
      "money_back_guarantee                 19536 non-null object\n",
      "netgain                              19536 non-null int64\n",
      "dtypes: float64(1), int64(2), object(9)\n",
      "memory usage: 1.8+ MB\n"
     ]
    }
   ],
   "source": [
    "# More views of training data in different ways \n",
    "df_train_initial.info()"
   ]
  },
  {
   "cell_type": "code",
   "execution_count": 7,
   "metadata": {},
   "outputs": [
    {
     "data": {
      "text/html": [
       "<div>\n",
       "<style scoped>\n",
       "    .dataframe tbody tr th:only-of-type {\n",
       "        vertical-align: middle;\n",
       "    }\n",
       "\n",
       "    .dataframe tbody tr th {\n",
       "        vertical-align: top;\n",
       "    }\n",
       "\n",
       "    .dataframe thead th {\n",
       "        text-align: right;\n",
       "    }\n",
       "</style>\n",
       "<table border=\"1\" class=\"dataframe\">\n",
       "  <thead>\n",
       "    <tr style=\"text-align: right;\">\n",
       "      <th></th>\n",
       "      <th>average_runtime(minutes_per_week)</th>\n",
       "      <th>ratings</th>\n",
       "      <th>netgain</th>\n",
       "    </tr>\n",
       "  </thead>\n",
       "  <tbody>\n",
       "    <tr>\n",
       "      <th>count</th>\n",
       "      <td>19536.000000</td>\n",
       "      <td>19536.000000</td>\n",
       "      <td>19536.000000</td>\n",
       "    </tr>\n",
       "    <tr>\n",
       "      <th>mean</th>\n",
       "      <td>40.375665</td>\n",
       "      <td>0.038826</td>\n",
       "      <td>0.238022</td>\n",
       "    </tr>\n",
       "    <tr>\n",
       "      <th>std</th>\n",
       "      <td>12.483166</td>\n",
       "      <td>0.075971</td>\n",
       "      <td>0.425884</td>\n",
       "    </tr>\n",
       "    <tr>\n",
       "      <th>min</th>\n",
       "      <td>1.000000</td>\n",
       "      <td>0.000000</td>\n",
       "      <td>0.000000</td>\n",
       "    </tr>\n",
       "    <tr>\n",
       "      <th>25%</th>\n",
       "      <td>40.000000</td>\n",
       "      <td>0.027465</td>\n",
       "      <td>0.000000</td>\n",
       "    </tr>\n",
       "    <tr>\n",
       "      <th>50%</th>\n",
       "      <td>40.000000</td>\n",
       "      <td>0.027465</td>\n",
       "      <td>0.000000</td>\n",
       "    </tr>\n",
       "    <tr>\n",
       "      <th>75%</th>\n",
       "      <td>45.000000</td>\n",
       "      <td>0.027465</td>\n",
       "      <td>0.000000</td>\n",
       "    </tr>\n",
       "    <tr>\n",
       "      <th>max</th>\n",
       "      <td>99.000000</td>\n",
       "      <td>1.000000</td>\n",
       "      <td>1.000000</td>\n",
       "    </tr>\n",
       "  </tbody>\n",
       "</table>\n",
       "</div>"
      ],
      "text/plain": [
       "       average_runtime(minutes_per_week)       ratings       netgain\n",
       "count                       19536.000000  19536.000000  19536.000000\n",
       "mean                           40.375665      0.038826      0.238022\n",
       "std                            12.483166      0.075971      0.425884\n",
       "min                             1.000000      0.000000      0.000000\n",
       "25%                            40.000000      0.027465      0.000000\n",
       "50%                            40.000000      0.027465      0.000000\n",
       "75%                            45.000000      0.027465      0.000000\n",
       "max                            99.000000      1.000000      1.000000"
      ]
     },
     "execution_count": 7,
     "metadata": {},
     "output_type": "execute_result"
    }
   ],
   "source": [
    "df_train_initial.describe()"
   ]
  },
  {
   "cell_type": "code",
   "execution_count": 8,
   "metadata": {},
   "outputs": [
    {
     "data": {
      "text/html": [
       "<div>\n",
       "<style scoped>\n",
       "    .dataframe tbody tr th:only-of-type {\n",
       "        vertical-align: middle;\n",
       "    }\n",
       "\n",
       "    .dataframe tbody tr th {\n",
       "        vertical-align: top;\n",
       "    }\n",
       "\n",
       "    .dataframe thead th {\n",
       "        text-align: right;\n",
       "    }\n",
       "</style>\n",
       "<table border=\"1\" class=\"dataframe\">\n",
       "  <thead>\n",
       "    <tr style=\"text-align: right;\">\n",
       "      <th></th>\n",
       "      <th>average_runtime(minutes_per_week)</th>\n",
       "      <th>ratings</th>\n",
       "    </tr>\n",
       "  </thead>\n",
       "  <tbody>\n",
       "    <tr>\n",
       "      <th>count</th>\n",
       "      <td>6512.000000</td>\n",
       "      <td>6512.000000</td>\n",
       "    </tr>\n",
       "    <tr>\n",
       "      <th>mean</th>\n",
       "      <td>40.049447</td>\n",
       "      <td>0.038385</td>\n",
       "    </tr>\n",
       "    <tr>\n",
       "      <th>std</th>\n",
       "      <td>12.466081</td>\n",
       "      <td>0.075497</td>\n",
       "    </tr>\n",
       "    <tr>\n",
       "      <th>min</th>\n",
       "      <td>1.000000</td>\n",
       "      <td>0.000000</td>\n",
       "    </tr>\n",
       "    <tr>\n",
       "      <th>25%</th>\n",
       "      <td>40.000000</td>\n",
       "      <td>0.027465</td>\n",
       "    </tr>\n",
       "    <tr>\n",
       "      <th>50%</th>\n",
       "      <td>40.000000</td>\n",
       "      <td>0.027465</td>\n",
       "    </tr>\n",
       "    <tr>\n",
       "      <th>75%</th>\n",
       "      <td>45.000000</td>\n",
       "      <td>0.027465</td>\n",
       "    </tr>\n",
       "    <tr>\n",
       "      <th>max</th>\n",
       "      <td>99.000000</td>\n",
       "      <td>1.000000</td>\n",
       "    </tr>\n",
       "  </tbody>\n",
       "</table>\n",
       "</div>"
      ],
      "text/plain": [
       "       average_runtime(minutes_per_week)      ratings\n",
       "count                        6512.000000  6512.000000\n",
       "mean                           40.049447     0.038385\n",
       "std                            12.466081     0.075497\n",
       "min                             1.000000     0.000000\n",
       "25%                            40.000000     0.027465\n",
       "50%                            40.000000     0.027465\n",
       "75%                            45.000000     0.027465\n",
       "max                            99.000000     1.000000"
      ]
     },
     "execution_count": 8,
     "metadata": {},
     "output_type": "execute_result"
    }
   ],
   "source": [
    "\n",
    "df_test_initial.describe()"
   ]
  },
  {
   "cell_type": "markdown",
   "metadata": {},
   "source": [
    "# Exploratory Analysis"
   ]
  },
  {
   "cell_type": "code",
   "execution_count": 9,
   "metadata": {},
   "outputs": [
    {
     "data": {
      "text/plain": [
       "UserID                               0\n",
       "realtionship_status                  0\n",
       "industry                             0\n",
       "genre                                0\n",
       "targeted_sex                         0\n",
       "average_runtime(minutes_per_week)    0\n",
       "airtime                              0\n",
       "airlocation                          0\n",
       "ratings                              0\n",
       "expensive                            0\n",
       "money_back_guarantee                 0\n",
       "netgain                              0\n",
       "dtype: int64"
      ]
     },
     "execution_count": 9,
     "metadata": {},
     "output_type": "execute_result"
    }
   ],
   "source": [
    "df_train_initial.isna().sum()"
   ]
  },
  {
   "cell_type": "code",
   "execution_count": 10,
   "metadata": {},
   "outputs": [
    {
     "data": {
      "text/plain": [
       "UserID                               0\n",
       "realtionship_status                  0\n",
       "industry                             0\n",
       "genre                                0\n",
       "targeted_sex                         0\n",
       "average_runtime(minutes_per_week)    0\n",
       "airtime                              0\n",
       "airlocation                          0\n",
       "ratings                              0\n",
       "expensive                            0\n",
       "money_back_guarantee                 0\n",
       "dtype: int64"
      ]
     },
     "execution_count": 10,
     "metadata": {},
     "output_type": "execute_result"
    }
   ],
   "source": [
    "df_test_initial.isna().sum()"
   ]
  },
  {
   "cell_type": "markdown",
   "metadata": {},
   "source": [
    "# Observation - No null values in train and test data"
   ]
  },
  {
   "cell_type": "code",
   "execution_count": 11,
   "metadata": {},
   "outputs": [],
   "source": [
    "#Lets rename long columns\n",
    "df_train_initial.rename(columns = {'realtionship_status':'status','targeted_sex':'sex','average_runtime(minutes_per_week)':'runtime','money_back_guarantee':'moneyback'}, inplace = True) \n"
   ]
  },
  {
   "cell_type": "code",
   "execution_count": 12,
   "metadata": {},
   "outputs": [
    {
     "name": "stdout",
     "output_type": "stream",
     "text": [
      "<class 'pandas.core.frame.DataFrame'>\n",
      "RangeIndex: 19536 entries, 0 to 19535\n",
      "Data columns (total 12 columns):\n",
      "UserID         19536 non-null object\n",
      "status         19536 non-null object\n",
      "industry       19536 non-null object\n",
      "genre          19536 non-null object\n",
      "sex            19536 non-null object\n",
      "runtime        19536 non-null int64\n",
      "airtime        19536 non-null object\n",
      "airlocation    19536 non-null object\n",
      "ratings        19536 non-null float64\n",
      "expensive      19536 non-null object\n",
      "moneyback      19536 non-null object\n",
      "netgain        19536 non-null int64\n",
      "dtypes: float64(1), int64(2), object(9)\n",
      "memory usage: 1.8+ MB\n"
     ]
    }
   ],
   "source": [
    "df_train_initial.info()"
   ]
  },
  {
   "cell_type": "code",
   "execution_count": 13,
   "metadata": {},
   "outputs": [],
   "source": [
    "df_test_initial.rename(columns = {'realtionship_status':'status','targeted_sex':'sex','average_runtime(minutes_per_week)':'runtime','money_back_guarantee':'moneyback'}, inplace = True) \n"
   ]
  },
  {
   "cell_type": "code",
   "execution_count": 14,
   "metadata": {},
   "outputs": [
    {
     "name": "stdout",
     "output_type": "stream",
     "text": [
      "<class 'pandas.core.frame.DataFrame'>\n",
      "RangeIndex: 6512 entries, 0 to 6511\n",
      "Data columns (total 11 columns):\n",
      "UserID         6512 non-null object\n",
      "status         6512 non-null object\n",
      "industry       6512 non-null object\n",
      "genre          6512 non-null object\n",
      "sex            6512 non-null object\n",
      "runtime        6512 non-null int64\n",
      "airtime        6512 non-null object\n",
      "airlocation    6512 non-null object\n",
      "ratings        6512 non-null float64\n",
      "expensive      6512 non-null object\n",
      "moneyback      6512 non-null object\n",
      "dtypes: float64(1), int64(1), object(9)\n",
      "memory usage: 559.7+ KB\n"
     ]
    }
   ],
   "source": [
    "df_test_initial.info()"
   ]
  },
  {
   "cell_type": "code",
   "execution_count": 15,
   "metadata": {},
   "outputs": [
    {
     "data": {
      "text/plain": [
       "Married-civ-spouse       8899\n",
       "Never-married            6433\n",
       "Divorced                 2700\n",
       "Widowed                   616\n",
       "Separated                 598\n",
       "Married-spouse-absent     274\n",
       "Married-AF-spouse          16\n",
       "Name: status, dtype: int64"
      ]
     },
     "execution_count": 15,
     "metadata": {},
     "output_type": "execute_result"
    }
   ],
   "source": [
    "# Inique values\n",
    "df_train_initial['status'].value_counts()\n"
   ]
  },
  {
   "cell_type": "code",
   "execution_count": 16,
   "metadata": {},
   "outputs": [
    {
     "data": {
      "text/plain": [
       "Pharma           7735\n",
       "Auto             5058\n",
       "Political        3039\n",
       "Entertainment    2064\n",
       "Other            1031\n",
       "ClassAction       609\n",
       "Name: industry, dtype: int64"
      ]
     },
     "execution_count": 16,
     "metadata": {},
     "output_type": "execute_result"
    }
   ],
   "source": [
    "df_train_initial['industry'].value_counts()"
   ]
  },
  {
   "cell_type": "code",
   "execution_count": 17,
   "metadata": {},
   "outputs": [
    {
     "data": {
      "text/plain": [
       "Comedy         16699\n",
       "Infomercial     1871\n",
       "Drama            612\n",
       "Direct           186\n",
       "Other            168\n",
       "Name: genre, dtype: int64"
      ]
     },
     "execution_count": 17,
     "metadata": {},
     "output_type": "execute_result"
    }
   ],
   "source": [
    "df_train_initial['genre'].value_counts()\n"
   ]
  },
  {
   "cell_type": "code",
   "execution_count": 18,
   "metadata": {},
   "outputs": [
    {
     "data": {
      "text/plain": [
       "Male      12869\n",
       "Female     6667\n",
       "Name: sex, dtype: int64"
      ]
     },
     "execution_count": 18,
     "metadata": {},
     "output_type": "execute_result"
    }
   ],
   "source": [
    "df_train_initial['sex'].value_counts()\n"
   ]
  },
  {
   "cell_type": "code",
   "execution_count": 19,
   "metadata": {},
   "outputs": [
    {
     "data": {
      "text/plain": [
       "Primetime    11755\n",
       "Morning       6397\n",
       "Daytime       1384\n",
       "Name: airtime, dtype: int64"
      ]
     },
     "execution_count": 19,
     "metadata": {},
     "output_type": "execute_result"
    }
   ],
   "source": [
    "df_train_initial['airtime'].value_counts()"
   ]
  },
  {
   "cell_type": "code",
   "execution_count": 20,
   "metadata": {},
   "outputs": [
    {
     "data": {
      "text/plain": [
       "United-States    17434\n",
       "Mexico             394\n",
       "International      355\n",
       "Philippines        112\n",
       "Germany             75\n",
       "Name: airlocation, dtype: int64"
      ]
     },
     "execution_count": 20,
     "metadata": {},
     "output_type": "execute_result"
    }
   ],
   "source": [
    "df_train_initial['airlocation'].value_counts().head(5)"
   ]
  },
  {
   "cell_type": "code",
   "execution_count": 21,
   "metadata": {},
   "outputs": [
    {
     "data": {
      "text/plain": [
       "Low       11756\n",
       "High       5453\n",
       "Medium     2327\n",
       "Name: expensive, dtype: int64"
      ]
     },
     "execution_count": 21,
     "metadata": {},
     "output_type": "execute_result"
    }
   ],
   "source": [
    "df_train_initial['expensive'].value_counts().head(5)"
   ]
  },
  {
   "cell_type": "code",
   "execution_count": 22,
   "metadata": {},
   "outputs": [
    {
     "data": {
      "text/plain": [
       "Yes    9788\n",
       "No     9748\n",
       "Name: moneyback, dtype: int64"
      ]
     },
     "execution_count": 22,
     "metadata": {},
     "output_type": "execute_result"
    }
   ],
   "source": [
    "df_train_initial['moneyback'].value_counts().head(5)"
   ]
  },
  {
   "cell_type": "code",
   "execution_count": 23,
   "metadata": {},
   "outputs": [
    {
     "data": {
      "text/plain": [
       "0    14886\n",
       "1     4650\n",
       "Name: netgain, dtype: int64"
      ]
     },
     "execution_count": 23,
     "metadata": {},
     "output_type": "execute_result"
    }
   ],
   "source": [
    "df_train_initial['netgain'].value_counts().head(5)"
   ]
  },
  {
   "cell_type": "markdown",
   "metadata": {},
   "source": [
    "## we see imbalance here...need to consider various techniques like,\n",
    "- Random Oversampling\n",
    "- Random Undersampling\n",
    "- SMOTE \n",
    "- But before that we can try to use - class_weight feature in LR "
   ]
  },
  {
   "cell_type": "markdown",
   "metadata": {},
   "source": [
    "## One-hot encoding"
   ]
  },
  {
   "cell_type": "code",
   "execution_count": 24,
   "metadata": {},
   "outputs": [
    {
     "name": "stdout",
     "output_type": "stream",
     "text": [
      "<class 'pandas.core.frame.DataFrame'>\n",
      "RangeIndex: 19536 entries, 0 to 19535\n",
      "Data columns (total 12 columns):\n",
      "UserID         19536 non-null object\n",
      "status         19536 non-null object\n",
      "industry       19536 non-null object\n",
      "genre          19536 non-null object\n",
      "sex            19536 non-null object\n",
      "runtime        19536 non-null int64\n",
      "airtime        19536 non-null object\n",
      "airlocation    19536 non-null object\n",
      "ratings        19536 non-null float64\n",
      "expensive      19536 non-null object\n",
      "moneyback      19536 non-null object\n",
      "netgain        19536 non-null int64\n",
      "dtypes: float64(1), int64(2), object(9)\n",
      "memory usage: 1.8+ MB\n"
     ]
    }
   ],
   "source": [
    "df_train_initial.info()"
   ]
  },
  {
   "cell_type": "code",
   "execution_count": 25,
   "metadata": {},
   "outputs": [],
   "source": [
    "df_test_initial = df_test_initial.drop(['airlocation'],axis=1)"
   ]
  },
  {
   "cell_type": "code",
   "execution_count": 26,
   "metadata": {},
   "outputs": [],
   "source": [
    "df_train_initial = df_train_initial.drop(['airlocation'],axis=1)\n"
   ]
  },
  {
   "cell_type": "code",
   "execution_count": 27,
   "metadata": {},
   "outputs": [],
   "source": [
    "#encode_columns = ['status','industry','genre','sex','airtime','airlocation','expensive','moneyback']\n",
    "df_train_initial['train']=1\n",
    "df_test_initial['train']=0"
   ]
  },
  {
   "cell_type": "code",
   "execution_count": 28,
   "metadata": {},
   "outputs": [],
   "source": [
    "common = pd.concat([df_train_initial, df_test_initial]) # axis =0 by default - rows added"
   ]
  },
  {
   "cell_type": "code",
   "execution_count": 29,
   "metadata": {},
   "outputs": [],
   "source": [
    "common = pd.get_dummies(common, columns=['status','industry','genre','sex','airtime','expensive','moneyback'], drop_first=True)"
   ]
  },
  {
   "cell_type": "code",
   "execution_count": 30,
   "metadata": {},
   "outputs": [],
   "source": [
    "# break them back as train and test data \n",
    "df_train_two_onehot=common[common['train']==1]"
   ]
  },
  {
   "cell_type": "code",
   "execution_count": 31,
   "metadata": {},
   "outputs": [],
   "source": [
    "df_test_two_onehot=common[common['train']==0]"
   ]
  },
  {
   "cell_type": "code",
   "execution_count": 32,
   "metadata": {},
   "outputs": [
    {
     "data": {
      "text/plain": [
       "(19536, 26)"
      ]
     },
     "execution_count": 32,
     "metadata": {},
     "output_type": "execute_result"
    }
   ],
   "source": [
    "df_train_two_onehot.shape"
   ]
  },
  {
   "cell_type": "code",
   "execution_count": 33,
   "metadata": {},
   "outputs": [
    {
     "data": {
      "text/plain": [
       "(6512, 26)"
      ]
     },
     "execution_count": 33,
     "metadata": {},
     "output_type": "execute_result"
    }
   ],
   "source": [
    "df_test_two_onehot.shape"
   ]
  },
  {
   "cell_type": "code",
   "execution_count": 34,
   "metadata": {},
   "outputs": [],
   "source": [
    "# drop price from test\n",
    "df_test_two_onehot.drop(['netgain'],axis=1,inplace=True)"
   ]
  },
  {
   "cell_type": "code",
   "execution_count": 35,
   "metadata": {},
   "outputs": [
    {
     "data": {
      "text/html": [
       "<div>\n",
       "<style scoped>\n",
       "    .dataframe tbody tr th:only-of-type {\n",
       "        vertical-align: middle;\n",
       "    }\n",
       "\n",
       "    .dataframe tbody tr th {\n",
       "        vertical-align: top;\n",
       "    }\n",
       "\n",
       "    .dataframe thead th {\n",
       "        text-align: right;\n",
       "    }\n",
       "</style>\n",
       "<table border=\"1\" class=\"dataframe\">\n",
       "  <thead>\n",
       "    <tr style=\"text-align: right;\">\n",
       "      <th></th>\n",
       "      <th>UserID</th>\n",
       "      <th>ratings</th>\n",
       "      <th>runtime</th>\n",
       "      <th>train</th>\n",
       "      <th>status_Married-AF-spouse</th>\n",
       "      <th>status_Married-civ-spouse</th>\n",
       "      <th>status_Married-spouse-absent</th>\n",
       "      <th>status_Never-married</th>\n",
       "      <th>status_Separated</th>\n",
       "      <th>status_Widowed</th>\n",
       "      <th>industry_ClassAction</th>\n",
       "      <th>industry_Entertainment</th>\n",
       "      <th>industry_Other</th>\n",
       "      <th>industry_Pharma</th>\n",
       "      <th>industry_Political</th>\n",
       "      <th>genre_Direct</th>\n",
       "      <th>genre_Drama</th>\n",
       "      <th>genre_Infomercial</th>\n",
       "      <th>genre_Other</th>\n",
       "      <th>sex_Male</th>\n",
       "      <th>airtime_Morning</th>\n",
       "      <th>airtime_Primetime</th>\n",
       "      <th>expensive_Low</th>\n",
       "      <th>expensive_Medium</th>\n",
       "      <th>moneyback_Yes</th>\n",
       "    </tr>\n",
       "  </thead>\n",
       "  <tbody>\n",
       "    <tr>\n",
       "      <th>0</th>\n",
       "      <td>UI_8772</td>\n",
       "      <td>0.027465</td>\n",
       "      <td>40</td>\n",
       "      <td>0</td>\n",
       "      <td>0</td>\n",
       "      <td>0</td>\n",
       "      <td>0</td>\n",
       "      <td>1</td>\n",
       "      <td>0</td>\n",
       "      <td>0</td>\n",
       "      <td>0</td>\n",
       "      <td>1</td>\n",
       "      <td>0</td>\n",
       "      <td>0</td>\n",
       "      <td>0</td>\n",
       "      <td>0</td>\n",
       "      <td>0</td>\n",
       "      <td>1</td>\n",
       "      <td>0</td>\n",
       "      <td>0</td>\n",
       "      <td>0</td>\n",
       "      <td>1</td>\n",
       "      <td>0</td>\n",
       "      <td>0</td>\n",
       "      <td>1</td>\n",
       "    </tr>\n",
       "    <tr>\n",
       "      <th>1</th>\n",
       "      <td>UI_13139</td>\n",
       "      <td>0.027465</td>\n",
       "      <td>40</td>\n",
       "      <td>0</td>\n",
       "      <td>0</td>\n",
       "      <td>0</td>\n",
       "      <td>0</td>\n",
       "      <td>0</td>\n",
       "      <td>0</td>\n",
       "      <td>0</td>\n",
       "      <td>0</td>\n",
       "      <td>0</td>\n",
       "      <td>0</td>\n",
       "      <td>0</td>\n",
       "      <td>0</td>\n",
       "      <td>0</td>\n",
       "      <td>0</td>\n",
       "      <td>0</td>\n",
       "      <td>0</td>\n",
       "      <td>0</td>\n",
       "      <td>0</td>\n",
       "      <td>1</td>\n",
       "      <td>1</td>\n",
       "      <td>0</td>\n",
       "      <td>0</td>\n",
       "    </tr>\n",
       "    <tr>\n",
       "      <th>2</th>\n",
       "      <td>UI_15381</td>\n",
       "      <td>0.027465</td>\n",
       "      <td>40</td>\n",
       "      <td>0</td>\n",
       "      <td>0</td>\n",
       "      <td>1</td>\n",
       "      <td>0</td>\n",
       "      <td>0</td>\n",
       "      <td>0</td>\n",
       "      <td>0</td>\n",
       "      <td>0</td>\n",
       "      <td>0</td>\n",
       "      <td>0</td>\n",
       "      <td>1</td>\n",
       "      <td>0</td>\n",
       "      <td>0</td>\n",
       "      <td>0</td>\n",
       "      <td>1</td>\n",
       "      <td>0</td>\n",
       "      <td>1</td>\n",
       "      <td>0</td>\n",
       "      <td>1</td>\n",
       "      <td>0</td>\n",
       "      <td>0</td>\n",
       "      <td>0</td>\n",
       "    </tr>\n",
       "    <tr>\n",
       "      <th>3</th>\n",
       "      <td>UI_15503</td>\n",
       "      <td>0.027465</td>\n",
       "      <td>30</td>\n",
       "      <td>0</td>\n",
       "      <td>0</td>\n",
       "      <td>0</td>\n",
       "      <td>0</td>\n",
       "      <td>1</td>\n",
       "      <td>0</td>\n",
       "      <td>0</td>\n",
       "      <td>0</td>\n",
       "      <td>0</td>\n",
       "      <td>0</td>\n",
       "      <td>0</td>\n",
       "      <td>0</td>\n",
       "      <td>0</td>\n",
       "      <td>0</td>\n",
       "      <td>0</td>\n",
       "      <td>0</td>\n",
       "      <td>1</td>\n",
       "      <td>0</td>\n",
       "      <td>1</td>\n",
       "      <td>0</td>\n",
       "      <td>0</td>\n",
       "      <td>1</td>\n",
       "    </tr>\n",
       "    <tr>\n",
       "      <th>4</th>\n",
       "      <td>UI_16556</td>\n",
       "      <td>0.027465</td>\n",
       "      <td>70</td>\n",
       "      <td>0</td>\n",
       "      <td>0</td>\n",
       "      <td>0</td>\n",
       "      <td>0</td>\n",
       "      <td>1</td>\n",
       "      <td>0</td>\n",
       "      <td>0</td>\n",
       "      <td>0</td>\n",
       "      <td>0</td>\n",
       "      <td>0</td>\n",
       "      <td>0</td>\n",
       "      <td>1</td>\n",
       "      <td>0</td>\n",
       "      <td>0</td>\n",
       "      <td>0</td>\n",
       "      <td>0</td>\n",
       "      <td>1</td>\n",
       "      <td>1</td>\n",
       "      <td>0</td>\n",
       "      <td>1</td>\n",
       "      <td>0</td>\n",
       "      <td>0</td>\n",
       "    </tr>\n",
       "  </tbody>\n",
       "</table>\n",
       "</div>"
      ],
      "text/plain": [
       "     UserID   ratings  runtime  train  status_Married-AF-spouse  \\\n",
       "0   UI_8772  0.027465       40      0                         0   \n",
       "1  UI_13139  0.027465       40      0                         0   \n",
       "2  UI_15381  0.027465       40      0                         0   \n",
       "3  UI_15503  0.027465       30      0                         0   \n",
       "4  UI_16556  0.027465       70      0                         0   \n",
       "\n",
       "   status_Married-civ-spouse  status_Married-spouse-absent  \\\n",
       "0                          0                             0   \n",
       "1                          0                             0   \n",
       "2                          1                             0   \n",
       "3                          0                             0   \n",
       "4                          0                             0   \n",
       "\n",
       "   status_Never-married  status_Separated  status_Widowed  \\\n",
       "0                     1                 0               0   \n",
       "1                     0                 0               0   \n",
       "2                     0                 0               0   \n",
       "3                     1                 0               0   \n",
       "4                     1                 0               0   \n",
       "\n",
       "   industry_ClassAction  industry_Entertainment  industry_Other  \\\n",
       "0                     0                       1               0   \n",
       "1                     0                       0               0   \n",
       "2                     0                       0               0   \n",
       "3                     0                       0               0   \n",
       "4                     0                       0               0   \n",
       "\n",
       "   industry_Pharma  industry_Political  genre_Direct  genre_Drama  \\\n",
       "0                0                   0             0            0   \n",
       "1                0                   0             0            0   \n",
       "2                1                   0             0            0   \n",
       "3                0                   0             0            0   \n",
       "4                0                   1             0            0   \n",
       "\n",
       "   genre_Infomercial  genre_Other  sex_Male  airtime_Morning  \\\n",
       "0                  1            0         0                0   \n",
       "1                  0            0         0                0   \n",
       "2                  1            0         1                0   \n",
       "3                  0            0         1                0   \n",
       "4                  0            0         1                1   \n",
       "\n",
       "   airtime_Primetime  expensive_Low  expensive_Medium  moneyback_Yes  \n",
       "0                  1              0                 0              1  \n",
       "1                  1              1                 0              0  \n",
       "2                  1              0                 0              0  \n",
       "3                  1              0                 0              1  \n",
       "4                  0              1                 0              0  "
      ]
     },
     "execution_count": 35,
     "metadata": {},
     "output_type": "execute_result"
    }
   ],
   "source": [
    "df_test_two_onehot.head()"
   ]
  },
  {
   "cell_type": "code",
   "execution_count": 36,
   "metadata": {},
   "outputs": [],
   "source": [
    "# drop user id which is not useful\n",
    "df_train_two_onehot = df_train_two_onehot.drop(['UserID'],axis=1)\n"
   ]
  },
  {
   "cell_type": "code",
   "execution_count": 37,
   "metadata": {},
   "outputs": [],
   "source": [
    "df_test_two_onehot = df_test_two_onehot.drop(['UserID'],axis=1)\n"
   ]
  },
  {
   "cell_type": "code",
   "execution_count": 38,
   "metadata": {},
   "outputs": [],
   "source": [
    "# scale the features runtime and runtime and rating\n",
    "from sklearn.preprocessing import StandardScaler\n",
    "scale = StandardScaler()\n",
    "#X = scale.fit_transform(df_train_initial)         # refer cell 71 from where values are coming \n",
    "scale_cols = ['runtime','ratings']\n",
    "for c in scale_cols:\n",
    "    df_train_two_onehot[c+'_s'] = scale.fit_transform(np.array(df_train_two_onehot[c]).reshape(-1, 1))\n",
    "    df_test_two_onehot[c+'_s'] = scale.fit_transform(np.array(df_test_two_onehot[c]).reshape(-1, 1))"
   ]
  },
  {
   "cell_type": "code",
   "execution_count": 39,
   "metadata": {},
   "outputs": [
    {
     "data": {
      "text/html": [
       "<div>\n",
       "<style scoped>\n",
       "    .dataframe tbody tr th:only-of-type {\n",
       "        vertical-align: middle;\n",
       "    }\n",
       "\n",
       "    .dataframe tbody tr th {\n",
       "        vertical-align: top;\n",
       "    }\n",
       "\n",
       "    .dataframe thead th {\n",
       "        text-align: right;\n",
       "    }\n",
       "</style>\n",
       "<table border=\"1\" class=\"dataframe\">\n",
       "  <thead>\n",
       "    <tr style=\"text-align: right;\">\n",
       "      <th></th>\n",
       "      <th>netgain</th>\n",
       "      <th>ratings</th>\n",
       "      <th>runtime</th>\n",
       "      <th>train</th>\n",
       "      <th>status_Married-AF-spouse</th>\n",
       "      <th>status_Married-civ-spouse</th>\n",
       "      <th>status_Married-spouse-absent</th>\n",
       "      <th>status_Never-married</th>\n",
       "      <th>status_Separated</th>\n",
       "      <th>status_Widowed</th>\n",
       "      <th>industry_ClassAction</th>\n",
       "      <th>industry_Entertainment</th>\n",
       "      <th>industry_Other</th>\n",
       "      <th>industry_Pharma</th>\n",
       "      <th>industry_Political</th>\n",
       "      <th>genre_Direct</th>\n",
       "      <th>genre_Drama</th>\n",
       "      <th>genre_Infomercial</th>\n",
       "      <th>genre_Other</th>\n",
       "      <th>sex_Male</th>\n",
       "      <th>airtime_Morning</th>\n",
       "      <th>airtime_Primetime</th>\n",
       "      <th>expensive_Low</th>\n",
       "      <th>expensive_Medium</th>\n",
       "      <th>moneyback_Yes</th>\n",
       "      <th>runtime_s</th>\n",
       "      <th>ratings_s</th>\n",
       "    </tr>\n",
       "  </thead>\n",
       "  <tbody>\n",
       "    <tr>\n",
       "      <th>0</th>\n",
       "      <td>0.0</td>\n",
       "      <td>0.027465</td>\n",
       "      <td>40</td>\n",
       "      <td>1</td>\n",
       "      <td>0</td>\n",
       "      <td>1</td>\n",
       "      <td>0</td>\n",
       "      <td>0</td>\n",
       "      <td>0</td>\n",
       "      <td>0</td>\n",
       "      <td>0</td>\n",
       "      <td>0</td>\n",
       "      <td>0</td>\n",
       "      <td>1</td>\n",
       "      <td>0</td>\n",
       "      <td>0</td>\n",
       "      <td>0</td>\n",
       "      <td>0</td>\n",
       "      <td>0</td>\n",
       "      <td>1</td>\n",
       "      <td>0</td>\n",
       "      <td>0</td>\n",
       "      <td>0</td>\n",
       "      <td>1</td>\n",
       "      <td>0</td>\n",
       "      <td>-0.030095</td>\n",
       "      <td>-0.149548</td>\n",
       "    </tr>\n",
       "    <tr>\n",
       "      <th>1</th>\n",
       "      <td>0.0</td>\n",
       "      <td>0.027465</td>\n",
       "      <td>35</td>\n",
       "      <td>1</td>\n",
       "      <td>0</td>\n",
       "      <td>0</td>\n",
       "      <td>0</td>\n",
       "      <td>1</td>\n",
       "      <td>0</td>\n",
       "      <td>0</td>\n",
       "      <td>0</td>\n",
       "      <td>0</td>\n",
       "      <td>0</td>\n",
       "      <td>0</td>\n",
       "      <td>1</td>\n",
       "      <td>0</td>\n",
       "      <td>0</td>\n",
       "      <td>0</td>\n",
       "      <td>0</td>\n",
       "      <td>1</td>\n",
       "      <td>1</td>\n",
       "      <td>0</td>\n",
       "      <td>1</td>\n",
       "      <td>0</td>\n",
       "      <td>0</td>\n",
       "      <td>-0.430644</td>\n",
       "      <td>-0.149548</td>\n",
       "    </tr>\n",
       "    <tr>\n",
       "      <th>2</th>\n",
       "      <td>0.0</td>\n",
       "      <td>0.027465</td>\n",
       "      <td>40</td>\n",
       "      <td>1</td>\n",
       "      <td>0</td>\n",
       "      <td>0</td>\n",
       "      <td>0</td>\n",
       "      <td>1</td>\n",
       "      <td>0</td>\n",
       "      <td>0</td>\n",
       "      <td>0</td>\n",
       "      <td>0</td>\n",
       "      <td>0</td>\n",
       "      <td>0</td>\n",
       "      <td>0</td>\n",
       "      <td>0</td>\n",
       "      <td>0</td>\n",
       "      <td>0</td>\n",
       "      <td>0</td>\n",
       "      <td>1</td>\n",
       "      <td>1</td>\n",
       "      <td>0</td>\n",
       "      <td>1</td>\n",
       "      <td>0</td>\n",
       "      <td>0</td>\n",
       "      <td>-0.030095</td>\n",
       "      <td>-0.149548</td>\n",
       "    </tr>\n",
       "    <tr>\n",
       "      <th>3</th>\n",
       "      <td>0.0</td>\n",
       "      <td>0.027465</td>\n",
       "      <td>40</td>\n",
       "      <td>1</td>\n",
       "      <td>0</td>\n",
       "      <td>1</td>\n",
       "      <td>0</td>\n",
       "      <td>0</td>\n",
       "      <td>0</td>\n",
       "      <td>0</td>\n",
       "      <td>0</td>\n",
       "      <td>0</td>\n",
       "      <td>0</td>\n",
       "      <td>1</td>\n",
       "      <td>0</td>\n",
       "      <td>0</td>\n",
       "      <td>0</td>\n",
       "      <td>1</td>\n",
       "      <td>0</td>\n",
       "      <td>1</td>\n",
       "      <td>0</td>\n",
       "      <td>1</td>\n",
       "      <td>1</td>\n",
       "      <td>0</td>\n",
       "      <td>1</td>\n",
       "      <td>-0.030095</td>\n",
       "      <td>-0.149548</td>\n",
       "    </tr>\n",
       "    <tr>\n",
       "      <th>4</th>\n",
       "      <td>1.0</td>\n",
       "      <td>0.027465</td>\n",
       "      <td>50</td>\n",
       "      <td>1</td>\n",
       "      <td>0</td>\n",
       "      <td>1</td>\n",
       "      <td>0</td>\n",
       "      <td>0</td>\n",
       "      <td>0</td>\n",
       "      <td>0</td>\n",
       "      <td>0</td>\n",
       "      <td>0</td>\n",
       "      <td>1</td>\n",
       "      <td>0</td>\n",
       "      <td>0</td>\n",
       "      <td>0</td>\n",
       "      <td>0</td>\n",
       "      <td>0</td>\n",
       "      <td>0</td>\n",
       "      <td>0</td>\n",
       "      <td>0</td>\n",
       "      <td>1</td>\n",
       "      <td>1</td>\n",
       "      <td>0</td>\n",
       "      <td>1</td>\n",
       "      <td>0.771005</td>\n",
       "      <td>-0.149548</td>\n",
       "    </tr>\n",
       "  </tbody>\n",
       "</table>\n",
       "</div>"
      ],
      "text/plain": [
       "   netgain   ratings  runtime  train  status_Married-AF-spouse  \\\n",
       "0      0.0  0.027465       40      1                         0   \n",
       "1      0.0  0.027465       35      1                         0   \n",
       "2      0.0  0.027465       40      1                         0   \n",
       "3      0.0  0.027465       40      1                         0   \n",
       "4      1.0  0.027465       50      1                         0   \n",
       "\n",
       "   status_Married-civ-spouse  status_Married-spouse-absent  \\\n",
       "0                          1                             0   \n",
       "1                          0                             0   \n",
       "2                          0                             0   \n",
       "3                          1                             0   \n",
       "4                          1                             0   \n",
       "\n",
       "   status_Never-married  status_Separated  status_Widowed  \\\n",
       "0                     0                 0               0   \n",
       "1                     1                 0               0   \n",
       "2                     1                 0               0   \n",
       "3                     0                 0               0   \n",
       "4                     0                 0               0   \n",
       "\n",
       "   industry_ClassAction  industry_Entertainment  industry_Other  \\\n",
       "0                     0                       0               0   \n",
       "1                     0                       0               0   \n",
       "2                     0                       0               0   \n",
       "3                     0                       0               0   \n",
       "4                     0                       0               1   \n",
       "\n",
       "   industry_Pharma  industry_Political  genre_Direct  genre_Drama  \\\n",
       "0                1                   0             0            0   \n",
       "1                0                   1             0            0   \n",
       "2                0                   0             0            0   \n",
       "3                1                   0             0            0   \n",
       "4                0                   0             0            0   \n",
       "\n",
       "   genre_Infomercial  genre_Other  sex_Male  airtime_Morning  \\\n",
       "0                  0            0         1                0   \n",
       "1                  0            0         1                1   \n",
       "2                  0            0         1                1   \n",
       "3                  1            0         1                0   \n",
       "4                  0            0         0                0   \n",
       "\n",
       "   airtime_Primetime  expensive_Low  expensive_Medium  moneyback_Yes  \\\n",
       "0                  0              0                 1              0   \n",
       "1                  0              1                 0              0   \n",
       "2                  0              1                 0              0   \n",
       "3                  1              1                 0              1   \n",
       "4                  1              1                 0              1   \n",
       "\n",
       "   runtime_s  ratings_s  \n",
       "0  -0.030095  -0.149548  \n",
       "1  -0.430644  -0.149548  \n",
       "2  -0.030095  -0.149548  \n",
       "3  -0.030095  -0.149548  \n",
       "4   0.771005  -0.149548  "
      ]
     },
     "execution_count": 39,
     "metadata": {},
     "output_type": "execute_result"
    }
   ],
   "source": [
    "df_train_two_onehot.head()\n"
   ]
  },
  {
   "cell_type": "code",
   "execution_count": 40,
   "metadata": {},
   "outputs": [
    {
     "data": {
      "text/html": [
       "<div>\n",
       "<style scoped>\n",
       "    .dataframe tbody tr th:only-of-type {\n",
       "        vertical-align: middle;\n",
       "    }\n",
       "\n",
       "    .dataframe tbody tr th {\n",
       "        vertical-align: top;\n",
       "    }\n",
       "\n",
       "    .dataframe thead th {\n",
       "        text-align: right;\n",
       "    }\n",
       "</style>\n",
       "<table border=\"1\" class=\"dataframe\">\n",
       "  <thead>\n",
       "    <tr style=\"text-align: right;\">\n",
       "      <th></th>\n",
       "      <th>ratings</th>\n",
       "      <th>runtime</th>\n",
       "      <th>train</th>\n",
       "      <th>status_Married-AF-spouse</th>\n",
       "      <th>status_Married-civ-spouse</th>\n",
       "      <th>status_Married-spouse-absent</th>\n",
       "      <th>status_Never-married</th>\n",
       "      <th>status_Separated</th>\n",
       "      <th>status_Widowed</th>\n",
       "      <th>industry_ClassAction</th>\n",
       "      <th>industry_Entertainment</th>\n",
       "      <th>industry_Other</th>\n",
       "      <th>industry_Pharma</th>\n",
       "      <th>industry_Political</th>\n",
       "      <th>genre_Direct</th>\n",
       "      <th>genre_Drama</th>\n",
       "      <th>genre_Infomercial</th>\n",
       "      <th>genre_Other</th>\n",
       "      <th>sex_Male</th>\n",
       "      <th>airtime_Morning</th>\n",
       "      <th>airtime_Primetime</th>\n",
       "      <th>expensive_Low</th>\n",
       "      <th>expensive_Medium</th>\n",
       "      <th>moneyback_Yes</th>\n",
       "      <th>runtime_s</th>\n",
       "      <th>ratings_s</th>\n",
       "    </tr>\n",
       "  </thead>\n",
       "  <tbody>\n",
       "    <tr>\n",
       "      <th>0</th>\n",
       "      <td>0.027465</td>\n",
       "      <td>40</td>\n",
       "      <td>0</td>\n",
       "      <td>0</td>\n",
       "      <td>0</td>\n",
       "      <td>0</td>\n",
       "      <td>1</td>\n",
       "      <td>0</td>\n",
       "      <td>0</td>\n",
       "      <td>0</td>\n",
       "      <td>1</td>\n",
       "      <td>0</td>\n",
       "      <td>0</td>\n",
       "      <td>0</td>\n",
       "      <td>0</td>\n",
       "      <td>0</td>\n",
       "      <td>1</td>\n",
       "      <td>0</td>\n",
       "      <td>0</td>\n",
       "      <td>0</td>\n",
       "      <td>1</td>\n",
       "      <td>0</td>\n",
       "      <td>0</td>\n",
       "      <td>1</td>\n",
       "      <td>-0.003967</td>\n",
       "      <td>-0.144656</td>\n",
       "    </tr>\n",
       "    <tr>\n",
       "      <th>1</th>\n",
       "      <td>0.027465</td>\n",
       "      <td>40</td>\n",
       "      <td>0</td>\n",
       "      <td>0</td>\n",
       "      <td>0</td>\n",
       "      <td>0</td>\n",
       "      <td>0</td>\n",
       "      <td>0</td>\n",
       "      <td>0</td>\n",
       "      <td>0</td>\n",
       "      <td>0</td>\n",
       "      <td>0</td>\n",
       "      <td>0</td>\n",
       "      <td>0</td>\n",
       "      <td>0</td>\n",
       "      <td>0</td>\n",
       "      <td>0</td>\n",
       "      <td>0</td>\n",
       "      <td>0</td>\n",
       "      <td>0</td>\n",
       "      <td>1</td>\n",
       "      <td>1</td>\n",
       "      <td>0</td>\n",
       "      <td>0</td>\n",
       "      <td>-0.003967</td>\n",
       "      <td>-0.144656</td>\n",
       "    </tr>\n",
       "    <tr>\n",
       "      <th>2</th>\n",
       "      <td>0.027465</td>\n",
       "      <td>40</td>\n",
       "      <td>0</td>\n",
       "      <td>0</td>\n",
       "      <td>1</td>\n",
       "      <td>0</td>\n",
       "      <td>0</td>\n",
       "      <td>0</td>\n",
       "      <td>0</td>\n",
       "      <td>0</td>\n",
       "      <td>0</td>\n",
       "      <td>0</td>\n",
       "      <td>1</td>\n",
       "      <td>0</td>\n",
       "      <td>0</td>\n",
       "      <td>0</td>\n",
       "      <td>1</td>\n",
       "      <td>0</td>\n",
       "      <td>1</td>\n",
       "      <td>0</td>\n",
       "      <td>1</td>\n",
       "      <td>0</td>\n",
       "      <td>0</td>\n",
       "      <td>0</td>\n",
       "      <td>-0.003967</td>\n",
       "      <td>-0.144656</td>\n",
       "    </tr>\n",
       "    <tr>\n",
       "      <th>3</th>\n",
       "      <td>0.027465</td>\n",
       "      <td>30</td>\n",
       "      <td>0</td>\n",
       "      <td>0</td>\n",
       "      <td>0</td>\n",
       "      <td>0</td>\n",
       "      <td>1</td>\n",
       "      <td>0</td>\n",
       "      <td>0</td>\n",
       "      <td>0</td>\n",
       "      <td>0</td>\n",
       "      <td>0</td>\n",
       "      <td>0</td>\n",
       "      <td>0</td>\n",
       "      <td>0</td>\n",
       "      <td>0</td>\n",
       "      <td>0</td>\n",
       "      <td>0</td>\n",
       "      <td>1</td>\n",
       "      <td>0</td>\n",
       "      <td>1</td>\n",
       "      <td>0</td>\n",
       "      <td>0</td>\n",
       "      <td>1</td>\n",
       "      <td>-0.806205</td>\n",
       "      <td>-0.144656</td>\n",
       "    </tr>\n",
       "    <tr>\n",
       "      <th>4</th>\n",
       "      <td>0.027465</td>\n",
       "      <td>70</td>\n",
       "      <td>0</td>\n",
       "      <td>0</td>\n",
       "      <td>0</td>\n",
       "      <td>0</td>\n",
       "      <td>1</td>\n",
       "      <td>0</td>\n",
       "      <td>0</td>\n",
       "      <td>0</td>\n",
       "      <td>0</td>\n",
       "      <td>0</td>\n",
       "      <td>0</td>\n",
       "      <td>1</td>\n",
       "      <td>0</td>\n",
       "      <td>0</td>\n",
       "      <td>0</td>\n",
       "      <td>0</td>\n",
       "      <td>1</td>\n",
       "      <td>1</td>\n",
       "      <td>0</td>\n",
       "      <td>1</td>\n",
       "      <td>0</td>\n",
       "      <td>0</td>\n",
       "      <td>2.402748</td>\n",
       "      <td>-0.144656</td>\n",
       "    </tr>\n",
       "  </tbody>\n",
       "</table>\n",
       "</div>"
      ],
      "text/plain": [
       "    ratings  runtime  train  status_Married-AF-spouse  \\\n",
       "0  0.027465       40      0                         0   \n",
       "1  0.027465       40      0                         0   \n",
       "2  0.027465       40      0                         0   \n",
       "3  0.027465       30      0                         0   \n",
       "4  0.027465       70      0                         0   \n",
       "\n",
       "   status_Married-civ-spouse  status_Married-spouse-absent  \\\n",
       "0                          0                             0   \n",
       "1                          0                             0   \n",
       "2                          1                             0   \n",
       "3                          0                             0   \n",
       "4                          0                             0   \n",
       "\n",
       "   status_Never-married  status_Separated  status_Widowed  \\\n",
       "0                     1                 0               0   \n",
       "1                     0                 0               0   \n",
       "2                     0                 0               0   \n",
       "3                     1                 0               0   \n",
       "4                     1                 0               0   \n",
       "\n",
       "   industry_ClassAction  industry_Entertainment  industry_Other  \\\n",
       "0                     0                       1               0   \n",
       "1                     0                       0               0   \n",
       "2                     0                       0               0   \n",
       "3                     0                       0               0   \n",
       "4                     0                       0               0   \n",
       "\n",
       "   industry_Pharma  industry_Political  genre_Direct  genre_Drama  \\\n",
       "0                0                   0             0            0   \n",
       "1                0                   0             0            0   \n",
       "2                1                   0             0            0   \n",
       "3                0                   0             0            0   \n",
       "4                0                   1             0            0   \n",
       "\n",
       "   genre_Infomercial  genre_Other  sex_Male  airtime_Morning  \\\n",
       "0                  1            0         0                0   \n",
       "1                  0            0         0                0   \n",
       "2                  1            0         1                0   \n",
       "3                  0            0         1                0   \n",
       "4                  0            0         1                1   \n",
       "\n",
       "   airtime_Primetime  expensive_Low  expensive_Medium  moneyback_Yes  \\\n",
       "0                  1              0                 0              1   \n",
       "1                  1              1                 0              0   \n",
       "2                  1              0                 0              0   \n",
       "3                  1              0                 0              1   \n",
       "4                  0              1                 0              0   \n",
       "\n",
       "   runtime_s  ratings_s  \n",
       "0  -0.003967  -0.144656  \n",
       "1  -0.003967  -0.144656  \n",
       "2  -0.003967  -0.144656  \n",
       "3  -0.806205  -0.144656  \n",
       "4   2.402748  -0.144656  "
      ]
     },
     "execution_count": 40,
     "metadata": {},
     "output_type": "execute_result"
    }
   ],
   "source": [
    "df_test_two_onehot.head()\n"
   ]
  },
  {
   "cell_type": "code",
   "execution_count": 41,
   "metadata": {},
   "outputs": [],
   "source": [
    "# drop the original features runtime ratings from both train and test "
   ]
  },
  {
   "cell_type": "code",
   "execution_count": 42,
   "metadata": {},
   "outputs": [],
   "source": [
    "df_train_two_onehot.drop(scale_cols,axis=1,inplace=True)\n",
    "df_test_two_onehot.drop(scale_cols,axis=1,inplace=True)\n"
   ]
  },
  {
   "cell_type": "code",
   "execution_count": 43,
   "metadata": {},
   "outputs": [],
   "source": [
    "# Extract X,Y again from new train dataset\n",
    "X= df_train_two_onehot.drop(\"netgain\",axis=1)\n",
    "Y=df_train_two_onehot['netgain']"
   ]
  },
  {
   "cell_type": "code",
   "execution_count": 44,
   "metadata": {},
   "outputs": [],
   "source": [
    "# Done with one hot encoding"
   ]
  },
  {
   "cell_type": "code",
   "execution_count": 45,
   "metadata": {},
   "outputs": [
    {
     "data": {
      "text/html": [
       "<div>\n",
       "<style scoped>\n",
       "    .dataframe tbody tr th:only-of-type {\n",
       "        vertical-align: middle;\n",
       "    }\n",
       "\n",
       "    .dataframe tbody tr th {\n",
       "        vertical-align: top;\n",
       "    }\n",
       "\n",
       "    .dataframe thead th {\n",
       "        text-align: right;\n",
       "    }\n",
       "</style>\n",
       "<table border=\"1\" class=\"dataframe\">\n",
       "  <thead>\n",
       "    <tr style=\"text-align: right;\">\n",
       "      <th></th>\n",
       "      <th>train</th>\n",
       "      <th>status_Married-AF-spouse</th>\n",
       "      <th>status_Married-civ-spouse</th>\n",
       "      <th>status_Married-spouse-absent</th>\n",
       "      <th>status_Never-married</th>\n",
       "      <th>status_Separated</th>\n",
       "      <th>status_Widowed</th>\n",
       "      <th>industry_ClassAction</th>\n",
       "      <th>industry_Entertainment</th>\n",
       "      <th>industry_Other</th>\n",
       "      <th>industry_Pharma</th>\n",
       "      <th>industry_Political</th>\n",
       "      <th>genre_Direct</th>\n",
       "      <th>genre_Drama</th>\n",
       "      <th>genre_Infomercial</th>\n",
       "      <th>genre_Other</th>\n",
       "      <th>sex_Male</th>\n",
       "      <th>airtime_Morning</th>\n",
       "      <th>airtime_Primetime</th>\n",
       "      <th>expensive_Low</th>\n",
       "      <th>expensive_Medium</th>\n",
       "      <th>moneyback_Yes</th>\n",
       "      <th>runtime_s</th>\n",
       "      <th>ratings_s</th>\n",
       "    </tr>\n",
       "  </thead>\n",
       "  <tbody>\n",
       "    <tr>\n",
       "      <th>0</th>\n",
       "      <td>1</td>\n",
       "      <td>0</td>\n",
       "      <td>1</td>\n",
       "      <td>0</td>\n",
       "      <td>0</td>\n",
       "      <td>0</td>\n",
       "      <td>0</td>\n",
       "      <td>0</td>\n",
       "      <td>0</td>\n",
       "      <td>0</td>\n",
       "      <td>1</td>\n",
       "      <td>0</td>\n",
       "      <td>0</td>\n",
       "      <td>0</td>\n",
       "      <td>0</td>\n",
       "      <td>0</td>\n",
       "      <td>1</td>\n",
       "      <td>0</td>\n",
       "      <td>0</td>\n",
       "      <td>0</td>\n",
       "      <td>1</td>\n",
       "      <td>0</td>\n",
       "      <td>-0.030095</td>\n",
       "      <td>-0.149548</td>\n",
       "    </tr>\n",
       "    <tr>\n",
       "      <th>1</th>\n",
       "      <td>1</td>\n",
       "      <td>0</td>\n",
       "      <td>0</td>\n",
       "      <td>0</td>\n",
       "      <td>1</td>\n",
       "      <td>0</td>\n",
       "      <td>0</td>\n",
       "      <td>0</td>\n",
       "      <td>0</td>\n",
       "      <td>0</td>\n",
       "      <td>0</td>\n",
       "      <td>1</td>\n",
       "      <td>0</td>\n",
       "      <td>0</td>\n",
       "      <td>0</td>\n",
       "      <td>0</td>\n",
       "      <td>1</td>\n",
       "      <td>1</td>\n",
       "      <td>0</td>\n",
       "      <td>1</td>\n",
       "      <td>0</td>\n",
       "      <td>0</td>\n",
       "      <td>-0.430644</td>\n",
       "      <td>-0.149548</td>\n",
       "    </tr>\n",
       "    <tr>\n",
       "      <th>2</th>\n",
       "      <td>1</td>\n",
       "      <td>0</td>\n",
       "      <td>0</td>\n",
       "      <td>0</td>\n",
       "      <td>1</td>\n",
       "      <td>0</td>\n",
       "      <td>0</td>\n",
       "      <td>0</td>\n",
       "      <td>0</td>\n",
       "      <td>0</td>\n",
       "      <td>0</td>\n",
       "      <td>0</td>\n",
       "      <td>0</td>\n",
       "      <td>0</td>\n",
       "      <td>0</td>\n",
       "      <td>0</td>\n",
       "      <td>1</td>\n",
       "      <td>1</td>\n",
       "      <td>0</td>\n",
       "      <td>1</td>\n",
       "      <td>0</td>\n",
       "      <td>0</td>\n",
       "      <td>-0.030095</td>\n",
       "      <td>-0.149548</td>\n",
       "    </tr>\n",
       "    <tr>\n",
       "      <th>3</th>\n",
       "      <td>1</td>\n",
       "      <td>0</td>\n",
       "      <td>1</td>\n",
       "      <td>0</td>\n",
       "      <td>0</td>\n",
       "      <td>0</td>\n",
       "      <td>0</td>\n",
       "      <td>0</td>\n",
       "      <td>0</td>\n",
       "      <td>0</td>\n",
       "      <td>1</td>\n",
       "      <td>0</td>\n",
       "      <td>0</td>\n",
       "      <td>0</td>\n",
       "      <td>1</td>\n",
       "      <td>0</td>\n",
       "      <td>1</td>\n",
       "      <td>0</td>\n",
       "      <td>1</td>\n",
       "      <td>1</td>\n",
       "      <td>0</td>\n",
       "      <td>1</td>\n",
       "      <td>-0.030095</td>\n",
       "      <td>-0.149548</td>\n",
       "    </tr>\n",
       "    <tr>\n",
       "      <th>4</th>\n",
       "      <td>1</td>\n",
       "      <td>0</td>\n",
       "      <td>1</td>\n",
       "      <td>0</td>\n",
       "      <td>0</td>\n",
       "      <td>0</td>\n",
       "      <td>0</td>\n",
       "      <td>0</td>\n",
       "      <td>0</td>\n",
       "      <td>1</td>\n",
       "      <td>0</td>\n",
       "      <td>0</td>\n",
       "      <td>0</td>\n",
       "      <td>0</td>\n",
       "      <td>0</td>\n",
       "      <td>0</td>\n",
       "      <td>0</td>\n",
       "      <td>0</td>\n",
       "      <td>1</td>\n",
       "      <td>1</td>\n",
       "      <td>0</td>\n",
       "      <td>1</td>\n",
       "      <td>0.771005</td>\n",
       "      <td>-0.149548</td>\n",
       "    </tr>\n",
       "  </tbody>\n",
       "</table>\n",
       "</div>"
      ],
      "text/plain": [
       "   train  status_Married-AF-spouse  status_Married-civ-spouse  \\\n",
       "0      1                         0                          1   \n",
       "1      1                         0                          0   \n",
       "2      1                         0                          0   \n",
       "3      1                         0                          1   \n",
       "4      1                         0                          1   \n",
       "\n",
       "   status_Married-spouse-absent  status_Never-married  status_Separated  \\\n",
       "0                             0                     0                 0   \n",
       "1                             0                     1                 0   \n",
       "2                             0                     1                 0   \n",
       "3                             0                     0                 0   \n",
       "4                             0                     0                 0   \n",
       "\n",
       "   status_Widowed  industry_ClassAction  industry_Entertainment  \\\n",
       "0               0                     0                       0   \n",
       "1               0                     0                       0   \n",
       "2               0                     0                       0   \n",
       "3               0                     0                       0   \n",
       "4               0                     0                       0   \n",
       "\n",
       "   industry_Other  industry_Pharma  industry_Political  genre_Direct  \\\n",
       "0               0                1                   0             0   \n",
       "1               0                0                   1             0   \n",
       "2               0                0                   0             0   \n",
       "3               0                1                   0             0   \n",
       "4               1                0                   0             0   \n",
       "\n",
       "   genre_Drama  genre_Infomercial  genre_Other  sex_Male  airtime_Morning  \\\n",
       "0            0                  0            0         1                0   \n",
       "1            0                  0            0         1                1   \n",
       "2            0                  0            0         1                1   \n",
       "3            0                  1            0         1                0   \n",
       "4            0                  0            0         0                0   \n",
       "\n",
       "   airtime_Primetime  expensive_Low  expensive_Medium  moneyback_Yes  \\\n",
       "0                  0              0                 1              0   \n",
       "1                  0              1                 0              0   \n",
       "2                  0              1                 0              0   \n",
       "3                  1              1                 0              1   \n",
       "4                  1              1                 0              1   \n",
       "\n",
       "   runtime_s  ratings_s  \n",
       "0  -0.030095  -0.149548  \n",
       "1  -0.430644  -0.149548  \n",
       "2  -0.030095  -0.149548  \n",
       "3  -0.030095  -0.149548  \n",
       "4   0.771005  -0.149548  "
      ]
     },
     "execution_count": 45,
     "metadata": {},
     "output_type": "execute_result"
    }
   ],
   "source": [
    "X.head()"
   ]
  },
  {
   "cell_type": "code",
   "execution_count": null,
   "metadata": {},
   "outputs": [],
   "source": []
  },
  {
   "cell_type": "code",
   "execution_count": 46,
   "metadata": {},
   "outputs": [],
   "source": [
    "#Drop the original features"
   ]
  },
  {
   "cell_type": "code",
   "execution_count": 47,
   "metadata": {},
   "outputs": [],
   "source": [
    "X_train, X_test, Y_train, Y_test = train_test_split(X, Y, test_size = 0.3, random_state = 0) #same variable X,Y "
   ]
  },
  {
   "cell_type": "markdown",
   "metadata": {},
   "source": [
    "# Option 1 -  Fit a vanilla Logistic Regression model on the training set and predict on the test set and plot the confusion matrix, accuracy, precision, recall and F1_score for the predicted mode"
   ]
  },
  {
   "cell_type": "code",
   "execution_count": 48,
   "metadata": {},
   "outputs": [],
   "source": [
    "from sklearn.metrics import accuracy_score\n",
    "from sklearn.metrics import precision_score, recall_score, confusion_matrix,classification_report\n",
    "from sklearn.metrics import f1_score, roc_auc_score, roc_curve"
   ]
  },
  {
   "cell_type": "code",
   "execution_count": 49,
   "metadata": {},
   "outputs": [
    {
     "name": "stdout",
     "output_type": "stream",
     "text": [
      "('Accuracy = ', 0.8065176591025423)\n",
      "('Precision = ', 0.7080838323353293)\n",
      "('Recall = ', 0.334985835694051)\n",
      "('F1 Score = ', 0.45480769230769236)\n"
     ]
    },
    {
     "data": {
      "text/html": [
       "<div>\n",
       "<style scoped>\n",
       "    .dataframe tbody tr th:only-of-type {\n",
       "        vertical-align: middle;\n",
       "    }\n",
       "\n",
       "    .dataframe tbody tr th {\n",
       "        vertical-align: top;\n",
       "    }\n",
       "\n",
       "    .dataframe thead th {\n",
       "        text-align: right;\n",
       "    }\n",
       "</style>\n",
       "<table border=\"1\" class=\"dataframe\">\n",
       "  <thead>\n",
       "    <tr style=\"text-align: right;\">\n",
       "      <th>Actual</th>\n",
       "      <th>0.0</th>\n",
       "      <th>1.0</th>\n",
       "    </tr>\n",
       "    <tr>\n",
       "      <th>Predicted</th>\n",
       "      <th></th>\n",
       "      <th></th>\n",
       "    </tr>\n",
       "  </thead>\n",
       "  <tbody>\n",
       "    <tr>\n",
       "      <th>0.0</th>\n",
       "      <td>4254</td>\n",
       "      <td>939</td>\n",
       "    </tr>\n",
       "    <tr>\n",
       "      <th>1.0</th>\n",
       "      <td>195</td>\n",
       "      <td>473</td>\n",
       "    </tr>\n",
       "  </tbody>\n",
       "</table>\n",
       "</div>"
      ],
      "text/plain": [
       "Actual      0.0  1.0\n",
       "Predicted           \n",
       "0.0        4254  939\n",
       "1.0         195  473"
      ]
     },
     "execution_count": 49,
     "metadata": {},
     "output_type": "execute_result"
    }
   ],
   "source": [
    "clf = LogisticRegression().fit(X_train, Y_train)\n",
    "\n",
    "Y_test_pred = clf.predict(X_test)\n",
    "\n",
    "print(\"Accuracy = \" , accuracy_score(Y_test, Y_test_pred))\n",
    "print(\"Precision = \" ,precision_score(Y_test, Y_test_pred))\n",
    "print(\"Recall = \" ,recall_score(Y_test, Y_test_pred))\n",
    "print(\"F1 Score = \" ,f1_score(Y_test, Y_test_pred))\n",
    "\n",
    "pd.crosstab(Y_test_pred, Y_test, rownames=['Predicted'], colnames=['Actual'])"
   ]
  },
  {
   "cell_type": "code",
   "execution_count": 50,
   "metadata": {},
   "outputs": [],
   "source": [
    "#The recall is low and this is because from the matrix above, we can see that the False Negatives are too many in the data\n",
    "# this is becuase of higly imbalanced data\n",
    "# lets use 'weighted_class'"
   ]
  },
  {
   "cell_type": "code",
   "execution_count": 51,
   "metadata": {},
   "outputs": [
    {
     "name": "stdout",
     "output_type": "stream",
     "text": [
      "('Accuracy = ', 0.7652277768298925)\n",
      "('Precision = ', 0.5076077768385461)\n",
      "('Recall = ', 0.8505665722379604)\n",
      "('F1 Score = ', 0.6357861302276338)\n"
     ]
    },
    {
     "data": {
      "text/html": [
       "<div>\n",
       "<style scoped>\n",
       "    .dataframe tbody tr th:only-of-type {\n",
       "        vertical-align: middle;\n",
       "    }\n",
       "\n",
       "    .dataframe tbody tr th {\n",
       "        vertical-align: top;\n",
       "    }\n",
       "\n",
       "    .dataframe thead th {\n",
       "        text-align: right;\n",
       "    }\n",
       "</style>\n",
       "<table border=\"1\" class=\"dataframe\">\n",
       "  <thead>\n",
       "    <tr style=\"text-align: right;\">\n",
       "      <th>Actual</th>\n",
       "      <th>0.0</th>\n",
       "      <th>1.0</th>\n",
       "    </tr>\n",
       "    <tr>\n",
       "      <th>Predicted</th>\n",
       "      <th></th>\n",
       "      <th></th>\n",
       "    </tr>\n",
       "  </thead>\n",
       "  <tbody>\n",
       "    <tr>\n",
       "      <th>0.0</th>\n",
       "      <td>3284</td>\n",
       "      <td>211</td>\n",
       "    </tr>\n",
       "    <tr>\n",
       "      <th>1.0</th>\n",
       "      <td>1165</td>\n",
       "      <td>1201</td>\n",
       "    </tr>\n",
       "  </tbody>\n",
       "</table>\n",
       "</div>"
      ],
      "text/plain": [
       "Actual      0.0   1.0\n",
       "Predicted            \n",
       "0.0        3284   211\n",
       "1.0        1165  1201"
      ]
     },
     "execution_count": 51,
     "metadata": {},
     "output_type": "execute_result"
    }
   ],
   "source": [
    "clf = LogisticRegression(class_weight='balanced').fit(X_train, Y_train)\n",
    "\n",
    "Y_test_pred_balanced = clf.predict(X_test)\n",
    "\n",
    "print(\"Accuracy = \" , accuracy_score(Y_test, Y_test_pred_balanced))\n",
    "print(\"Precision = \" ,precision_score(Y_test, Y_test_pred_balanced))\n",
    "print(\"Recall = \" ,recall_score(Y_test, Y_test_pred_balanced))\n",
    "print(\"F1 Score = \" ,f1_score(Y_test, Y_test_pred_balanced))\n",
    "\n",
    "pd.crosstab(Y_test_pred_balanced, Y_test, rownames=['Predicted'], colnames=['Actual'])\n"
   ]
  },
  {
   "cell_type": "markdown",
   "metadata": {},
   "source": [
    "# We see ther is large jump in the F1 score - from 0.45 to 0.63\n",
    "# We will continue to use other methods as well to remove imbalance - mainly oversampling techniques\n"
   ]
  },
  {
   "cell_type": "code",
   "execution_count": 52,
   "metadata": {},
   "outputs": [],
   "source": [
    "from imblearn.over_sampling import RandomOverSampler"
   ]
  },
  {
   "cell_type": "code",
   "execution_count": 53,
   "metadata": {
    "scrolled": true
   },
   "outputs": [
    {
     "name": "stdout",
     "output_type": "stream",
     "text": [
      "('Accuracy = ', 0.7660808735710629)\n",
      "('Precision = ', 0.5086974968179889)\n",
      "('Recall = ', 0.8491501416430595)\n",
      "('F1 Score = ', 0.6362430352878746)\n"
     ]
    },
    {
     "data": {
      "text/html": [
       "<div>\n",
       "<style scoped>\n",
       "    .dataframe tbody tr th:only-of-type {\n",
       "        vertical-align: middle;\n",
       "    }\n",
       "\n",
       "    .dataframe tbody tr th {\n",
       "        vertical-align: top;\n",
       "    }\n",
       "\n",
       "    .dataframe thead th {\n",
       "        text-align: right;\n",
       "    }\n",
       "</style>\n",
       "<table border=\"1\" class=\"dataframe\">\n",
       "  <thead>\n",
       "    <tr style=\"text-align: right;\">\n",
       "      <th>Actual</th>\n",
       "      <th>0.0</th>\n",
       "      <th>1.0</th>\n",
       "    </tr>\n",
       "    <tr>\n",
       "      <th>Predicted</th>\n",
       "      <th></th>\n",
       "      <th></th>\n",
       "    </tr>\n",
       "  </thead>\n",
       "  <tbody>\n",
       "    <tr>\n",
       "      <th>0.0</th>\n",
       "      <td>3291</td>\n",
       "      <td>213</td>\n",
       "    </tr>\n",
       "    <tr>\n",
       "      <th>1.0</th>\n",
       "      <td>1158</td>\n",
       "      <td>1199</td>\n",
       "    </tr>\n",
       "  </tbody>\n",
       "</table>\n",
       "</div>"
      ],
      "text/plain": [
       "Actual      0.0   1.0\n",
       "Predicted            \n",
       "0.0        3291   213\n",
       "1.0        1158  1199"
      ]
     },
     "execution_count": 53,
     "metadata": {},
     "output_type": "execute_result"
    },
    {
     "data": {
      "image/png": "[encoded data removed]",
      "text/plain": [
       "<Figure size 432x288 with 1 Axes>"
      ]
     },
     "metadata": {},
     "output_type": "display_data"
    }
   ],
   "source": [
    "#Perform Random Oversampling on the train data \n",
    "ros = RandomOverSampler(random_state=0)\n",
    "\n",
    "#Sample the train data using random over sampling method\n",
    "X_sample_2, y_sample_2 = ros.fit_sample(X_train, Y_train)\n",
    "\n",
    "# Using a countplot \n",
    "sns.countplot(y_sample_2)\n",
    "\n",
    "#Initialising a logsitic regression model\n",
    "model_ros = LogisticRegression()\n",
    "\n",
    "#Fitting the model with train data\n",
    "model_ros.fit(X_sample_2, y_sample_2)\n",
    "\n",
    "#Making predictions of the train data\n",
    "Y_pred=model_ros.predict(X_test)\n",
    "\n",
    "# Calculating the necessary metrics\n",
    "print(\"Accuracy = \" , accuracy_score(Y_test, Y_pred))\n",
    "print(\"Precision = \" ,precision_score(Y_test, Y_pred))\n",
    "print(\"Recall = \" ,recall_score(Y_test, Y_pred))\n",
    "print(\"F1 Score = \" ,f1_score(Y_test, Y_pred))\n",
    "\n",
    "#Finding the confusion matrix \n",
    "pd.crosstab(Y_pred, Y_test, rownames=['Predicted'], colnames=['Actual'])"
   ]
  },
  {
   "cell_type": "code",
   "execution_count": 54,
   "metadata": {},
   "outputs": [],
   "source": [
    "# We see marginal increase\n",
    "# lets try out SMOTE"
   ]
  },
  {
   "cell_type": "code",
   "execution_count": 55,
   "metadata": {},
   "outputs": [],
   "source": [
    "from imblearn.over_sampling import SMOTE"
   ]
  },
  {
   "cell_type": "code",
   "execution_count": 56,
   "metadata": {
    "scrolled": true
   },
   "outputs": [
    {
     "name": "stderr",
     "output_type": "stream",
     "text": [
      "D:\\Anaconda2\\lib\\site-packages\\sklearn\\utils\\deprecation.py:77: DeprecationWarning: Function _ratio_float is deprecated; Use a float for 'ratio' is deprecated from version 0.2. The support will be removed in 0.4. Use a dict, str, or a callable instead.\n",
      "  warnings.warn(msg, category=DeprecationWarning)\n"
     ]
    },
    {
     "name": "stdout",
     "output_type": "stream",
     "text": [
      "('Accuracy:', 0.7669339703122334)\n",
      "('recall:', 0.8441926345609065)\n",
      "('precision:', 0.5098374679213002)\n",
      "('f1_score:', 0.6357333333333334)\n"
     ]
    },
    {
     "data": {
      "text/html": [
       "<div>\n",
       "<style scoped>\n",
       "    .dataframe tbody tr th:only-of-type {\n",
       "        vertical-align: middle;\n",
       "    }\n",
       "\n",
       "    .dataframe tbody tr th {\n",
       "        vertical-align: top;\n",
       "    }\n",
       "\n",
       "    .dataframe thead th {\n",
       "        text-align: right;\n",
       "    }\n",
       "</style>\n",
       "<table border=\"1\" class=\"dataframe\">\n",
       "  <thead>\n",
       "    <tr style=\"text-align: right;\">\n",
       "      <th>Actual</th>\n",
       "      <th>0.0</th>\n",
       "      <th>1.0</th>\n",
       "    </tr>\n",
       "    <tr>\n",
       "      <th>Predicted</th>\n",
       "      <th></th>\n",
       "      <th></th>\n",
       "    </tr>\n",
       "  </thead>\n",
       "  <tbody>\n",
       "    <tr>\n",
       "      <th>0.0</th>\n",
       "      <td>3303</td>\n",
       "      <td>220</td>\n",
       "    </tr>\n",
       "    <tr>\n",
       "      <th>1.0</th>\n",
       "      <td>1146</td>\n",
       "      <td>1192</td>\n",
       "    </tr>\n",
       "  </tbody>\n",
       "</table>\n",
       "</div>"
      ],
      "text/plain": [
       "Actual      0.0   1.0\n",
       "Predicted            \n",
       "0.0        3303   220\n",
       "1.0        1146  1192"
      ]
     },
     "execution_count": 56,
     "metadata": {},
     "output_type": "execute_result"
    },
    {
     "data": {
      "image/png": "[encoded data removed]",
      "text/plain": [
       "<Figure size 432x288 with 1 Axes>"
      ]
     },
     "metadata": {},
     "output_type": "display_data"
    }
   ],
   "source": [
    "#Initialising a SMOTE object\n",
    "smote = SMOTE(random_state=12,ratio=1.0)\n",
    "\n",
    "#Sampling the data using SMOTE\n",
    "X_sample_3, y_sample_3 = smote.fit_sample(X_train, Y_train)\n",
    "\n",
    "# Using a countplot plot the distribution of y_sample_3\n",
    "sns.countplot(y_sample_3)\n",
    "\n",
    "#Initialising Logistic Regression model\n",
    "###model_smote = LogisticRegression()\n",
    "\n",
    "####################NEW\n",
    "grid={\"C\":np.logspace(-3,3,7), \"penalty\":[\"l1\",\"l2\"]}# l1 lasso l2 ridge\n",
    "logreg=LogisticRegression()\n",
    "logreg_cv=GridSearchCV(logreg,grid,cv=10)\n",
    "\n",
    "\n",
    "############################\n",
    "#Fitting the model on train data\n",
    "##################model_smote.fit(X_sample_3, y_sample_3)\n",
    "logreg_cv.fit(X_sample_3, y_sample_3)\n",
    "#Making predictions on test data\n",
    "#############Y_pred=model_smote.predict(X_test)\n",
    "Y_pred=logreg_cv.predict(X_test)\n",
    "#Finding the accuracy score \n",
    "\n",
    "###accuracy_smote=model_smote.score(X_test,Y_test)\n",
    "###print(\"Accuracy:\",accuracy_smote)       \n",
    "\n",
    "accuracy_smote=logreg_cv.score(X_test,Y_test)\n",
    "print(\"Accuracy:\",accuracy_smote)       \n",
    "\n",
    "\n",
    "#Finding the recall score\n",
    "recall_smote=recall_score(Y_test, Y_pred)\n",
    "print (\"recall:\",recall_smote)\n",
    "\n",
    "\n",
    "\n",
    "#Finding the precision score\n",
    "precision_smote=precision_score(Y_test, Y_pred)\n",
    "print (\"precision:\",precision_smote)\n",
    "\n",
    "#Finding the f1 score\n",
    "f1_smote=f1_score(Y_test, Y_pred)\n",
    "print (\"f1_score:\", f1_smote)\n",
    "\n",
    "#Finding the confusion matrix\n",
    "pd.crosstab(Y_pred,Y_test, rownames=['Predicted'], colnames=['Actual'])"
   ]
  },
  {
   "cell_type": "code",
   "execution_count": 57,
   "metadata": {},
   "outputs": [],
   "source": [
    "# TRY other models as well\n",
    "# Try fitting KNN with different neighbors"
   ]
  },
  {
   "cell_type": "code",
   "execution_count": 58,
   "metadata": {},
   "outputs": [],
   "source": [
    "# creata first submission file - submission1"
   ]
  },
  {
   "cell_type": "code",
   "execution_count": 59,
   "metadata": {},
   "outputs": [],
   "source": [
    "#Y_predict_sub=model_smote.predict(df_test_two_onehot)\n",
    "\n",
    "Y_predict_sub=logreg_cv.predict(df_test_two_onehot)"
   ]
  },
  {
   "cell_type": "code",
   "execution_count": 60,
   "metadata": {},
   "outputs": [],
   "source": [
    "submission = pd.DataFrame(Y_predict_sub,columns=['netgain'])\n",
    "#submission = pd.concat([Id,prediction['y']],1)\n",
    "\n",
    "#submission.to_csv('../data/submission.csv',index=False)\n",
    "submission.to_csv('../data/submissionGLR.csv',index=False)"
   ]
  },
  {
   "cell_type": "code",
   "execution_count": 61,
   "metadata": {},
   "outputs": [],
   "source": [
    "# end submission file"
   ]
  },
  {
   "cell_type": "code",
   "execution_count": 62,
   "metadata": {},
   "outputs": [],
   "source": [
    "#TRY KNN"
   ]
  },
  {
   "cell_type": "code",
   "execution_count": 63,
   "metadata": {},
   "outputs": [
    {
     "name": "stdout",
     "output_type": "stream",
     "text": [
      "('Accuracy:', 0.7643746800887221)\n",
      "('recall:', 0.7358356940509915)\n",
      "('precision:', 0.5075720566682951)\n",
      "('f1_score:', 0.6007516623301532)\n"
     ]
    },
    {
     "data": {
      "text/html": [
       "<div>\n",
       "<style scoped>\n",
       "    .dataframe tbody tr th:only-of-type {\n",
       "        vertical-align: middle;\n",
       "    }\n",
       "\n",
       "    .dataframe tbody tr th {\n",
       "        vertical-align: top;\n",
       "    }\n",
       "\n",
       "    .dataframe thead th {\n",
       "        text-align: right;\n",
       "    }\n",
       "</style>\n",
       "<table border=\"1\" class=\"dataframe\">\n",
       "  <thead>\n",
       "    <tr style=\"text-align: right;\">\n",
       "      <th>Actual</th>\n",
       "      <th>0.0</th>\n",
       "      <th>1.0</th>\n",
       "    </tr>\n",
       "    <tr>\n",
       "      <th>Predicted</th>\n",
       "      <th></th>\n",
       "      <th></th>\n",
       "    </tr>\n",
       "  </thead>\n",
       "  <tbody>\n",
       "    <tr>\n",
       "      <th>0.0</th>\n",
       "      <td>3441</td>\n",
       "      <td>373</td>\n",
       "    </tr>\n",
       "    <tr>\n",
       "      <th>1.0</th>\n",
       "      <td>1008</td>\n",
       "      <td>1039</td>\n",
       "    </tr>\n",
       "  </tbody>\n",
       "</table>\n",
       "</div>"
      ],
      "text/plain": [
       "Actual      0.0   1.0\n",
       "Predicted            \n",
       "0.0        3441   373\n",
       "1.0        1008  1039"
      ]
     },
     "execution_count": 63,
     "metadata": {},
     "output_type": "execute_result"
    }
   ],
   "source": [
    "from sklearn.neighbors import KNeighborsClassifier\n",
    "scores = []\n",
    "for i in range(1,690):#optimal value\n",
    "  knn = KNeighborsClassifier(n_neighbors=i,metric='manhattan',weights='uniform')#, ‘manhattan’, ‘minkowski’#  knn.fit(X_sample_3,y_sample_3)\n",
    "\n",
    "    #  y_pred = knn.predict(X_test)\n",
    "#  scores.append(accuracy_score(Y_pred,Y_test))\n",
    "\n",
    "\n",
    "#Fitting the model on train data\n",
    "knn.fit(X_sample_3, y_sample_3)\n",
    "\n",
    "#Making predictions on test data\n",
    "Y_pred=knn.predict(X_test)\n",
    "\n",
    "#Finding the accuracy score \n",
    "accuracy_smote=knn.score(X_test,Y_test)\n",
    "print(\"Accuracy:\",accuracy_smote)       \n",
    "\n",
    "\n",
    "#Finding the recall score\n",
    "recall_smote=recall_score(Y_test, Y_pred)\n",
    "print (\"recall:\",recall_smote)\n",
    "\n",
    "#Finding the precision score\n",
    "precision_smote=precision_score(Y_test, Y_pred)\n",
    "print (\"precision:\",precision_smote)\n",
    "\n",
    "#Finding the f1 score\n",
    "f1_smote=f1_score(Y_test, Y_pred)\n",
    "print (\"f1_score:\", f1_smote)\n",
    "\n",
    "#Finding the confusion matrix\n",
    "pd.crosstab(Y_pred,Y_test, rownames=['Predicted'], colnames=['Actual'])\n",
    "    "
   ]
  },
  {
   "cell_type": "code",
   "execution_count": 64,
   "metadata": {},
   "outputs": [],
   "source": [
    "Y_predict_sub=knn.predict(df_test_two_onehot)\n",
    "\n",
    "submission = pd.DataFrame(Y_predict_sub,columns=['netgain'])\n",
    "#submission = pd.concat([Id,prediction['y']],1)\n",
    "\n",
    "submission.to_csv('../data/submissionknn.csv',index=False)"
   ]
  },
  {
   "cell_type": "code",
   "execution_count": 65,
   "metadata": {},
   "outputs": [],
   "source": [
    "# lets try class_weight='balanced' with LR and SMOTE -- combine both aspects"
   ]
  },
  {
   "cell_type": "code",
   "execution_count": 66,
   "metadata": {},
   "outputs": [
    {
     "name": "stdout",
     "output_type": "stream",
     "text": [
      "('Accuracy:', 0.7667633509639993)\n",
      "('recall:', 0.8441926345609065)\n",
      "('precision:', 0.5096194955109021)\n",
      "('f1_score:', 0.635563849640096)\n"
     ]
    },
    {
     "data": {
      "text/html": [
       "<div>\n",
       "<style scoped>\n",
       "    .dataframe tbody tr th:only-of-type {\n",
       "        vertical-align: middle;\n",
       "    }\n",
       "\n",
       "    .dataframe tbody tr th {\n",
       "        vertical-align: top;\n",
       "    }\n",
       "\n",
       "    .dataframe thead th {\n",
       "        text-align: right;\n",
       "    }\n",
       "</style>\n",
       "<table border=\"1\" class=\"dataframe\">\n",
       "  <thead>\n",
       "    <tr style=\"text-align: right;\">\n",
       "      <th>Actual</th>\n",
       "      <th>0.0</th>\n",
       "      <th>1.0</th>\n",
       "    </tr>\n",
       "    <tr>\n",
       "      <th>Predicted</th>\n",
       "      <th></th>\n",
       "      <th></th>\n",
       "    </tr>\n",
       "  </thead>\n",
       "  <tbody>\n",
       "    <tr>\n",
       "      <th>0.0</th>\n",
       "      <td>3302</td>\n",
       "      <td>220</td>\n",
       "    </tr>\n",
       "    <tr>\n",
       "      <th>1.0</th>\n",
       "      <td>1147</td>\n",
       "      <td>1192</td>\n",
       "    </tr>\n",
       "  </tbody>\n",
       "</table>\n",
       "</div>"
      ],
      "text/plain": [
       "Actual      0.0   1.0\n",
       "Predicted            \n",
       "0.0        3302   220\n",
       "1.0        1147  1192"
      ]
     },
     "execution_count": 66,
     "metadata": {},
     "output_type": "execute_result"
    }
   ],
   "source": [
    "\n",
    "LR_smote=LogisticRegression(class_weight='balanced')\n",
    "\n",
    "#Fitting the model on train data\n",
    "LR_smote.fit(X_sample_3, y_sample_3)\n",
    "\n",
    "#Making predictions on test data\n",
    "Y_pred=LR_smote.predict(X_test)\n",
    "\n",
    "#Finding the accuracy score \n",
    "accuracy_smote=LR_smote.score(X_test,Y_test)\n",
    "print(\"Accuracy:\",accuracy_smote)       \n",
    "\n",
    "\n",
    "#Finding the recall score\n",
    "recall_smote=recall_score(Y_test, Y_pred)\n",
    "print (\"recall:\",recall_smote)\n",
    "\n",
    "#Finding the precision score\n",
    "precision_smote=precision_score(Y_test, Y_pred)\n",
    "print (\"precision:\",precision_smote)\n",
    "\n",
    "#Finding the f1 score\n",
    "f1_smote=f1_score(Y_test, Y_pred)\n",
    "print (\"f1_score:\", f1_smote)\n",
    "\n",
    "#Finding the confusion matrix\n",
    "pd.crosstab(Y_pred,Y_test, rownames=['Predicted'], colnames=['Actual'])\n"
   ]
  },
  {
   "cell_type": "code",
   "execution_count": 67,
   "metadata": {},
   "outputs": [],
   "source": [
    "## RandomForest classifier with SMOTE"
   ]
  },
  {
   "cell_type": "code",
   "execution_count": 68,
   "metadata": {},
   "outputs": [],
   "source": [
    "# submission2"
   ]
  },
  {
   "cell_type": "code",
   "execution_count": 69,
   "metadata": {},
   "outputs": [],
   "source": [
    "Y_predict_sub=LR_smote.predict(df_test_two_onehot)\n",
    "\n",
    "submission = pd.DataFrame(Y_predict_sub,columns=['netgain'])\n",
    "#submission = pd.concat([Id,prediction['y']],1)\n",
    "\n",
    "submission.to_csv('../data/submission2.csv',index=False)\n"
   ]
  },
  {
   "cell_type": "code",
   "execution_count": 70,
   "metadata": {},
   "outputs": [],
   "source": [
    "from sklearn.ensemble import RandomForestClassifier\n"
   ]
  },
  {
   "cell_type": "code",
   "execution_count": 71,
   "metadata": {},
   "outputs": [],
   "source": [
    "rf_c = RandomForestClassifier(n_estimators = 600, random_state = 0)"
   ]
  },
  {
   "cell_type": "code",
   "execution_count": 72,
   "metadata": {
    "scrolled": true
   },
   "outputs": [
    {
     "name": "stdout",
     "output_type": "stream",
     "text": [
      "('Accuracy:', 0.773758744241597)\n",
      "('recall:', 0.7620396600566572)\n",
      "('precision:', 0.5208131655372701)\n",
      "('f1_score:', 0.6187464059804486)\n"
     ]
    },
    {
     "data": {
      "text/html": [
       "<div>\n",
       "<style scoped>\n",
       "    .dataframe tbody tr th:only-of-type {\n",
       "        vertical-align: middle;\n",
       "    }\n",
       "\n",
       "    .dataframe tbody tr th {\n",
       "        vertical-align: top;\n",
       "    }\n",
       "\n",
       "    .dataframe thead th {\n",
       "        text-align: right;\n",
       "    }\n",
       "</style>\n",
       "<table border=\"1\" class=\"dataframe\">\n",
       "  <thead>\n",
       "    <tr style=\"text-align: right;\">\n",
       "      <th>Actual</th>\n",
       "      <th>0.0</th>\n",
       "      <th>1.0</th>\n",
       "    </tr>\n",
       "    <tr>\n",
       "      <th>Predicted</th>\n",
       "      <th></th>\n",
       "      <th></th>\n",
       "    </tr>\n",
       "  </thead>\n",
       "  <tbody>\n",
       "    <tr>\n",
       "      <th>0.0</th>\n",
       "      <td>3459</td>\n",
       "      <td>336</td>\n",
       "    </tr>\n",
       "    <tr>\n",
       "      <th>1.0</th>\n",
       "      <td>990</td>\n",
       "      <td>1076</td>\n",
       "    </tr>\n",
       "  </tbody>\n",
       "</table>\n",
       "</div>"
      ],
      "text/plain": [
       "Actual      0.0   1.0\n",
       "Predicted            \n",
       "0.0        3459   336\n",
       "1.0         990  1076"
      ]
     },
     "execution_count": 72,
     "metadata": {},
     "output_type": "execute_result"
    }
   ],
   "source": [
    "#Fitting the model on train data\n",
    "rf_c.fit(X_sample_3, y_sample_3)\n",
    "\n",
    "#Making predictions on test data\n",
    "Y_pred=rf_c.predict(X_test)\n",
    "\n",
    "#Finding the accuracy score \n",
    "accuracy_smote=rf_c.score(X_test,Y_test)\n",
    "print(\"Accuracy:\",accuracy_smote)       \n",
    "\n",
    "\n",
    "#Finding the recall score\n",
    "recall_smote=recall_score(Y_test, Y_pred)\n",
    "print (\"recall:\",recall_smote)\n",
    "\n",
    "#Finding the precision score\n",
    "precision_smote=precision_score(Y_test, Y_pred)\n",
    "print (\"precision:\",precision_smote)\n",
    "\n",
    "#Finding the f1 score\n",
    "f1_smote=f1_score(Y_test, Y_pred)\n",
    "print (\"f1_score:\", f1_smote)\n",
    "\n",
    "#Finding the confusion matrix\n",
    "pd.crosstab(Y_pred,Y_test, rownames=['Predicted'], colnames=['Actual'])"
   ]
  },
  {
   "cell_type": "code",
   "execution_count": 73,
   "metadata": {},
   "outputs": [],
   "source": [
    "# SVC classifier with SMOTE"
   ]
  },
  {
   "cell_type": "code",
   "execution_count": 74,
   "metadata": {},
   "outputs": [],
   "source": [
    "Y_predict_sub=rf_c.predict(df_test_two_onehot)\n",
    "\n",
    "submission = pd.DataFrame(Y_predict_sub,columns=['netgain'])\n",
    "#submission = pd.concat([Id,prediction['y']],1)\n",
    "\n",
    "submission.to_csv('../data/submission3.csv',index=False)\n"
   ]
  },
  {
   "cell_type": "code",
   "execution_count": 75,
   "metadata": {},
   "outputs": [],
   "source": [
    "from sklearn.svm import SVC"
   ]
  },
  {
   "cell_type": "code",
   "execution_count": 76,
   "metadata": {},
   "outputs": [],
   "source": [
    "# kernels = ['linear', 'poly', 'rbf', 'sigmoid']\n",
    "#svc_p = SVC(kernel = 'poly',degree=3)\n",
    "svc_p = SVC(kernel = 'rbf', class_weight='balanced',C=3,tol=0.001) #gamma='auto',class_weight='balanced')\n",
    "##param_grid = {'C': [0.1, 1, 10, 100, 1000],  \n",
    "           #   'gamma': [1, 0.1, 0.01, 0.001, 0.0001], \n",
    "  ##            'kernel': ['rbf'],\n",
    "   ##            'class_weight':['balanced']}"
   ]
  },
  {
   "cell_type": "code",
   "execution_count": 77,
   "metadata": {},
   "outputs": [],
   "source": [
    "##grid = GridSearchCV(SVC(), param_grid, refit = True)"
   ]
  },
  {
   "cell_type": "code",
   "execution_count": 78,
   "metadata": {
    "scrolled": true
   },
   "outputs": [
    {
     "name": "stdout",
     "output_type": "stream",
     "text": [
      "('Accuracy:', 0.7595973383381676)\n",
      "('recall:', 0.8470254957507082)\n",
      "('precision:', 0.5006278777731268)\n",
      "('f1_score:', 0.6293080768218889)\n"
     ]
    },
    {
     "data": {
      "text/html": [
       "<div>\n",
       "<style scoped>\n",
       "    .dataframe tbody tr th:only-of-type {\n",
       "        vertical-align: middle;\n",
       "    }\n",
       "\n",
       "    .dataframe tbody tr th {\n",
       "        vertical-align: top;\n",
       "    }\n",
       "\n",
       "    .dataframe thead th {\n",
       "        text-align: right;\n",
       "    }\n",
       "</style>\n",
       "<table border=\"1\" class=\"dataframe\">\n",
       "  <thead>\n",
       "    <tr style=\"text-align: right;\">\n",
       "      <th>Actual</th>\n",
       "      <th>0.0</th>\n",
       "      <th>1.0</th>\n",
       "    </tr>\n",
       "    <tr>\n",
       "      <th>Predicted</th>\n",
       "      <th></th>\n",
       "      <th></th>\n",
       "    </tr>\n",
       "  </thead>\n",
       "  <tbody>\n",
       "    <tr>\n",
       "      <th>0.0</th>\n",
       "      <td>3256</td>\n",
       "      <td>216</td>\n",
       "    </tr>\n",
       "    <tr>\n",
       "      <th>1.0</th>\n",
       "      <td>1193</td>\n",
       "      <td>1196</td>\n",
       "    </tr>\n",
       "  </tbody>\n",
       "</table>\n",
       "</div>"
      ],
      "text/plain": [
       "Actual      0.0   1.0\n",
       "Predicted            \n",
       "0.0        3256   216\n",
       "1.0        1193  1196"
      ]
     },
     "execution_count": 78,
     "metadata": {},
     "output_type": "execute_result"
    }
   ],
   "source": [
    "#Fitting the model on train data\n",
    "svc_p.fit(X_sample_3, y_sample_3)\n",
    "\n",
    "#Making predictions on test data\n",
    "Y_pred=svc_p.predict(X_test)\n",
    "\n",
    "#Finding the accuracy score \n",
    "accuracy_smote=svc_p.score(X_test,Y_test)\n",
    "print(\"Accuracy:\",accuracy_smote)       \n",
    "\n",
    "\n",
    "#Finding the recall score\n",
    "recall_smote=recall_score(Y_test, Y_pred)\n",
    "print (\"recall:\",recall_smote)\n",
    "\n",
    "#Finding the precision score\n",
    "precision_smote=precision_score(Y_test, Y_pred)\n",
    "print (\"precision:\",precision_smote)\n",
    "\n",
    "#Finding the f1 score\n",
    "f1_smote=f1_score(Y_test, Y_pred)\n",
    "print (\"f1_score:\", f1_smote)\n",
    "\n",
    "#Finding the confusion matrix\n",
    "pd.crosstab(Y_pred,Y_test, rownames=['Predicted'], colnames=['Actual'])"
   ]
  },
  {
   "cell_type": "code",
   "execution_count": 79,
   "metadata": {},
   "outputs": [],
   "source": [
    "Y_predict_sub=svc_p.predict(df_test_two_onehot)\n",
    "\n",
    "submission = pd.DataFrame(Y_predict_sub,columns=['netgain'])\n",
    "#submission = pd.concat([Id,prediction['y']],1)\n",
    "\n",
    "submission.to_csv('../data/submission4-lasttt.csv',index=False)\n"
   ]
  },
  {
   "cell_type": "code",
   "execution_count": 81,
   "metadata": {},
   "outputs": [],
   "source": [
    "#models = [('lr',LogisticRegression()),('svm',SVC())\n",
    "#stacking = StackingClassifier(estimators=models)"
   ]
  },
  {
   "cell_type": "code",
   "execution_count": 82,
   "metadata": {
    "scrolled": true
   },
   "outputs": [],
   "source": [
    "## let try XGBOOST\n",
    "xgbc = XGBClassifier()"
   ]
  },
  {
   "cell_type": "code",
   "execution_count": 83,
   "metadata": {},
   "outputs": [],
   "source": [
    "# we are fitting with the base data only now with transformed data"
   ]
  },
  {
   "cell_type": "code",
   "execution_count": 84,
   "metadata": {},
   "outputs": [
    {
     "name": "stdout",
     "output_type": "stream",
     "text": [
      "('Accuracy:', 0.8193141102200989)\n",
      "('recall:', 0.4256373937677054)\n",
      "('precision:', 0.7078916372202592)\n",
      "('f1_score:', 0.5316231755860239)\n"
     ]
    },
    {
     "name": "stderr",
     "output_type": "stream",
     "text": [
      "D:\\Anaconda2\\lib\\site-packages\\sklearn\\preprocessing\\label.py:151: DeprecationWarning: The truth value of an empty array is ambiguous. Returning False, but in future this will result in an error. Use `array.size > 0` to check that an array is not empty.\n",
      "  if diff:\n",
      "D:\\Anaconda2\\lib\\site-packages\\sklearn\\preprocessing\\label.py:151: DeprecationWarning: The truth value of an empty array is ambiguous. Returning False, but in future this will result in an error. Use `array.size > 0` to check that an array is not empty.\n",
      "  if diff:\n"
     ]
    },
    {
     "data": {
      "text/html": [
       "<div>\n",
       "<style scoped>\n",
       "    .dataframe tbody tr th:only-of-type {\n",
       "        vertical-align: middle;\n",
       "    }\n",
       "\n",
       "    .dataframe tbody tr th {\n",
       "        vertical-align: top;\n",
       "    }\n",
       "\n",
       "    .dataframe thead th {\n",
       "        text-align: right;\n",
       "    }\n",
       "</style>\n",
       "<table border=\"1\" class=\"dataframe\">\n",
       "  <thead>\n",
       "    <tr style=\"text-align: right;\">\n",
       "      <th>Actual</th>\n",
       "      <th>0.0</th>\n",
       "      <th>1.0</th>\n",
       "    </tr>\n",
       "    <tr>\n",
       "      <th>Predicted</th>\n",
       "      <th></th>\n",
       "      <th></th>\n",
       "    </tr>\n",
       "  </thead>\n",
       "  <tbody>\n",
       "    <tr>\n",
       "      <th>0.0</th>\n",
       "      <td>4201</td>\n",
       "      <td>811</td>\n",
       "    </tr>\n",
       "    <tr>\n",
       "      <th>1.0</th>\n",
       "      <td>248</td>\n",
       "      <td>601</td>\n",
       "    </tr>\n",
       "  </tbody>\n",
       "</table>\n",
       "</div>"
      ],
      "text/plain": [
       "Actual      0.0  1.0\n",
       "Predicted           \n",
       "0.0        4201  811\n",
       "1.0         248  601"
      ]
     },
     "execution_count": 84,
     "metadata": {},
     "output_type": "execute_result"
    }
   ],
   "source": [
    "#Fitting the model on train data\n",
    "xgbc.fit(X_train, Y_train)\n",
    "\n",
    "#Making predictions on test data\n",
    "Y_pred=xgbc.predict(X_test)\n",
    "\n",
    "#Finding the accuracy score \n",
    "accuracy_smote=xgbc.score(X_test,Y_test)\n",
    "print(\"Accuracy:\",accuracy_smote)       \n",
    "\n",
    "\n",
    "#Finding the recall score\n",
    "recall_smote=recall_score(Y_test, Y_pred)\n",
    "print (\"recall:\",recall_smote)\n",
    "\n",
    "#Finding the precision score\n",
    "precision_smote=precision_score(Y_test, Y_pred)\n",
    "print (\"precision:\",precision_smote)\n",
    "\n",
    "#Finding the f1 score\n",
    "f1_smote=f1_score(Y_test, Y_pred)\n",
    "print (\"f1_score:\", f1_smote)\n",
    "\n",
    "#Finding the confusion matrix\n",
    "pd.crosstab(Y_pred,Y_test, rownames=['Predicted'], colnames=['Actual'])"
   ]
  },
  {
   "cell_type": "code",
   "execution_count": 87,
   "metadata": {},
   "outputs": [],
   "source": [
    "# AND TRY\n",
    "from sklearn.ensemble import BaggingClassifier\n",
    "from imblearn.ensemble import BalancedBaggingClassifier\n"
   ]
  },
  {
   "cell_type": "code",
   "execution_count": 88,
   "metadata": {},
   "outputs": [],
   "source": [
    "## let try XGBOOST\n",
    "bag = BaggingClassifier()"
   ]
  },
  {
   "cell_type": "code",
   "execution_count": 89,
   "metadata": {},
   "outputs": [
    {
     "name": "stdout",
     "output_type": "stream",
     "text": [
      "('Accuracy:', 0.7688107831428084)\n",
      "('recall:', 0.7492917847025495)\n",
      "('precision:', 0.5138416707139388)\n",
      "('f1_score:', 0.6096225871506771)\n"
     ]
    },
    {
     "data": {
      "text/html": [
       "<div>\n",
       "<style scoped>\n",
       "    .dataframe tbody tr th:only-of-type {\n",
       "        vertical-align: middle;\n",
       "    }\n",
       "\n",
       "    .dataframe tbody tr th {\n",
       "        vertical-align: top;\n",
       "    }\n",
       "\n",
       "    .dataframe thead th {\n",
       "        text-align: right;\n",
       "    }\n",
       "</style>\n",
       "<table border=\"1\" class=\"dataframe\">\n",
       "  <thead>\n",
       "    <tr style=\"text-align: right;\">\n",
       "      <th>Actual</th>\n",
       "      <th>0.0</th>\n",
       "      <th>1.0</th>\n",
       "    </tr>\n",
       "    <tr>\n",
       "      <th>Predicted</th>\n",
       "      <th></th>\n",
       "      <th></th>\n",
       "    </tr>\n",
       "  </thead>\n",
       "  <tbody>\n",
       "    <tr>\n",
       "      <th>0.0</th>\n",
       "      <td>3448</td>\n",
       "      <td>354</td>\n",
       "    </tr>\n",
       "    <tr>\n",
       "      <th>1.0</th>\n",
       "      <td>1001</td>\n",
       "      <td>1058</td>\n",
       "    </tr>\n",
       "  </tbody>\n",
       "</table>\n",
       "</div>"
      ],
      "text/plain": [
       "Actual      0.0   1.0\n",
       "Predicted            \n",
       "0.0        3448   354\n",
       "1.0        1001  1058"
      ]
     },
     "execution_count": 89,
     "metadata": {},
     "output_type": "execute_result"
    }
   ],
   "source": [
    "#Fitting the model on train data\n",
    "bag.fit(X_sample_3, y_sample_3)\n",
    "\n",
    "#Making predictions on test data\n",
    "Y_pred=bag.predict(X_test)\n",
    "\n",
    "#Finding the accuracy score \n",
    "accuracy_smote=bag.score(X_test,Y_test)\n",
    "print(\"Accuracy:\",accuracy_smote)       \n",
    "\n",
    "\n",
    "#Finding the recall score\n",
    "recall_smote=recall_score(Y_test, Y_pred)\n",
    "print (\"recall:\",recall_smote)\n",
    "\n",
    "#Finding the precision score\n",
    "precision_smote=precision_score(Y_test, Y_pred)\n",
    "print (\"precision:\",precision_smote)\n",
    "\n",
    "#Finding the f1 score\n",
    "f1_smote=f1_score(Y_test, Y_pred)\n",
    "print (\"f1_score:\", f1_smote)\n",
    "\n",
    "#Finding the confusion matrix\n",
    "pd.crosstab(Y_pred,Y_test, rownames=['Predicted'], colnames=['Actual'])"
   ]
  },
  {
   "cell_type": "code",
   "execution_count": null,
   "metadata": {},
   "outputs": [],
   "source": []
  },
  {
   "cell_type": "code",
   "execution_count": 90,
   "metadata": {},
   "outputs": [],
   "source": [
    "Y_predict_sub=bag.predict(df_test_two_onehot)\n",
    "\n",
    "submission = pd.DataFrame(Y_predict_sub,columns=['netgain'])\n",
    "#submission = pd.concat([Id,prediction['y']],1)\n",
    "\n",
    "submission.to_csv('../data/submission6.csv',index=False)"
   ]
  },
  {
   "cell_type": "code",
   "execution_count": 91,
   "metadata": {},
   "outputs": [],
   "source": [
    "balbag=BalancedBaggingClassifier()"
   ]
  },
  {
   "cell_type": "code",
   "execution_count": 92,
   "metadata": {},
   "outputs": [
    {
     "name": "stdout",
     "output_type": "stream",
     "text": [
      "('Accuracy:', 0.7708582153216175)\n",
      "('recall:', 0.7563739376770539)\n",
      "('precision:', 0.5166908563134979)\n",
      "('f1_score:', 0.6139695314745617)\n"
     ]
    },
    {
     "data": {
      "text/html": [
       "<div>\n",
       "<style scoped>\n",
       "    .dataframe tbody tr th:only-of-type {\n",
       "        vertical-align: middle;\n",
       "    }\n",
       "\n",
       "    .dataframe tbody tr th {\n",
       "        vertical-align: top;\n",
       "    }\n",
       "\n",
       "    .dataframe thead th {\n",
       "        text-align: right;\n",
       "    }\n",
       "</style>\n",
       "<table border=\"1\" class=\"dataframe\">\n",
       "  <thead>\n",
       "    <tr style=\"text-align: right;\">\n",
       "      <th>Actual</th>\n",
       "      <th>0.0</th>\n",
       "      <th>1.0</th>\n",
       "    </tr>\n",
       "    <tr>\n",
       "      <th>Predicted</th>\n",
       "      <th></th>\n",
       "      <th></th>\n",
       "    </tr>\n",
       "  </thead>\n",
       "  <tbody>\n",
       "    <tr>\n",
       "      <th>0.0</th>\n",
       "      <td>3450</td>\n",
       "      <td>344</td>\n",
       "    </tr>\n",
       "    <tr>\n",
       "      <th>1.0</th>\n",
       "      <td>999</td>\n",
       "      <td>1068</td>\n",
       "    </tr>\n",
       "  </tbody>\n",
       "</table>\n",
       "</div>"
      ],
      "text/plain": [
       "Actual      0.0   1.0\n",
       "Predicted            \n",
       "0.0        3450   344\n",
       "1.0         999  1068"
      ]
     },
     "execution_count": 92,
     "metadata": {},
     "output_type": "execute_result"
    }
   ],
   "source": [
    "#Fitting the model on train data\n",
    "balbag.fit(X_sample_3, y_sample_3)\n",
    "\n",
    "#Making predictions on test data\n",
    "Y_pred=balbag.predict(X_test)\n",
    "\n",
    "#Finding the accuracy score \n",
    "accuracy_smote=balbag.score(X_test,Y_test)\n",
    "print(\"Accuracy:\",accuracy_smote)       \n",
    "\n",
    "\n",
    "#Finding the recall score\n",
    "recall_smote=recall_score(Y_test, Y_pred)\n",
    "print (\"recall:\",recall_smote)\n",
    "\n",
    "#Finding the precision score\n",
    "precision_smote=precision_score(Y_test, Y_pred)\n",
    "print (\"precision:\",precision_smote)\n",
    "\n",
    "#Finding the f1 score\n",
    "f1_smote=f1_score(Y_test, Y_pred)\n",
    "print (\"f1_score:\", f1_smote)\n",
    "\n",
    "#Finding the confusion matrix\n",
    "pd.crosstab(Y_pred,Y_test, rownames=['Predicted'], colnames=['Actual'])"
   ]
  },
  {
   "cell_type": "code",
   "execution_count": 93,
   "metadata": {},
   "outputs": [],
   "source": [
    "Y_predict_sub=balbag.predict(df_test_two_onehot)\n",
    "\n",
    "submission = pd.DataFrame(Y_predict_sub,columns=['netgain'])\n",
    "#submission = pd.concat([Id,prediction['y']],1)\n",
    "\n",
    "submission.to_csv('../data/submission5.csv',index=False)\n"
   ]
  },
  {
   "cell_type": "code",
   "execution_count": 94,
   "metadata": {},
   "outputs": [],
   "source": [
    "# LET enhance bagging with gridsearch"
   ]
  },
  {
   "cell_type": "code",
   "execution_count": 95,
   "metadata": {},
   "outputs": [],
   "source": [
    "param_grid = {\n",
    "    'base_estimator__max_depth' : [1, 2, 3, 4, 5],\n",
    "    'max_samples' : [0.05, 0.1, 0.2, 0.5]\n",
    "}\n",
    "\n"
   ]
  },
  {
   "cell_type": "code",
   "execution_count": 96,
   "metadata": {},
   "outputs": [],
   "source": [
    "clf = GridSearchCV(BaggingClassifier(RandomForestClassifier(),\n",
    "                                     n_estimators = 100, max_features = 0.5),\n",
    "                   param_grid, scoring = 'f1')\n"
   ]
  },
  {
   "cell_type": "code",
   "execution_count": 97,
   "metadata": {},
   "outputs": [
    {
     "data": {
      "text/plain": [
       "GridSearchCV(cv=None, error_score='raise',\n",
       "       estimator=BaggingClassifier(base_estimator=RandomForestClassifier(bootstrap=True, class_weight=None, criterion='gini',\n",
       "            max_depth=None, max_features='auto', max_leaf_nodes=None,\n",
       "            min_impurity_decrease=0.0, min_impurity_split=None,\n",
       "            min_samples_leaf=1, min_samples_spl..._estimators=100, n_jobs=1, oob_score=False,\n",
       "         random_state=None, verbose=0, warm_start=False),\n",
       "       fit_params=None, iid=True, n_jobs=1,\n",
       "       param_grid={'max_samples': [0.05, 0.1, 0.2, 0.5], 'base_estimator__max_depth': [1, 2, 3, 4, 5]},\n",
       "       pre_dispatch='2*n_jobs', refit=True, return_train_score='warn',\n",
       "       scoring='f1', verbose=0)"
      ]
     },
     "execution_count": 97,
     "metadata": {},
     "output_type": "execute_result"
    }
   ],
   "source": [
    "clf.fit(X_sample_3, y_sample_3)"
   ]
  },
  {
   "cell_type": "code",
   "execution_count": 98,
   "metadata": {
    "scrolled": true
   },
   "outputs": [
    {
     "name": "stdout",
     "output_type": "stream",
     "text": [
      "('Accuracy:', 0.6254507985574446)\n",
      "('recall:', 0.8597733711048159)\n",
      "('precision:', 0.491497975708502)\n",
      "('f1_score:', 0.6254507985574446)\n"
     ]
    },
    {
     "data": {
      "text/html": [
       "<div>\n",
       "<style scoped>\n",
       "    .dataframe tbody tr th:only-of-type {\n",
       "        vertical-align: middle;\n",
       "    }\n",
       "\n",
       "    .dataframe tbody tr th {\n",
       "        vertical-align: top;\n",
       "    }\n",
       "\n",
       "    .dataframe thead th {\n",
       "        text-align: right;\n",
       "    }\n",
       "</style>\n",
       "<table border=\"1\" class=\"dataframe\">\n",
       "  <thead>\n",
       "    <tr style=\"text-align: right;\">\n",
       "      <th>Actual</th>\n",
       "      <th>0.0</th>\n",
       "      <th>1.0</th>\n",
       "    </tr>\n",
       "    <tr>\n",
       "      <th>Predicted</th>\n",
       "      <th></th>\n",
       "      <th></th>\n",
       "    </tr>\n",
       "  </thead>\n",
       "  <tbody>\n",
       "    <tr>\n",
       "      <th>0.0</th>\n",
       "      <td>3193</td>\n",
       "      <td>198</td>\n",
       "    </tr>\n",
       "    <tr>\n",
       "      <th>1.0</th>\n",
       "      <td>1256</td>\n",
       "      <td>1214</td>\n",
       "    </tr>\n",
       "  </tbody>\n",
       "</table>\n",
       "</div>"
      ],
      "text/plain": [
       "Actual      0.0   1.0\n",
       "Predicted            \n",
       "0.0        3193   198\n",
       "1.0        1256  1214"
      ]
     },
     "execution_count": 98,
     "metadata": {},
     "output_type": "execute_result"
    }
   ],
   "source": [
    "#Making predictions on test data\n",
    "Y_pred=clf.predict(X_test)\n",
    "\n",
    "#Finding the accuracy score \n",
    "accuracy_smote=clf.score(X_test,Y_test)\n",
    "print(\"Accuracy:\",accuracy_smote)       \n",
    "\n",
    "#Finding the recall score\n",
    "recall_smote=recall_score(Y_test, Y_pred)\n",
    "print (\"recall:\",recall_smote)\n",
    "\n",
    "#Finding the precision score\n",
    "precision_smote=precision_score(Y_test, Y_pred)\n",
    "print (\"precision:\",precision_smote)\n",
    "\n",
    "#Finding the f1 score\n",
    "f1_smote=f1_score(Y_test, Y_pred)\n",
    "print (\"f1_score:\", f1_smote)\n",
    "\n",
    "#Finding the confusion matrix\n",
    "pd.crosstab(Y_pred,Y_test, rownames=['Predicted'], colnames=['Actual'])"
   ]
  },
  {
   "cell_type": "code",
   "execution_count": null,
   "metadata": {},
   "outputs": [],
   "source": []
  },
  {
   "cell_type": "code",
   "execution_count": 99,
   "metadata": {},
   "outputs": [],
   "source": [
    "Y_predict_sub=clf.predict(df_test_two_onehot)\n",
    "\n",
    "submission = pd.DataFrame(Y_predict_sub,columns=['netgain'])\n",
    "#submission = pd.concat([Id,prediction['y']],1)\n",
    "\n",
    "submission.to_csv('../data/submission7.csv',index=False)"
   ]
  },
  {
   "cell_type": "code",
   "execution_count": 100,
   "metadata": {},
   "outputs": [],
   "source": [
    "# Gridsearch1 "
   ]
  },
  {
   "cell_type": "code",
   "execution_count": 101,
   "metadata": {},
   "outputs": [],
   "source": [
    "from sklearn.linear_model import SGDClassifier"
   ]
  },
  {
   "cell_type": "code",
   "execution_count": 102,
   "metadata": {},
   "outputs": [],
   "source": [
    "sgd= SGDClassifier(loss='modified_huber', shuffle=True, random_state=101,epsilon=0.001)"
   ]
  },
  {
   "cell_type": "code",
   "execution_count": 103,
   "metadata": {},
   "outputs": [
    {
     "data": {
      "text/plain": [
       "SGDClassifier(alpha=0.0001, average=False, class_weight=None, epsilon=0.001,\n",
       "       eta0=0.0, fit_intercept=True, l1_ratio=0.15,\n",
       "       learning_rate='optimal', loss='modified_huber', max_iter=None,\n",
       "       n_iter=None, n_jobs=1, penalty='l2', power_t=0.5, random_state=101,\n",
       "       shuffle=True, tol=None, verbose=0, warm_start=False)"
      ]
     },
     "execution_count": 103,
     "metadata": {},
     "output_type": "execute_result"
    }
   ],
   "source": [
    "sgd.fit(X_sample_3, y_sample_3)"
   ]
  },
  {
   "cell_type": "code",
   "execution_count": 104,
   "metadata": {},
   "outputs": [
    {
     "name": "stdout",
     "output_type": "stream",
     "text": [
      "('Accuracy:', 0.7810953762156628)\n",
      "('recall:', 0.19830028328611898)\n",
      "('precision:', 0.6496519721577726)\n",
      "('f1_score:', 0.30385241454150835)\n"
     ]
    },
    {
     "data": {
      "text/html": [
       "<div>\n",
       "<style scoped>\n",
       "    .dataframe tbody tr th:only-of-type {\n",
       "        vertical-align: middle;\n",
       "    }\n",
       "\n",
       "    .dataframe tbody tr th {\n",
       "        vertical-align: top;\n",
       "    }\n",
       "\n",
       "    .dataframe thead th {\n",
       "        text-align: right;\n",
       "    }\n",
       "</style>\n",
       "<table border=\"1\" class=\"dataframe\">\n",
       "  <thead>\n",
       "    <tr style=\"text-align: right;\">\n",
       "      <th>Actual</th>\n",
       "      <th>0.0</th>\n",
       "      <th>1.0</th>\n",
       "    </tr>\n",
       "    <tr>\n",
       "      <th>Predicted</th>\n",
       "      <th></th>\n",
       "      <th></th>\n",
       "    </tr>\n",
       "  </thead>\n",
       "  <tbody>\n",
       "    <tr>\n",
       "      <th>0.0</th>\n",
       "      <td>4298</td>\n",
       "      <td>1132</td>\n",
       "    </tr>\n",
       "    <tr>\n",
       "      <th>1.0</th>\n",
       "      <td>151</td>\n",
       "      <td>280</td>\n",
       "    </tr>\n",
       "  </tbody>\n",
       "</table>\n",
       "</div>"
      ],
      "text/plain": [
       "Actual      0.0   1.0\n",
       "Predicted            \n",
       "0.0        4298  1132\n",
       "1.0         151   280"
      ]
     },
     "execution_count": 104,
     "metadata": {},
     "output_type": "execute_result"
    }
   ],
   "source": [
    "#Making predictions on test data\n",
    "Y_pred=sgd.predict(X_test)\n",
    "\n",
    "#Finding the accuracy score \n",
    "accuracy_smote=sgd.score(X_test,Y_test)\n",
    "print(\"Accuracy:\",accuracy_smote)       \n",
    "\n",
    "#Finding the recall score\n",
    "recall_smote=recall_score(Y_test, Y_pred)\n",
    "print (\"recall:\",recall_smote)\n",
    "\n",
    "#Finding the precision score\n",
    "precision_smote=precision_score(Y_test, Y_pred)\n",
    "print (\"precision:\",precision_smote)\n",
    "\n",
    "#Finding the f1 score\n",
    "f1_smote=f1_score(Y_test, Y_pred)\n",
    "print (\"f1_score:\", f1_smote)\n",
    "\n",
    "#Finding the confusion matrix\n",
    "pd.crosstab(Y_pred,Y_test, rownames=['Predicted'], colnames=['Actual'])"
   ]
  },
  {
   "cell_type": "code",
   "execution_count": 105,
   "metadata": {},
   "outputs": [],
   "source": [
    "# Let do some GridSearch"
   ]
  },
  {
   "cell_type": "code",
   "execution_count": 106,
   "metadata": {},
   "outputs": [],
   "source": [
    "param_grid = {\n",
    " #'bootstrap': [True, False],\n",
    " #'bootstrap_features': [True, False],    \n",
    " 'n_estimators': [5, 10, 15],\n",
    " 'max_samples' : [0.6, 0.8, 1.0],\n",
    " #'base_estimator__bootstrap': [True, False],    \n",
    " 'base_estimator__n_estimators': [100, 200, 300],\n",
    " 'base_estimator__max_features' : [0.6, 0.8, 1.0]\n",
    "}"
   ]
  },
  {
   "cell_type": "code",
   "execution_count": 107,
   "metadata": {},
   "outputs": [],
   "source": [
    "grid_search=GridSearchCV(BaggingClassifier(base_estimator=RandomForestClassifier()), param_grid=param_grid, cv=5)\n"
   ]
  },
  {
   "cell_type": "code",
   "execution_count": null,
   "metadata": {},
   "outputs": [],
   "source": [
    "grid_search.fit(X_sample_3, y_sample_3)"
   ]
  },
  {
   "cell_type": "code",
   "execution_count": null,
   "metadata": {},
   "outputs": [],
   "source": [
    "#Making predictions on test data\n",
    "Y_pred=grid_search.predict(X_test)\n",
    "\n",
    "#Finding the accuracy score \n",
    "accuracy_smote=grid_search.score(X_test,Y_test)\n",
    "print(\"Accuracy:\",accuracy_smote)       \n",
    "\n",
    "#Finding the recall score\n",
    "recall_smote=recall_score(Y_test, Y_pred)\n",
    "print (\"recall:\",recall_smote)\n",
    "\n",
    "#Finding the precision score\n",
    "precision_smote=precision_score(Y_test, Y_pred)\n",
    "print (\"precision:\",precision_smote)\n",
    "\n",
    "#Finding the f1 score\n",
    "f1_smote=f1_score(Y_test, Y_pred)\n",
    "print (\"f1_score:\", f1_smote)\n",
    "\n",
    "#Finding the confusion matrix\n",
    "pd.crosstab(Y_pred,Y_test, rownames=['Predicted'], colnames=['Actual'])"
   ]
  },
  {
   "cell_type": "code",
   "execution_count": null,
   "metadata": {},
   "outputs": [],
   "source": [
    "Y_predict_sub=grid_search.predict(df_test_two_onehot)\n",
    "\n",
    "submission = pd.DataFrame(Y_predict_sub,columns=['netgain'])\n",
    "#submission = pd.concat([Id,prediction['y']],1)\n",
    "\n",
    "submission.to_csv('../data/submission8.csv',index=False)"
   ]
  },
  {
   "cell_type": "markdown",
   "metadata": {},
   "source": [
    "RESULTS:\n",
    "LogisticClassfier model with parameter class_wight='balanced' set had the best resuts on the training data:\n",
    "('Accuracy:', 0.772052550759256)\n",
    "('recall:', 0.8449008498583569)\n",
    "('precision:', 0.5164502164502165)\n",
    "('f1_score:', 0.6410531972058033    \n",
    "    \n",
    "However SVC model (with 'rbf' kernel) had the best resuts on test data:\n",
    "('Accuracy:', 0.7384405391571405)\n",
    "('recall:', 0.8881019830028328)\n",
    "('precision:', 0.4769874476987448)\n",
    "('f1_score:', 0.6206384558277653)\n"
   ]
  }
 ],
 "metadata": {
  "kernelspec": {
   "display_name": "Python 3",
   "language": "python",
   "name": "python3"
  },
  "language_info": {
   "codemirror_mode": {
    "name": "ipython",
    "version": 3
   },
   "file_extension": ".py",
   "mimetype": "text/x-python",
   "name": "python",
   "nbconvert_exporter": "python",
   "pygments_lexer": "ipython3",
   "version": "3.8.5"
  }
 },
 "nbformat": 4,
 "nbformat_minor": 2
}
